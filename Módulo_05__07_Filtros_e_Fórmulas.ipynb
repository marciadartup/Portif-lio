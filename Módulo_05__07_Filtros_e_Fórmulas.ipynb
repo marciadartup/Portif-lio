{
  "nbformat": 4,
  "nbformat_minor": 0,
  "metadata": {
    "colab": {
      "name": "Módulo 05_ 07 - Filtros e Fórmulas",
      "provenance": [],
      "collapsed_sections": [],
      "toc_visible": true,
      "include_colab_link": true
    },
    "kernelspec": {
      "name": "python3",
      "display_name": "Python 3"
    }
  },
  "cells": [
    {
      "cell_type": "markdown",
      "metadata": {
        "id": "view-in-github",
        "colab_type": "text"
      },
      "source": [
        "<a href=\"https://colab.research.google.com/github/marciadartup/Portif-lio/blob/master/M%C3%B3dulo_05__07_Filtros_e_F%C3%B3rmulas.ipynb\" target=\"_parent\"><img src=\"https://colab.research.google.com/assets/colab-badge.svg\" alt=\"Open In Colab\"/></a>"
      ]
    },
    {
      "cell_type": "markdown",
      "metadata": {
        "id": "1v8HZDmac64I"
      },
      "source": [
        "\n",
        "---\n",
        "\n",
        "# Filtros e Fórmulas\n",
        "\n",
        "Quando estamos analisando dados em uma planilha do Excel, Filtros e Fórmulas fazem grande parte da nossa rotina de organização e exploração de dados.\n",
        "\n",
        "Aqui, estamos lidando com planilhas, arquivos xlsx, e mesmo utilizando Python, continuamos contando com essas ferramentas.\n",
        "\n",
        "\n",
        "<center><img width=\"50%\" src=\"https://images.unsplash.com/photo-1529078155058-5d716f45d604?ixlib=rb-1.2.1&ixid=eyJhcHBfaWQiOjEyMDd9&auto=format&fit=crop&w=749&q=80\"></center>\n",
        "\n",
        "Lembrando sempre de atualizar a lib, e fazer o upload do arquivo."
      ]
    },
    {
      "cell_type": "code",
      "metadata": {
        "id": "BtIhFpmNXFuV",
        "outputId": "7c35ccd0-f864-4022-91b4-d8a6c5ba91ef",
        "colab": {
          "base_uri": "https://localhost:8080/",
          "height": 34
        }
      },
      "source": [
        "# atualizando a lib\n",
        "!pip install -U openpyxl -q"
      ],
      "execution_count": 1,
      "outputs": [
        {
          "output_type": "stream",
          "text": [
            "\u001b[?25l\r\u001b[K     |█▍                              | 10kB 21.0MB/s eta 0:00:01\r\u001b[K     |██▊                             | 20kB 1.7MB/s eta 0:00:01\r\u001b[K     |████                            | 30kB 2.2MB/s eta 0:00:01\r\u001b[K     |█████▍                          | 40kB 2.5MB/s eta 0:00:01\r\u001b[K     |██████▊                         | 51kB 2.0MB/s eta 0:00:01\r\u001b[K     |████████                        | 61kB 2.2MB/s eta 0:00:01\r\u001b[K     |█████████▌                      | 71kB 2.5MB/s eta 0:00:01\r\u001b[K     |██████████▉                     | 81kB 2.7MB/s eta 0:00:01\r\u001b[K     |████████████▏                   | 92kB 2.9MB/s eta 0:00:01\r\u001b[K     |█████████████▌                  | 102kB 2.7MB/s eta 0:00:01\r\u001b[K     |██████████████▉                 | 112kB 2.7MB/s eta 0:00:01\r\u001b[K     |████████████████▏               | 122kB 2.7MB/s eta 0:00:01\r\u001b[K     |█████████████████▌              | 133kB 2.7MB/s eta 0:00:01\r\u001b[K     |███████████████████             | 143kB 2.7MB/s eta 0:00:01\r\u001b[K     |████████████████████▎           | 153kB 2.7MB/s eta 0:00:01\r\u001b[K     |█████████████████████▋          | 163kB 2.7MB/s eta 0:00:01\r\u001b[K     |███████████████████████         | 174kB 2.7MB/s eta 0:00:01\r\u001b[K     |████████████████████████▎       | 184kB 2.7MB/s eta 0:00:01\r\u001b[K     |█████████████████████████▋      | 194kB 2.7MB/s eta 0:00:01\r\u001b[K     |███████████████████████████     | 204kB 2.7MB/s eta 0:00:01\r\u001b[K     |████████████████████████████▍   | 215kB 2.7MB/s eta 0:00:01\r\u001b[K     |█████████████████████████████▊  | 225kB 2.7MB/s eta 0:00:01\r\u001b[K     |███████████████████████████████ | 235kB 2.7MB/s eta 0:00:01\r\u001b[K     |████████████████████████████████| 245kB 2.7MB/s \n",
            "\u001b[?25h"
          ],
          "name": "stdout"
        }
      ]
    },
    {
      "cell_type": "code",
      "metadata": {
        "id": "LildoZA--5u3",
        "outputId": "dbfeab61-d265-457e-93b9-7dabe1652f96",
        "colab": {
          "base_uri": "https://localhost:8080/",
          "height": 34
        }
      },
      "source": [
        "# importando os pacotes necessários\n",
        "from google.colab import drive\n",
        "\n",
        "# montando o drive\n",
        "drive.mount('/content/gdrive')"
      ],
      "execution_count": 4,
      "outputs": [
        {
          "output_type": "stream",
          "text": [
            "Drive already mounted at /content/gdrive; to attempt to forcibly remount, call drive.mount(\"/content/gdrive\", force_remount=True).\n"
          ],
          "name": "stdout"
        }
      ]
    },
    {
      "cell_type": "code",
      "metadata": {
        "id": "3N2HBCaAXVr1",
        "outputId": "e63f0a76-b2aa-4c0a-8a01-5cf22d653978",
        "colab": {
          "base_uri": "https://localhost:8080/",
          "height": 34
        }
      },
      "source": [
        "# carregando uma planilha\n",
        "from openpyxl import load_workbook\n",
        "\n",
        "workbook = load_workbook(filename='/content/gdrive/My Drive/controle_da_empresa.xlsx')\n",
        "\n",
        "# verificando as abas\n",
        "workbook.sheetnames"
      ],
      "execution_count": 5,
      "outputs": [
        {
          "output_type": "execute_result",
          "data": {
            "text/plain": [
              "['Estoque', 'Vendas', 'Funcionários']"
            ]
          },
          "metadata": {
            "tags": []
          },
          "execution_count": 5
        }
      ]
    },
    {
      "cell_type": "code",
      "metadata": {
        "id": "BWW2KOArXZ9P"
      },
      "source": [
        "# carregando uma aba específica\n",
        "sheet = workbook['Vendas']"
      ],
      "execution_count": 6,
      "outputs": []
    },
    {
      "cell_type": "markdown",
      "metadata": {
        "id": "hr7iWQu8eclX"
      },
      "source": [
        "Para verificar as dimensões da planilha, utilizamos o método `dimensions`."
      ]
    },
    {
      "cell_type": "code",
      "metadata": {
        "id": "Kwzh_W_WXi6o",
        "outputId": "f8ad6dc5-c27b-44f0-da41-89ba8356178c",
        "colab": {
          "base_uri": "https://localhost:8080/",
          "height": 35
        }
      },
      "source": [
        "# dimensões do conjunto de dados\n",
        "sheet.dimensions"
      ],
      "execution_count": 7,
      "outputs": [
        {
          "output_type": "execute_result",
          "data": {
            "application/vnd.google.colaboratory.intrinsic+json": {
              "type": "string"
            },
            "text/plain": [
              "'A1:F91'"
            ]
          },
          "metadata": {
            "tags": []
          },
          "execution_count": 7
        }
      ]
    },
    {
      "cell_type": "markdown",
      "metadata": {
        "id": "DMXwu1abeicT"
      },
      "source": [
        "## Adicionando um Filtro\n",
        "Sabendo o intervalo no qual os nossos dados estão, podemos criar um filtro geral na planilha com o método `auto_filter`, e passando a referência do intervalo dos nossos dados, para facilitar a vida de quem for utilizá-la."
      ]
    },
    {
      "cell_type": "code",
      "metadata": {
        "id": "g13XgOU0XwN-"
      },
      "source": [
        "# adicionando um filtro\n",
        "sheet.auto_filter.ref = 'A1:F91'"
      ],
      "execution_count": 8,
      "outputs": []
    },
    {
      "cell_type": "markdown",
      "metadata": {
        "id": "NnUig-gbezK1"
      },
      "source": [
        "## Salvando o Arquivo\n",
        "Sempre que manipulamos os dados aqui, estamos fazendo isso em método de \"consulta\". As mudaças são de fato aplicadas à nossa variável que recebeu os valores contidos na planilha.\n",
        "\n",
        "Entretanto, para fazer modificações **no arquivo**, de fato, precisamos salvar esse arquivo.\n",
        "\n",
        "Aqui, a fim de preservar o arquivo original, vamos criar um arquivo de nome diferente.\n",
        "\n",
        "Basta usar o método `save`, e passar entre parênteses o `filename`, ou seja, o nome do arquivo a ser criado. Não se esqueça de passar a extensão correta como parâmetro."
      ]
    },
    {
      "cell_type": "code",
      "metadata": {
        "id": "Rqw3CgxAX7K4"
      },
      "source": [
        "# salvando o arquivo modificado\n",
        "workbook.save(filename='controle_filtro.xlsx')"
      ],
      "execution_count": 9,
      "outputs": []
    },
    {
      "cell_type": "markdown",
      "metadata": {
        "id": "DSvAhJMdfZbE"
      },
      "source": [
        "## Fórmulas\n",
        "\n",
        "Outra ferramenta poderosa que temos à nossa disposição no Excel são as fórmulas.\n",
        "\n",
        "Aqui, conseguimos utilizar as mesmas também.\n",
        "\n",
        "Abaixo, importaremos de dentro dos utilitários da openpyxl o módulo `\u001d\u001dFORMULAE`.\n",
        "\n",
        "Não utilizaremos nada dele diretamente, mas a partir desse módulo, podemos conferir que fórmulas temos à nossa disposição."
      ]
    },
    {
      "cell_type": "code",
      "metadata": {
        "id": "3McD0p3eYEi2"
      },
      "source": [
        "# importando o módulo\n",
        "from openpyxl.utils import FORMULAE"
      ],
      "execution_count": 10,
      "outputs": []
    },
    {
      "cell_type": "code",
      "metadata": {
        "id": "Ku8Hk_jyY2rh",
        "outputId": "ea5f0c61-d0d5-4aba-f121-89f765590997",
        "colab": {
          "base_uri": "https://localhost:8080/",
          "height": 1000
        }
      },
      "source": [
        "# verificando as fórmulas\n",
        "FORMULAE"
      ],
      "execution_count": 11,
      "outputs": [
        {
          "output_type": "execute_result",
          "data": {
            "text/plain": [
              "frozenset({'ABS',\n",
              "           'ACCRINT',\n",
              "           'ACCRINTM',\n",
              "           'ACOS',\n",
              "           'ACOSH',\n",
              "           'AMORDEGRC',\n",
              "           'AMORLINC',\n",
              "           'AND',\n",
              "           'AREAS',\n",
              "           'ASC',\n",
              "           'ASIN',\n",
              "           'ASINH',\n",
              "           'ATAN',\n",
              "           'ATAN2',\n",
              "           'ATANH',\n",
              "           'AVEDEV',\n",
              "           'AVERAGE',\n",
              "           'AVERAGEA',\n",
              "           'AVERAGEIF',\n",
              "           'AVERAGEIFS',\n",
              "           'BAHTTEXT',\n",
              "           'BESSELI',\n",
              "           'BESSELJ',\n",
              "           'BESSELK',\n",
              "           'BESSELY',\n",
              "           'BETADIST',\n",
              "           'BETAINV',\n",
              "           'BIN2DEC',\n",
              "           'BIN2HEX',\n",
              "           'BIN2OCT',\n",
              "           'BINOMDIST',\n",
              "           'CEILING',\n",
              "           'CELL',\n",
              "           'CHAR',\n",
              "           'CHIDIST',\n",
              "           'CHIINV',\n",
              "           'CHITEST',\n",
              "           'CHOOSE',\n",
              "           'CLEAN',\n",
              "           'CODE',\n",
              "           'COLUMN',\n",
              "           'COLUMNS',\n",
              "           'COMBIN',\n",
              "           'COMPLEX',\n",
              "           'CONCATENATE',\n",
              "           'CONFIDENCE',\n",
              "           'CONVERT',\n",
              "           'CORREL',\n",
              "           'COS',\n",
              "           'COSH',\n",
              "           'COUNT',\n",
              "           'COUNTA',\n",
              "           'COUNTBLANK',\n",
              "           'COUNTIF',\n",
              "           'COUNTIFS',\n",
              "           'COUPDAYBS',\n",
              "           'COUPDAYS',\n",
              "           'COUPDAYSNC',\n",
              "           'COUPNCD',\n",
              "           'COUPNUM',\n",
              "           'COUPPCD',\n",
              "           'COVAR',\n",
              "           'CRITBINOM',\n",
              "           'CUBEKPIMEMBER',\n",
              "           'CUBEMEMBER',\n",
              "           'CUBEMEMBERPROPERTY',\n",
              "           'CUBERANKEDMEMBER',\n",
              "           'CUBESET',\n",
              "           'CUBESETCOUNT',\n",
              "           'CUBEVALUE',\n",
              "           'CUMIPMT',\n",
              "           'CUMPRINC',\n",
              "           'DATE',\n",
              "           'DATEDIF',\n",
              "           'DATEVALUE',\n",
              "           'DAVERAGE',\n",
              "           'DAY',\n",
              "           'DAYS360',\n",
              "           'DB',\n",
              "           'DCOUNT',\n",
              "           'DCOUNTA',\n",
              "           'DDB',\n",
              "           'DEC2BIN',\n",
              "           'DEC2HEX',\n",
              "           'DEC2OCT',\n",
              "           'DEGREES',\n",
              "           'DELTA',\n",
              "           'DEVSQ',\n",
              "           'DGET',\n",
              "           'DISC',\n",
              "           'DMAX',\n",
              "           'DMIN',\n",
              "           'DOLLAR',\n",
              "           'DOLLARDE',\n",
              "           'DOLLARFR',\n",
              "           'DPRODUCT',\n",
              "           'DSTDEV',\n",
              "           'DSTDEVP',\n",
              "           'DSUM',\n",
              "           'DURATION',\n",
              "           'DVAR',\n",
              "           'DVARP',\n",
              "           'ECMA.CEILING',\n",
              "           'EDATE',\n",
              "           'EFFECT',\n",
              "           'EOMONTH',\n",
              "           'ERF',\n",
              "           'ERFC',\n",
              "           'ERROR.TYPE',\n",
              "           'EVEN',\n",
              "           'EXACT',\n",
              "           'EXP',\n",
              "           'EXPONDIST',\n",
              "           'FACT',\n",
              "           'FACTDOUBLE',\n",
              "           'FALSE',\n",
              "           'FDIST',\n",
              "           'FIND',\n",
              "           'FINDB',\n",
              "           'FINV',\n",
              "           'FISHER',\n",
              "           'FISHERINV',\n",
              "           'FIXED',\n",
              "           'FLOOR',\n",
              "           'FORECAST',\n",
              "           'FREQUENCY',\n",
              "           'FTEST',\n",
              "           'FV',\n",
              "           'FVSCHEDULE',\n",
              "           'GAMMADIST',\n",
              "           'GAMMAINV',\n",
              "           'GAMMALN',\n",
              "           'GCD',\n",
              "           'GEOMEAN',\n",
              "           'GESTEP',\n",
              "           'GETPIVOTDATA',\n",
              "           'GROWTH',\n",
              "           'HARMEAN',\n",
              "           'HEX2BIN',\n",
              "           'HEX2DEC',\n",
              "           'HEX2OCT',\n",
              "           'HLOOKUP',\n",
              "           'HOUR',\n",
              "           'HYPERLINK',\n",
              "           'HYPGEOMDIST',\n",
              "           'IF',\n",
              "           'IFERROR',\n",
              "           'IMABS',\n",
              "           'IMAGINARY',\n",
              "           'IMARGUMENT',\n",
              "           'IMCONJUGATE',\n",
              "           'IMCOS',\n",
              "           'IMDIV',\n",
              "           'IMEXP',\n",
              "           'IMLN',\n",
              "           'IMLOG10',\n",
              "           'IMLOG2',\n",
              "           'IMPOWER',\n",
              "           'IMPRODUCT',\n",
              "           'IMREAL',\n",
              "           'IMSIN',\n",
              "           'IMSQRT',\n",
              "           'IMSUB',\n",
              "           'IMSUM',\n",
              "           'INDEX',\n",
              "           'INDIRECT',\n",
              "           'INFO',\n",
              "           'INT',\n",
              "           'INTERCEPT',\n",
              "           'INTRATE',\n",
              "           'IPMT',\n",
              "           'IRR',\n",
              "           'ISBLANK',\n",
              "           'ISERR',\n",
              "           'ISERROR',\n",
              "           'ISEVEN',\n",
              "           'ISLOGICAL',\n",
              "           'ISNA',\n",
              "           'ISNONTEXT',\n",
              "           'ISNUMBER',\n",
              "           'ISO.CEILING',\n",
              "           'ISODD',\n",
              "           'ISPMT',\n",
              "           'ISREF',\n",
              "           'ISTEXT',\n",
              "           'JIS',\n",
              "           'KURT',\n",
              "           'LARGE',\n",
              "           'LCM',\n",
              "           'LEFT',\n",
              "           'LEFTB',\n",
              "           'LEN',\n",
              "           'LENB',\n",
              "           'LINEST',\n",
              "           'LN',\n",
              "           'LOG',\n",
              "           'LOG10',\n",
              "           'LOGEST',\n",
              "           'LOGINV',\n",
              "           'LOGNORMDIST',\n",
              "           'LOOKUP',\n",
              "           'LOWER',\n",
              "           'MATCH',\n",
              "           'MAX',\n",
              "           'MAXA',\n",
              "           'MDETERM',\n",
              "           'MDURATION',\n",
              "           'MEDIAN',\n",
              "           'MID',\n",
              "           'MIDB',\n",
              "           'MIN',\n",
              "           'MINA',\n",
              "           'MINUTE',\n",
              "           'MINVERSE',\n",
              "           'MIRR',\n",
              "           'MMULT',\n",
              "           'MOD',\n",
              "           'MODE',\n",
              "           'MONTH',\n",
              "           'MROUND',\n",
              "           'MULTINOMIAL',\n",
              "           'N',\n",
              "           'NA',\n",
              "           'NEGBINOMDIST',\n",
              "           'NETWORKDAYS',\n",
              "           'NETWORKDAYS.INTL',\n",
              "           'NOMINAL',\n",
              "           'NORMDIST',\n",
              "           'NORMINV',\n",
              "           'NORMSDIST',\n",
              "           'NORMSINV',\n",
              "           'NOT',\n",
              "           'NOW',\n",
              "           'NPER',\n",
              "           'NPV',\n",
              "           'OCT2BIN',\n",
              "           'OCT2DEC',\n",
              "           'OCT2HEX',\n",
              "           'ODD',\n",
              "           'ODDFPRICE',\n",
              "           'ODDFYIELD',\n",
              "           'ODDLPRICE',\n",
              "           'ODDLYIELD',\n",
              "           'OFFSET',\n",
              "           'OR',\n",
              "           'PEARSON',\n",
              "           'PERCENTILE',\n",
              "           'PERCENTRANK',\n",
              "           'PERMUT',\n",
              "           'PHONETIC',\n",
              "           'PI',\n",
              "           'PMT',\n",
              "           'POISSON',\n",
              "           'POWER',\n",
              "           'PPMT',\n",
              "           'PRICE',\n",
              "           'PRICEDISC',\n",
              "           'PRICEMAT',\n",
              "           'PROB',\n",
              "           'PRODUCT',\n",
              "           'PROPER',\n",
              "           'PV',\n",
              "           'QUARTILE',\n",
              "           'QUOTIENT',\n",
              "           'RADIANS',\n",
              "           'RAND',\n",
              "           'RANDBETWEEN',\n",
              "           'RANK',\n",
              "           'RATE',\n",
              "           'RECEIVED',\n",
              "           'REPLACE',\n",
              "           'REPLACEB',\n",
              "           'REPT',\n",
              "           'RIGHT',\n",
              "           'RIGHTB',\n",
              "           'ROMAN',\n",
              "           'ROUND',\n",
              "           'ROUNDDOWN',\n",
              "           'ROUNDUP',\n",
              "           'ROW',\n",
              "           'ROWS',\n",
              "           'RSQ',\n",
              "           'RTD',\n",
              "           'SEARCH',\n",
              "           'SEARCHB',\n",
              "           'SECOND',\n",
              "           'SERIESSUM',\n",
              "           'SIGN',\n",
              "           'SIN',\n",
              "           'SINH',\n",
              "           'SKEW',\n",
              "           'SLN',\n",
              "           'SLOPE',\n",
              "           'SMALL',\n",
              "           'SQRT',\n",
              "           'SQRTPI',\n",
              "           'STANDARDIZE',\n",
              "           'STDEV STDEVA',\n",
              "           'STDEVP',\n",
              "           'STDEVPA STEYX',\n",
              "           'SUBSTITUTE',\n",
              "           'SUBTOTAL',\n",
              "           'SUM',\n",
              "           'SUMIF',\n",
              "           'SUMIFS',\n",
              "           'SUMPRODUCT',\n",
              "           'SUMSQ',\n",
              "           'SUMX2MY2',\n",
              "           'SUMX2PY2',\n",
              "           'SUMXMY2',\n",
              "           'SYD',\n",
              "           'T',\n",
              "           'TAN',\n",
              "           'TANH',\n",
              "           'TBILLEQ',\n",
              "           'TBILLPRICE',\n",
              "           'TBILLYIELD',\n",
              "           'TDIST',\n",
              "           'TEXT',\n",
              "           'TIME',\n",
              "           'TIMEVALUE',\n",
              "           'TINV',\n",
              "           'TODAY',\n",
              "           'TRANSPOSE',\n",
              "           'TREND',\n",
              "           'TRIM',\n",
              "           'TRIMMEAN',\n",
              "           'TRUE ADDRESS',\n",
              "           'TRUNC',\n",
              "           'TTEST',\n",
              "           'TYPE',\n",
              "           'UPPER',\n",
              "           'VALUE',\n",
              "           'VAR',\n",
              "           'VARA',\n",
              "           'VARP',\n",
              "           'VARPA',\n",
              "           'VDB',\n",
              "           'VLOOKUP',\n",
              "           'WEEKDAY',\n",
              "           'WEEKNUM',\n",
              "           'WEIBULL',\n",
              "           'WORKDAY ',\n",
              "           'WORKDAY.INTL',\n",
              "           'XIRR',\n",
              "           'XNPV',\n",
              "           'YEAR',\n",
              "           'YEARFRAC',\n",
              "           'YIELD',\n",
              "           'YIELDDISC',\n",
              "           'YIELDMAT',\n",
              "           'ZTEST'})"
            ]
          },
          "metadata": {
            "tags": []
          },
          "execution_count": 11
        }
      ]
    },
    {
      "cell_type": "markdown",
      "metadata": {
        "id": "l3tj7l0IgFHj"
      },
      "source": [
        "## ATENÇÃO!\n",
        "\n",
        "Aqui cabe um aviso bastante pertinente. Tenha atenção à plataforma que você está utilizando, desde a língua, até possíveis diferenças entre plataformas, como Google Sheets, Microsoft Excel e Libre Office, por exemplo.\n",
        "\n",
        "<center><img width=\"30%\" src=\"https://images.unsplash.com/photo-1580836618305-605c32623ae0?ixlib=rb-1.2.1&ixid=eyJhcHBfaWQiOjEyMDd9&auto=format&fit=crop&w=375&q=80\"></center>\n",
        "\n",
        "Pense sempre nas fórmulas e padronizações necessárias para a língua e programas onde essas planilhas serão consumidas.\n",
        "\n",
        "Por exemplo, minha máquina está em inglês, portanto os programas recebem fórmulas em inglês, com sintaxe diferente, separadores diferentes, etc.\n",
        "\n",
        "Basicamente, estamos adicionando à célula uma `string` que contém a fórmula que desejamos executar.\n",
        "\n"
      ]
    },
    {
      "cell_type": "code",
      "metadata": {
        "id": "X8R1HPHiY7A4"
      },
      "source": [
        "# associando uma fórmula a uma célula\n",
        "sheet['G1'] = 'Valor Médio'\n",
        "sheet['G2'] = '=AVERAGE(E2:E91)'\n",
        "\n",
        "# salvando a planilha para conferência\n",
        "workbook.save(filename='controle_formulas.xlsx')"
      ],
      "execution_count": 12,
      "outputs": []
    },
    {
      "cell_type": "markdown",
      "metadata": {
        "id": "eoVwpBGudtLb"
      },
      "source": [
        "## Fórmula Condicional\n",
        "Agora, vamos utilizar uma fórmula condicional, o SOMASE (SUMIF). Mais uma vez, o que faremos é simples: adicionar à célula uma string, que na verdade é uma fórmula. Uma vez lá dentro, ela funcionará como fórmula.\n",
        "\n",
        "Aqui, vamos verificar a quantidade de **Canon 6D Mark II** vendidas.\n",
        "\n",
        "Para utilização no Google Sheets em Português, considere o código abaixo:\n",
        "\n",
        "`=SOMASE(B2:B91; \"Canon 6D Mark II\"; C2:C91)`\n",
        "\n",
        "> Atenção para as aspas duplas, necessárias para o Excel, e fazem parte da organização que estabelecemos no Python, simples fora, duplas dentro, para garantir que rode."
      ]
    },
    {
      "cell_type": "code",
      "metadata": {
        "id": "MwetWPAKZ4iH"
      },
      "source": [
        "# fórmula condicional\n",
        "sheet['G3'] = '=SUMIF(B2:B91, \"Canon 6D Mark II\", C2:C91)'\n",
        "\n",
        "# salvando a planilha\n",
        "workbook.save(filename='controle_formulas.xlsx')"
      ],
      "execution_count": null,
      "outputs": []
    },
    {
      "cell_type": "code",
      "metadata": {
        "id": "lz4rRQCobJ12"
      },
      "source": [
        ""
      ],
      "execution_count": 12,
      "outputs": []
    }
  ]
}