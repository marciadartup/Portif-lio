{
  "nbformat": 4,
  "nbformat_minor": 0,
  "metadata": {
    "colab": {
      "name": " Strings",
      "provenance": [],
      "collapsed_sections": [],
      "include_colab_link": true
    },
    "kernelspec": {
      "name": "python3",
      "display_name": "Python 3"
    }
  },
  "cells": [
    {
      "cell_type": "markdown",
      "metadata": {
        "id": "view-in-github",
        "colab_type": "text"
      },
      "source": [
        "<a href=\"https://colab.research.google.com/github/marciadartup/Portif-lio/blob/master/Strings.ipynb\" target=\"_parent\"><img src=\"https://colab.research.google.com/assets/colab-badge.svg\" alt=\"Open In Colab\"/></a>"
      ]
    },
    {
      "cell_type": "markdown",
      "metadata": {
        "id": "RG92OcGC1bSH",
        "colab_type": "text"
      },
      "source": [
        "\n",
        "\n",
        "---\n",
        "\n",
        "## Strings\n",
        "\n",
        "Nesta aula conheceremos as *strings*, que são uma sequência de caracteres como números, letras e símbolos.\n",
        "\n",
        "\n",
        "<center><img width=\"50%\" src=\"https://image.freepik.com/free-photo/words-letter-made-with-wooden-cubes-brown-desk_23-2148101481.jpg\n",
        "\"></center>"
      ]
    },
    {
      "cell_type": "markdown",
      "metadata": {
        "id": "CkHnujC02HJh",
        "colab_type": "text"
      },
      "source": [
        "Strings são caracteres declarados entre aspas (simples ou duplas), sendo que esses caracteres podem ser símbolos, números ou letras.\n",
        "\n",
        "Operações ou manipulações de *strings* são muito comuns, e com frequência você irá precisar trabalhá-las em seus projetos de *Data Science*. Vale ressaltar que o Python mostra o tipo *string* como sendo `str`:"
      ]
    },
    {
      "cell_type": "code",
      "metadata": {
        "id": "AB9azh_H3Hkl",
        "colab_type": "code",
        "colab": {
          "base_uri": "https://localhost:8080/",
          "height": 34
        },
        "outputId": "fef7ec4d-bba2-48f7-b797-7f501bfc7330"
      },
      "source": [
        "# verificando o tipo\n",
        "type(\"Marcia Alves\")"
      ],
      "execution_count": 7,
      "outputs": [
        {
          "output_type": "execute_result",
          "data": {
            "text/plain": [
              "str"
            ]
          },
          "metadata": {
            "tags": []
          },
          "execution_count": 7
        }
      ]
    },
    {
      "cell_type": "markdown",
      "metadata": {
        "id": "uWZ8wBre3Jk_",
        "colab_type": "text"
      },
      "source": [
        "Para imprimir *strings*, eu informo as mesmas dentro da função `print()`."
      ]
    },
    {
      "cell_type": "code",
      "metadata": {
        "id": "8hg8UaLYkycP",
        "colab_type": "code",
        "colab": {
          "base_uri": "https://localhost:8080/",
          "height": 34
        },
        "outputId": "4c9cf559-a00e-4b99-fa05-7c7ce90fa12a"
      },
      "source": [
        "print(nome, 36.5)"
      ],
      "execution_count": 5,
      "outputs": [
        {
          "output_type": "stream",
          "text": [
            "Carlos 36.5\n"
          ],
          "name": "stdout"
        }
      ]
    },
    {
      "cell_type": "code",
      "metadata": {
        "id": "i7fXHlKz3vS6",
        "colab_type": "code",
        "colab": {
          "base_uri": "https://localhost:8080/",
          "height": 68
        },
        "outputId": "191a4191-4cc3-448c-cc5f-055240f8902a"
      },
      "source": [
        "# associando stings às variáveis\n",
        "nome = \"Marcia\"\n",
        "sobrenome = \"Alves\"\n",
        "sufixo = \"sufixo\"\n",
        "profissao = \"Analista\"\n",
        "\n",
        "# imprimir nome completo\n",
        "print(\"Nome completo:\")\n",
        "print(nome, sobrenome, sufixo)\n",
        "\n",
        "# imprimir profissão\n",
        "print(\"Sua profissão é\", profissao + \".\")"
      ],
      "execution_count": 6,
      "outputs": [
        {
          "output_type": "stream",
          "text": [
            "Nome completo:\n",
            "Marcia Alves sufixo\n",
            "Sua profissão é Analista.\n"
          ],
          "name": "stdout"
        }
      ]
    },
    {
      "cell_type": "markdown",
      "metadata": {
        "id": "YP3MDpvp4BUO",
        "colab_type": "text"
      },
      "source": [
        "É possível acessar os caracteres individuais dentro de uma *string*. Para isso, basta informar a posição desejada entre colchetes.\n",
        "\n",
        "**Lembre-se sempre que a linguagem Python (assim como a maioria) começa com uma indexação em 0.** Veja como as posições da *string* `Carlos` estão distribuidas:\n",
        "\n",
        "| **0** | **1** | **2** | **3** | **4** | **5** |\n",
        "|:-----:|:-----:|:-----:|:-----:|:-----:|:-----:|\n",
        "| M     | a     | r     | c     | i     | a     |\n",
        "\n",
        "Uma dica, para acessar a última letra de uma *string* é só colocar `[-1]` ao final da mesma.\n"
      ]
    },
    {
      "cell_type": "code",
      "metadata": {
        "id": "SomdfCeS5G_-",
        "colab_type": "code",
        "colab": {
          "base_uri": "https://localhost:8080/",
          "height": 35
        },
        "outputId": "00042d56-4689-4325-d6b3-ff106264dd6a"
      },
      "source": [
        "# criando a variável\n",
        "nome = \"Marcia\"\n",
        "\n",
        "# ver qual é a primeira letra da variável `nome`\n",
        "nome[0]"
      ],
      "execution_count": 9,
      "outputs": [
        {
          "output_type": "execute_result",
          "data": {
            "application/vnd.google.colaboratory.intrinsic+json": {
              "type": "string"
            },
            "text/plain": [
              "'M'"
            ]
          },
          "metadata": {
            "tags": []
          },
          "execution_count": 9
        }
      ]
    },
    {
      "cell_type": "code",
      "metadata": {
        "id": "1GLcSOmw5Tnc",
        "colab_type": "code",
        "colab": {
          "base_uri": "https://localhost:8080/",
          "height": 35
        },
        "outputId": "a2f66757-3797-4abf-e2ae-a85053d8be3a"
      },
      "source": [
        "# ver qual a última letra da variável `nome`\n",
        "nome[-1]"
      ],
      "execution_count": 10,
      "outputs": [
        {
          "output_type": "execute_result",
          "data": {
            "application/vnd.google.colaboratory.intrinsic+json": {
              "type": "string"
            },
            "text/plain": [
              "'a'"
            ]
          },
          "metadata": {
            "tags": []
          },
          "execution_count": 10
        }
      ]
    },
    {
      "cell_type": "markdown",
      "metadata": {
        "id": "uBz-T_tk5nuV",
        "colab_type": "text"
      },
      "source": [
        "### Função  `len()`\n",
        "\n",
        "\n",
        "Para saber o tamanho de uma *string*, existe no Python uma função chamada `len()`, que irá sempre retornar um valor do tipo inteiro (`int`). Usá-la é muito simples e direto:"
      ]
    },
    {
      "cell_type": "code",
      "metadata": {
        "id": "QWjKTNXG6B-1",
        "colab_type": "code",
        "colab": {
          "base_uri": "https://localhost:8080/",
          "height": 34
        },
        "outputId": "76912b0c-7f2f-4098-897e-f9689faf2af4"
      },
      "source": [
        "# verificar o tamanho da sequência de um DNA\n",
        "dna = 'ATGCGGACCTAT'\n",
        "\n",
        "len(dna)"
      ],
      "execution_count": 11,
      "outputs": [
        {
          "output_type": "execute_result",
          "data": {
            "text/plain": [
              "12"
            ]
          },
          "metadata": {
            "tags": []
          },
          "execution_count": 11
        }
      ]
    },
    {
      "cell_type": "markdown",
      "metadata": {
        "id": "8_8c7E5pM4_D",
        "colab_type": "text"
      },
      "source": [
        "### Função `split()`\n",
        "\n",
        "A função `split()` serve para você separar *strings* baseando-se em um delimitador. Por exemplo, a variável nome da célula abaixo contém 3 nomes separados por vírgulas.\n",
        "\n",
        "Para eu extrair esses nomes, basta eu executar `nomes.split(',')`, e o Python vai me retornar uma lista com 3 itens.\n",
        "\n",
        "Não se preocupe. O conceito de listas será abordado mais para frente!"
      ]
    },
    {
      "cell_type": "code",
      "metadata": {
        "id": "cHMzFgI1NKD4",
        "colab_type": "code",
        "colab": {
          "base_uri": "https://localhost:8080/",
          "height": 34
        },
        "outputId": "6379e929-2321-458e-bc2a-8458eb33b1e1"
      },
      "source": [
        "nomes = \"Marcia,Ayla,Yuri\"\n",
        "\n",
        "nomes.split(\",\")"
      ],
      "execution_count": 12,
      "outputs": [
        {
          "output_type": "execute_result",
          "data": {
            "text/plain": [
              "['Marcia', 'Ayla', 'Yuri']"
            ]
          },
          "metadata": {
            "tags": []
          },
          "execution_count": 12
        }
      ]
    },
    {
      "cell_type": "markdown",
      "metadata": {
        "id": "AznUPY6GN2Ef",
        "colab_type": "text"
      },
      "source": [
        "### Função `replace()`\n",
        "\n",
        "Como o nome já diz, ela serve para substituir caracteres dentro de uma string.\n",
        "\n",
        "Imagine a situação que você importa uma tabela sua do Excel, e os valores monetários estão no sistema brasileiro,ou seja, as casas decimais estão separadas por vírgulas.\n",
        "\n",
        "Se eu quiser converter uma string do tipo `9,50` em um valor numérico, eu tenho que substituir a vírgula pelo ponto:"
      ]
    },
    {
      "cell_type": "code",
      "metadata": {
        "id": "hnan1bvbN6gu",
        "colab_type": "code",
        "colab": {}
      },
      "source": [
        "# criando a variável\n",
        "valor = \"9,50\""
      ],
      "execution_count": 13,
      "outputs": []
    },
    {
      "cell_type": "code",
      "metadata": {
        "id": "jl4aiAkcOx3q",
        "colab_type": "code",
        "colab": {
          "base_uri": "https://localhost:8080/",
          "height": 34
        },
        "outputId": "c512a09a-491a-43b1-c32f-c9ea64db1650"
      },
      "source": [
        "# trocando a vírgula por ponto\n",
        "float(valor.replace(\",\", \".\"))"
      ],
      "execution_count": 14,
      "outputs": [
        {
          "output_type": "execute_result",
          "data": {
            "text/plain": [
              "9.5"
            ]
          },
          "metadata": {
            "tags": []
          },
          "execution_count": 14
        }
      ]
    },
    {
      "cell_type": "markdown",
      "metadata": {
        "id": "3DXl0egTPKUf",
        "colab_type": "text"
      },
      "source": [
        "### Função `strip()`\n",
        "\n",
        "Remove ou espaços em branco ou caracteres indesejados. Pode ser usada tanto para remover espaços em branco no começo e final de uma *string*, quanto para remover caracteres indesejados."
      ]
    },
    {
      "cell_type": "code",
      "metadata": {
        "id": "L3WNVdSHPcgR",
        "colab_type": "code",
        "colab": {
          "base_uri": "https://localhost:8080/",
          "height": 35
        },
        "outputId": "1bb75bdc-bf52-468f-bf65-47b2d96033cb"
      },
      "source": [
        "# criando a variável\n",
        "nome = \"     Marcia  Alves     \"\n",
        "\n",
        "# utilizando a função strip\n",
        "nome.strip()"
      ],
      "execution_count": 15,
      "outputs": [
        {
          "output_type": "execute_result",
          "data": {
            "application/vnd.google.colaboratory.intrinsic+json": {
              "type": "string"
            },
            "text/plain": [
              "'Marcia  Alves'"
            ]
          },
          "metadata": {
            "tags": []
          },
          "execution_count": 15
        }
      ]
    },
    {
      "cell_type": "markdown",
      "metadata": {
        "id": "K-NCdAuzPqCn",
        "colab_type": "text"
      },
      "source": [
        "Voltando ao exemplo que usei na função `replace()`, imagine que quando você importou seus dados eles virem da seguinte forma: `R$ 9,00`.\n",
        "\n",
        "Se você quiser converter para um número, precisa antes eliminar os caracteres `R$ `"
      ]
    },
    {
      "cell_type": "code",
      "metadata": {
        "id": "WTBVx1_MOxxK",
        "colab_type": "code",
        "colab": {
          "base_uri": "https://localhost:8080/",
          "height": 35
        },
        "outputId": "a8abb48e-5a46-4517-9e11-5a7700741f3a"
      },
      "source": [
        "\"R$ 9,50\".strip('R$ ')"
      ],
      "execution_count": 16,
      "outputs": [
        {
          "output_type": "execute_result",
          "data": {
            "application/vnd.google.colaboratory.intrinsic+json": {
              "type": "string"
            },
            "text/plain": [
              "'9,50'"
            ]
          },
          "metadata": {
            "tags": []
          },
          "execution_count": 16
        }
      ]
    },
    {
      "cell_type": "code",
      "metadata": {
        "id": "NNdcdLZaP-J4",
        "colab_type": "code",
        "colab": {
          "base_uri": "https://localhost:8080/",
          "height": 35
        },
        "outputId": "f7e2c4e7-5643-4053-91d4-d499631948e1"
      },
      "source": [
        "\"R$ 9,50\".strip('R$ ').replace(',', '.')"
      ],
      "execution_count": 17,
      "outputs": [
        {
          "output_type": "execute_result",
          "data": {
            "application/vnd.google.colaboratory.intrinsic+json": {
              "type": "string"
            },
            "text/plain": [
              "'9.50'"
            ]
          },
          "metadata": {
            "tags": []
          },
          "execution_count": 17
        }
      ]
    },
    {
      "cell_type": "code",
      "metadata": {
        "id": "2PLQynBSQF-s",
        "colab_type": "code",
        "colab": {
          "base_uri": "https://localhost:8080/",
          "height": 34
        },
        "outputId": "b678360d-abfa-4854-b319-3c28adb411e2"
      },
      "source": [
        "float(\"R$ 9,50\".strip('R$ ').replace(',', '.'))"
      ],
      "execution_count": 18,
      "outputs": [
        {
          "output_type": "execute_result",
          "data": {
            "text/plain": [
              "9.5"
            ]
          },
          "metadata": {
            "tags": []
          },
          "execution_count": 18
        }
      ]
    },
    {
      "cell_type": "markdown",
      "metadata": {
        "id": "ySjn4_qerQuV",
        "colab_type": "text"
      },
      "source": [
        "### Slicing\n",
        "O Python nos permite \"cortar\" as nossas strings, técnica chamada de `slicing`.\n",
        "\n",
        "Como exemplo, vamos usar a variável abaixo"
      ]
    },
    {
      "cell_type": "code",
      "metadata": {
        "id": "T9zSl6dmsKDZ",
        "colab_type": "code",
        "colab": {}
      },
      "source": [
        "nome = 'Marcia'"
      ],
      "execution_count": 19,
      "outputs": []
    },
    {
      "cell_type": "markdown",
      "metadata": {
        "id": "yLgE_lmMsNr7",
        "colab_type": "text"
      },
      "source": [
        "Para fazer o slicing, nós chamamos a variável a ser \"fatiada\", e colocamos entre colchetes o index de início e fim, separados por `:`.\n",
        "\n",
        "Lembre-se que a indexação em Python começa no zero, portanto:\n",
        "* [0] - M\n",
        "* [1] - a\n",
        "* [2] - r\n",
        "* [3] - c\n",
        "* [4] - i\n",
        "* [5] - a\n",
        "\n",
        "Também é importante saber que a posição final não é incluída. Ou seja, se chamarmos o slicing da seguinte forma:\n",
        "\n",
        "nome[2:4]\n",
        "\n",
        "teríamos como retorno as letras\n",
        "* [2] - r\n",
        "* [3] - c\n",
        "\n",
        "pois a letra `o` na posição quatro, não é incluída no slicing."
      ]
    },
    {
      "cell_type": "code",
      "metadata": {
        "id": "DbmKmqFtsi2l",
        "colab_type": "code",
        "colab": {
          "base_uri": "https://localhost:8080/",
          "height": 35
        },
        "outputId": "36da9b87-62cb-4fbe-919c-0457d15124c0"
      },
      "source": [
        "# slicing da variável `nome`\n",
        "nome[]"
      ],
      "execution_count": 71,
      "outputs": [
        {
          "output_type": "execute_result",
          "data": {
            "application/vnd.google.colaboratory.intrinsic+json": {
              "type": "string"
            },
            "text/plain": [
              "'josé Santos da Silva'"
            ]
          },
          "metadata": {
            "tags": []
          },
          "execution_count": 71
        }
      ]
    },
    {
      "cell_type": "markdown",
      "metadata": {
        "id": "P4U-VPX_tVKe",
        "colab_type": "text"
      },
      "source": [
        "Também podemos omitir uma das variáveis, e isso fará que o slicing comece desde o primeiro index, e termine no último."
      ]
    },
    {
      "cell_type": "code",
      "metadata": {
        "id": "Wdayk44ctf_0",
        "colab_type": "code",
        "colab": {
          "base_uri": "https://localhost:8080/",
          "height": 35
        },
        "outputId": "228c59a8-901f-42c1-b06a-c96e8e1f72d0"
      },
      "source": [
        "# slicing do começo ao 4\n",
        "nome[:4]"
      ],
      "execution_count": 21,
      "outputs": [
        {
          "output_type": "execute_result",
          "data": {
            "application/vnd.google.colaboratory.intrinsic+json": {
              "type": "string"
            },
            "text/plain": [
              "'Marc'"
            ]
          },
          "metadata": {
            "tags": []
          },
          "execution_count": 21
        }
      ]
    },
    {
      "cell_type": "code",
      "metadata": {
        "id": "dyArnh5StjcO",
        "colab_type": "code",
        "colab": {
          "base_uri": "https://localhost:8080/",
          "height": 35
        },
        "outputId": "34f5da6f-2056-4354-d12f-d4e2cf219e98"
      },
      "source": [
        "# slicing do 2 ao fim\n",
        "nome[2:]"
      ],
      "execution_count": 22,
      "outputs": [
        {
          "output_type": "execute_result",
          "data": {
            "application/vnd.google.colaboratory.intrinsic+json": {
              "type": "string"
            },
            "text/plain": [
              "'rcia'"
            ]
          },
          "metadata": {
            "tags": []
          },
          "execution_count": 22
        }
      ]
    },
    {
      "cell_type": "markdown",
      "metadata": {
        "id": "STzIbrrHtupA",
        "colab_type": "text"
      },
      "source": [
        "Lembre-se que podemos adicionar as strings. Podemos fazer isso também usando slicing."
      ]
    },
    {
      "cell_type": "code",
      "metadata": {
        "id": "o-bJyr7Ft-tM",
        "colab_type": "code",
        "colab": {
          "base_uri": "https://localhost:8080/",
          "height": 85
        },
        "outputId": "5c15d37a-8c86-4420-bd34-0d3b7fc92cd5"
      },
      "source": [
        "print('Nome Completo: ', nome)\n",
        "print('Primeira parte: ', nome[:3])\n",
        "print('Segunda parte: ', nome[3:])\n",
        "print('Nome feito adicionando Slices: ', nome[:3] + nome[3:])"
      ],
      "execution_count": 23,
      "outputs": [
        {
          "output_type": "stream",
          "text": [
            "Nome Completo:  Marcia\n",
            "Primeira parte:  Mar\n",
            "Segunda parte:  cia\n",
            "Nome feito adicionando Slices:  Marcia\n"
          ],
          "name": "stdout"
        }
      ]
    },
    {
      "cell_type": "markdown",
      "metadata": {
        "id": "k4iZsmTju0FS",
        "colab_type": "text"
      },
      "source": [
        "Ainda falando de slices, nós também podemos definir um *step*, ou um passo de intervalo, para que os caracteres sejam pulados.\n",
        "\n",
        "Vamos ver como isso funciona na prática."
      ]
    },
    {
      "cell_type": "code",
      "metadata": {
        "id": "6OkCSg7Bt-qS",
        "colab_type": "code",
        "colab": {
          "base_uri": "https://localhost:8080/",
          "height": 34
        },
        "outputId": "3a28742e-2035-46c1-8b08-69211c214854"
      },
      "source": [
        "# criando a variável\n",
        "num = '123456789'\n",
        "print(num)"
      ],
      "execution_count": 24,
      "outputs": [
        {
          "output_type": "stream",
          "text": [
            "123456789\n"
          ],
          "name": "stdout"
        }
      ]
    },
    {
      "cell_type": "markdown",
      "metadata": {
        "id": "in6-LXikxWWv",
        "colab_type": "text"
      },
      "source": [
        "Como temos 27 caracteres, isso significa que nossos índices vão do 0 ao 26, totalizando 27.\n",
        "\n",
        "Podemos usar o slicing para mostrar apenas os números ímpares, por exemplo, basta acrescentar um dígito extra, que é o step.\n",
        "\n",
        "A sintaxe fica da seguinte forma:\n",
        "\n",
        "> variável[index_início, index_final, step]"
      ]
    },
    {
      "cell_type": "code",
      "metadata": {
        "id": "lJCBFto8t-mD",
        "colab_type": "code",
        "colab": {
          "base_uri": "https://localhost:8080/",
          "height": 35
        },
        "outputId": "c08335a7-6295-4d02-f6cc-d16d225b5acb"
      },
      "source": [
        "# slicing da variável num, começando do primeiro caractere, indo até o último, em step 2, ou seja\n",
        "# mostra um, pula um\n",
        "num[::2]"
      ],
      "execution_count": 25,
      "outputs": [
        {
          "output_type": "execute_result",
          "data": {
            "application/vnd.google.colaboratory.intrinsic+json": {
              "type": "string"
            },
            "text/plain": [
              "'13579'"
            ]
          },
          "metadata": {
            "tags": []
          },
          "execution_count": 25
        }
      ]
    },
    {
      "cell_type": "code",
      "metadata": {
        "id": "riDXQdASt-h9",
        "colab_type": "code",
        "colab": {
          "base_uri": "https://localhost:8080/",
          "height": 35
        },
        "outputId": "ac92b4d9-a045-40dc-f99b-04f06dd4ac7e"
      },
      "source": [
        "# para visualizarmos os pares, basta começar da posição 2\n",
        "# aqui temos dois `:`, pois indicamos o início, até (:) o final (:) e step 2.\n",
        "num[1::2]"
      ],
      "execution_count": 26,
      "outputs": [
        {
          "output_type": "execute_result",
          "data": {
            "application/vnd.google.colaboratory.intrinsic+json": {
              "type": "string"
            },
            "text/plain": [
              "'2468'"
            ]
          },
          "metadata": {
            "tags": []
          },
          "execution_count": 26
        }
      ]
    },
    {
      "cell_type": "markdown",
      "metadata": {
        "id": "3fSBvaT60k5Q",
        "colab_type": "text"
      },
      "source": [
        "### Convertendo Strings\n",
        "\n",
        "Por padrão, podemos usar o Python para converter as strings em maíusculas, minúsculas, etc.\n",
        "\n",
        "Esses processos são bastante úteis ao tratarmos dados em formato string."
      ]
    },
    {
      "cell_type": "code",
      "metadata": {
        "id": "CfQn2sOZ01UQ",
        "colab_type": "code",
        "colab": {}
      },
      "source": [
        "# criando a variável a ser manipulada\n",
        "nome = \"josé Santos da Silva\""
      ],
      "execution_count": 27,
      "outputs": []
    },
    {
      "cell_type": "code",
      "metadata": {
        "id": "Roz1Iyjfqb05",
        "colab_type": "code",
        "colab": {
          "base_uri": "https://localhost:8080/",
          "height": 35
        },
        "outputId": "28075bd8-5fbe-4b7c-a024-34017acdcc3b"
      },
      "source": [
        "nome"
      ],
      "execution_count": 28,
      "outputs": [
        {
          "output_type": "execute_result",
          "data": {
            "application/vnd.google.colaboratory.intrinsic+json": {
              "type": "string"
            },
            "text/plain": [
              "'josé Santos da Silva'"
            ]
          },
          "metadata": {
            "tags": []
          },
          "execution_count": 28
        }
      ]
    },
    {
      "cell_type": "markdown",
      "metadata": {
        "id": "t0XYyrvX090s",
        "colab_type": "text"
      },
      "source": [
        "#### capitalize()\n",
        "\n",
        "Essa função transforma o primeiro caractere em maiúsculo."
      ]
    },
    {
      "cell_type": "code",
      "metadata": {
        "id": "6yxD1ELg1Jha",
        "colab_type": "code",
        "colab": {
          "base_uri": "https://localhost:8080/",
          "height": 35
        },
        "outputId": "206542fe-8726-4800-89ab-ea4eabe45ed6"
      },
      "source": [
        "# utilizando capitalize\n",
        "nome.capitalize()"
      ],
      "execution_count": 29,
      "outputs": [
        {
          "output_type": "execute_result",
          "data": {
            "application/vnd.google.colaboratory.intrinsic+json": {
              "type": "string"
            },
            "text/plain": [
              "'José santos da silva'"
            ]
          },
          "metadata": {
            "tags": []
          },
          "execution_count": 29
        }
      ]
    },
    {
      "cell_type": "markdown",
      "metadata": {
        "id": "qcT6MGNM1NbB",
        "colab_type": "text"
      },
      "source": [
        "#### lower()\n",
        "Essa função transforma todos os caracteres em minúsculo."
      ]
    },
    {
      "cell_type": "code",
      "metadata": {
        "id": "DFVQ5WHd1T6G",
        "colab_type": "code",
        "colab": {
          "base_uri": "https://localhost:8080/",
          "height": 35
        },
        "outputId": "034ca78e-52c3-4120-a984-d9481112a757"
      },
      "source": [
        "# utilizando lower\n",
        "nome.lower()"
      ],
      "execution_count": 30,
      "outputs": [
        {
          "output_type": "execute_result",
          "data": {
            "application/vnd.google.colaboratory.intrinsic+json": {
              "type": "string"
            },
            "text/plain": [
              "'josé santos da silva'"
            ]
          },
          "metadata": {
            "tags": []
          },
          "execution_count": 30
        }
      ]
    },
    {
      "cell_type": "markdown",
      "metadata": {
        "id": "UKhq2br-1Wbh",
        "colab_type": "text"
      },
      "source": [
        "#### upper()\n",
        "Para tornar todas maiúsculas, basta usar essa função."
      ]
    },
    {
      "cell_type": "code",
      "metadata": {
        "id": "VNXRV0Hi1f56",
        "colab_type": "code",
        "colab": {
          "base_uri": "https://localhost:8080/",
          "height": 35
        },
        "outputId": "6e9db703-7b6f-4696-a493-2f424e10064b"
      },
      "source": [
        "# utilizando upper\n",
        "nome.upper()"
      ],
      "execution_count": 31,
      "outputs": [
        {
          "output_type": "execute_result",
          "data": {
            "application/vnd.google.colaboratory.intrinsic+json": {
              "type": "string"
            },
            "text/plain": [
              "'JOSÉ SANTOS DA SILVA'"
            ]
          },
          "metadata": {
            "tags": []
          },
          "execution_count": 31
        }
      ]
    },
    {
      "cell_type": "markdown",
      "metadata": {
        "id": "_u6ERCaH1ieJ",
        "colab_type": "text"
      },
      "source": [
        "#### title()\n",
        "Essa função transforma a primeira letra de cada palavra em maiúscula."
      ]
    },
    {
      "cell_type": "code",
      "metadata": {
        "id": "g0UGyX6Q1h1g",
        "colab_type": "code",
        "colab": {
          "base_uri": "https://localhost:8080/",
          "height": 35
        },
        "outputId": "c5c81b77-640d-46f6-ea9b-fa084abf8e16"
      },
      "source": [
        "# utilizando title\n",
        "nome.title()"
      ],
      "execution_count": 32,
      "outputs": [
        {
          "output_type": "execute_result",
          "data": {
            "application/vnd.google.colaboratory.intrinsic+json": {
              "type": "string"
            },
            "text/plain": [
              "'José Santos Da Silva'"
            ]
          },
          "metadata": {
            "tags": []
          },
          "execution_count": 32
        }
      ]
    },
    {
      "cell_type": "markdown",
      "metadata": {
        "id": "yggT9_7N1ts6",
        "colab_type": "text"
      },
      "source": [
        "#### swapcase()\n",
        "Aqui iremos inverter as coisas, transformando maiúsculas em minúsculas, e vice-versa."
      ]
    },
    {
      "cell_type": "code",
      "metadata": {
        "id": "O7kkYBfR11xA",
        "colab_type": "code",
        "colab": {
          "base_uri": "https://localhost:8080/",
          "height": 35
        },
        "outputId": "8e0e3a2c-f844-4362-d372-4c77b00d8185"
      },
      "source": [
        "# utilizando swapcase\n",
        "nome.swapcase()"
      ],
      "execution_count": 33,
      "outputs": [
        {
          "output_type": "execute_result",
          "data": {
            "application/vnd.google.colaboratory.intrinsic+json": {
              "type": "string"
            },
            "text/plain": [
              "'JOSÉ sANTOS DA sILVA'"
            ]
          },
          "metadata": {
            "tags": []
          },
          "execution_count": 33
        }
      ]
    },
    {
      "cell_type": "markdown",
      "metadata": {
        "id": "vSoPOrap6xE1",
        "colab_type": "text"
      },
      "source": [
        "## Exercícios\n",
        "\n",
        "<center><img width=\"50%\" src=\"https://image.freepik.com/free-photo/coding-man_1098-18084.jpg\n",
        "\"></center>"
      ]
    },
    {
      "cell_type": "markdown",
      "metadata": {
        "id": "KD1ufBnNqEOw",
        "colab_type": "text"
      },
      "source": [
        "### Exercício 1\n",
        "\n",
        "Escreva seu nome e sobrenome, como nos exemplos acima, e imprima ele na tela usando a função `print()`:"
      ]
    },
    {
      "cell_type": "code",
      "metadata": {
        "id": "ehkKyhU_60_3",
        "colab_type": "code",
        "colab": {
          "base_uri": "https://localhost:8080/",
          "height": 34
        },
        "outputId": "debe0fa9-b4f0-4221-a6a3-c47053de2a50"
      },
      "source": [
        "# resposta\n",
        "nome1 = 'Marcia'\n",
        "sobrenome1 = 'Alves'\n",
        "print (nome1 , sobrenome1)\n"
      ],
      "execution_count": 37,
      "outputs": [
        {
          "output_type": "stream",
          "text": [
            "Marcia Alves\n"
          ],
          "name": "stdout"
        }
      ]
    },
    {
      "cell_type": "code",
      "metadata": {
        "id": "O6btoUeVqPKI",
        "colab_type": "code",
        "cellView": "form",
        "colab": {}
      },
      "source": [
        "#@title Solução\n",
        "print(\"Carlos Melo\")"
      ],
      "execution_count": null,
      "outputs": []
    },
    {
      "cell_type": "markdown",
      "metadata": {
        "id": "HfLGXzjN7AuR",
        "colab_type": "text"
      },
      "source": [
        "### Exercícios 3\n",
        "Verifique o tamanho da *string* da variável sha1_hash abaixo:"
      ]
    },
    {
      "cell_type": "code",
      "metadata": {
        "id": "7ptSvRIL7FYw",
        "colab_type": "code",
        "colab": {}
      },
      "source": [
        "hash = \"b91552e0b2b2183e85a4371020ab6b9f4ef83ed0\""
      ],
      "execution_count": 43,
      "outputs": []
    },
    {
      "cell_type": "code",
      "metadata": {
        "id": "iwfqlKiPqoMv",
        "colab_type": "code",
        "colab": {
          "base_uri": "https://localhost:8080/",
          "height": 34
        },
        "outputId": "913381c8-4505-43e6-cde3-be087ec56283"
      },
      "source": [
        "# resposta\n",
        "\n",
        "len(hash)"
      ],
      "execution_count": 44,
      "outputs": [
        {
          "output_type": "execute_result",
          "data": {
            "text/plain": [
              "40"
            ]
          },
          "metadata": {
            "tags": []
          },
          "execution_count": 44
        }
      ]
    },
    {
      "cell_type": "code",
      "metadata": {
        "id": "B5dSSOkeqw70",
        "colab_type": "code",
        "cellView": "form",
        "colab": {}
      },
      "source": [
        "#@title Solução\n",
        "len(sha1_hash)"
      ],
      "execution_count": null,
      "outputs": []
    },
    {
      "cell_type": "markdown",
      "metadata": {
        "id": "WFCUMU5m8LU7",
        "colab_type": "text"
      },
      "source": [
        "### Exercício 3\n",
        "\n",
        "Converta a string `85,00 Kg` em uma variável do tipo float."
      ]
    },
    {
      "cell_type": "code",
      "metadata": {
        "id": "2h8-qUKl7F2K",
        "colab_type": "code",
        "colab": {
          "base_uri": "https://localhost:8080/",
          "height": 34
        },
        "outputId": "57519786-145d-4c0b-f7e5-13a943be598f"
      },
      "source": [
        "# resposta\n",
        "#float(\"R$ 9,50\".strip('R$ ').replace(',', '.'))\n",
        "#float(\"85,00 Kg\".strip('Kg')\n",
        "type('85,00 Kg')\n",
        "#('85,00 Kg'.strip('Kg'))\n",
        "float('85,00 Kg'.strip('Kg').replace(',', '.'))"
      ],
      "execution_count": 56,
      "outputs": [
        {
          "output_type": "execute_result",
          "data": {
            "text/plain": [
              "85.0"
            ]
          },
          "metadata": {
            "tags": []
          },
          "execution_count": 56
        }
      ]
    },
    {
      "cell_type": "code",
      "metadata": {
        "id": "2LCRKm172RTk",
        "colab_type": "code",
        "cellView": "form",
        "colab": {}
      },
      "source": [
        "#@title Solução\n",
        "float('85,00 Kg'.strip(' Kg').replace(',', '.'))\n"
      ],
      "execution_count": null,
      "outputs": []
    },
    {
      "cell_type": "markdown",
      "metadata": {
        "id": "EImg6boX21Nt",
        "colab_type": "text"
      },
      "source": [
        "#### Exercício 4\n",
        "\n",
        "Faça o que se pede com a variável em cada uma das células abaixo\n"
      ]
    },
    {
      "cell_type": "code",
      "metadata": {
        "id": "X-J6my5M2aI8",
        "colab_type": "code",
        "colab": {}
      },
      "source": [
        "# criando a variável\n",
        "x = 'Data, Science, é, demais!'\n"
      ],
      "execution_count": 64,
      "outputs": []
    },
    {
      "cell_type": "code",
      "metadata": {
        "id": "1yZ7sX2A20Z_",
        "colab_type": "code",
        "colab": {
          "base_uri": "https://localhost:8080/",
          "height": 34
        },
        "outputId": "829663ba-159d-41d9-aca9-db00225e1e05"
      },
      "source": [
        "# a) imprima a quantidade de caracteres na variável x\n",
        "len('x')\n"
      ],
      "execution_count": 65,
      "outputs": [
        {
          "output_type": "execute_result",
          "data": {
            "text/plain": [
              "1"
            ]
          },
          "metadata": {
            "tags": []
          },
          "execution_count": 65
        }
      ]
    },
    {
      "cell_type": "code",
      "metadata": {
        "id": "huRSUpiF3P-2",
        "colab_type": "code",
        "colab": {
          "base_uri": "https://localhost:8080/",
          "height": 35
        },
        "outputId": "f4d37c8a-3430-4788-e9d7-21de9b1f9ce9"
      },
      "source": [
        "# b) retire as vírgulas da variável\n",
        "x\n",
        "xx= x.replace(',','')\n",
        "xxx= xx.replace(' ','')\n",
        "xxx\n"
      ],
      "execution_count": 81,
      "outputs": [
        {
          "output_type": "execute_result",
          "data": {
            "application/vnd.google.colaboratory.intrinsic+json": {
              "type": "string"
            },
            "text/plain": [
              "'DataScienceédemais!'"
            ]
          },
          "metadata": {
            "tags": []
          },
          "execution_count": 81
        }
      ]
    },
    {
      "cell_type": "code",
      "metadata": {
        "id": "jlNekZmR3TXF",
        "colab_type": "code",
        "colab": {
          "base_uri": "https://localhost:8080/",
          "height": 35
        },
        "outputId": "799db779-2e8a-4343-8a01-4b4ffdf45dfc"
      },
      "source": [
        "# c) imprima apenas os 6 primeiros caracteres da variável\n",
        "xx[:6]\n",
        "xxx[:6]"
      ],
      "execution_count": 83,
      "outputs": [
        {
          "output_type": "execute_result",
          "data": {
            "application/vnd.google.colaboratory.intrinsic+json": {
              "type": "string"
            },
            "text/plain": [
              "'DataSc'"
            ]
          },
          "metadata": {
            "tags": []
          },
          "execution_count": 83
        }
      ]
    },
    {
      "cell_type": "code",
      "metadata": {
        "id": "y8vxWdu03Z-u",
        "colab_type": "code",
        "colab": {
          "base_uri": "https://localhost:8080/",
          "height": 35
        },
        "outputId": "e5d421dc-2c4a-4507-e621-bc1c6be8a77e"
      },
      "source": [
        "# d) imprima todos os caracteres, mostrando um e pulando um\n",
        "xxx[0::2]"
      ],
      "execution_count": 88,
      "outputs": [
        {
          "output_type": "execute_result",
          "data": {
            "application/vnd.google.colaboratory.intrinsic+json": {
              "type": "string"
            },
            "text/plain": [
              "'DtSinedmi!'"
            ]
          },
          "metadata": {
            "tags": []
          },
          "execution_count": 88
        }
      ]
    },
    {
      "cell_type": "code",
      "metadata": {
        "id": "Af-uSrbH3fjV",
        "colab_type": "code",
        "colab": {
          "base_uri": "https://localhost:8080/",
          "height": 35
        },
        "outputId": "707d18e9-d34c-4dbd-8b66-0ac370432771"
      },
      "source": [
        "# e) transforme todas as letras em maiúsculas\n",
        "xx.upper()"
      ],
      "execution_count": 89,
      "outputs": [
        {
          "output_type": "execute_result",
          "data": {
            "application/vnd.google.colaboratory.intrinsic+json": {
              "type": "string"
            },
            "text/plain": [
              "'DATA SCIENCE É DEMAIS!'"
            ]
          },
          "metadata": {
            "tags": []
          },
          "execution_count": 89
        }
      ]
    },
    {
      "cell_type": "code",
      "metadata": {
        "id": "XbpQ7psZ3iqf",
        "colab_type": "code",
        "colab": {
          "base_uri": "https://localhost:8080/",
          "height": 35
        },
        "outputId": "582bc9a5-e002-4df5-e9fc-86a68c39fffc"
      },
      "source": [
        "# f) transforme todas as letras em minúsculas\n",
        "xx.lower()"
      ],
      "execution_count": 90,
      "outputs": [
        {
          "output_type": "execute_result",
          "data": {
            "application/vnd.google.colaboratory.intrinsic+json": {
              "type": "string"
            },
            "text/plain": [
              "'data science é demais!'"
            ]
          },
          "metadata": {
            "tags": []
          },
          "execution_count": 90
        }
      ]
    },
    {
      "cell_type": "code",
      "metadata": {
        "id": "2uG4HVX63l1W",
        "colab_type": "code",
        "cellView": "form",
        "colab": {}
      },
      "source": [
        "#@title Solução\n",
        "print(x)\n",
        "# a)\n",
        "print(len(x))\n",
        "\n",
        "# b)\n",
        "x = x.strip().replace(',', '')\n",
        "print(x)\n",
        "\n",
        "# c)\n",
        "print(x[:6])\n",
        "\n",
        "# d)\n",
        "print(x[::2])\n",
        "\n",
        "# e)\n",
        "print(x.upper())\n",
        "\n",
        "# f)\n",
        "print(x.lower())"
      ],
      "execution_count": null,
      "outputs": []
    }
  ]
}