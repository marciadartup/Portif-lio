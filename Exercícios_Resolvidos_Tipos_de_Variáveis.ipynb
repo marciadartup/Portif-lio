{
  "nbformat": 4,
  "nbformat_minor": 0,
  "metadata": {
    "colab": {
      "name": "Exercícios Resolvidos - Tipos de Variáveis",
      "provenance": [],
      "collapsed_sections": [],
      "include_colab_link": true
    },
    "kernelspec": {
      "name": "python3",
      "display_name": "Python 3"
    }
  },
  "cells": [
    {
      "cell_type": "markdown",
      "metadata": {
        "id": "view-in-github",
        "colab_type": "text"
      },
      "source": [
        "<a href=\"https://colab.research.google.com/github/marciadartup/Portif-lio/blob/master/Exerc%C3%ADcios_Resolvidos_Tipos_de_Vari%C3%A1veis.ipynb\" target=\"_parent\"><img src=\"https://colab.research.google.com/assets/colab-badge.svg\" alt=\"Open In Colab\"/></a>"
      ]
    },
    {
      "cell_type": "markdown",
      "metadata": {
        "id": "m3Xn_3hAFRmx",
        "colab_type": "text"
      },
      "source": [
        "<img alt=\"Colaboratory logo\" width=\"15%\" src=\"https://raw.githubusercontent.com/carlosfab/escola-data-science/master/img/novo_logo_bg_claro.png\">\n",
        "\n",
        "#### **Python do Zero**\n",
        "*by [sigmoidal.ai](https://sigmoidal.ai)*\n",
        "\n",
        "---\n",
        "\n",
        "## Variáveis em Python\n",
        "\n",
        "<center><img alt=\"Tipos\" width=\"40%\" src=\"https://image.freepik.com/free-photo/top-view-different-types-tools_23-2148428335.jpg\"></center>\n",
        "\n",
        "Em Python, podemos associar valores a variáveis, para que sejam armazenados e facilmente acessados ao longo do seu código.\n",
        "\n",
        "Pense na variável como um \"nome\" para o objeto que estamos manipulando.\n",
        "\n",
        "Diferente de outras linguagens, as variáveis não precisam ser definidas anteriormente, podemos criá-las no momento da associação\n",
        "\n",
        "Para associarmos um valor a uma variáveis, basta usar o operador que indica associação `=`. \n"
      ]
    },
    {
      "cell_type": "code",
      "metadata": {
        "id": "rNA2HwPkGu6q",
        "colab_type": "code",
        "colab": {
          "base_uri": "https://localhost:8080/",
          "height": 122
        },
        "outputId": "76b06d63-e915-4299-9972-4ad2b9b6991b"
      },
      "source": [
        "from google.colab import drive\n",
        "drive.mount('/content/drive')"
      ],
      "execution_count": null,
      "outputs": [
        {
          "output_type": "stream",
          "text": [
            "Go to this URL in a browser: https://accounts.google.com/o/oauth2/auth?client_id=947318989803-6bn6qk8qdgf4n4g3pfee6491hc0brc4i.apps.googleusercontent.com&redirect_uri=urn%3aietf%3awg%3aoauth%3a2.0%3aoob&scope=email%20https%3a%2f%2fwww.googleapis.com%2fauth%2fdocs.test%20https%3a%2f%2fwww.googleapis.com%2fauth%2fdrive%20https%3a%2f%2fwww.googleapis.com%2fauth%2fdrive.photos.readonly%20https%3a%2f%2fwww.googleapis.com%2fauth%2fpeopleapi.readonly&response_type=code\n",
            "\n",
            "Enter your authorization code:\n",
            "··········\n",
            "Mounted at /content/drive\n"
          ],
          "name": "stdout"
        }
      ]
    },
    {
      "cell_type": "code",
      "metadata": {
        "id": "fX7onpEQHcCk",
        "colab_type": "code",
        "colab": {}
      },
      "source": [
        "# associando o número 300 à variável x\n",
        "x = 300"
      ],
      "execution_count": null,
      "outputs": []
    },
    {
      "cell_type": "markdown",
      "metadata": {
        "id": "YFg9LSbqHjjE",
        "colab_type": "text"
      },
      "source": [
        "Após associarmos o valor 300 à variável `x`, podemos acessá-la utilizando a mesma, ou mesmo a função `print`."
      ]
    },
    {
      "cell_type": "code",
      "metadata": {
        "id": "M2LFABc3Hb_y",
        "colab_type": "code",
        "colab": {
          "base_uri": "https://localhost:8080/",
          "height": 35
        },
        "outputId": "dbffbe75-ea84-4068-8135-f4f29ea45bb7"
      },
      "source": [
        "# chamando a variável diretamente\n",
        "x"
      ],
      "execution_count": null,
      "outputs": [
        {
          "output_type": "execute_result",
          "data": {
            "text/plain": [
              "300"
            ]
          },
          "metadata": {
            "tags": []
          },
          "execution_count": 14
        }
      ]
    },
    {
      "cell_type": "code",
      "metadata": {
        "id": "4aYbvdJzGJxR",
        "colab_type": "code",
        "colab": {
          "base_uri": "https://localhost:8080/",
          "height": 35
        },
        "outputId": "950a2326-887d-4b1f-e819-8690de731a5f"
      },
      "source": [
        "# imprimindo a variável com print\n",
        "print(x)"
      ],
      "execution_count": null,
      "outputs": [
        {
          "output_type": "stream",
          "text": [
            "300\n"
          ],
          "name": "stdout"
        }
      ]
    },
    {
      "cell_type": "markdown",
      "metadata": {
        "id": "Unb_PdTxIVNR",
        "colab_type": "text"
      },
      "source": [
        "Também podemos associar um novo valor a essa variável, para que a partir desse momento, ela assuma um novo valor."
      ]
    },
    {
      "cell_type": "code",
      "metadata": {
        "id": "YSClLFSAH3Ca",
        "colab_type": "code",
        "colab": {
          "base_uri": "https://localhost:8080/",
          "height": 53
        },
        "outputId": "a2d5d50a-ddc6-4a5d-82b7-aa15cf227697"
      },
      "source": [
        "print(\"Valor inicial:\", x)\n",
        "\n",
        "# atribuir novo valor\n",
        "x = 100\n",
        "\n",
        "print(\"Valor novo:\", x)"
      ],
      "execution_count": null,
      "outputs": [
        {
          "output_type": "stream",
          "text": [
            "Valor inicial: 300\n",
            "Valor novo: 100\n"
          ],
          "name": "stdout"
        }
      ]
    },
    {
      "cell_type": "markdown",
      "metadata": {
        "id": "v2YuHg1iJlYS",
        "colab_type": "text"
      },
      "source": [
        "## Tipos de Variáveis\n",
        "\n",
        "Além de utilizarmos `integers`, ou inteiros, podemos usar outros tipos de variáveis como `strings`, ou `floats`.\n",
        "\n",
        "Vamos ver na prática como isso fucniona."
      ]
    },
    {
      "cell_type": "markdown",
      "metadata": {
        "id": "82Dw7isSKSnG",
        "colab_type": "text"
      },
      "source": [
        "### Integers\n",
        "Para utilizar inteiros, basta criar a variável como tal, sem valores decimais."
      ]
    },
    {
      "cell_type": "code",
      "metadata": {
        "id": "zX3CRTx6IfLV",
        "colab_type": "code",
        "colab": {
          "base_uri": "https://localhost:8080/",
          "height": 35
        },
        "outputId": "95da3b97-eae6-4193-9e08-114204788b39"
      },
      "source": [
        "# integers\n",
        "x = 50\n",
        "print(x)"
      ],
      "execution_count": null,
      "outputs": [
        {
          "output_type": "stream",
          "text": [
            "50\n"
          ],
          "name": "stdout"
        }
      ]
    },
    {
      "cell_type": "markdown",
      "metadata": {
        "id": "eF8QT6OFKdBF",
        "colab_type": "text"
      },
      "source": [
        "### Floats\n",
        "Ao utilizar Floats, precisamos ter cuidado com uma detalhe. A vírgula, em Python, serve pra enumeração, e não para casas decimais.\n",
        "\n",
        "Para definir casas decimais, vamos utilizar o ponto `.`\n",
        "\n",
        "Para criar um float, basta associar à variável um número que possua casa decimal."
      ]
    },
    {
      "cell_type": "code",
      "metadata": {
        "id": "A7QseAg_J_vV",
        "colab_type": "code",
        "colab": {
          "base_uri": "https://localhost:8080/",
          "height": 35
        },
        "outputId": "a21741d5-0706-4c4c-fc46-7dc67f6ca842"
      },
      "source": [
        "# float\n",
        "x = 25.0\n",
        "print(x)"
      ],
      "execution_count": null,
      "outputs": [
        {
          "output_type": "stream",
          "text": [
            "25.0\n"
          ],
          "name": "stdout"
        }
      ]
    },
    {
      "cell_type": "markdown",
      "metadata": {
        "id": "T1gTB698LGfN",
        "colab_type": "text"
      },
      "source": [
        "### Strings\n",
        "Strings são nossa linguagem natural, utilizando caracteres e palavras.\n",
        "\n",
        "Para criar strings, precisamos colocar nosso conteúdo entre parênteses."
      ]
    },
    {
      "cell_type": "code",
      "metadata": {
        "id": "G_iJjopFKEDO",
        "colab_type": "code",
        "colab": {
          "base_uri": "https://localhost:8080/",
          "height": 35
        },
        "outputId": "841504c6-9afb-4d84-adab-8885d47fff75"
      },
      "source": [
        "# string\n",
        "x = \"Data Science é a profissão mais sexy do mundo.\"\n",
        "print(x)"
      ],
      "execution_count": null,
      "outputs": [
        {
          "output_type": "stream",
          "text": [
            "Data Science é a profissão mais sexy do mundo.\n"
          ],
          "name": "stdout"
        }
      ]
    },
    {
      "cell_type": "markdown",
      "metadata": {
        "id": "WAbnkHfPLxNc",
        "colab_type": "text"
      },
      "source": [
        "## Verificando o Tipo da Variável\n",
        "\n",
        "É claro que você vai sempre criar as variáveis da forma desejada, e seguindo os padrões para não encontrar erros ou problemas no seu código.\n",
        "\n",
        "Entretanto, não é incomum encontrarmos, por exemplo, números que estão em formato string, e por isso, se comportarão como tal, não permitindo operações matemáticas, por exemplo.\n",
        "\n",
        "Para que possamos descobrir o tipo das nossas variáveis, temos a função `type`."
      ]
    },
    {
      "cell_type": "code",
      "metadata": {
        "id": "u8kfv_-LKJTN",
        "colab_type": "code",
        "colab": {
          "base_uri": "https://localhost:8080/",
          "height": 53
        },
        "outputId": "212cd82e-214a-42ce-c9b0-1e756113ada8"
      },
      "source": [
        "# imprimindo a variável\n",
        "x = 100\n",
        "print(x)\n",
        "\n",
        "# verificando o tipo\n",
        "type(x)"
      ],
      "execution_count": null,
      "outputs": [
        {
          "output_type": "stream",
          "text": [
            "100\n"
          ],
          "name": "stdout"
        },
        {
          "output_type": "execute_result",
          "data": {
            "text/plain": [
              "int"
            ]
          },
          "metadata": {
            "tags": []
          },
          "execution_count": 28
        }
      ]
    },
    {
      "cell_type": "markdown",
      "metadata": {
        "id": "2yKM4SuiMlSK",
        "colab_type": "text"
      },
      "source": [
        "### Criando Variáveis a Partir de Variáveis\n",
        "\n",
        "Também podemos criar cópias das variáveis, associando novas variáveis a ela.\n",
        "\n",
        "Isso nos permite explorar a variável sem alterar a original."
      ]
    },
    {
      "cell_type": "code",
      "metadata": {
        "id": "aZiPLduUMWft",
        "colab_type": "code",
        "colab": {
          "base_uri": "https://localhost:8080/",
          "height": 53
        },
        "outputId": "3fc2fdb4-676d-4cc4-d94d-fa7d7b8d8c97"
      },
      "source": [
        "# criando uma variável através da variável original\n",
        "print(\"Variável x: \", x)\n",
        "\n",
        "y = x\n",
        "\n",
        "print(\"Variável y: \", y)"
      ],
      "execution_count": null,
      "outputs": [
        {
          "output_type": "stream",
          "text": [
            "Variável x:  100\n",
            "Variável y:  100\n"
          ],
          "name": "stdout"
        }
      ]
    },
    {
      "cell_type": "markdown",
      "metadata": {
        "id": "Qn61cCs7WrNn",
        "colab_type": "text"
      },
      "source": [
        "Podemos fazer isso com qualquer tipo de variável.\n",
        "\n",
        "Também podemos criar a nova variável a partir de uma operação feita com a variável original."
      ]
    },
    {
      "cell_type": "code",
      "metadata": {
        "id": "lCeGxQJQWoWV",
        "colab_type": "code",
        "colab": {
          "base_uri": "https://localhost:8080/",
          "height": 35
        },
        "outputId": "8efbb4e4-40ac-4f96-bf06-ff9c6f1274b6"
      },
      "source": [
        "# criando uma nova variável com operações\n",
        "x = 10\n",
        "\n",
        "y = x * 10\n",
        "\n",
        "print(y)"
      ],
      "execution_count": null,
      "outputs": [
        {
          "output_type": "stream",
          "text": [
            "100\n"
          ],
          "name": "stdout"
        }
      ]
    },
    {
      "cell_type": "markdown",
      "metadata": {
        "id": "EnPGkyAjZCeX",
        "colab_type": "text"
      },
      "source": [
        "É importante entender que o relacionamento entre as duas acaba no momento da associação. \n",
        "\n",
        "Após isso, elas funcionam independentes uma da outra, portanto, alterações feitas em uma não afetam a outra."
      ]
    },
    {
      "cell_type": "code",
      "metadata": {
        "id": "Vcs6V2RJXYOy",
        "colab_type": "code",
        "colab": {
          "base_uri": "https://localhost:8080/",
          "height": 215
        },
        "outputId": "73c22be1-55f0-46b0-8dc9-3472206d812f"
      },
      "source": [
        "# criando as variáveis\n",
        "print('Criando as Variáveis')\n",
        "x = 10\n",
        "\n",
        "y = x\n",
        "# resultado\n",
        "print('x:', x)\n",
        "print('y:', y)\n",
        "\n",
        "\n",
        "print('\\nTransformação x = y + 10')\n",
        "x = y + 10\n",
        "# resultado\n",
        "print ('Novo x:', x)\n",
        "print ('y:', y)\n",
        "\n",
        "\n",
        "print('\\nTransformação y = y/2')\n",
        "y = y/2\n",
        "\n",
        "# resultado\n",
        "print('x:', x)\n",
        "print('Novo y:', y)"
      ],
      "execution_count": null,
      "outputs": [
        {
          "output_type": "stream",
          "text": [
            "Criando as Variáveis\n",
            "x: 10\n",
            "y: 10\n",
            "\n",
            "Transformação x = y + 10\n",
            "Novo x: 20\n",
            "y: 10\n",
            "\n",
            "Transformação y = y/2\n",
            "x: 20\n",
            "Novo y: 5.0\n"
          ],
          "name": "stdout"
        }
      ]
    },
    {
      "cell_type": "markdown",
      "metadata": {
        "id": "S-6iuoT3aPsx",
        "colab_type": "text"
      },
      "source": [
        "## Exercícios\n",
        "\n",
        "Agora, vamos testar nosso conhecimento sobre as variáveis.\n",
        "\n",
        "<center><img alt=\"Tipos\" width=\"40%\" src=\"https://image.freepik.com/free-photo/notebook-calculator-rubiks-cube-chalkboard_23-2147849672.jpg\"></center>"
      ]
    },
    {
      "cell_type": "markdown",
      "metadata": {
        "id": "lExb7DuqaaJK",
        "colab_type": "text"
      },
      "source": [
        "#### Exercício 1\n",
        "\n",
        "Crie uma variável do tipo `integer`, chamada x, e associe a ela sua idade."
      ]
    },
    {
      "cell_type": "code",
      "metadata": {
        "id": "IXoyJX5jZrKK",
        "colab_type": "code",
        "colab": {
          "base_uri": "https://localhost:8080/",
          "height": 34
        },
        "outputId": "74c372e1-7f54-433d-d391-414867dcfb20"
      },
      "source": [
        "# resposta\n",
        "\n",
        "x = 49\n",
        "x\n",
        "\n"
      ],
      "execution_count": null,
      "outputs": [
        {
          "output_type": "execute_result",
          "data": {
            "text/plain": [
              "49"
            ]
          },
          "metadata": {
            "tags": []
          },
          "execution_count": 1
        }
      ]
    },
    {
      "cell_type": "code",
      "metadata": {
        "id": "HqyCczwUahSH",
        "colab_type": "code",
        "cellView": "form",
        "colab": {}
      },
      "source": [
        "#@title Solução\n",
        "x = 36"
      ],
      "execution_count": null,
      "outputs": []
    },
    {
      "cell_type": "markdown",
      "metadata": {
        "id": "RpC7_U1MavAS",
        "colab_type": "text"
      },
      "source": [
        "#### Exercício 2\n",
        "\n",
        "Crie uma variável do tipo `float`, chamada y, e associe a ela o preço de uma barra de chocolate."
      ]
    },
    {
      "cell_type": "code",
      "metadata": {
        "id": "7w2Ldng8ar3p",
        "colab_type": "code",
        "colab": {}
      },
      "source": [
        "# resposta\n",
        "\n",
        "y = 3.50"
      ],
      "execution_count": null,
      "outputs": []
    },
    {
      "cell_type": "code",
      "metadata": {
        "id": "amyZdsTE_-YN",
        "colab_type": "code",
        "colab": {
          "base_uri": "https://localhost:8080/",
          "height": 34
        },
        "outputId": "5a301065-3646-4420-ec6a-39c35e840535"
      },
      "source": [
        "y"
      ],
      "execution_count": null,
      "outputs": [
        {
          "output_type": "execute_result",
          "data": {
            "text/plain": [
              "3.5"
            ]
          },
          "metadata": {
            "tags": []
          },
          "execution_count": 3
        }
      ]
    },
    {
      "cell_type": "code",
      "metadata": {
        "id": "3tk87CuPbJgu",
        "colab_type": "code",
        "cellView": "form",
        "colab": {}
      },
      "source": [
        "#@title Solução\n",
        "y = 2.99"
      ],
      "execution_count": null,
      "outputs": []
    },
    {
      "cell_type": "markdown",
      "metadata": {
        "id": "sNmW-QU5bPpc",
        "colab_type": "text"
      },
      "source": [
        "#### Exercício 3\n",
        "Crie uma variável do tipo `string`, chamada `nome` e associe a ela o seu nome."
      ]
    },
    {
      "cell_type": "code",
      "metadata": {
        "id": "qK_VecttbOVF",
        "colab_type": "code",
        "colab": {
          "base_uri": "https://localhost:8080/",
          "height": 35
        },
        "outputId": "1b6bddfb-0399-452f-ddcc-b8f34d15759b"
      },
      "source": [
        "# resposta\n",
        "nome =  (\"Márcia Alves\")\n",
        "nome"
      ],
      "execution_count": null,
      "outputs": [
        {
          "output_type": "execute_result",
          "data": {
            "application/vnd.google.colaboratory.intrinsic+json": {
              "type": "string"
            },
            "text/plain": [
              "'Márcia Alves'"
            ]
          },
          "metadata": {
            "tags": []
          },
          "execution_count": 5
        }
      ]
    },
    {
      "cell_type": "code",
      "metadata": {
        "id": "k95BQlXwbX2T",
        "colab_type": "code",
        "cellView": "form",
        "colab": {}
      },
      "source": [
        "#@title Solução\n",
        "nome = \"Sigmoidal \""
      ],
      "execution_count": null,
      "outputs": []
    },
    {
      "cell_type": "markdown",
      "metadata": {
        "id": "sUWYLpJIcInn",
        "colab_type": "text"
      },
      "source": [
        "#### Exercício 4\n",
        "\n",
        "Verifique o tipo das variáveis `x`, `y`, `nome`.\n",
        "\n",
        "Dica: A função print vai ajudar a fazer tudo em uma célula só."
      ]
    },
    {
      "cell_type": "code",
      "metadata": {
        "id": "_sEEXdzpbi5o",
        "colab_type": "code",
        "colab": {
          "base_uri": "https://localhost:8080/",
          "height": 68
        },
        "outputId": "07c52526-1e07-4801-d01b-8eb81a488336"
      },
      "source": [
        "# resultado\n",
        "\n",
        "print('x:', \"<Class int>\")\n",
        "print('y:', \"<Class float>\")\n",
        "print (\"nome:\", \"<Class str>\")\n",
        "\n"
      ],
      "execution_count": null,
      "outputs": [
        {
          "output_type": "stream",
          "text": [
            "x: <Class int>\n",
            "y: <Class float>\n",
            "nome: <Class str>\n"
          ],
          "name": "stdout"
        }
      ]
    },
    {
      "cell_type": "code",
      "metadata": {
        "id": "PWDlgK9Jcz5J",
        "colab_type": "code",
        "cellView": "form",
        "colab": {
          "base_uri": "https://localhost:8080/",
          "height": 68
        },
        "outputId": "202a078f-e69e-4d0c-e36c-02a93d2035f1"
      },
      "source": [
        "#@title Solução\n",
        "print('x:', type(x))\n",
        "print('y:', type(y))\n",
        "print('nome:', type(nome))"
      ],
      "execution_count": null,
      "outputs": [
        {
          "output_type": "stream",
          "text": [
            "x: <class 'int'>\n",
            "y: <class 'float'>\n",
            "nome: <class 'str'>\n"
          ],
          "name": "stdout"
        }
      ]
    },
    {
      "cell_type": "markdown",
      "metadata": {
        "id": "B6U739zPdHLN",
        "colab_type": "text"
      },
      "source": [
        "#### Exercício 5\n",
        "\n",
        "Crie uma variável que seja que calcule o ano em que você nasceu, utilizando operadores matemáticos e sua variável `x`."
      ]
    },
    {
      "cell_type": "code",
      "metadata": {
        "id": "Rt7ssCKGc754",
        "colab_type": "code",
        "colab": {
          "base_uri": "https://localhost:8080/",
          "height": 34
        },
        "outputId": "2f787b47-f71e-4ab9-898d-44f56ed1b87e"
      },
      "source": [
        "# resultado\n",
        "x =  2020 - 48\n",
        "x"
      ],
      "execution_count": null,
      "outputs": [
        {
          "output_type": "execute_result",
          "data": {
            "text/plain": [
              "1972"
            ]
          },
          "metadata": {
            "tags": []
          },
          "execution_count": 19
        }
      ]
    },
    {
      "cell_type": "code",
      "metadata": {
        "id": "2lG8xjrCdXyS",
        "colab_type": "code",
        "cellView": "form",
        "colab": {
          "base_uri": "https://localhost:8080/",
          "height": 34
        },
        "outputId": "32add70c-6c85-4400-dec2-29937a36b0a7"
      },
      "source": [
        "#@title Solução\n",
        "x = 2020 - x\n",
        "print(x)"
      ],
      "execution_count": null,
      "outputs": [
        {
          "output_type": "stream",
          "text": [
            "1972\n"
          ],
          "name": "stdout"
        }
      ]
    },
    {
      "cell_type": "markdown",
      "metadata": {
        "id": "cpjLvuX0do0e",
        "colab_type": "text"
      },
      "source": [
        "### Exercício 6\n",
        "\n",
        "Crie uma variável para o preço de 3 barras de chocolate, usando a variável `y`."
      ]
    },
    {
      "cell_type": "code",
      "metadata": {
        "id": "I2Qa6YsXdg-n",
        "colab_type": "code",
        "colab": {
          "base_uri": "https://localhost:8080/",
          "height": 34
        },
        "outputId": "d1a97c3f-f216-42ef-817b-7b70216af2bf"
      },
      "source": [
        "# resultado\n",
        "\n",
        "preco3 = y \n",
        "preco3\n"
      ],
      "execution_count": null,
      "outputs": [
        {
          "output_type": "execute_result",
          "data": {
            "text/plain": [
              "10.5"
            ]
          },
          "metadata": {
            "tags": []
          },
          "execution_count": 35
        }
      ]
    },
    {
      "cell_type": "code",
      "metadata": {
        "id": "ModGVCTydxRv",
        "colab_type": "code",
        "cellView": "form",
        "colab": {
          "base_uri": "https://localhost:8080/",
          "height": 34
        },
        "outputId": "4646c91e-9dfe-4123-b956-e7bbf911040f"
      },
      "source": [
        "#@title Solução\n",
        "y = y * 3\n",
        "print(y)"
      ],
      "execution_count": null,
      "outputs": [
        {
          "output_type": "stream",
          "text": [
            "10.5\n"
          ],
          "name": "stdout"
        }
      ]
    },
    {
      "cell_type": "markdown",
      "metadata": {
        "id": "aZs_vY3Cd4fK",
        "colab_type": "text"
      },
      "source": [
        "### Exercício 7\n",
        "Crie uma variável que contenha o seu nome 10 vezes, utilizando a variável `nome`."
      ]
    },
    {
      "cell_type": "code",
      "metadata": {
        "id": "q84wpuDzd1XL",
        "colab_type": "code",
        "colab": {
          "base_uri": "https://localhost:8080/",
          "height": 69
        },
        "outputId": "58c4ce93-27f4-4737-e3a3-da3e3802fad8"
      },
      "source": [
        "# resultado\n",
        "nome1 = ('marcia.marcia.marcia.marcia.marcia.marcia.marcia.marcia.marcia.marcia')\n",
        "print('nome1')\n",
        "print(nome1)\n",
        "nome1"
      ],
      "execution_count": null,
      "outputs": [
        {
          "output_type": "stream",
          "text": [
            "nome1\n",
            "marcia.marcia.marcia.marcia.marcia.marcia.marcia.marcia.marcia.marcia\n"
          ],
          "name": "stdout"
        },
        {
          "output_type": "execute_result",
          "data": {
            "application/vnd.google.colaboratory.intrinsic+json": {
              "type": "string"
            },
            "text/plain": [
              "'marcia.marcia.marcia.marcia.marcia.marcia.marcia.marcia.marcia.marcia'"
            ]
          },
          "metadata": {
            "tags": []
          },
          "execution_count": 11
        }
      ]
    },
    {
      "cell_type": "code",
      "metadata": {
        "id": "rIniv6jMeCrV",
        "colab_type": "code",
        "cellView": "form",
        "colab": {
          "base_uri": "https://localhost:8080/",
          "height": 34
        },
        "outputId": "3c31599a-0af0-46c3-8fa2-9d344104f09b"
      },
      "source": [
        "#@title Solução\n",
        "nome = 'Carlos'\n",
        "nome = nome * 10\n",
        "print(nome)"
      ],
      "execution_count": null,
      "outputs": [
        {
          "output_type": "stream",
          "text": [
            "CarlosCarlosCarlosCarlosCarlosCarlosCarlosCarlosCarlosCarlos\n"
          ],
          "name": "stdout"
        }
      ]
    },
    {
      "cell_type": "code",
      "metadata": {
        "id": "cEWTrH0yeGVa",
        "colab_type": "code",
        "colab": {}
      },
      "source": [
        ""
      ],
      "execution_count": null,
      "outputs": []
    }
  ]
}