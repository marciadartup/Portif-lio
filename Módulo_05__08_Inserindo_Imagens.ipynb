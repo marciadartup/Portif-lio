{
  "nbformat": 4,
  "nbformat_minor": 0,
  "metadata": {
    "colab": {
      "name": "Módulo 05_ 08 - Inserindo Imagens",
      "provenance": [],
      "collapsed_sections": [],
      "include_colab_link": true
    },
    "kernelspec": {
      "name": "python3",
      "display_name": "Python 3"
    }
  },
  "cells": [
    {
      "cell_type": "markdown",
      "metadata": {
        "id": "view-in-github",
        "colab_type": "text"
      },
      "source": [
        "<a href=\"https://colab.research.google.com/github/marciadartup/Portif-lio/blob/master/M%C3%B3dulo_05__08_Inserindo_Imagens.ipynb\" target=\"_parent\"><img src=\"https://colab.research.google.com/assets/colab-badge.svg\" alt=\"Open In Colab\"/></a>"
      ]
    },
    {
      "cell_type": "markdown",
      "metadata": {
        "id": "IdgqGG-NivCa"
      },
      "source": [
        "---\n",
        "\n",
        "# Inserindo Imagens\n",
        "Imagens são excelentes auxiliares no que tange o estilo e a visualização de arquivos. Desde uma simples logo, a elementos mais elaborados que podem compor a planilha, saber como inserir imagens em planilhas pode ser bastante útil.\n",
        "\n",
        "\n",
        "<center><img width=\"50%\" src=\"https://images.unsplash.com/photo-1533794318766-897f4d50cb39?ixlib=rb-1.2.1&ixid=eyJhcHBfaWQiOjEyMDd9&auto=format&fit=crop&w=750&q=80\"></center>\n",
        "\n",
        "Lembre-se sempre da atualização da lib, e do upload dos arquivos. Para esse caso específico, precisamos também da imagem, que nesse caso é o logo do Sigmoidal.\n",
        "\n",
        "Todos os arquivos necessários para essa aula podem ser baixados na página da aula."
      ]
    },
    {
      "cell_type": "code",
      "metadata": {
        "id": "Og5kIJNRfqMN"
      },
      "source": [
        "# atualizando a lib\n",
        "!pip install -U openpyxl -q"
      ],
      "execution_count": 59,
      "outputs": []
    },
    {
      "cell_type": "code",
      "metadata": {
        "id": "NTbsRSTpCsX8",
        "outputId": "46e9da0e-7ff8-4703-f9dc-20cdf862226a",
        "colab": {
          "base_uri": "https://localhost:8080/",
          "height": 34
        }
      },
      "source": [
        "# importando os pacotes necessários\n",
        "from google.colab import drive\n",
        "\n",
        "# montando o drive\n",
        "drive.mount('/content/gdrive')"
      ],
      "execution_count": 60,
      "outputs": [
        {
          "output_type": "stream",
          "text": [
            "Drive already mounted at /content/gdrive; to attempt to forcibly remount, call drive.mount(\"/content/gdrive\", force_remount=True).\n"
          ],
          "name": "stdout"
        }
      ]
    },
    {
      "cell_type": "code",
      "metadata": {
        "id": "QXeNOS19Huzb",
        "outputId": "0230576d-d118-4667-fc16-3a9d5816576d",
        "colab": {
          "base_uri": "https://localhost:8080/",
          "height": 34
        }
      },
      "source": [
        "\n",
        "# listando arquivos\n",
        "!ls 'gdrive/My Drive/'"
      ],
      "execution_count": 61,
      "outputs": [
        {
          "output_type": "stream",
          "text": [
            "ls: cannot access 'gdrive/My Drive/': No such file or directory\n"
          ],
          "name": "stdout"
        }
      ]
    },
    {
      "cell_type": "markdown",
      "metadata": {
        "id": "Tgu4HzIkka_5"
      },
      "source": [
        "## Carregando os Dados\n",
        "\n",
        "Mais uma vez, vamos carregar e trabalhar com a aba Vendas da nossa velha conhecida, a planilha de controle da empresa."
      ]
    },
    {
      "cell_type": "code",
      "metadata": {
        "id": "K2BwXOIfgJcA",
        "outputId": "763a1c0c-6fd0-41ef-844c-3fd0e0eae4c7",
        "colab": {
          "base_uri": "https://localhost:8080/",
          "height": 34
        }
      },
      "source": [
        "# carregando uma planilha\n",
        "from openpyxl import load_workbook\n",
        "from openpyxl.drawing.image import Image\n",
        "\n",
        "workbook = load_workbook(filename='/content/gdrive/My Drive/controle_da_empresa.xlsx')\n",
        "\n",
        "# verificando as abas\n",
        "workbook.sheetnames"
      ],
      "execution_count": 62,
      "outputs": [
        {
          "output_type": "execute_result",
          "data": {
            "text/plain": [
              "['Estoque', 'Vendas', 'Funcionários']"
            ]
          },
          "metadata": {
            "tags": []
          },
          "execution_count": 62
        }
      ]
    },
    {
      "cell_type": "code",
      "metadata": {
        "id": "q_7HxuzBguj5"
      },
      "source": [
        "# carregando uma aba específica\n",
        "sheet = workbook['Estoque']"
      ],
      "execution_count": 54,
      "outputs": []
    },
    {
      "cell_type": "markdown",
      "metadata": {
        "id": "RsBe2eUNjk_5"
      },
      "source": [
        "## Carregando a Imagem\n",
        "\n",
        "Aqui, utilizaremos o módulo `Image` que carregamos anteriormente para ler nossa imagem.\n",
        "\n",
        "Também vamos ajustar o tamanho da imagem, para que ela não ocupe espaço demais em nossa planilha.\n",
        "\n",
        "Você pode sempre ajustar a posição e tamanho dela para ficar de acordo com a necessidade da sua planilha."
      ]
    },
    {
      "cell_type": "code",
      "metadata": {
        "id": "luFRYqe5gxRO"
      },
      "source": [
        "# carregando a imagem\n",
        "logo = Image('/content/gdrive/My Drive/Dartup-Logo.png')\n",
        "\n",
        "# modificando a altura\n",
        "logo.height = 150\n",
        "# modificando a largura\n",
        "logo.width = 150\n"
      ],
      "execution_count": 63,
      "outputs": []
    },
    {
      "cell_type": "code",
      "metadata": {
        "id": "ZKM47mT0GqQe",
        "outputId": "75e0a5c8-3e25-45c3-ddc9-8c111a2e0abf",
        "colab": {
          "base_uri": "https://localhost:8080/",
          "height": 34
        }
      },
      "source": [
        "print(logo)"
      ],
      "execution_count": 64,
      "outputs": [
        {
          "output_type": "stream",
          "text": [
            "<openpyxl.drawing.image.Image object at 0x7fcd7ee8d860>\n"
          ],
          "name": "stdout"
        }
      ]
    },
    {
      "cell_type": "markdown",
      "metadata": {
        "id": "cyvc0GPBj4Tk"
      },
      "source": [
        "## Adicionando a Imagem\n",
        "Para adicionar a imagem, é simples: basta utilizar o método `add.image`, passando como parâmetro o caminho para a imagem, e a célula onde ela será alocada.\n",
        "\n",
        "Pense bem sobre a colocação da imagem, tendo como referência o canto superior esquerdo da imagem como ponto de início da mesma.\n",
        "\n",
        "Depois, basta salvar o arquivo da planilha e verificar as mudanças."
      ]
    },
    {
      "cell_type": "code",
      "metadata": {
        "id": "2TmPfoovhA8C"
      },
      "source": [
        "sheet.add_image(logo, 'D12')\n",
        "workbook.save(filename='Marcia.xlsx')"
      ],
      "execution_count": 65,
      "outputs": []
    },
    {
      "cell_type": "code",
      "metadata": {
        "id": "3UGZXojhiFkJ"
      },
      "source": [
        ""
      ],
      "execution_count": 10,
      "outputs": []
    }
  ]
}