{
  "nbformat": 4,
  "nbformat_minor": 0,
  "metadata": {
    "colab": {
      "name": "Manipulando Arquivos PDF",
      "provenance": [],
      "collapsed_sections": [],
      "toc_visible": true,
      "include_colab_link": true
    },
    "kernelspec": {
      "name": "python3",
      "display_name": "Python 3"
    }
  },
  "cells": [
    {
      "cell_type": "markdown",
      "metadata": {
        "id": "view-in-github",
        "colab_type": "text"
      },
      "source": [
        "<a href=\"https://colab.research.google.com/github/marciadartup/Portif-lio/blob/master/Manipulando_Arquivos_PDF.ipynb\" target=\"_parent\"><img src=\"https://colab.research.google.com/assets/colab-badge.svg\" alt=\"Open In Colab\"/></a>"
      ]
    },
    {
      "cell_type": "markdown",
      "metadata": {
        "id": "ZiW5N3JAtjIz",
        "colab_type": "text"
      },
      "source": [
        "\n",
        "## Biblioteca PDF Plumber\n",
        "\n",
        "Em nossa rotina de trabalho é muito comum termos que lidar com arquivos no formato PDF. Criamos, editamos, acessamos e compartilhamos arquivos nesse formato, que muitas vezes, fazem parte de nossas atividades primordiais na empresa.\n",
        "\n",
        "\n",
        "<center><img width=\"50%\" src=\"https://image.freepik.com/free-vector/group-people-working-together_52683-28615.jpg\"></center>\n",
        "\n",
        "Com essa biblioteca de Python, será possível facilitar esse processo. A biblioteca [PDF Plumber](https://github.com/jsvine/pdfplumber) possui uma grande gama de funções e argumentos, e aqui nós vamos começar a nos aventurar com essas funções.\n",
        "\n",
        "Para isso, vamos precisar fazer o download do pdf de apoio que foi disponibilizado como material complementar dessa aula. Você pode upar o arquivo diretamente na aba de arquivos à esquerda do seu navegador, e acessá-lo por lá.\n",
        "\n",
        "Entretanto, vamos fazer um processo mais robusto, e nos acostumar a montar e acessar nosso Google Drive, pois esse processo vai facilitar a nossa vida quando formos lidar com mais arquivos de uma vez.\n",
        "\n",
        "Outro detalhe importante é que, nativamente, o Google Colab não possui essa biblioteca instalada, então nós precisamos instalar a mesma no nosso ambiente.\n",
        "\n",
        "Para isso, vamos utilizar o gerenciador de pacotes `pip`, e com o comando `install` vamos instalar a biblioteca.\n",
        "\n"
      ]
    },
    {
      "cell_type": "code",
      "metadata": {
        "id": "F4_oeGhjt4y8",
        "colab_type": "code",
        "colab": {
          "base_uri": "https://localhost:8080/",
          "height": 394
        },
        "outputId": "82ec8254-801f-4b15-e6c7-0acdd6847e09"
      },
      "source": [
        "# instalando a biblioteca\n",
        "!pip install pdfplumber"
      ],
      "execution_count": 1,
      "outputs": [
        {
          "output_type": "stream",
          "text": [
            "Collecting pdfplumber\n",
            "  Downloading https://files.pythonhosted.org/packages/2c/06/eb883f00ea3d78a2f860c593645498c39120f763d30b099cc98c4392b312/pdfplumber-0.5.23.tar.gz\n",
            "Collecting pdfminer.six==20200517\n",
            "\u001b[?25l  Downloading https://files.pythonhosted.org/packages/b0/c0/ef1c8758bbd86edb10b5443700aac97d0ba27a9ca2e7696db8cd1fdbd5a8/pdfminer.six-20200517-py3-none-any.whl (5.6MB)\n",
            "\u001b[K     |████████████████████████████████| 5.6MB 4.0MB/s \n",
            "\u001b[?25hRequirement already satisfied: Pillow>=7.0.0 in /usr/local/lib/python3.6/dist-packages (from pdfplumber) (7.0.0)\n",
            "Collecting Wand\n",
            "\u001b[?25l  Downloading https://files.pythonhosted.org/packages/82/e4/d00cdc270cad06a2dd2d3095ffe0f6541d69104db504c4e94de805e3c6e0/Wand-0.6.2-py2.py3-none-any.whl (130kB)\n",
            "\u001b[K     |████████████████████████████████| 133kB 30.7MB/s \n",
            "\u001b[?25hRequirement already satisfied: chardet; python_version > \"3.0\" in /usr/local/lib/python3.6/dist-packages (from pdfminer.six==20200517->pdfplumber) (3.0.4)\n",
            "Collecting pycryptodome\n",
            "\u001b[?25l  Downloading https://files.pythonhosted.org/packages/17/55/17fa0b55849dc135f7bc400993a9206bf06d1b5d9520b0bc8d47c57aaef5/pycryptodome-3.9.8-cp36-cp36m-manylinux1_x86_64.whl (13.7MB)\n",
            "\u001b[K     |████████████████████████████████| 13.7MB 305kB/s \n",
            "\u001b[?25hRequirement already satisfied: sortedcontainers in /usr/local/lib/python3.6/dist-packages (from pdfminer.six==20200517->pdfplumber) (2.2.2)\n",
            "Building wheels for collected packages: pdfplumber\n",
            "  Building wheel for pdfplumber (setup.py) ... \u001b[?25l\u001b[?25hdone\n",
            "  Created wheel for pdfplumber: filename=pdfplumber-0.5.23-cp36-none-any.whl size=29176 sha256=180c74e6568636d6672fcb456ed2d46106fcc5b2980328d3f652f8601f5d574e\n",
            "  Stored in directory: /root/.cache/pip/wheels/f6/4d/ae/abb7b92fbed5d09a835c259f26d2a3223ea929a0ad6d322097\n",
            "Successfully built pdfplumber\n",
            "Installing collected packages: pycryptodome, pdfminer.six, Wand, pdfplumber\n",
            "Successfully installed Wand-0.6.2 pdfminer.six-20200517 pdfplumber-0.5.23 pycryptodome-3.9.8\n"
          ],
          "name": "stdout"
        }
      ]
    },
    {
      "cell_type": "markdown",
      "metadata": {
        "id": "7x-0TWdK2JYb",
        "colab_type": "text"
      },
      "source": [
        "Agora que a biblioteca foi instalada, basta fazer a importação, e usar.\n",
        "\n",
        "Para essa aula, precisaremos importar também a biblioteca `os` para manipular os arquivos, e o `drive` para montar e acessar nosso Google Drive."
      ]
    },
    {
      "cell_type": "code",
      "metadata": {
        "id": "DewqL6GNtUqa",
        "colab_type": "code",
        "colab": {}
      },
      "source": [
        "# importando os pacotes necessários\n",
        "import pdfplumber\n",
        "import os\n",
        "from google.colab import drive"
      ],
      "execution_count": 22,
      "outputs": []
    },
    {
      "cell_type": "markdown",
      "metadata": {
        "id": "qlKWfvfa2Ytr",
        "colab_type": "text"
      },
      "source": [
        "Pronto! Agora é só montar nosso drive e buscar os arquivos."
      ]
    },
    {
      "cell_type": "code",
      "metadata": {
        "id": "SSvr3THEuDSW",
        "colab_type": "code",
        "colab": {
          "base_uri": "https://localhost:8080/",
          "height": 54
        },
        "outputId": "ce501085-37d9-4ecb-8c50-b101bea9ff7f"
      },
      "source": [
        "# montando o drive\n",
        "drive.mount('/content/gdrive')"
      ],
      "execution_count": 23,
      "outputs": [
        {
          "output_type": "stream",
          "text": [
            "Drive already mounted at /content/gdrive; to attempt to forcibly remount, call drive.mount(\"/content/gdrive\", force_remount=True).\n"
          ],
          "name": "stdout"
        }
      ]
    },
    {
      "cell_type": "markdown",
      "metadata": {
        "id": "hUIKa2iH2fvd",
        "colab_type": "text"
      },
      "source": [
        "Verificando o conteúdo do nosso drive, podemos ver que o arquivo `modelo_de_relatorio.pdf` está lá, pronto para ser usado.\n",
        "\n",
        "Vamos carregá-lo e ver como essa biblioteca funciona na prática."
      ]
    },
    {
      "cell_type": "code",
      "metadata": {
        "id": "004L1AYOuSgT",
        "colab_type": "code",
        "colab": {
          "base_uri": "https://localhost:8080/",
          "height": 51
        },
        "outputId": "eff526f5-12ca-4451-ceee-80b5a11bd9f3"
      },
      "source": [
        "# verificando o conteúdo do drive\n",
        "!ls '/content/gdrive/My Drive'"
      ],
      "execution_count": 24,
      "outputs": [
        {
          "output_type": "stream",
          "text": [
            "'Arquivos Colab'      'Colab Notebooks'     lista_de_clientes.txt\n",
            "'Arquivos Colab (1)'   dartup_estoque.pdf   modelo_de_relatorio.pdf\n"
          ],
          "name": "stdout"
        }
      ]
    },
    {
      "cell_type": "markdown",
      "metadata": {
        "id": "7IO7R0kl3Gva",
        "colab_type": "text"
      },
      "source": [
        "### pdfplumber.open()\n",
        "\n",
        "Para abrir um arquivo, vamos associá-lo a uma variável, para que ele possa ser facilmente acessado depois.\n",
        "\n",
        "Utilizamos o comando `pdfplumber.open('caminho/do/meu/arquivo')` com o caminho do arquivo dentro dos parênteses, dentro de aspas, simples ou duplas."
      ]
    },
    {
      "cell_type": "code",
      "metadata": {
        "id": "hdp90dsGucY6",
        "colab_type": "code",
        "colab": {}
      },
      "source": [
        "# abrindo o documento\n",
        "pdf = pdfplumber.open('/content/gdrive/My Drive/dartup_estoque.pdf')"
      ],
      "execution_count": 25,
      "outputs": []
    },
    {
      "cell_type": "markdown",
      "metadata": {
        "id": "XFKTVq6l4Fc5",
        "colab_type": "text"
      },
      "source": [
        "### pages\n",
        "Para acessar as páginas existentes no arquivo, utilizamos a função `pages`.\n",
        "\n",
        "Ela retorna uma lista com as páginas do arquivo."
      ]
    },
    {
      "cell_type": "code",
      "metadata": {
        "id": "gqZKbdiqusij",
        "colab_type": "code",
        "colab": {
          "base_uri": "https://localhost:8080/",
          "height": 34
        },
        "outputId": "4381e424-0a85-40f0-b1e5-5ec44b4441ae"
      },
      "source": [
        "# ver o número de páginas do pdf:\n",
        "pdf.pages"
      ],
      "execution_count": 26,
      "outputs": [
        {
          "output_type": "execute_result",
          "data": {
            "text/plain": [
              "[<Page:1>, <Page:2>, <Page:3>, <Page:4>]"
            ]
          },
          "metadata": {
            "tags": []
          },
          "execution_count": 26
        }
      ]
    },
    {
      "cell_type": "markdown",
      "metadata": {
        "id": "djmfxiee4R72",
        "colab_type": "text"
      },
      "source": [
        "Ao fazer qualquer manipulação, precisamos sempre identificar a página em que isso está acontecendo, mesmo que o documento possua apenas uma página.\n",
        "\n",
        "Para isso, utilizaremos a função `pages`, passando como argumento o número da página que desejamos manipular, lembrando sempre que começamos a contar a partir do 0."
      ]
    },
    {
      "cell_type": "code",
      "metadata": {
        "id": "5XJYSrMNuw5r",
        "colab_type": "code",
        "colab": {
          "base_uri": "https://localhost:8080/",
          "height": 34
        },
        "outputId": "a004700f-12b8-4c0a-ad77-a6c707a39b9b"
      },
      "source": [
        "# selecionando uma página\n",
        "page = pdf.pages[0]\n",
        "page"
      ],
      "execution_count": 27,
      "outputs": [
        {
          "output_type": "execute_result",
          "data": {
            "text/plain": [
              "<Page:1>"
            ]
          },
          "metadata": {
            "tags": []
          },
          "execution_count": 27
        }
      ]
    },
    {
      "cell_type": "markdown",
      "metadata": {
        "id": "RABL6kKm45HV",
        "colab_type": "text"
      },
      "source": [
        "### metadata\n",
        "Metadados, de forma simples, são dados sobre outros dados. No nosso caso, são dados sobre o nosso arquivo, como o autor, data de criação, palavras chaves, título, etc.\n",
        "\n",
        "É possível extrair esses dados sobre nossos arquivos com facilidade usando a função `metadata` do pdfplumber."
      ]
    },
    {
      "cell_type": "code",
      "metadata": {
        "id": "ItMVvZ6ovhfZ",
        "colab_type": "code",
        "colab": {
          "base_uri": "https://localhost:8080/",
          "height": 105
        },
        "outputId": "d87d4b5f-5bec-4f9f-a8bb-1b91d06cbc54"
      },
      "source": [
        "# coletando os metadados do arquivo\n",
        "pdf.metadata"
      ],
      "execution_count": 28,
      "outputs": [
        {
          "output_type": "execute_result",
          "data": {
            "text/plain": [
              "{'CreationDate': \"D:20200906122751+00'00'\",\n",
              " 'Creator': 'Mozilla/5.0 (Windows NT 6.1; Win64; x64) AppleWebKit/537.36 (KHTML, like Gecko) Chrome/85.0.4183.83 Safari/537.36',\n",
              " 'ModDate': \"D:20200906122751+00'00'\",\n",
              " 'Producer': 'Skia/PDF m85'}"
            ]
          },
          "metadata": {
            "tags": []
          },
          "execution_count": 28
        }
      ]
    },
    {
      "cell_type": "markdown",
      "metadata": {
        "id": "oNOiwASS509V",
        "colab_type": "text"
      },
      "source": [
        "### extract_text()\n",
        "\n",
        "No fim das contas, estamos interessados mesmo é no conteúdo do nosso arquivo, e isso também pode ser facilmente extraído utilizando o pdfplumber, através da função `extract_text()` que funciona no nível da página.\n",
        "\n",
        "Aqui, precisamos ter extraído a página que iremos trabalhar, e vamos associar a uma variável o resultado da execução da função `extract_text()` sobre a página. Depois, é só imprimir."
      ]
    },
    {
      "cell_type": "code",
      "metadata": {
        "id": "qPbRqtZ7u7R5",
        "colab_type": "code",
        "colab": {
          "base_uri": "https://localhost:8080/",
          "height": 204
        },
        "outputId": "43fe9c77-1395-42c7-859a-9f355227a61d"
      },
      "source": [
        "# extraindo o texto do arquivo\n",
        "text = page.extract_text()\n",
        "print(text)"
      ],
      "execution_count": 29,
      "outputs": [
        {
          "output_type": "stream",
          "text": [
            "Desmisti\u0000cando a Gestão de Estoque\n",
            "Por hostnet / 2 minutos de leitura\n",
            "A Gestão de Estoque é uma das diversas áreas inclusas na Ges\n",
            "Gestor ou empreendedor, você está buscando\n",
            "soluções para auxiliar a e\u0000ciência do\n",
            "gerenciamento de estoque?\n",
            "Será que é possível controlar, nesta época de crise\n",
            "\n",
            "em que vivemos, o estoque de uma empresa em\n",
            "\n",
            "uma planilha ou anotando em blocos?  Hoje\n"
          ],
          "name": "stdout"
        }
      ]
    },
    {
      "cell_type": "code",
      "metadata": {
        "id": "oSxpc0wLxXP1",
        "colab_type": "code",
        "colab": {
          "base_uri": "https://localhost:8080/",
          "height": 86
        },
        "outputId": "a6d68b8c-0a1a-4987-ac29-5a14fbfea2bf"
      },
      "source": [
        "page.extract_text()"
      ],
      "execution_count": 30,
      "outputs": [
        {
          "output_type": "execute_result",
          "data": {
            "application/vnd.google.colaboratory.intrinsic+json": {
              "type": "string"
            },
            "text/plain": [
              "'Desmisti\\x00cando a Gestão de Estoque\\nPor hostnet / 2 minutos de leitura\\nA Gestão de Estoque é uma das diversas áreas inclusas na Ges\\nGestor ou empreendedor, você está buscando\\nsoluções para auxiliar a e\\x00ciência do\\ngerenciamento de estoque?\\nSerá que é possível controlar, nesta época de crise\\n\\ue900\\nem que vivemos, o estoque de uma empresa em\\n\\ue900\\numa planilha ou anotando em blocos? \\xa0Hoje'"
            ]
          },
          "metadata": {
            "tags": []
          },
          "execution_count": 30
        }
      ]
    },
    {
      "cell_type": "code",
      "metadata": {
        "id": "R9r5pdRl5ROK",
        "colab_type": "code",
        "colab": {}
      },
      "source": [
        ""
      ],
      "execution_count": 30,
      "outputs": []
    }
  ]
}