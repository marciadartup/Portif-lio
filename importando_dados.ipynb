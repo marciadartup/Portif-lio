{
  "nbformat": 4,
  "nbformat_minor": 0,
  "metadata": {
    "colab": {
      "name": "importando dados.ipynb",
      "provenance": [],
      "authorship_tag": "ABX9TyPe/SYfEBwvWV6Zzq0DI+Iq",
      "include_colab_link": true
    },
    "kernelspec": {
      "name": "python3",
      "display_name": "Python 3"
    }
  },
  "cells": [
    {
      "cell_type": "markdown",
      "metadata": {
        "id": "view-in-github",
        "colab_type": "text"
      },
      "source": [
        "<a href=\"https://colab.research.google.com/github/marciadartup/Portif-lio/blob/master/importando_dados.ipynb\" target=\"_parent\"><img src=\"https://colab.research.google.com/assets/colab-badge.svg\" alt=\"Open In Colab\"/></a>"
      ]
    },
    {
      "cell_type": "code",
      "metadata": {
        "id": "K16NjVtz7mS1",
        "colab_type": "code",
        "colab": {
          "base_uri": "https://localhost:8080/",
          "height": 204
        },
        "outputId": "9bf2e813-592f-4f59-ae84-015418be939f"
      },
      "source": [
        "! wget https://dumps.wikimedia.org/enwiki/latest/enwiki-latest-pages-articles-multistream-index.txt.bz2\n"
      ],
      "execution_count": 1,
      "outputs": [
        {
          "output_type": "stream",
          "text": [
            "--2020-09-01 23:09:57--  https://dumps.wikimedia.org/enwiki/latest/enwiki-latest-pages-articles-multistream-index.txt.bz2\n",
            "Resolving dumps.wikimedia.org (dumps.wikimedia.org)... 208.80.154.7, 2620:0:861:1:208:80:154:7\n",
            "Connecting to dumps.wikimedia.org (dumps.wikimedia.org)|208.80.154.7|:443... connected.\n",
            "HTTP request sent, awaiting response... 200 OK\n",
            "Length: 225107728 (215M) [application/octet-stream]\n",
            "Saving to: ‘enwiki-latest-pages-articles-multistream-index.txt.bz2’\n",
            "\n",
            "enwiki-latest-pages 100%[===================>] 214.68M  4.62MB/s    in 64s     \n",
            "\n",
            "2020-09-01 23:11:02 (3.37 MB/s) - ‘enwiki-latest-pages-articles-multistream-index.txt.bz2’ saved [225107728/225107728]\n",
            "\n"
          ],
          "name": "stdout"
        }
      ]
    }
  ]
}