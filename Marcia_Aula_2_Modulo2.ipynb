{
  "nbformat": 4,
  "nbformat_minor": 0,
  "metadata": {
    "colab": {
      "name": "Marcia_Aula 2 Modulo2.ipynb",
      "provenance": [],
      "toc_visible": true,
      "authorship_tag": "ABX9TyO4za7TmF531KS0gM2INur0",
      "include_colab_link": true
    },
    "kernelspec": {
      "name": "python3",
      "display_name": "Python 3"
    }
  },
  "cells": [
    {
      "cell_type": "markdown",
      "metadata": {
        "id": "view-in-github",
        "colab_type": "text"
      },
      "source": [
        "<a href=\"https://colab.research.google.com/github/marciadartup/Portif-lio/blob/master/Marcia_Aula_2_Modulo2.ipynb\" target=\"_parent\"><img src=\"https://colab.research.google.com/assets/colab-badge.svg\" alt=\"Open In Colab\"/></a>"
      ]
    },
    {
      "cell_type": "markdown",
      "metadata": {
        "id": "BY1iJjrvlwxt",
        "colab_type": "text"
      },
      "source": [
        "<img alt=\"Colaboratory logo\" width=\"15%\" src=\"https://github.com/marciadartup/dartup/blob/master/Navicon.png\">\n",
        "\n",
        "---\n",
        "\n",
        "## Google Drive e Google Colab\n",
        "\n",
        "Estar dentro do ecossistema do Google tem suas vantagens. Além de estarmos utilizando um ambiente altamente interativo, prático, robusto e fácil de usar, também temos integração facilitada com outros produtos Google, como o Google Drive, por exemplo.\n",
        "\n",
        "\n",
        "<center><img width=\"20%\" src=\"https://upload.wikimedia.org/wikipedia/commons/thumb/5/53/Google_%22G%22_Logo.svg/1004px-Google_%22G%22_Logo.svg.png\"></center>\n",
        "\n",
        "Além disso, o Colab ainda pode nos ajudar com alguns exemplos de códigos e outros snippets que podem nos salvar muito tempo."
      ]
    },
    {
      "cell_type": "markdown",
      "metadata": {
        "id": "xxT-RPDnpYZv",
        "colab_type": "text"
      },
      "source": [
        ""
      ]
    },
    {
      "cell_type": "markdown",
      "metadata": {
        "id": "VrcOZaG7pemn",
        "colab_type": "text"
      },
      "source": [
        "## Acessando o Google Drive a partir do Colab\n",
        "\n",
        "O Google Drive é o sistema de armazenamento em nuvem do Google, e pode ser um grande facilitador do nosso trabalho no que tange acessibilidade aos arquivos que vamos trabalhar.\n",
        "\n",
        "Usando o pacote `drive` da biblioteca `google.colab` conseguimos interagir com nosso drive de forma prática e simples. Tudo que precisamos fazer é montar o drive com o comando abaixo.\n",
        "\n",
        "Após rodar a célula, abrirá uma nova janela, pedindo autorização para acessar a conta e manipular os arquivos contidos nela. Após liberar o acesso, copie o código gerado e insira-o abaixo."
      ]
    },
    {
      "cell_type": "code",
      "metadata": {
        "id": "xcOE7aTWtBsc",
        "colab_type": "code",
        "colab": {}
      },
      "source": [
        ""
      ],
      "execution_count": null,
      "outputs": []
    },
    {
      "cell_type": "code",
      "metadata": {
        "id": "4geNsOJwgBAe",
        "colab_type": "code",
        "colab": {
          "base_uri": "https://localhost:8080/",
          "height": 54
        },
        "outputId": "516d1fe9-6aef-4853-f60f-14aacf9d2df7"
      },
      "source": [
        "# importando os pacotes necessários\n",
        "from google.colab import drive\n",
        "\n",
        "# montando o drive\n",
        "drive.mount('/content/gdrive')"
      ],
      "execution_count": 2,
      "outputs": [
        {
          "output_type": "stream",
          "text": [
            "Drive already mounted at /content/gdrive; to attempt to forcibly remount, call drive.mount(\"/content/gdrive\", force_remount=True).\n"
          ],
          "name": "stdout"
        }
      ]
    },
    {
      "cell_type": "markdown",
      "metadata": {
        "id": "Em3RlXZ7rUcp",
        "colab_type": "text"
      },
      "source": [
        "Pronto! Seu drive foi montado e está disponível para ser acessado. Você pode visualizá-lo na aba arquivos na lateral esquerda do navegador.\n",
        "\n",
        "É possível usar a função `!ls` para listar os arquivos disponíveis dentro do nosso drive.v"
      ]
    },
    {
      "cell_type": "code",
      "metadata": {
        "id": "Xzcbq8KltNSE",
        "colab_type": "code",
        "colab": {
          "base_uri": "https://localhost:8080/",
          "height": 34
        },
        "outputId": "31c9879e-dd5a-4cb5-e820-2a7e844585e9"
      },
      "source": [
        "# listando arquivos\n",
        "!ls 'gdrive/My Drive/Arquivos Colab'"
      ],
      "execution_count": 8,
      "outputs": [
        {
          "output_type": "stream",
          "text": [
            "'VENDAS_Agosto 342688.xlsx'\n"
          ],
          "name": "stdout"
        }
      ]
    },
    {
      "cell_type": "code",
      "metadata": {
        "id": "33IKgCEhtjXO",
        "colab_type": "code",
        "colab": {
          "base_uri": "https://localhost:8080/",
          "height": 51
        },
        "outputId": "96b64841-c419-4f49-d5bb-140ee77dae8d"
      },
      "source": [
        "# lendo o arquivo vendas-Agosto\n",
        "with open('/content/gdrive/My Drive/Arquivos Colab/teste.txt', 'r') as clientes:\n",
        "  print(clientes.read())"
      ],
      "execution_count": 13,
      "outputs": [
        {
          "output_type": "stream",
          "text": [
            "MARCIA ALVES\n",
            "CURSO SIGMOIDAL\n"
          ],
          "name": "stdout"
        }
      ]
    },
    {
      "cell_type": "markdown",
      "metadata": {
        "id": "VOHZTPhmzxZL",
        "colab_type": "text"
      },
      "source": [
        ""
      ]
    },
    {
      "cell_type": "markdown",
      "metadata": {
        "id": "k2sPPGb6jlKc",
        "colab_type": "text"
      },
      "source": [
        "## Snippets do Colab\n",
        "\n",
        "Além de todas as vantagens, e funcionalidades do Google Colab que já vimos, existe uma outra que também pode ser bastante útil em aplicações futuras, e demonstram o poder dessa plataforma.\n",
        "\n",
        "Usando **Snippets** pré-criados e disponibilizados aqui dentro, podemos ganhar tempo e performance em nossos projetos.\n",
        "\n",
        "Para acessar os snippets, clique na aba `insert`, no canto superior esquerdo do navegador, e depois clique em `Code Snippets`.\n",
        "\n",
        "À esquerda, será aberta uma aba com várias opções de snippets para serem inseridos em nosso código.\n",
        "\n",
        "Abaixo, veremos alguns exemplos e aplicações."
      ]
    },
    {
      "cell_type": "code",
      "metadata": {
        "id": "D1RYimV2qOVZ",
        "colab_type": "code",
        "colab": {}
      },
      "source": [
        "from IPython.display import display, Javascript\n",
        "from google.colab.output import eval_js\n",
        "from base64 import b64decode\n",
        "\n",
        "def take_photo(filename='photo.jpg', quality=0.8):\n",
        "  js = Javascript('''\n",
        "    async function takePhoto(quality) {\n",
        "      const div = document.createElement('div');\n",
        "      const capture = document.createElement('button');\n",
        "      capture.textContent = 'Capture';\n",
        "      div.appendChild(capture);\n",
        "\n",
        "      const video = document.createElement('video');\n",
        "      video.style.display = 'block';\n",
        "      const stream = await navigator.mediaDevices.getUserMedia({video: true});\n",
        "\n",
        "      document.body.appendChild(div);\n",
        "      div.appendChild(video);\n",
        "      video.srcObject = stream;\n",
        "      await video.play();\n",
        "\n",
        "      // Resize the output to fit the video element.\n",
        "      google.colab.output.setIframeHeight(document.documentElement.scrollHeight, true);\n",
        "\n",
        "      // Wait for Capture to be clicked.\n",
        "      await new Promise((resolve) => capture.onclick = resolve);\n",
        "\n",
        "      const canvas = document.createElement('canvas');\n",
        "      canvas.width = video.videoWidth;\n",
        "      canvas.height = video.videoHeight;\n",
        "      canvas.getContext('2d').drawImage(video, 0, 0);\n",
        "      stream.getVideoTracks()[0].stop();\n",
        "      div.remove();\n",
        "      return canvas.toDataURL('image/jpeg', quality);\n",
        "    }\n",
        "    ''')\n",
        "  display(js)\n",
        "  data = eval_js('takePhoto({})'.format(quality))\n",
        "  binary = b64decode(data.split(',')[1])\n",
        "  with open(filename, 'wb') as f:\n",
        "    f.write(binary)\n",
        "  return filename"
      ],
      "execution_count": 4,
      "outputs": []
    },
    {
      "cell_type": "markdown",
      "metadata": {
        "id": "PNtr4nQf0GPR",
        "colab_type": "text"
      },
      "source": [
        "### Webcam\n",
        "\n",
        "É possível acessar e tirar fotos de sua webcam com algumas linhas de código, inseridas automaticamente pelo Google Colab."
      ]
    },
    {
      "cell_type": "code",
      "metadata": {
        "id": "7QUNBQFmrRQx",
        "colab_type": "code",
        "colab": {
          "base_uri": "https://localhost:8080/",
          "height": 518
        },
        "outputId": "d80bc0af-4a55-4eb8-ab35-a91cc5398e5b"
      },
      "source": [
        "from IPython.display import display, Javascript\n",
        "from google.colab.output import eval_js\n",
        "from base64 import b64decode\n",
        "\n",
        "def take_photo(filename='photo.jpg', quality=0.8):\n",
        "  js = Javascript('''\n",
        "    async function takePhoto(quality) {\n",
        "      const div = document.createElement('div');\n",
        "      const capture = document.createElement('button');\n",
        "      capture.textContent = 'Capture';\n",
        "      div.appendChild(capture);\n",
        "\n",
        "      const video = document.createElement('video');\n",
        "      video.style.display = 'block';\n",
        "      const stream = await navigator.mediaDevices.getUserMedia({video: true});\n",
        "\n",
        "      document.body.appendChild(div);\n",
        "      div.appendChild(video);\n",
        "      video.srcObject = stream;\n",
        "      await video.play();\n",
        "\n",
        "      // Resize the output to fit the video element.\n",
        "      google.colab.output.setIframeHeight(document.documentElement.scrollHeight, true);\n",
        "\n",
        "      // Wait for Capture to be clicked.\n",
        "      await new Promise((resolve) => capture.onclick = resolve);\n",
        "\n",
        "      const canvas = document.createElement('canvas');\n",
        "      canvas.width = video.videoWidth;\n",
        "      canvas.height = video.videoHeight;\n",
        "      canvas.getContext('2d').drawImage(video, 0, 0);\n",
        "      stream.getVideoTracks()[0].stop();\n",
        "      div.remove();\n",
        "      return canvas.toDataURL('image/jpeg', quality);\n",
        "    }\n",
        "    ''')\n",
        "  display(js)\n",
        "  data = eval_js('takePhoto({})'.format(quality))\n",
        "  binary = b64decode(data.split(',')[1])\n",
        "  with open(filename, 'wb') as f:\n",
        "    f.write(binary)\n",
        "  return filename\n",
        "\n",
        "from IPython.display import Image\n",
        "try:\n",
        "  filename = take_photo()\n",
        "  print('Saved to {}'.format(filename))\n",
        "  \n",
        "  # Show the image which was just taken.\n",
        "  display(Image(filename))\n",
        "except Exception as err:\n",
        "  # Errors will be thrown if the user does not have a webcam or if they do not\n",
        "  # grant the page permission to access it.\n",
        "  print(str(err))"
      ],
      "execution_count": null,
      "outputs": [
        {
          "output_type": "display_data",
          "data": {
            "application/javascript": [
              "\n",
              "    async function takePhoto(quality) {\n",
              "      const div = document.createElement('div');\n",
              "      const capture = document.createElement('button');\n",
              "      capture.textContent = 'Capture';\n",
              "      div.appendChild(capture);\n",
              "\n",
              "      const video = document.createElement('video');\n",
              "      video.style.display = 'block';\n",
              "      const stream = await navigator.mediaDevices.getUserMedia({video: true});\n",
              "\n",
              "      document.body.appendChild(div);\n",
              "      div.appendChild(video);\n",
              "      video.srcObject = stream;\n",
              "      await video.play();\n",
              "\n",
              "      // Resize the output to fit the video element.\n",
              "      google.colab.output.setIframeHeight(document.documentElement.scrollHeight, true);\n",
              "\n",
              "      // Wait for Capture to be clicked.\n",
              "      await new Promise((resolve) => capture.onclick = resolve);\n",
              "\n",
              "      const canvas = document.createElement('canvas');\n",
              "      canvas.width = video.videoWidth;\n",
              "      canvas.height = video.videoHeight;\n",
              "      canvas.getContext('2d').drawImage(video, 0, 0);\n",
              "      stream.getVideoTracks()[0].stop();\n",
              "      div.remove();\n",
              "      return canvas.toDataURL('image/jpeg', quality);\n",
              "    }\n",
              "    "
            ],
            "text/plain": [
              "<IPython.core.display.Javascript object>"
            ]
          },
          "metadata": {
            "tags": []
          }
        }
      ]
    },
    {
      "cell_type": "code",
      "metadata": {
        "id": "WCoh-Tzh1nyJ",
        "colab_type": "code",
        "colab": {}
      },
      "source": [
        "Saved to photo.jpg"
      ],
      "execution_count": null,
      "outputs": []
    },
    {
      "cell_type": "code",
      "metadata": {
        "id": "z5I8wKrokck3",
        "colab_type": "code",
        "colab": {}
      },
      "source": [
        "#@title Formulário Python na Prática\n",
        "#@markdown Formulários suportam muitos tipos de dados.\n",
        "\n",
        "Sem tipo específico = ''  #@param\n",
        "Nome (String) = 'example'  #@param {type: \"string\"}\n",
        "Idade (Slider de Valores) = 31  #@param {type: \"slider\", min: 18, max: 100}\n",
        "Número (Integer) = 102  #@param {type: \"number\"}\n",
        "Data = '2010-11-02'  #@param {type: \"date\"}\n",
        "Drop Down = \"wednesday\"  #@param ['monday', 'tuesday', 'wednesday', 'thursday']\n",
        "Selecione ou Acrescente = \"apples\" #@param [\"apples\", \"bananas\", \"oranges\"] {allow-input: true}\n",
        "#@markdown ---\n"
      ],
      "execution_count": null,
      "outputs": []
    }
  ]
}