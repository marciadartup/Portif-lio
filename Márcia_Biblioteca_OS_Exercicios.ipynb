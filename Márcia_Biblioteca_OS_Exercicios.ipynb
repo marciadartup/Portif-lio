{
  "nbformat": 4,
  "nbformat_minor": 0,
  "metadata": {
    "colab": {
      "name": "Márcia_Biblioteca OS_Exercicios.ipynb",
      "provenance": [],
      "collapsed_sections": [],
      "authorship_tag": "ABX9TyMXX9L9HELmmW70psGINZsU",
      "include_colab_link": true
    },
    "kernelspec": {
      "name": "python3",
      "display_name": "Python 3"
    }
  },
  "cells": [
    {
      "cell_type": "markdown",
      "metadata": {
        "id": "view-in-github",
        "colab_type": "text"
      },
      "source": [
        "<a href=\"https://colab.research.google.com/github/marciadartup/Portif-lio/blob/master/M%C3%A1rcia_Biblioteca_OS_Exercicios.ipynb\" target=\"_parent\"><img src=\"https://colab.research.google.com/assets/colab-badge.svg\" alt=\"Open In Colab\"/></a>"
      ]
    },
    {
      "cell_type": "markdown",
      "metadata": {
        "id": "4UAfC9FKx0U9",
        "colab_type": "text"
      },
      "source": [
        "Biblioteca OS\n",
        "A biblioteca OS nos dá a possibilidade de interagir com o Sistema Operacional através do Python. Com ela, podemos acessar, modificar, mover, apagar aquivos, entre muitas outras funçoes. **negrito**"
      ]
    },
    {
      "cell_type": "code",
      "metadata": {
        "id": "ZMrWBQmxxtzN",
        "colab_type": "code",
        "colab": {}
      },
      "source": [
        "# importando a biblioteca\n",
        "import os"
      ],
      "execution_count": 1,
      "outputs": []
    },
    {
      "cell_type": "markdown",
      "metadata": {
        "id": "PoNi-pLZyBdB",
        "colab_type": "text"
      },
      "source": [
        "getcwd()\n",
        "Antes de começarmos a explorar os diretórios e arquivos, é importante sabermos onde estamos. Pra isso, usaremos o getcwd. Em traduçao livre, o comando Get Current Directory significa \"pegar o diretório atual\".\n",
        "\n",
        "Como estamos no ambiente do colab, ele vai nos apresentar /content. Você pode ver os arquivos que estão lá ao clicar no ícone de pasta à esquerda do seu navegador aqui no colab. **negrito**"
      ]
    },
    {
      "cell_type": "code",
      "metadata": {
        "id": "WaX_glXlyF17",
        "colab_type": "code",
        "colab": {
          "base_uri": "https://localhost:8080/",
          "height": 35
        },
        "outputId": "d1a12743-680c-4eca-8dc6-d583e6cac744"
      },
      "source": [
        "# verificar o diretório atual\n",
        "os.getcwd() "
      ],
      "execution_count": 2,
      "outputs": [
        {
          "output_type": "execute_result",
          "data": {
            "application/vnd.google.colaboratory.intrinsic+json": {
              "type": "string"
            },
            "text/plain": [
              "'/content'"
            ]
          },
          "metadata": {
            "tags": []
          },
          "execution_count": 2
        }
      ]
    },
    {
      "cell_type": "markdown",
      "metadata": {
        "id": "KFrydABCyNMg",
        "colab_type": "text"
      },
      "source": [
        "chdir()\n",
        "Saber mudar de pasta é importante. Imagine que todos os seus arquivos já estão localizados dentro de um único diretório. Não faz sentido digitar o endereço completo toda hora.\n",
        "\n",
        "Isso sem falar no risco de você alterar arquivos em diretórios errados, por engano. **negrito**"
      ]
    },
    {
      "cell_type": "code",
      "metadata": {
        "id": "ur3EZunAyPlx",
        "colab_type": "code",
        "colab": {}
      },
      "source": [
        "# mudar de diretório\n",
        "os.chdir(\"/content/sample_data\")"
      ],
      "execution_count": 3,
      "outputs": []
    },
    {
      "cell_type": "markdown",
      "metadata": {
        "id": "baLwF0CwyYSJ",
        "colab_type": "text"
      },
      "source": [
        "listdir()\n",
        "Outra função interessante é listar o conteúdo dentro do diretório atual. Para isso utilizaremos o listdir.\n",
        "\n",
        "Aqui, mais uma vez, o resultado seria diferente em uma máquina local, a depender de onde você iniciou o Jupyter Notebook. No Colab, a referência continua sendo o ícone clicado anteriormente.\n",
        "\n",
        "A pasta com ícone de seta para cima se refere ao .config, e a outra pasta, é o sample_data. **negrito**"
      ]
    },
    {
      "cell_type": "code",
      "metadata": {
        "id": "mFCBiMlTybmy",
        "colab_type": "code",
        "colab": {
          "base_uri": "https://localhost:8080/",
          "height": 119
        },
        "outputId": "8316e200-839f-4606-8703-1613c3f3d502"
      },
      "source": [
        "# listar conteúdo do diretório atual\n",
        "os.listdir()"
      ],
      "execution_count": 4,
      "outputs": [
        {
          "output_type": "execute_result",
          "data": {
            "text/plain": [
              "['README.md',\n",
              " 'anscombe.json',\n",
              " 'mnist_train_small.csv',\n",
              " 'california_housing_test.csv',\n",
              " 'mnist_test.csv',\n",
              " 'california_housing_train.csv']"
            ]
          },
          "metadata": {
            "tags": []
          },
          "execution_count": 4
        }
      ]
    },
    {
      "cell_type": "markdown",
      "metadata": {
        "id": "PVyUw9fZykGb",
        "colab_type": "text"
      },
      "source": [
        "open() / close()\n",
        "Para abrir determinado arquivo, usamos a função open(). Após terminarmos de trabalhar com esse arquivo, podemos fechar o mesmo utilizando o close().\n",
        "\n",
        "É necessário se atentar ao fato de que podemos abrir um arquivo para leitura ('r'), para escrita ('w'), ou para acrescentar ('a').\n",
        "\n",
        "Nesse caso, nós ainda não temos um arquivo para abrir, então vamos criar um.\n",
        "\n",
        "Lembre-se que linguagens de programação são ferramentas, e existem várias formas de fazer a mesma coisa. Abaixo, vamos ver duas formas diferentes de criar um arquivo.\n",
        "\n",
        "Primeiramente, vamos criar o arquivo e associar ele a uma variável. **negrito**"
      ]
    },
    {
      "cell_type": "code",
      "metadata": {
        "id": "8QxH44wEynjQ",
        "colab_type": "code",
        "colab": {}
      },
      "source": [
        "# criando o arquivo\n",
        "arquivo = \"arquivo.txt\"\n",
        "\n",
        "# abrindo o arquivo no modo que permite escrita \n",
        "file = open(arquivo, 'w') \n",
        "file.write(\"#FamíliaSigmoidal\") \n",
        "file.close() "
      ],
      "execution_count": 5,
      "outputs": []
    },
    {
      "cell_type": "code",
      "metadata": {
        "id": "13k4G5Szyto7",
        "colab_type": "code",
        "colab": {
          "base_uri": "https://localhost:8080/",
          "height": 136
        },
        "outputId": "5103b262-64fd-4f88-a6c0-42539688f48c"
      },
      "source": [
        "# conferindo a criação do arquivo\n",
        "os.listdir()"
      ],
      "execution_count": 6,
      "outputs": [
        {
          "output_type": "execute_result",
          "data": {
            "text/plain": [
              "['README.md',\n",
              " 'anscombe.json',\n",
              " 'arquivo.txt',\n",
              " 'mnist_train_small.csv',\n",
              " 'california_housing_test.csv',\n",
              " 'mnist_test.csv',\n",
              " 'california_housing_train.csv']"
            ]
          },
          "metadata": {
            "tags": []
          },
          "execution_count": 6
        }
      ]
    },
    {
      "cell_type": "code",
      "metadata": {
        "id": "bGJ3wPCmyxqr",
        "colab_type": "code",
        "colab": {
          "base_uri": "https://localhost:8080/",
          "height": 34
        },
        "outputId": "7976d80c-1b32-4dac-e152-4b7460cc50e3"
      },
      "source": [
        "# abrindo o arquivo para leitura\n",
        "file = open('arquivo.txt', 'r') \n",
        "\n",
        "# lendo o arquivo\n",
        "print(file.read())\n",
        "\n",
        "# fechar o arquivo\n",
        "file.close()"
      ],
      "execution_count": 7,
      "outputs": [
        {
          "output_type": "stream",
          "text": [
            "#FamíliaSigmoidal\n"
          ],
          "name": "stdout"
        }
      ]
    },
    {
      "cell_type": "markdown",
      "metadata": {
        "id": "vFod3u6hy1pv",
        "colab_type": "text"
      },
      "source": [
        "Também é possível utilizar a função with para manter o arquivo aberto enquanto o manipulamos utilizando os comandos acima.\n",
        "\n",
        "Basicamente o que faremos é criar uma função dizendo que: com o arquivo aberto na função x como variável: faça tal coisa.\n",
        "\n",
        "Aqui, vamos ver uma outra possibilidade para a criação de arquivo. Quando abrimos um arquivo para escrever, caso ele não exista, ele é criado. **negrito**"
      ]
    },
    {
      "cell_type": "code",
      "metadata": {
        "id": "_moqUKNly4im",
        "colab_type": "code",
        "colab": {}
      },
      "source": [
        "# criando e escrevendo no arquivo\n",
        "with open('teste.txt', 'w') as txt:\n",
        "  txt.write(\"Testando a função\")"
      ],
      "execution_count": 8,
      "outputs": []
    },
    {
      "cell_type": "markdown",
      "metadata": {
        "id": "Cab0k7FSzADv",
        "colab_type": "text"
      },
      "source": [
        "Como vimos anteriormente, podemos também acrescentar informações a um arquivo existente.\n",
        "\n",
        "Para isso, vamos abrir o arquivo na função de acrescentar ('a'). **negrito**"
      ]
    },
    {
      "cell_type": "code",
      "metadata": {
        "id": "DmjP8442zC0x",
        "colab_type": "code",
        "colab": {}
      },
      "source": [
        "# adicionando informações ao arquivo\n",
        "with open('teste.txt', 'a') as txt:\n",
        "  txt.write(\"\\nMais Teste informações\")"
      ],
      "execution_count": null,
      "outputs": []
    },
    {
      "cell_type": "markdown",
      "metadata": {
        "id": "nGyZR4-1zPXq",
        "colab_type": "text"
      },
      "source": [
        "rename()\n",
        "Um arquivo pode ser renomeado utilizando a função rename().\n",
        "\n",
        "Atenção, pois o nome só é mudado caso o aquivo já exista, e o usuário fazendo a mudança tenha permissão para isso. **negrito**"
      ]
    },
    {
      "cell_type": "code",
      "metadata": {
        "id": "XdB-QARnzTL9",
        "colab_type": "code",
        "colab": {}
      },
      "source": [
        "# renomeando o arquivo\n",
        "os.rename('teste.txt', 'sigmoidal.txt') \n",
        "\n",
        "# verificando que o nome do arquivo foi mudado\n",
        "os.listdir()"
      ],
      "execution_count": null,
      "outputs": []
    },
    {
      "cell_type": "code",
      "metadata": {
        "id": "LpsoX2xVza12",
        "colab_type": "code",
        "colab": {}
      },
      "source": [
        ""
      ],
      "execution_count": null,
      "outputs": []
    },
    {
      "cell_type": "markdown",
      "metadata": {
        "id": "9g9KoroN8eG3",
        "colab_type": "text"
      },
      "source": [
        "# Exercícios\n",
        "\n",
        "Agora que já entendemos as funções básicas da biblioteca, vamos ver como usá-las na prática.\n",
        "\n",
        "<center><img width=\"50%\" src=\"https://image.freepik.com/free-photo/sport-outdoor_144627-38331.jpg\"></center>"
      ]
    },
    {
      "cell_type": "markdown",
      "metadata": {
        "id": "5wbikzKZ8kqC",
        "colab_type": "text"
      },
      "source": [
        "### Exercício 1\n",
        "\n",
        "Importe a biblioteca OS e verifique:"
      ]
    },
    {
      "cell_type": "code",
      "metadata": {
        "id": "wsoJhPf98jhD",
        "colab_type": "code",
        "colab": {}
      },
      "source": [
        "# a) em que diretório você está\n",
        "\n"
      ],
      "execution_count": null,
      "outputs": []
    },
    {
      "cell_type": "code",
      "metadata": {
        "id": "iAUt6hLgTSy8",
        "colab_type": "code",
        "cellView": "form",
        "colab": {}
      },
      "source": [
        "#@title Solução\n",
        "import os\n",
        "os.getcwd()"
      ],
      "execution_count": null,
      "outputs": []
    },
    {
      "cell_type": "code",
      "metadata": {
        "id": "AB1GRnbc8sMr",
        "colab_type": "code",
        "colab": {}
      },
      "source": [
        "# b) o que há dentro do diretório\n"
      ],
      "execution_count": null,
      "outputs": []
    },
    {
      "cell_type": "code",
      "metadata": {
        "id": "oMY6JOGzTbvd",
        "colab_type": "code",
        "cellView": "form",
        "colab": {}
      },
      "source": [
        "#@title Solução\n",
        "os.listdir()"
      ],
      "execution_count": null,
      "outputs": []
    },
    {
      "cell_type": "markdown",
      "metadata": {
        "id": "HKNaYTdc8xn1",
        "colab_type": "text"
      },
      "source": [
        "### Exercício 2\n",
        "\n",
        "Faça o que se pede na célula abaixo:"
      ]
    },
    {
      "cell_type": "code",
      "metadata": {
        "id": "j5-nZOWR834x",
        "colab_type": "code",
        "colab": {}
      },
      "source": [
        "# a) crie um arquivo chamado aluno.txt e escreva nele o seu nome\n"
      ],
      "execution_count": null,
      "outputs": []
    },
    {
      "cell_type": "code",
      "metadata": {
        "id": "gLgl--x8TnmX",
        "colab_type": "code",
        "cellView": "form",
        "colab": {}
      },
      "source": [
        "#@title Solução\n",
        "with open('aluno.txt', 'w') as aluno:\n",
        "  aluno.write('Rafael')"
      ],
      "execution_count": null,
      "outputs": []
    },
    {
      "cell_type": "code",
      "metadata": {
        "id": "8LCV7SBWdf69",
        "colab_type": "code",
        "colab": {}
      },
      "source": [
        "# b) acrescente sua idade e profissão\n"
      ],
      "execution_count": null,
      "outputs": []
    },
    {
      "cell_type": "code",
      "metadata": {
        "id": "CWPiwuLXdiO5",
        "colab_type": "code",
        "cellView": "form",
        "colab": {}
      },
      "source": [
        "#@title Solução\n",
        "with open('aluno.txt', 'a') as aluno:\n",
        "  aluno.write('\\n24 anos\\nCientista de Dados')"
      ],
      "execution_count": null,
      "outputs": []
    },
    {
      "cell_type": "code",
      "metadata": {
        "id": "-Lb3z8vPdvN-",
        "colab_type": "code",
        "colab": {}
      },
      "source": [
        "# c) leia as informações contidas no arquivo\n",
        "\n"
      ],
      "execution_count": null,
      "outputs": []
    },
    {
      "cell_type": "code",
      "metadata": {
        "id": "oZDbgSoGd3N9",
        "colab_type": "code",
        "cellView": "form",
        "colab": {}
      },
      "source": [
        "#@title Solução\n",
        "with open('aluno.txt', 'r') as aluno:\n",
        "  print(aluno.read())"
      ],
      "execution_count": null,
      "outputs": []
    },
    {
      "cell_type": "markdown",
      "metadata": {
        "id": "ihW0S9ti-fzg",
        "colab_type": "text"
      },
      "source": [
        "### Exercício 3\n",
        "\n",
        "Renomeie o arquivo para sigmoidal.txt."
      ]
    },
    {
      "cell_type": "code",
      "metadata": {
        "id": "cPXKwKCv9Ah6",
        "colab_type": "code",
        "colab": {}
      },
      "source": [
        "# renomeie o arquivo\n"
      ],
      "execution_count": null,
      "outputs": []
    },
    {
      "cell_type": "code",
      "metadata": {
        "id": "r5dmdVK4UB1F",
        "colab_type": "code",
        "cellView": "form",
        "colab": {}
      },
      "source": [
        "#@title Solução\n",
        "# carregando o arquivo a ser renomeado\n",
        "aluno = \"aluno.txt\"\n",
        "\n",
        "# renomeando o arquivo\n",
        "os.rename(aluno,'sigmoidal.txt') \n",
        "\n",
        "# verificando que o nome do arquivo foi mudado\n",
        "os.listdir()\n"
      ],
      "execution_count": null,
      "outputs": []
    },
    {
      "cell_type": "code",
      "metadata": {
        "id": "UmGmcc4sUPrO",
        "colab_type": "code",
        "colab": {}
      },
      "source": [
        ""
      ],
      "execution_count": null,
      "outputs": []
    }
  ]
}