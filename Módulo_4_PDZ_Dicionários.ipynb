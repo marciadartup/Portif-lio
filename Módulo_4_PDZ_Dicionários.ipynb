{
  "nbformat": 4,
  "nbformat_minor": 0,
  "metadata": {
    "colab": {
      "name": "Módulo 4 PDZ -  Dicionários",
      "provenance": [],
      "collapsed_sections": [],
      "include_colab_link": true
    },
    "kernelspec": {
      "name": "python3",
      "display_name": "Python 3"
    }
  },
  "cells": [
    {
      "cell_type": "markdown",
      "metadata": {
        "id": "view-in-github",
        "colab_type": "text"
      },
      "source": [
        "<a href=\"https://colab.research.google.com/github/marciadartup/Portif-lio/blob/master/M%C3%B3dulo_4_PDZ_Dicion%C3%A1rios.ipynb\" target=\"_parent\"><img src=\"https://colab.research.google.com/assets/colab-badge.svg\" alt=\"Open In Colab\"/></a>"
      ]
    },
    {
      "cell_type": "markdown",
      "metadata": {
        "id": "xkin5RCOr8Ds",
        "colab_type": "text"
      },
      "source": [
        "\n",
        "\n",
        "---\n",
        "\n",
        "# Dicionários\n",
        "\n",
        "Dicionários também são um tipo de dados que podem ser mudados. No entanto, diferentemente das listas, os dicionários fazem uma espécie de mapeamento entre \"Chaves\" e \"Valores\".\n",
        "\n",
        "<center><img width=\"65%\" src=\"https://developers.google.com/edu/python/images/dict.png\"></center>\n",
        "\n",
        "Vale ressaltar que as chaves dos dicionários podem ser não apenas de strings, mas de outros tipos, como inteiros.\n",
        "\n",
        "Para criar um dicionário, vamos usar as chaves `{}`."
      ]
    },
    {
      "cell_type": "code",
      "metadata": {
        "id": "bLMqp1UaxCkQ",
        "colab_type": "code",
        "colab": {}
      },
      "source": [
        "# criando um dicionário vazio\n",
        "meu_dict = {}"
      ],
      "execution_count": null,
      "outputs": []
    },
    {
      "cell_type": "code",
      "metadata": {
        "id": "TIa-NF7HxHzL",
        "colab_type": "code",
        "colab": {
          "base_uri": "https://localhost:8080/",
          "height": 34
        },
        "outputId": "42b619ff-e0b4-4825-ede9-c04d54306304"
      },
      "source": [
        "# verificando o tipo\n",
        "type(meu_dict)"
      ],
      "execution_count": null,
      "outputs": [
        {
          "output_type": "execute_result",
          "data": {
            "text/plain": [
              "dict"
            ]
          },
          "metadata": {
            "tags": []
          },
          "execution_count": 6
        }
      ]
    },
    {
      "cell_type": "code",
      "metadata": {
        "id": "WYU1oc2pxJJG",
        "colab_type": "code",
        "colab": {}
      },
      "source": [
        "# criando um dicionário com itens\n",
        "exemplo = {\"Marcia\": 48, \"Bia\": 2, \"Ayla\": 26}"
      ],
      "execution_count": null,
      "outputs": []
    },
    {
      "cell_type": "code",
      "metadata": {
        "id": "RYdhnPCndyAg",
        "colab_type": "code",
        "colab": {
          "base_uri": "https://localhost:8080/",
          "height": 34
        },
        "outputId": "891af3ad-e4c1-4afc-ebb3-8a271879db99"
      },
      "source": [
        "# verificando o dicionário\n",
        "exemplo"
      ],
      "execution_count": null,
      "outputs": [
        {
          "output_type": "execute_result",
          "data": {
            "text/plain": [
              "{'Ayla': 26, 'Bia': 2, 'Marcia': 48}"
            ]
          },
          "metadata": {
            "tags": []
          },
          "execution_count": 8
        }
      ]
    },
    {
      "cell_type": "markdown",
      "metadata": {
        "id": "FeuEeMuFmeIe",
        "colab_type": "text"
      },
      "source": [
        "Para acessar os valores por chave, chamamos o nome do dicionário, e colocamos entre colchetes o nome da chave entre aspas, simples ou duplas."
      ]
    },
    {
      "cell_type": "code",
      "metadata": {
        "id": "Tj4_SHeid66G",
        "colab_type": "code",
        "colab": {
          "base_uri": "https://localhost:8080/",
          "height": 34
        },
        "outputId": "b3dad852-3274-459f-f03a-a92c84d73686"
      },
      "source": [
        "# verificando as chaves\n",
        "exemplo.keys()"
      ],
      "execution_count": null,
      "outputs": [
        {
          "output_type": "execute_result",
          "data": {
            "text/plain": [
              "dict_keys(['Marcia', 'Bia', 'Ayla'])"
            ]
          },
          "metadata": {
            "tags": []
          },
          "execution_count": 9
        }
      ]
    },
    {
      "cell_type": "code",
      "metadata": {
        "id": "ZNEwJIBXxYoi",
        "colab_type": "code",
        "colab": {
          "base_uri": "https://localhost:8080/",
          "height": 34
        },
        "outputId": "33172d6c-967b-4452-99f8-dee7c28a3b3f"
      },
      "source": [
        "# acessando a idade do Marcia                                 \n",
        "exemplo[\"Marcia\"]"
      ],
      "execution_count": null,
      "outputs": [
        {
          "output_type": "execute_result",
          "data": {
            "text/plain": [
              "48"
            ]
          },
          "metadata": {
            "tags": []
          },
          "execution_count": 10
        }
      ]
    },
    {
      "cell_type": "markdown",
      "metadata": {
        "id": "sy1mInismuxu",
        "colab_type": "text"
      },
      "source": [
        "Para adicionar itens novo ao nosso Dicionário, chamamos o nome do dicionário, o nome da nova chave entre aspas dentro dos colchetes, e associamos um valor a essa chave."
      ]
    },
    {
      "cell_type": "code",
      "metadata": {
        "id": "aJS5qCYIeRHy",
        "colab_type": "code",
        "colab": {
          "base_uri": "https://localhost:8080/",
          "height": 34
        },
        "outputId": "3e2985fb-ba56-49bf-d986-7f68e7162b8a"
      },
      "source": [
        "exemplo"
      ],
      "execution_count": null,
      "outputs": [
        {
          "output_type": "execute_result",
          "data": {
            "text/plain": [
              "{'Ayla': 26, 'Bia': 2, 'Marcia': 48}"
            ]
          },
          "metadata": {
            "tags": []
          },
          "execution_count": 11
        }
      ]
    },
    {
      "cell_type": "code",
      "metadata": {
        "id": "jIS0XcvUxeDW",
        "colab_type": "code",
        "colab": {
          "base_uri": "https://localhost:8080/",
          "height": 34
        },
        "outputId": "8598fbb3-aa09-405e-88be-b0d377f48dd8"
      },
      "source": [
        "# adicionando itens\n",
        "exemplo[\"Yuri\"] = 1\n",
        "\n",
        "print(exemplo)"
      ],
      "execution_count": null,
      "outputs": [
        {
          "output_type": "stream",
          "text": [
            "{'Marcia': 48, 'Bia': 2, 'Ayla': 26, 'Yuri': 1}\n"
          ],
          "name": "stdout"
        }
      ]
    },
    {
      "cell_type": "code",
      "metadata": {
        "id": "fbYUH5Z1eLXX",
        "colab_type": "code",
        "colab": {
          "base_uri": "https://localhost:8080/",
          "height": 34
        },
        "outputId": "01476620-3dc1-4a99-d64f-7e8158dcd4b6"
      },
      "source": [
        "# acessando a idade da Bia\n",
        "exemplo[\"Bia\"]"
      ],
      "execution_count": null,
      "outputs": [
        {
          "output_type": "execute_result",
          "data": {
            "text/plain": [
              "2"
            ]
          },
          "metadata": {
            "tags": []
          },
          "execution_count": 13
        }
      ]
    },
    {
      "cell_type": "markdown",
      "metadata": {
        "id": "byuAwemCm_2h",
        "colab_type": "text"
      },
      "source": [
        "Caso quisermos excluir a partir de uma chave, basta utilizar o método pop().\n",
        "\n",
        "> dicionário.pop(\"chave\")"
      ]
    },
    {
      "cell_type": "code",
      "metadata": {
        "id": "DeEipv4Px3a5",
        "colab_type": "code",
        "colab": {
          "base_uri": "https://localhost:8080/",
          "height": 34
        },
        "outputId": "d6e21b13-4c0c-4334-a7ef-9916931418d5"
      },
      "source": [
        "# excluindo itens\n",
        "exemplo.pop(\"Yuri\")\n",
        "\n",
        "print(exemplo)"
      ],
      "execution_count": null,
      "outputs": [
        {
          "output_type": "stream",
          "text": [
            "{'Marcia': 48, 'Bia': 2, 'Ayla': 26}\n"
          ],
          "name": "stdout"
        }
      ]
    },
    {
      "cell_type": "markdown",
      "metadata": {
        "id": "Siss-kCJn2I1",
        "colab_type": "text"
      },
      "source": [
        "Para alterar itens, o processo é igual ao da criação de chaves.\n",
        "\n",
        "Entretanto, usamos uma chave já existente, e indicamos um novo valor a ela."
      ]
    },
    {
      "cell_type": "code",
      "metadata": {
        "id": "vAiZYbr_yBLn",
        "colab_type": "code",
        "colab": {
          "base_uri": "https://localhost:8080/",
          "height": 34
        },
        "outputId": "6b6e5d45-05d2-4ddf-9344-07ef95750b10"
      },
      "source": [
        "# alterando item\n",
        "exemplo[\"Marcia\"] = 49\n",
        "\n",
        "print(exemplo)"
      ],
      "execution_count": null,
      "outputs": [
        {
          "output_type": "stream",
          "text": [
            "{'Marcia': 49, 'Bia': 2, 'Ayla': 26, 'Yuri': 1}\n"
          ],
          "name": "stdout"
        }
      ]
    },
    {
      "cell_type": "markdown",
      "metadata": {
        "id": "EQL6H-BDoefh",
        "colab_type": "text"
      },
      "source": [
        "## Mais Alguns Detalhes Sobre Dicionários\n",
        "\n",
        "Precisamos nos atentar para alguns detalhes quando estamos lidando com dicionários.\n",
        "\n",
        "Um deles é que não podemos ter duas chaves com o mesmo nome. Nós já vimos que caso usemos o nome de um chave já existente e associarmos a ela valor diferente, ele irá atualizar a chave, e não duplicá-la.\n",
        "\n",
        "Enquanto isso, os valores não possuem restrições, podendo ser qualquer tipo de dados."
      ]
    },
    {
      "cell_type": "markdown",
      "metadata": {
        "id": "Y3aj6z2TpMCQ",
        "colab_type": "text"
      },
      "source": [
        "## Funções *Built-in* \n",
        "Dicionários possuem algumas funções nativas. \n",
        "\n",
        "Acima, já vimos o pop() para excluir itens. Vamos ver algumas outras agora."
      ]
    },
    {
      "cell_type": "markdown",
      "metadata": {
        "id": "4NVFhmkXp0nv",
        "colab_type": "text"
      },
      "source": [
        "### .get()\n",
        "A função `.get()` nos permite buscar o valor de uma determinada chave."
      ]
    },
    {
      "cell_type": "code",
      "metadata": {
        "id": "5mk2xm43fDId",
        "colab_type": "code",
        "colab": {
          "base_uri": "https://localhost:8080/",
          "height": 34
        },
        "outputId": "f7df4ecd-2b56-4857-caae-46ff7946a949"
      },
      "source": [
        "exemplo[\"Bia\"]"
      ],
      "execution_count": null,
      "outputs": [
        {
          "output_type": "execute_result",
          "data": {
            "text/plain": [
              "2"
            ]
          },
          "metadata": {
            "tags": []
          },
          "execution_count": 15
        }
      ]
    },
    {
      "cell_type": "code",
      "metadata": {
        "id": "Lyj0fNLTyHdS",
        "colab_type": "code",
        "colab": {
          "base_uri": "https://localhost:8080/",
          "height": 34
        },
        "outputId": "9a2e292d-e0d4-48e5-917d-6039788785ff"
      },
      "source": [
        "# get()\n",
        "# exemplo[\"Theo\"]\n",
        "exemplo.get('Bia')"
      ],
      "execution_count": null,
      "outputs": [
        {
          "output_type": "execute_result",
          "data": {
            "text/plain": [
              "2"
            ]
          },
          "metadata": {
            "tags": []
          },
          "execution_count": 16
        }
      ]
    },
    {
      "cell_type": "markdown",
      "metadata": {
        "id": "IOSgW9ieqAU4",
        "colab_type": "text"
      },
      "source": [
        "### .items()\n",
        "\n",
        "Esta função lista todas as chaves e items do nosso dicionário.\n"
      ]
    },
    {
      "cell_type": "code",
      "metadata": {
        "id": "JWLVTxwZqAAi",
        "colab_type": "code",
        "colab": {
          "base_uri": "https://localhost:8080/",
          "height": 34
        },
        "outputId": "cc199927-347a-4683-fc0a-de2723393333"
      },
      "source": [
        "# items()\n",
        "exemplo.items()"
      ],
      "execution_count": null,
      "outputs": [
        {
          "output_type": "execute_result",
          "data": {
            "text/plain": [
              "dict_items([('Marcia', 49), ('Bia', 2), ('Ayla', 26), ('Yuri', 1)])"
            ]
          },
          "metadata": {
            "tags": []
          },
          "execution_count": 17
        }
      ]
    },
    {
      "cell_type": "markdown",
      "metadata": {
        "id": "mwAC2HyiqPIY",
        "colab_type": "text"
      },
      "source": [
        "### .keys()\n",
        "Se na função anterior nós buscamos as chaves e valores, aqui vamos pegar apenas as chaves do nosso dicionário."
      ]
    },
    {
      "cell_type": "code",
      "metadata": {
        "id": "-MNhP4Iep9_O",
        "colab_type": "code",
        "colab": {
          "base_uri": "https://localhost:8080/",
          "height": 34
        },
        "outputId": "9c02a79f-607b-4879-b6bc-1d801f4484c1"
      },
      "source": [
        "# keys()\n",
        "exemplo.keys()"
      ],
      "execution_count": null,
      "outputs": [
        {
          "output_type": "execute_result",
          "data": {
            "text/plain": [
              "dict_keys(['Marcia', 'Bia', 'Ayla', 'Yuri'])"
            ]
          },
          "metadata": {
            "tags": []
          },
          "execution_count": 18
        }
      ]
    },
    {
      "cell_type": "markdown",
      "metadata": {
        "id": "BbLfyK9Eqgut",
        "colab_type": "text"
      },
      "source": [
        "### .values()\n",
        "Esta função retorna os valores do nosso dicionário."
      ]
    },
    {
      "cell_type": "code",
      "metadata": {
        "id": "njXHJA27qe_R",
        "colab_type": "code",
        "colab": {
          "base_uri": "https://localhost:8080/",
          "height": 34
        },
        "outputId": "3457fc70-5265-4b18-f5c3-630cc203eea2"
      },
      "source": [
        "# values()\n",
        "exemplo.values()"
      ],
      "execution_count": null,
      "outputs": [
        {
          "output_type": "execute_result",
          "data": {
            "text/plain": [
              "dict_values([49, 2, 26, 1])"
            ]
          },
          "metadata": {
            "tags": []
          },
          "execution_count": 19
        }
      ]
    },
    {
      "cell_type": "markdown",
      "metadata": {
        "id": "ReBLt9i2qt8c",
        "colab_type": "text"
      },
      "source": [
        "### .pop() / .popitem()\n",
        "Acima, nós já vimos como usar o pop. Indicamos a chave que queremos retirar, e ela é retirada.\n",
        "\n",
        "Usando a função .popitem() nós excluímos a última chave do dicionário."
      ]
    },
    {
      "cell_type": "code",
      "metadata": {
        "id": "GYPNbw_OqpTf",
        "colab_type": "code",
        "colab": {
          "base_uri": "https://localhost:8080/",
          "height": 52
        },
        "outputId": "f1b27f62-bd4a-45ea-ca9f-622751127684"
      },
      "source": [
        "# popitem()\n",
        "print('Dicionário original: ',exemplo)\n",
        "exemplo.popitem()\n",
        "print('Dicionário após o popitem(): ',exemplo)"
      ],
      "execution_count": null,
      "outputs": [
        {
          "output_type": "stream",
          "text": [
            "Dicionário original:  {'Marcia': 49, 'Bia': 2, 'Ayla': 26, 'Yuri': 1}\n",
            "Dicionário após o popitem():  {'Marcia': 49, 'Bia': 2, 'Ayla': 26}\n"
          ],
          "name": "stdout"
        }
      ]
    },
    {
      "cell_type": "markdown",
      "metadata": {
        "id": "xz2xbNchrN84",
        "colab_type": "text"
      },
      "source": [
        "### .update()\n",
        "Essa função é usada para juntar dois dicionários.\n",
        "\n",
        "* Caso a chave não esteja presente no primeiro dicionário, ela será adicionada.\n",
        "* Caso a chave já exista no primeiro dicionário, ela terá seu valor substituído pelo valor da chave correspondente no segundo dicionário.\n",
        "\n",
        "Como podemos ver abaixo, criamos dois dicionários, e o resultado foi:\n",
        "* A chave `Snow` não existia no d1, e foi adicionada a ele.\n",
        "* A chave `Theo` teve seu valor atualizado de 1 para 2.\n",
        "* A chave `Fernanda` estava presente com o mesmo valor em ambos dicionários, e, portanto, não sofreu alteração."
      ]
    },
    {
      "cell_type": "code",
      "metadata": {
        "id": "tNv2hQc-rGCZ",
        "colab_type": "code",
        "colab": {
          "base_uri": "https://localhost:8080/",
          "height": 70
        },
        "outputId": "24909879-035a-47bb-90b4-9946a625714d"
      },
      "source": [
        "# update()\n",
        "d1={'Marcia':48, 'Diego':32, 'Ayla':26}\n",
        "print('Dicionário 1: ',d1)\n",
        "\n",
        "d2={'Snow':6, 'Bia':2, 'Yuri':25}\n",
        "print('Dicionário 2: ',d2)\n",
        "\n",
        "d1.update(d2)\n",
        "print('Dicionário Final: ', d1)"
      ],
      "execution_count": null,
      "outputs": [
        {
          "output_type": "stream",
          "text": [
            "Dicionário 1:  {'Marcia': 48, 'Diego': 32, 'Ayla': 26}\n",
            "Dicionário 2:  {'Snow': 6, 'Bia': 2, 'Yuri': 25}\n",
            "Dicionário Final:  {'Marcia': 48, 'Diego': 32, 'Ayla': 26, 'Snow': 6, 'Bia': 2, 'Yuri': 25}\n"
          ],
          "name": "stdout"
        }
      ]
    },
    {
      "cell_type": "markdown",
      "metadata": {
        "id": "_DR6mjKLs1sd",
        "colab_type": "text"
      },
      "source": [
        "### .clear()\n",
        "Por fim, para deixar um dicionário vazio, excluindo todas as suas chaves e valores, utilizamos esta função."
      ]
    },
    {
      "cell_type": "code",
      "metadata": {
        "id": "LjWNnWxBrvWS",
        "colab_type": "code",
        "colab": {
          "base_uri": "https://localhost:8080/",
          "height": 34
        },
        "outputId": "0b95b59d-1b32-4860-c413-9f5bab01ff93"
      },
      "source": [
        "# clear()\n",
        "exemplo.clear()\n",
        "print(exemplo)"
      ],
      "execution_count": null,
      "outputs": [
        {
          "output_type": "stream",
          "text": [
            "{}\n"
          ],
          "name": "stdout"
        }
      ]
    },
    {
      "cell_type": "markdown",
      "metadata": {
        "id": "hPiZ8VEBtFq_",
        "colab_type": "text"
      },
      "source": [
        "## Exercícios\n",
        "Agora que já conhecemos os Dicionários, suas propriedades e funções, vamos praticar!\n",
        "\n",
        "<center><img width=\"45%\" src=\"https://image.freepik.com/free-vector/programmer-s-workplace-writing-code-laptop_80328-238.jpg\"></center>"
      ]
    },
    {
      "cell_type": "markdown",
      "metadata": {
        "id": "FIKODpRjtNPc",
        "colab_type": "text"
      },
      "source": [
        "### Exercício 1\n",
        "Crie um dicionário com os nomes e idades dos membros de sua família."
      ]
    },
    {
      "cell_type": "code",
      "metadata": {
        "id": "H3RUJm7yrv-o",
        "colab_type": "code",
        "colab": {}
      },
      "source": [
        "# resposta\n",
        "Dict_Family = {'Maria':69,'Marcia':48,'Ayla':26,'Diego':32,'Bia':2}"
      ],
      "execution_count": null,
      "outputs": []
    },
    {
      "cell_type": "code",
      "metadata": {
        "id": "Rs-UcI7MtZ8P",
        "colab_type": "code",
        "cellView": "form",
        "colab": {}
      },
      "source": [
        "#@title Solução\n",
        "d1={'Carlos':35, 'Theo':1, 'Fernanda':29}"
      ],
      "execution_count": null,
      "outputs": []
    },
    {
      "cell_type": "markdown",
      "metadata": {
        "id": "REgPkNnStgQt",
        "colab_type": "text"
      },
      "source": [
        "### Exercício 2\n",
        "Exclua o segundo item do dicionário que você acabou de criar."
      ]
    },
    {
      "cell_type": "code",
      "metadata": {
        "id": "3Ri7VsSAtw2E",
        "colab_type": "code",
        "colab": {
          "base_uri": "https://localhost:8080/",
          "height": 34
        },
        "outputId": "569ef516-8a62-4d51-85a2-60986ff056ff"
      },
      "source": [
        "# resposta\n",
        "Dict_Family.pop('Marcia')"
      ],
      "execution_count": null,
      "outputs": [
        {
          "output_type": "execute_result",
          "data": {
            "text/plain": [
              "48"
            ]
          },
          "metadata": {
            "tags": []
          },
          "execution_count": 30
        }
      ]
    },
    {
      "cell_type": "code",
      "metadata": {
        "id": "smeg_ryRMnS7",
        "colab_type": "code",
        "colab": {
          "base_uri": "https://localhost:8080/",
          "height": 34
        },
        "outputId": "356699b3-f7c6-4631-879d-65271edcc49e"
      },
      "source": [
        "Dict_Family"
      ],
      "execution_count": null,
      "outputs": [
        {
          "output_type": "execute_result",
          "data": {
            "text/plain": [
              "{'Ayla': 26, 'Bia': 2, 'Diego': 32, 'Maria': 69, 'Thaisa': 30}"
            ]
          },
          "metadata": {
            "tags": []
          },
          "execution_count": 34
        }
      ]
    },
    {
      "cell_type": "code",
      "metadata": {
        "id": "Lve-1tYyt1OK",
        "colab_type": "code",
        "cellView": "form",
        "colab": {}
      },
      "source": [
        "#@title Solução\n",
        "d1.pop('Theo')\n",
        "d1"
      ],
      "execution_count": null,
      "outputs": []
    },
    {
      "cell_type": "markdown",
      "metadata": {
        "id": "ilIOX75MuEuJ",
        "colab_type": "text"
      },
      "source": [
        "### Exercício 3\n",
        "Agora, inclua novamente o item excluído."
      ]
    },
    {
      "cell_type": "code",
      "metadata": {
        "id": "B8NN5LDqt5dJ",
        "colab_type": "code",
        "colab": {}
      },
      "source": [
        "# resposta\n",
        "Dict_Family  [\"Thaisa\"] = 30"
      ],
      "execution_count": null,
      "outputs": []
    },
    {
      "cell_type": "code",
      "metadata": {
        "id": "qdCcuj-GuJVU",
        "colab_type": "code",
        "cellView": "form",
        "colab": {}
      },
      "source": [
        "#@title Solução\n",
        "d1['Theo'] = 2\n",
        "d1"
      ],
      "execution_count": null,
      "outputs": []
    },
    {
      "cell_type": "markdown",
      "metadata": {
        "id": "rst8OZY5uSO5",
        "colab_type": "text"
      },
      "source": [
        "### Exercício 4\n",
        "Agora crie dois dicionários, contendo:\n",
        "* Frutas e seus respectivos preços\n",
        "* Verduras e seus respectivos preços"
      ]
    },
    {
      "cell_type": "code",
      "metadata": {
        "id": "I19bZBQzuN7i",
        "colab_type": "code",
        "colab": {}
      },
      "source": [
        "# resposta\n",
        "Frutas_Especiais = {'Ameixa_preta':9.50,'Uva Rubi': 9.90,\"Pessego\":10.90}\n",
        "Verduras = {'Couve': 2.99, 'Alface': 1.99,'Mangericão':3.70}"
      ],
      "execution_count": null,
      "outputs": []
    },
    {
      "cell_type": "code",
      "metadata": {
        "id": "8tv0JGrdukqm",
        "colab_type": "code",
        "cellView": "form",
        "colab": {}
      },
      "source": [
        "#@title Solução\n",
        "frutas = {'Maçã:':2.00, 'Banana': 1.99, 'Abacaxi':4.99}\n",
        "verduras = {'Alface':1.99, 'Repolho':3.99, 'Couve':1.99}\n",
        "print('Frutas: ', frutas)\n",
        "print('Verduras: ', verduras)"
      ],
      "execution_count": null,
      "outputs": []
    },
    {
      "cell_type": "markdown",
      "metadata": {
        "id": "qO8lki2fyCYM",
        "colab_type": "text"
      },
      "source": [
        "### Exercício 5\n",
        "Execute os seguintes comandos para manipular os dicionários de `frutas` e `verduras`."
      ]
    },
    {
      "cell_type": "code",
      "metadata": {
        "id": "BIIToyQbu-9p",
        "colab_type": "code",
        "colab": {
          "base_uri": "https://localhost:8080/",
          "height": 70
        },
        "outputId": "bce54057-cb3c-43b4-8041-9787592cb525"
      },
      "source": [
        "# imprima as chaves do dicionário frutas\n",
        "print('Dicionário 1: ',Frutas_Especiais)\n",
        "\n",
        "\n",
        "print('Dicionário 2: ',Verduras)\n",
        "\n",
        "Frutas_Especiais.update(Verduras)\n",
        "print('Dicionário Final: ', Frutas_Especiais)\n"
      ],
      "execution_count": null,
      "outputs": [
        {
          "output_type": "stream",
          "text": [
            "Dicionário 1:  {'Ameixa_preta': 9.5, 'Uva Rubi': 9.9, 'Pessego': 10.9}\n",
            "Dicionário 2:  {'Couve': 2.99, 'Alface': 1.99, 'Mangericão': 3.7}\n",
            "Dicionário Final:  {'Ameixa_preta': 9.5, 'Uva Rubi': 9.9, 'Pessego': 10.9, 'Couve': 2.99, 'Alface': 1.99, 'Mangericão': 3.7}\n"
          ],
          "name": "stdout"
        }
      ]
    },
    {
      "cell_type": "code",
      "metadata": {
        "id": "vQkDuLuIyYU7",
        "colab_type": "code",
        "cellView": "form",
        "colab": {}
      },
      "source": [
        "#@title Solução\n",
        "frutas.keys()"
      ],
      "execution_count": null,
      "outputs": []
    },
    {
      "cell_type": "code",
      "metadata": {
        "id": "AZKCgM9kyPPw",
        "colab_type": "code",
        "colab": {
          "base_uri": "https://localhost:8080/",
          "height": 34
        },
        "outputId": "42e20c08-0d8d-4b79-d6d6-3aac1fcdf93b"
      },
      "source": [
        "# imprima os valores do dicionário verduras\n",
        "print('Dicionário 2: ',Verduras)\n"
      ],
      "execution_count": null,
      "outputs": [
        {
          "output_type": "stream",
          "text": [
            "Dicionário 2:  {'Couve': 2.99, 'Alface': 1.99, 'Mangericão': 3.7}\n"
          ],
          "name": "stdout"
        }
      ]
    },
    {
      "cell_type": "code",
      "metadata": {
        "id": "R9xd4_nVybwh",
        "colab_type": "code",
        "cellView": "form",
        "colab": {}
      },
      "source": [
        "#@title Solução\n",
        "verduras.values()"
      ],
      "execution_count": null,
      "outputs": []
    },
    {
      "cell_type": "code",
      "metadata": {
        "id": "JKWNSEyDyRnw",
        "colab_type": "code",
        "colab": {
          "base_uri": "https://localhost:8080/",
          "height": 34
        },
        "outputId": "c4f2ba46-f0bc-402a-9397-796dd6dd70f7"
      },
      "source": [
        "# junte os dois dicionários\n",
        "# update()\n",
        "\n",
        "Frutas_Especiais.update(Verduras)\n",
        "print('Dicionário Final: ', Frutas_Especiais)"
      ],
      "execution_count": null,
      "outputs": [
        {
          "output_type": "stream",
          "text": [
            "Dicionário Final:  {'Ameixa_preta': 9.5, 'Uva Rubi': 9.9, 'Pessego': 10.9, 'Couve': 2.99, 'Alface': 1.99, 'Mangericão': 3.7}\n"
          ],
          "name": "stdout"
        }
      ]
    },
    {
      "cell_type": "code",
      "metadata": {
        "id": "ibr32f7wQq2W",
        "colab_type": "code",
        "colab": {
          "base_uri": "https://localhost:8080/",
          "height": 123
        },
        "outputId": "47ad35c6-86df-4517-e476-fac567078bc8"
      },
      "source": [
        "Frutas_Especiais"
      ],
      "execution_count": null,
      "outputs": [
        {
          "output_type": "execute_result",
          "data": {
            "text/plain": [
              "{'Alface': 1.99,\n",
              " 'Ameixa_preta': 9.5,\n",
              " 'Couve': 2.99,\n",
              " 'Mangericão': 3.7,\n",
              " 'Pessego': 10.9,\n",
              " 'Uva Rubi': 9.9}"
            ]
          },
          "metadata": {
            "tags": []
          },
          "execution_count": 41
        }
      ]
    },
    {
      "cell_type": "code",
      "metadata": {
        "id": "jNGEDfxBydDR",
        "colab_type": "code",
        "cellView": "form",
        "colab": {}
      },
      "source": [
        "#@title Solução\n",
        "frutas.update(verduras)\n",
        "print(frutas)"
      ],
      "execution_count": null,
      "outputs": []
    },
    {
      "cell_type": "code",
      "metadata": {
        "id": "d1G1AgARyUUL",
        "colab_type": "code",
        "colab": {}
      },
      "source": [
        "# transforme o dicionário em vazio\n",
        "Frutas_Especiais.clear()"
      ],
      "execution_count": null,
      "outputs": []
    },
    {
      "cell_type": "code",
      "metadata": {
        "id": "4Kb6Gn3CQ1OV",
        "colab_type": "code",
        "colab": {
          "base_uri": "https://localhost:8080/",
          "height": 34
        },
        "outputId": "0e41833c-bef5-4ca5-e8c3-7cf423e729f4"
      },
      "source": [
        "Frutas_Especiais"
      ],
      "execution_count": null,
      "outputs": [
        {
          "output_type": "execute_result",
          "data": {
            "text/plain": [
              "{}"
            ]
          },
          "metadata": {
            "tags": []
          },
          "execution_count": 43
        }
      ]
    },
    {
      "cell_type": "code",
      "metadata": {
        "id": "n830mVs1yXHo",
        "colab_type": "code",
        "cellView": "form",
        "colab": {}
      },
      "source": [
        "#@title Solução\n",
        "frutas.clear()\n",
        "frutas"
      ],
      "execution_count": null,
      "outputs": []
    }
  ]
}