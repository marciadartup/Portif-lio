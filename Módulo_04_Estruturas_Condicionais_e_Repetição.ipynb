{
  "nbformat": 4,
  "nbformat_minor": 0,
  "metadata": {
    "colab": {
      "name": "Módulo 04 Estruturas Condicionais e Repetição",
      "provenance": [],
      "collapsed_sections": [],
      "include_colab_link": true
    },
    "kernelspec": {
      "name": "python3",
      "display_name": "Python 3"
    }
  },
  "cells": [
    {
      "cell_type": "markdown",
      "metadata": {
        "id": "view-in-github",
        "colab_type": "text"
      },
      "source": [
        "<a href=\"https://colab.research.google.com/github/marciadartup/Portif-lio/blob/master/M%C3%B3dulo_04_Estruturas_Condicionais_e_Repeti%C3%A7%C3%A3o.ipynb\" target=\"_parent\"><img src=\"https://colab.research.google.com/assets/colab-badge.svg\" alt=\"Open In Colab\"/></a>"
      ]
    },
    {
      "cell_type": "markdown",
      "metadata": {
        "id": "sZ5OjtVEoFUF",
        "colab_type": "text"
      },
      "source": [
        "\n",
        "\n",
        "---\n",
        "\n",
        "## Estruturas Condicionais e de Repetição\n",
        "\n",
        "\n",
        "<center><img width=\"45%\" src=\"https://github.com/rafaelnduarte/sigmoidal_data/blob/master/loops.png?raw=true\"></center>\n",
        "\n",
        "\n",
        "Nesta aula, você irá aprender algumas das principais estruturas lógicas e de repetição, que irão agregar muitas funcionalidades para o seu código.\n",
        "\n",
        "Obviamente, as estruturas existentes são bem mais extensas que as apresentadas aqui. Porém, aqui você terá uma visão geral daquelas que fazem mais sentido neste momento, com foco sempre no curso Data Science na Prática.\n",
        "\n",
        "É importante ressaltar que a identação é muito importante aqui, pois podemos encontrar erros simplesmente por não ter feito a identação corretamente. Portanto, muita atenção ao criar essas estruturas."
      ]
    },
    {
      "cell_type": "markdown",
      "metadata": {
        "id": "mbfYlMXJoV-f",
        "colab_type": "text"
      },
      "source": [
        "### If Statement\n",
        "\n",
        "O `if` , que significa \"se\", faz uma análise baseada em condições. Pode rodar ou pular frações de códigos, dependendo se a condição recebe um `True` ou `False`."
      ]
    },
    {
      "cell_type": "code",
      "metadata": {
        "id": "m7c_LRMxpCdB",
        "colab_type": "code",
        "colab": {
          "base_uri": "https://localhost:8080/",
          "height": 34
        },
        "outputId": "2462c211-6e9a-44d0-9afb-db4f651c2c5d"
      },
      "source": [
        "# associando a idade\n",
        "Marcia = 48\n",
        "\n",
        "# criando a condição\n",
        "if Marcia >= 18:\n",
        "    print(\"Pode comprar bebida.\")\n",
        "else:\n",
        "    print(\"Não pode comprar bebida.\")"
      ],
      "execution_count": 4,
      "outputs": [
        {
          "output_type": "stream",
          "text": [
            "Pode comprar bebida.\n"
          ],
          "name": "stdout"
        }
      ]
    },
    {
      "cell_type": "code",
      "metadata": {
        "id": "0Bn4A19GpcL3",
        "colab_type": "code",
        "colab": {
          "base_uri": "https://localhost:8080/",
          "height": 34
        },
        "outputId": "da7fce67-8e28-4d2a-9e85-b62c1949277d"
      },
      "source": [
        "# associando a idade\n",
        "Bia = 2\n",
        "\n",
        "# criando a condição\n",
        "if Bia >= 18:\n",
        "    print(\"Pode comprar bebida.\")\n",
        "else:\n",
        "    print(\"Não pode comprar bebida.\")"
      ],
      "execution_count": 3,
      "outputs": [
        {
          "output_type": "stream",
          "text": [
            "Não pode comprar bebida.\n"
          ],
          "name": "stdout"
        }
      ]
    },
    {
      "cell_type": "code",
      "metadata": {
        "id": "iTFHgrTvpeyU",
        "colab_type": "code",
        "colab": {
          "base_uri": "https://localhost:8080/",
          "height": 34
        },
        "outputId": "d96c670c-40ca-4944-81b1-f81c0ea46acb"
      },
      "source": [
        "# criando variáveis\n",
        "Marcia_idade = 48\n",
        "Marcia_cnh = False\n",
        "Marcia_pontos_cnh = 0\n",
        "\n",
        "# criando a condição\n",
        "if Marcia_idade >= 18 and Marcia_cnh and Marcia_pontos_cnh < 20:\n",
        "    print(\"Pode alugar carro!\")\n",
        "else:\n",
        "    print(\"Não pode alugar carro.\")"
      ],
      "execution_count": 6,
      "outputs": [
        {
          "output_type": "stream",
          "text": [
            "Não pode alugar carro.\n"
          ],
          "name": "stdout"
        }
      ]
    },
    {
      "cell_type": "code",
      "metadata": {
        "id": "VnwUp9F9qSXZ",
        "colab_type": "code",
        "colab": {
          "base_uri": "https://localhost:8080/",
          "height": 52
        },
        "outputId": "8c60075d-2476-4551-f148-a14a7aba9a3f"
      },
      "source": [
        "# criando variáveis\n",
        "saldo = 100.00\n",
        "compra_efetuada = 25.90\n",
        "\n",
        "# criando condição\n",
        "print(\"Saldo Inicial:\", saldo)\n",
        "if compra_efetuada:\n",
        "    saldo = saldo - compra_efetuada\n",
        "    print(\"Saldo Atual:\", saldo)"
      ],
      "execution_count": 7,
      "outputs": [
        {
          "output_type": "stream",
          "text": [
            "Saldo Inicial: 100.0\n",
            "Saldo Atual: 74.1\n"
          ],
          "name": "stdout"
        }
      ]
    },
    {
      "cell_type": "markdown",
      "metadata": {
        "id": "yjmePENrrSmt",
        "colab_type": "text"
      },
      "source": [
        "### For Loops\n",
        "\n",
        "Permite que você **repita** pedaços de códigos, evitando que você tenha que repetir códigos manualmente. O `For` permite que você execute uma determinada ação **até que** uma determinada condição tenha sido atingida.\n",
        "\n",
        "<center><img width=\"45%\" src=\"https://www.thoughtco.com/thmb/vydcEQSm6eJeuNKYYy5EtViCtQw=/3429x2572/smart/filters:no_upscale()/Getty_repetition-183814724-58b9a3843df78c353c11806d.jpg\"></center>\n",
        "\n"
      ]
    },
    {
      "cell_type": "code",
      "metadata": {
        "id": "VcHnzvgJr1qO",
        "colab_type": "code",
        "colab": {
          "base_uri": "https://localhost:8080/",
          "height": 283
        },
        "outputId": "0ce1cc3b-5527-4712-8347-495e19247092"
      },
      "source": [
        "import time\n",
        "\n",
        "# listando números no range 15\n",
        "for n in range(15):\n",
        "    print(n)\n",
        "    time.sleep(1)"
      ],
      "execution_count": 9,
      "outputs": [
        {
          "output_type": "stream",
          "text": [
            "0\n",
            "1\n",
            "2\n",
            "3\n",
            "4\n",
            "5\n",
            "6\n",
            "7\n",
            "8\n",
            "9\n",
            "10\n",
            "11\n",
            "12\n",
            "13\n",
            "14\n"
          ],
          "name": "stdout"
        }
      ]
    },
    {
      "cell_type": "code",
      "metadata": {
        "id": "6UDVWn7erUKD",
        "colab_type": "code",
        "colab": {
          "base_uri": "https://localhost:8080/",
          "height": 87
        },
        "outputId": "4daab8d1-857c-4b05-e3b3-5a8cb7adc819"
      },
      "source": [
        "# listando convidados na lista, enquanto houverem convidados\n",
        "lista_convidados = [\"Marcia\", \"Ayla\", \"Bia\", \"Diego\"]\n",
        "\n",
        "for a in lista_convidados:\n",
        "    print(a)\n",
        "    time.sleep(1)"
      ],
      "execution_count": 10,
      "outputs": [
        {
          "output_type": "stream",
          "text": [
            "Marcia\n",
            "Ayla\n",
            "Bia\n",
            "Diego\n"
          ],
          "name": "stdout"
        }
      ]
    },
    {
      "cell_type": "code",
      "metadata": {
        "id": "I4meWtCjsEXA",
        "colab_type": "code",
        "colab": {
          "base_uri": "https://localhost:8080/",
          "height": 212
        },
        "outputId": "8ebfbe6a-9504-418d-dd9f-d85108218bed"
      },
      "source": [
        "# multiplicando números dentro do range\n",
        "for i in range(11):\n",
        "    resultado = i * 8\n",
        "    print(\"8 x\", i, \"=\", resultado)"
      ],
      "execution_count": 12,
      "outputs": [
        {
          "output_type": "stream",
          "text": [
            "8 x 0 = 0\n",
            "8 x 1 = 8\n",
            "8 x 2 = 16\n",
            "8 x 3 = 24\n",
            "8 x 4 = 32\n",
            "8 x 5 = 40\n",
            "8 x 6 = 48\n",
            "8 x 7 = 56\n",
            "8 x 8 = 64\n",
            "8 x 9 = 72\n",
            "8 x 10 = 80\n"
          ],
          "name": "stdout"
        }
      ]
    },
    {
      "cell_type": "markdown",
      "metadata": {
        "id": "X-utqQV7sVFK",
        "colab_type": "text"
      },
      "source": [
        "### While Loops\n",
        "\n",
        "Similar ao `for` *loop*, o `while` *loop* cria uma repetição em cima de determinada ação. No entanto, enquanto no *for* nós indicávamos a quantidade de vezes que determinada ação deveria ser executada, o *while* continua repetindo uma ação até que determinada condição de parada seja atingida."
      ]
    },
    {
      "cell_type": "code",
      "metadata": {
        "id": "CJ_NljR_tE_p",
        "colab_type": "code",
        "colab": {
          "base_uri": "https://localhost:8080/",
          "height": 52
        },
        "outputId": "0d7868d6-c485-4ee5-e62d-47f809f7e3fb"
      },
      "source": [
        "saldo = 300.00\n",
        "preco_pizza = 80.50\n",
        "\n",
        "counter = 0\n",
        "while saldo >= preco_pizza:\n",
        "    counter = counter + 1  # 1 \n",
        "    saldo = saldo - preco_pizza  # 300 - 80.50 \n",
        "\n",
        "print(\"Você comprou\", counter, \"pizzas!\")\n",
        "print(\"Saldo remanescente: R$\",saldo)"
      ],
      "execution_count": 14,
      "outputs": [
        {
          "output_type": "stream",
          "text": [
            "Você comprou 3 pizzas!\n",
            "Saldo remanescente: R$ 58.5\n"
          ],
          "name": "stdout"
        }
      ]
    },
    {
      "cell_type": "code",
      "metadata": {
        "id": "6J9CfXKutysb",
        "colab_type": "code",
        "colab": {
          "base_uri": "https://localhost:8080/",
          "height": 212
        },
        "outputId": "9c972dc8-d121-4e2c-d49e-44c7d156296f"
      },
      "source": [
        "validade_yakult = 10\n",
        "\n",
        "while validade_yakult > 0:\n",
        "    print(\"[+] Produto na validade. Faltam\", validade_yakult, \"dias.\")\n",
        "    validade_yakult = validade_yakult - 1\n",
        "\n",
        "print(\"[-] ATENÇÃO: Yogurt vencido. Faltam\", validade_yakult, \"dias.\")"
      ],
      "execution_count": 15,
      "outputs": [
        {
          "output_type": "stream",
          "text": [
            "[+] Produto na validade. Faltam 10 dias.\n",
            "[+] Produto na validade. Faltam 9 dias.\n",
            "[+] Produto na validade. Faltam 8 dias.\n",
            "[+] Produto na validade. Faltam 7 dias.\n",
            "[+] Produto na validade. Faltam 6 dias.\n",
            "[+] Produto na validade. Faltam 5 dias.\n",
            "[+] Produto na validade. Faltam 4 dias.\n",
            "[+] Produto na validade. Faltam 3 dias.\n",
            "[+] Produto na validade. Faltam 2 dias.\n",
            "[+] Produto na validade. Faltam 1 dias.\n",
            "[-] ATENÇÃO: Yogurt vencido. Faltam 0 dias.\n"
          ],
          "name": "stdout"
        }
      ]
    },
    {
      "cell_type": "markdown",
      "metadata": {
        "id": "ObJ8s4032qQ_",
        "colab_type": "text"
      },
      "source": [
        "## Exercícios\n",
        "Agora estamos prontos para colocar a mão na massa e criar algumas estruturas condicionais.\n",
        "\n",
        "<center><img width=\"45%\" src=\"https://l3leadership.org/wp-content/uploads/2017/01/repitition.jpg\"></center>"
      ]
    },
    {
      "cell_type": "markdown",
      "metadata": {
        "id": "v4NYJnMa467s",
        "colab_type": "text"
      },
      "source": [
        "### Exercício 1\n",
        "Crie uma estrutura condicional para verificar se a pessoa pode alugar um carro."
      ]
    },
    {
      "cell_type": "code",
      "metadata": {
        "id": "CL0mJMXou1Pj",
        "colab_type": "code",
        "colab": {
          "base_uri": "https://localhost:8080/",
          "height": 34
        },
        "outputId": "35d0963e-300d-490c-af55-4324ae0ad61e"
      },
      "source": [
        "# resposta\n",
        "# criando variáveis\n",
        "Jen_idade = 23\n",
        "Jen_cnh = True\n",
        "Jen_pontos_cnh = 20\n",
        "\n",
        "# criando a condição\n",
        "if Jen_idade >= 18 and Jen_cnh and Jen_pontos_cnh < 20:\n",
        "    print(\"Pode alugar carro!\")\n",
        "else:\n",
        "    print(\"Não pode alugar carro.\")"
      ],
      "execution_count": 16,
      "outputs": [
        {
          "output_type": "stream",
          "text": [
            "Não pode alugar carro.\n"
          ],
          "name": "stdout"
        }
      ]
    },
    {
      "cell_type": "code",
      "metadata": {
        "id": "F5SWy7g75skL",
        "colab_type": "code",
        "cellView": "form",
        "colab": {
          "base_uri": "https://localhost:8080/",
          "height": 34
        },
        "outputId": "b06d0bd5-525c-4923-b037-7516fdd346ff"
      },
      "source": [
        "#@title Solução\n",
        "idade= 25\n",
        "cnh = True\n",
        "\n",
        "if idade >= 21 & cnh == True:\n",
        "  print(\"Você pode alugar um carro.\")\n",
        "else:\n",
        "  print(\"Você não pode alugar um carro.\")"
      ],
      "execution_count": 28,
      "outputs": [
        {
          "output_type": "stream",
          "text": [
            "Você pode alugar um carro.\n"
          ],
          "name": "stdout"
        }
      ]
    },
    {
      "cell_type": "markdown",
      "metadata": {
        "id": "7uzqD0Gg7U01",
        "colab_type": "text"
      },
      "source": [
        "### Exercício 2\n",
        "Crie uma lista com 5 elementos, e crie uma estrutura condicional para listar todos os items da lista."
      ]
    },
    {
      "cell_type": "code",
      "metadata": {
        "id": "wWADidSy6hMx",
        "colab_type": "code",
        "colab": {
          "base_uri": "https://localhost:8080/",
          "height": 105
        },
        "outputId": "4d4dca99-3bd7-473a-aa29-156ffc721853"
      },
      "source": [
        "# resposta\n",
        "#criando variável lista\n",
        "lista = ['bala','bolo','bola','lapis','caneta']\n",
        "\n",
        "#criando condicional\n",
        "for a in lista:\n",
        "    print(a)\n",
        "    time.sleep(1)\n"
      ],
      "execution_count": 41,
      "outputs": [
        {
          "output_type": "stream",
          "text": [
            "bala\n",
            "bolo\n",
            "bola\n",
            "lapis\n",
            "caneta\n"
          ],
          "name": "stdout"
        }
      ]
    },
    {
      "cell_type": "code",
      "metadata": {
        "id": "aDJri8QFuJFe",
        "colab_type": "code",
        "colab": {
          "base_uri": "https://localhost:8080/",
          "height": 34
        },
        "outputId": "6e3c9f56-49af-4f9f-de68-4163946b6054"
      },
      "source": [
        "print(lista)"
      ],
      "execution_count": 39,
      "outputs": [
        {
          "output_type": "stream",
          "text": [
            "['bala', 'bolo', 'bola', 'lapis', 'caneta']\n"
          ],
          "name": "stdout"
        }
      ]
    },
    {
      "cell_type": "code",
      "metadata": {
        "id": "Mg3oyRsosAJ5",
        "colab_type": "code",
        "colab": {}
      },
      "source": [
        "lista"
      ],
      "execution_count": null,
      "outputs": []
    },
    {
      "cell_type": "code",
      "metadata": {
        "id": "uqDB1XoqsB8N",
        "colab_type": "code",
        "colab": {}
      },
      "source": [
        "print(lista)"
      ],
      "execution_count": null,
      "outputs": []
    },
    {
      "cell_type": "code",
      "metadata": {
        "id": "aTRRXz35sFsN",
        "colab_type": "code",
        "colab": {
          "base_uri": "https://localhost:8080/",
          "height": 34
        },
        "outputId": "ee57ed82-6c95-40a6-9ea0-cb15564e4f6a"
      },
      "source": [
        "type(lista)"
      ],
      "execution_count": 27,
      "outputs": [
        {
          "output_type": "execute_result",
          "data": {
            "text/plain": [
              "list"
            ]
          },
          "metadata": {
            "tags": []
          },
          "execution_count": 27
        }
      ]
    },
    {
      "cell_type": "code",
      "metadata": {
        "id": "UbaRLJVS98Ib",
        "colab_type": "code",
        "cellView": "form",
        "colab": {
          "base_uri": "https://localhost:8080/",
          "height": 105
        },
        "outputId": "8ad14ed7-5873-4772-f80a-55c475c1a1e4"
      },
      "source": [
        "#@title Solução\n",
        "frutas = ['Banana', 'Laranja', 'Macã', 'Abacaxi', 'Morango']\n",
        "\n",
        "for i in frutas:\n",
        "  print(i)"
      ],
      "execution_count": 29,
      "outputs": [
        {
          "output_type": "stream",
          "text": [
            "Banana\n",
            "Laranja\n",
            "Macã\n",
            "Abacaxi\n",
            "Morango\n"
          ],
          "name": "stdout"
        }
      ]
    },
    {
      "cell_type": "markdown",
      "metadata": {
        "id": "PQwcMhc2_afi",
        "colab_type": "text"
      },
      "source": [
        "### Exercício 3\n",
        "Crie uma estrutura condicional para calcular os dias até o final do mês."
      ]
    },
    {
      "cell_type": "code",
      "metadata": {
        "id": "6tHJEBelwENf",
        "colab_type": "code",
        "colab": {
          "base_uri": "https://localhost:8080/",
          "height": 567
        },
        "outputId": "294ea28a-b096-4e0f-c611-d5df9ccde7ef"
      },
      "source": [
        "Data_atual = 30\n",
        "\n",
        "while Data_atual > 0:\n",
        "    print(\" Faltam\", Data_atual, \"dias.\")\n",
        "    Data_atual = Data_atual - 1\n",
        "\n",
        "print(\"Fim do mês!\", Data_atual, \"dias.\")\n",
        "\n"
      ],
      "execution_count": 52,
      "outputs": [
        {
          "output_type": "stream",
          "text": [
            " Faltam 30 dias.\n",
            " Faltam 29 dias.\n",
            " Faltam 28 dias.\n",
            " Faltam 27 dias.\n",
            " Faltam 26 dias.\n",
            " Faltam 25 dias.\n",
            " Faltam 24 dias.\n",
            " Faltam 23 dias.\n",
            " Faltam 22 dias.\n",
            " Faltam 21 dias.\n",
            " Faltam 20 dias.\n",
            " Faltam 19 dias.\n",
            " Faltam 18 dias.\n",
            " Faltam 17 dias.\n",
            " Faltam 16 dias.\n",
            " Faltam 15 dias.\n",
            " Faltam 14 dias.\n",
            " Faltam 13 dias.\n",
            " Faltam 12 dias.\n",
            " Faltam 11 dias.\n",
            " Faltam 10 dias.\n",
            " Faltam 9 dias.\n",
            " Faltam 8 dias.\n",
            " Faltam 7 dias.\n",
            " Faltam 6 dias.\n",
            " Faltam 5 dias.\n",
            " Faltam 4 dias.\n",
            " Faltam 3 dias.\n",
            " Faltam 2 dias.\n",
            " Faltam 1 dias.\n",
            "Fim do mês! 0 dias.\n"
          ],
          "name": "stdout"
        }
      ]
    },
    {
      "cell_type": "code",
      "metadata": {
        "id": "iIB8Zjag_q3r",
        "colab_type": "code",
        "cellView": "form",
        "colab": {
          "base_uri": "https://localhost:8080/",
          "height": 567
        },
        "outputId": "52b5ffc7-6335-4a53-8fa2-6b1833102524"
      },
      "source": [
        "#@title Solução\n",
        "dia_mes = 30\n",
        "\n",
        "while dia_mes > 0:\n",
        "    print(\"Faltam\", dia_mes, \"dias.\")\n",
        "    dia_mes -= 1\n",
        "\n",
        "print(\"Fim do mês! Faltam\", dia_mes, \"dias.\")"
      ],
      "execution_count": 43,
      "outputs": [
        {
          "output_type": "stream",
          "text": [
            "Faltam 30 dias.\n",
            "Faltam 29 dias.\n",
            "Faltam 28 dias.\n",
            "Faltam 27 dias.\n",
            "Faltam 26 dias.\n",
            "Faltam 25 dias.\n",
            "Faltam 24 dias.\n",
            "Faltam 23 dias.\n",
            "Faltam 22 dias.\n",
            "Faltam 21 dias.\n",
            "Faltam 20 dias.\n",
            "Faltam 19 dias.\n",
            "Faltam 18 dias.\n",
            "Faltam 17 dias.\n",
            "Faltam 16 dias.\n",
            "Faltam 15 dias.\n",
            "Faltam 14 dias.\n",
            "Faltam 13 dias.\n",
            "Faltam 12 dias.\n",
            "Faltam 11 dias.\n",
            "Faltam 10 dias.\n",
            "Faltam 9 dias.\n",
            "Faltam 8 dias.\n",
            "Faltam 7 dias.\n",
            "Faltam 6 dias.\n",
            "Faltam 5 dias.\n",
            "Faltam 4 dias.\n",
            "Faltam 3 dias.\n",
            "Faltam 2 dias.\n",
            "Faltam 1 dias.\n",
            "Fim do mês! Faltam 0 dias.\n"
          ],
          "name": "stdout"
        }
      ]
    },
    {
      "cell_type": "code",
      "metadata": {
        "id": "azptzq2QAm5X",
        "colab_type": "code",
        "colab": {}
      },
      "source": [
        ""
      ],
      "execution_count": 42,
      "outputs": []
    }
  ]
}