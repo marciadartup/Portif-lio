{
  "nbformat": 4,
  "nbformat_minor": 0,
  "metadata": {
    "colab": {
      "name": "Módulo 04 _Exploração dos Dados com Pandas.ipynb",
      "provenance": [],
      "collapsed_sections": [],
      "include_colab_link": true
    },
    "kernelspec": {
      "name": "python3",
      "display_name": "Python 3"
    }
  },
  "cells": [
    {
      "cell_type": "markdown",
      "metadata": {
        "id": "view-in-github",
        "colab_type": "text"
      },
      "source": [
        "<a href=\"https://colab.research.google.com/github/marciadartup/Portif-lio/blob/master/M%C3%B3dulo_04__Explora%C3%A7%C3%A3o_dos_Dados_com_Pandas.ipynb\" target=\"_parent\"><img src=\"https://colab.research.google.com/assets/colab-badge.svg\" alt=\"Open In Colab\"/></a>"
      ]
    },
    {
      "cell_type": "markdown",
      "metadata": {
        "id": "Yp-eWzFny2bS",
        "colab_type": "text"
      },
      "source": [
        "\n",
        "\n",
        "---\n",
        "\n",
        "# Exploração dos Dados com Pandas\n",
        "\n",
        "Diariamente, nós produzimos e consumimos uma quantidade enorme de dados. Saber manipular, explorar e entender as informações contidas nesses dados é uma habilidade vital que é grande diferencial profisisonal, quando feito com eficácia.\n",
        "\n",
        "<center><img width=\"45%\" src=\"https://image.freepik.com/free-photo/man-wooden-cubes-table-management-concept_155003-9374.jpg\"></center>\n",
        "\n",
        "Utilizando a biblioteca `Pandas`, uma das, se não a principal biblioteca do Python para manipulação de dados, podemos limpar, organizar, e tirar diversos insights de nossos dados de forma rápida e prática.\n"
      ]
    },
    {
      "cell_type": "code",
      "metadata": {
        "id": "Bi7ZF00R2lEg",
        "colab_type": "code",
        "colab": {}
      },
      "source": [
        ""
      ],
      "execution_count": null,
      "outputs": []
    },
    {
      "cell_type": "code",
      "metadata": {
        "id": "DIzl085A2lxG",
        "colab_type": "code",
        "colab": {}
      },
      "source": [
        ""
      ],
      "execution_count": null,
      "outputs": []
    },
    {
      "cell_type": "markdown",
      "metadata": {
        "id": "UGQZtt3DjkNA",
        "colab_type": "text"
      },
      "source": [
        "## Os Dados\n",
        "\n",
        "Nesse notebook, utilizaremos dados disponibilizados no [Kaggle](https://www.kaggle.com/ravels1991/brasil-solicitaes-de-refugiado?) sobre a situação dos refugiados no Brasil.\n",
        "\n",
        "<center><img width=\"45%\" src=\"https://image.freepik.com/free-vector/world-refugee-day-event-flat-design_23-2148542417.jpg\"></center>\n",
        "\n",
        "\n",
        "Esse conjunto de dados foi criado e disponibilizado pelo [Comitê Nacional para os Refugiados](comitê nacional para os refugiados). e disponibilizados nessa plataforma a fim de promover transparência sobre a situação e encorajar cientistas e analistas de dados a analisarem os dados, tirarem insights e propor soluções que possam ajudar nessa situação delicada.\n",
        "\n",
        "Os dados podem ser encontrados [aqui](https://www.kaggle.com/ravels1991/brasil-solicitaes-de-refugiado?)."
      ]
    },
    {
      "cell_type": "code",
      "metadata": {
        "id": "gQvhJNG9kQ9x",
        "colab_type": "code",
        "colab": {}
      },
      "source": [
        "# importando os pacotes necessários\n",
        "import pandas as pd"
      ],
      "execution_count": 1,
      "outputs": []
    },
    {
      "cell_type": "code",
      "metadata": {
        "id": "Tk6R7bjfkSdF",
        "colab_type": "code",
        "colab": {}
      },
      "source": [
        "# carregando os dados\n",
        "df = pd.read_excel(\"https://www.dropbox.com/s/69pajozeme6ezjc/solicitacoes-de-reconhecimento-da-condicao-de-refugiado.xlsx?dl=1\")"
      ],
      "execution_count": 2,
      "outputs": []
    },
    {
      "cell_type": "markdown",
      "metadata": {
        "id": "GN8ol4Uok3PV",
        "colab_type": "text"
      },
      "source": [
        "Com nossos dados carregados e dentro do nosso `Data Frame`, é importante visualizarmos as primeiras entradas, para que possamos verificar que tudo foi carregado corretamente, e está, de fato, pronto para uso.\n",
        "\n",
        "Para isso, utilizamos o método `head()`, que nos mostra as 5 primeiras entradas do data frame. Podemos ver mais entradas passando um número arbitrário dentro dos parênteses.\n",
        "\n",
        "Para visualizarmos as útlimas entradas, procedemos da mesma forma, mas ao invés de utilizar head, utilizamos `tail()`."
      ]
    },
    {
      "cell_type": "code",
      "metadata": {
        "id": "OYHhbIV2kwAP",
        "colab_type": "code",
        "colab": {
          "base_uri": "https://localhost:8080/",
          "height": 197
        },
        "outputId": "f235a37b-7539-4e2c-cffb-d9df69bd2cf7"
      },
      "source": [
        "# verificando as 5 primeiras entradas\n",
        "df.head()"
      ],
      "execution_count": 3,
      "outputs": [
        {
          "output_type": "execute_result",
          "data": {
            "text/html": [
              "<div>\n",
              "<style scoped>\n",
              "    .dataframe tbody tr th:only-of-type {\n",
              "        vertical-align: middle;\n",
              "    }\n",
              "\n",
              "    .dataframe tbody tr th {\n",
              "        vertical-align: top;\n",
              "    }\n",
              "\n",
              "    .dataframe thead th {\n",
              "        text-align: right;\n",
              "    }\n",
              "</style>\n",
              "<table border=\"1\" class=\"dataframe\">\n",
              "  <thead>\n",
              "    <tr style=\"text-align: right;\">\n",
              "      <th></th>\n",
              "      <th>Tipo de Alertas e Restrições</th>\n",
              "      <th>Nacionalidade</th>\n",
              "      <th>Mês/Ano</th>\n",
              "      <th>UF</th>\n",
              "      <th>Quantidade</th>\n",
              "    </tr>\n",
              "  </thead>\n",
              "  <tbody>\n",
              "    <tr>\n",
              "      <th>0</th>\n",
              "      <td>SOLICITAÇÃO DE REFÚGIO</td>\n",
              "      <td>AFEGANISTÃO</td>\n",
              "      <td>12/2001</td>\n",
              "      <td>DF</td>\n",
              "      <td>1</td>\n",
              "    </tr>\n",
              "    <tr>\n",
              "      <th>1</th>\n",
              "      <td>SOLICITAÇÃO DE REFÚGIO</td>\n",
              "      <td>AFEGANISTÃO</td>\n",
              "      <td>01/2010</td>\n",
              "      <td>DF</td>\n",
              "      <td>1</td>\n",
              "    </tr>\n",
              "    <tr>\n",
              "      <th>2</th>\n",
              "      <td>SOLICITAÇÃO DE REFÚGIO</td>\n",
              "      <td>AFEGANISTÃO</td>\n",
              "      <td>03/2010</td>\n",
              "      <td>DF</td>\n",
              "      <td>2</td>\n",
              "    </tr>\n",
              "    <tr>\n",
              "      <th>3</th>\n",
              "      <td>SOLICITAÇÃO DE REFÚGIO</td>\n",
              "      <td>AFEGANISTÃO</td>\n",
              "      <td>03/2010</td>\n",
              "      <td>SP</td>\n",
              "      <td>2</td>\n",
              "    </tr>\n",
              "    <tr>\n",
              "      <th>4</th>\n",
              "      <td>SOLICITAÇÃO DE REFÚGIO</td>\n",
              "      <td>AFEGANISTÃO</td>\n",
              "      <td>08/2010</td>\n",
              "      <td>DF</td>\n",
              "      <td>1</td>\n",
              "    </tr>\n",
              "  </tbody>\n",
              "</table>\n",
              "</div>"
            ],
            "text/plain": [
              "  Tipo de Alertas e Restrições Nacionalidade  Mês/Ano  UF  Quantidade\n",
              "0       SOLICITAÇÃO DE REFÚGIO   AFEGANISTÃO  12/2001  DF           1\n",
              "1       SOLICITAÇÃO DE REFÚGIO   AFEGANISTÃO  01/2010  DF           1\n",
              "2       SOLICITAÇÃO DE REFÚGIO   AFEGANISTÃO  03/2010  DF           2\n",
              "3       SOLICITAÇÃO DE REFÚGIO   AFEGANISTÃO  03/2010  SP           2\n",
              "4       SOLICITAÇÃO DE REFÚGIO   AFEGANISTÃO  08/2010  DF           1"
            ]
          },
          "metadata": {
            "tags": []
          },
          "execution_count": 3
        }
      ]
    },
    {
      "cell_type": "markdown",
      "metadata": {
        "id": "GSFuUUMwk1WM",
        "colab_type": "text"
      },
      "source": [
        "Nesse conjunto de dados, estamos lidando com diferentes nacionalidades. Um dos insights interessantes que podemos extrair é a quantidade de países dos quais vêm os refugiados. Podemos fazer isso através do método `unique()`, que nos retorna cada um dos valores únicos de uma coluna."
      ]
    },
    {
      "cell_type": "code",
      "metadata": {
        "id": "E60oNanmk7md",
        "colab_type": "code",
        "colab": {
          "base_uri": "https://localhost:8080/",
          "height": 638
        },
        "outputId": "2301faa1-bfba-43d3-912d-2426f9a68a09"
      },
      "source": [
        "# ver as nacionalidades diferentes\n",
        "df[\"Nacionalidade\"].unique()"
      ],
      "execution_count": 4,
      "outputs": [
        {
          "output_type": "execute_result",
          "data": {
            "text/plain": [
              "array(['AFEGANISTÃO', 'ALBÂNIA', 'ALEMANHA', 'ANDORRA', 'ANGOLA',\n",
              "       'APÁTRIDA', 'ARGENTINA', 'ARGÉLIA', 'ARMÊNIA', 'ARÁBIA SAUDITA',\n",
              "       'AUSTRÁLIA', 'BANGLADESH', 'BARBADOS', 'BAREINE', 'BELARUS',\n",
              "       'BELIZE', 'BENIN', 'BHUTAN', 'BOLÍVIA', 'BRASIL', 'BULGÁRIA',\n",
              "       'BURKINA FASO', 'BURUNDI', 'BUTÃO', 'BÉLGICA',\n",
              "       'BÓSNIA E HERZEGOVINA', 'CABO VERDE', 'CAMARÕES', 'CAMBOJA',\n",
              "       'CANADÁ', 'CAZAQUISTÃO', 'CHILE', 'CHINA', 'COLÔMBIA', 'CONGO',\n",
              "       'CORÉIA DO NORTE', 'CORÉIA DO SUL', 'COSTA DO MARFIM',\n",
              "       'COSTA RICA', 'CROÁCIA', 'CUBA', 'DAOME', 'DINAMARCA', 'DJIBUTI',\n",
              "       'DOMINICA', 'EGITO', 'EL SALVADOR', 'EMIRADOS ÁRABES', 'EQUADOR',\n",
              "       'ERITRÉIA', 'ESLOVÁQUIA', 'ESPANHA', 'ESTADOS UNIDOS', 'ESTÔNIA',\n",
              "       'ETIÓPIA', 'FIJI, ILHAS', 'FILIPINAS', 'FRANÇA', 'GABÃO', 'GANA',\n",
              "       'GEÓRGIA', 'GRÉCIA', 'GUAM', 'GUATEMALA', 'GUIANA',\n",
              "       'GUIANA FRANCESA', 'GUINÉ', 'GUINÉ BISSAU', 'GUINÉ EQUATORIAL',\n",
              "       'GÂMBIA', 'HAITI', 'HONDURAS', 'HUNGRIA', 'INDONÉSIA', 'IRAQUE',\n",
              "       'IRLANDA', 'IRÃ', 'ISRAEL', 'ITÁLIA', 'IUGUSLAVIA', 'IÊMEN',\n",
              "       'JAMAICA', 'JAPÃO', 'JORDÂNIA', 'KUAITE', 'LAOS', 'LESOTO',\n",
              "       'LETÔNIA', 'LIBÉRIA', 'LITUÂNIA', 'LÍBANO', 'LÍBIA',\n",
              "       'MACAU (R.A.E.)', 'MACEDÔNIA', 'MALGAXE', 'MALI', 'MALTA',\n",
              "       'MALÁSIA', 'MARROCOS', 'MAURITÂNIA', 'MAURÍCIO', 'MONGÓLIA',\n",
              "       'MOÇAMBIQUE', 'MYANMAR', 'MÉXICO', 'NACIONALIDADE INDEFINIDA',\n",
              "       'NAMÍBIA', 'NEPAL', 'NICARÁGUA', 'NIGÉRIA', 'NORUEGA',\n",
              "       'NOVA ZELÂNDIA', 'NÍGER', 'PALESTINA', 'PANAMÁ', 'PAQUISTÃO',\n",
              "       'PARAGUAI', 'PAÍSES BAIXOS', 'PERU', 'POLÔNIA', 'PORTUGAL',\n",
              "       'QUÊNIA', 'REINO UNIDO', 'REP. CENTRO AFRICANA', 'REP. DOMINICANA',\n",
              "       'REPÚBLICA DEMOCRÁTICA DO CONGO', 'REPÚBLICA TCHECA', 'ROMÊNIA',\n",
              "       'RUANDA', 'RÚSSIA', 'SAARA OCIDENTAL\\n- SAARAUI, REPÚBLICA',\n",
              "       'SENEGAL', 'SERRA LEOA', 'SOMÁLIA', 'SRI LANKA',\n",
              "       'ST. PIERRE ET MIQUELON', 'SUDÃO', 'SURINAME', 'SUÉCIA', 'SUÍÇA',\n",
              "       'SÃO TOMÉ E PRÍNCIPE', 'SÉRVIA', 'SÍRIA', 'TAILÂNDIA', 'TAIWAN',\n",
              "       'TANZÂNIA', 'TOGO', 'TRINIDAD E TOBAGO', 'TUNÍSIA',\n",
              "       'TURCOMENISTÃO', 'TURQUIA', 'UCRÂNIA', 'UGANDA', 'UNIÃO SOVIÉTICA',\n",
              "       'URUGUAI', 'UZBEQUISTÃO', 'VANUATU', 'VATICANO', 'VENEZUELA',\n",
              "       'VIETNÃ', 'ZAIRE', 'ZIMBÁBUE', 'ZÂMBIA', 'ÁFRICA DO SUL', 'ÍNDIA'],\n",
              "      dtype=object)"
            ]
          },
          "metadata": {
            "tags": []
          },
          "execution_count": 4
        }
      ]
    },
    {
      "cell_type": "markdown",
      "metadata": {
        "id": "_hm6_8vCk-pb",
        "colab_type": "text"
      },
      "source": [
        "Sabendo com quais países estamos lidando, podemos também visualizar quantos refugiados vêm de cada país. Para isso, podemos utilizar o método `value_counts()`.\n",
        "\n",
        "Assim, vamos iterar por cada entrada da coluna, e contar as ocrrências de cada valor dela. Com isso, conseguimos contar quantas pessoas vieram de cada um dos países."
      ]
    },
    {
      "cell_type": "code",
      "metadata": {
        "id": "yrq1g_VFlELQ",
        "colab_type": "code",
        "colab": {
          "base_uri": "https://localhost:8080/",
          "height": 230
        },
        "outputId": "b5930d33-f99c-40a8-c6c7-58b452122d28"
      },
      "source": [
        "# verificando a quantidade de refugiados por país\n",
        "df[\"Nacionalidade\"].value_counts()"
      ],
      "execution_count": 5,
      "outputs": [
        {
          "output_type": "execute_result",
          "data": {
            "text/plain": [
              "CUBA          887\n",
              "HAITI         775\n",
              "VENEZUELA     665\n",
              "COLÔMBIA      556\n",
              "SENEGAL       469\n",
              "             ... \n",
              "BÉLGICA         1\n",
              "MONGÓLIA        1\n",
              "GUAM            1\n",
              "NORUEGA         1\n",
              "IUGUSLAVIA      1\n",
              "Name: Nacionalidade, Length: 165, dtype: int64"
            ]
          },
          "metadata": {
            "tags": []
          },
          "execution_count": 5
        }
      ]
    },
    {
      "cell_type": "markdown",
      "metadata": {
        "id": "_Mtx8bFalFm2",
        "colab_type": "text"
      },
      "source": [
        "Também podemos ordenar essa lista, ou então apresentar apenas um grupo de interesse. Por exemplo, através de técnicas de slicing por índice, igual ao que fizemos com as strings, podemos selecionar linhas dentro do value_counts, e retornar, por exemplo, os 10 países com mais refugiados no Brasil.\n"
      ]
    },
    {
      "cell_type": "code",
      "metadata": {
        "id": "Sa-PK743lMcj",
        "colab_type": "code",
        "colab": {
          "base_uri": "https://localhost:8080/",
          "height": 212
        },
        "outputId": "322dce93-fd10-468f-e2e0-455e32cf3684"
      },
      "source": [
        "# verificando países com mais refugiados no Brasil\n",
        "df[\"Nacionalidade\"].value_counts()[:10]"
      ],
      "execution_count": 6,
      "outputs": [
        {
          "output_type": "execute_result",
          "data": {
            "text/plain": [
              "CUBA            887\n",
              "HAITI           775\n",
              "VENEZUELA       665\n",
              "COLÔMBIA        556\n",
              "SENEGAL         469\n",
              "SÍRIA           466\n",
              "BANGLADESH      385\n",
              "GUINÉ BISSAU    371\n",
              "ANGOLA          343\n",
              "CONGO           337\n",
              "Name: Nacionalidade, dtype: int64"
            ]
          },
          "metadata": {
            "tags": []
          },
          "execution_count": 6
        }
      ]
    },
    {
      "cell_type": "markdown",
      "metadata": {
        "id": "kxE8i-ZYlOP5",
        "colab_type": "text"
      },
      "source": [
        "Também podemos utilizar o método `sum()` para, como o nome sugere, somar os valores de uma coluna. Nesse caso, vamos utilizar esse método para contar o total de refugiados no Brasil."
      ]
    },
    {
      "cell_type": "code",
      "metadata": {
        "id": "fsGc3x8AlTHL",
        "colab_type": "code",
        "colab": {
          "base_uri": "https://localhost:8080/",
          "height": 34
        },
        "outputId": "d92f154a-832b-4638-acf4-a0b02c006a83"
      },
      "source": [
        "# ver o total de refugiados\n",
        "df[\"Quantidade\"].sum()"
      ],
      "execution_count": 7,
      "outputs": [
        {
          "output_type": "execute_result",
          "data": {
            "text/plain": [
              "178037"
            ]
          },
          "metadata": {
            "tags": []
          },
          "execution_count": 7
        }
      ]
    },
    {
      "cell_type": "code",
      "metadata": {
        "id": "6IRLNyormIfc",
        "colab_type": "code",
        "colab": {}
      },
      "source": [
        ""
      ],
      "execution_count": null,
      "outputs": []
    }
  ]
}