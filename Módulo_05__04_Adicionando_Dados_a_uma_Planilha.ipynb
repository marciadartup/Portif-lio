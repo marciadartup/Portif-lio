{
  "nbformat": 4,
  "nbformat_minor": 0,
  "metadata": {
    "colab": {
      "name": "Módulo 05_ 04 - Adicionando Dados a uma Planilha",
      "provenance": [],
      "collapsed_sections": [],
      "toc_visible": true,
      "include_colab_link": true
    },
    "kernelspec": {
      "name": "python3",
      "display_name": "Python 3"
    }
  },
  "cells": [
    {
      "cell_type": "markdown",
      "metadata": {
        "id": "view-in-github",
        "colab_type": "text"
      },
      "source": [
        "<a href=\"https://colab.research.google.com/github/marciadartup/Portif-lio/blob/master/M%C3%B3dulo_05__04_Adicionando_Dados_a_uma_Planilha.ipynb\" target=\"_parent\"><img src=\"https://colab.research.google.com/assets/colab-badge.svg\" alt=\"Open In Colab\"/></a>"
      ]
    },
    {
      "cell_type": "markdown",
      "metadata": {
        "id": "A94WyVu1w_Zg"
      },
      "source": [
        ""
      ]
    },
    {
      "cell_type": "markdown",
      "metadata": {
        "id": "UoI4NFZHBUVZ"
      },
      "source": [
        "\n",
        "---\n",
        "\n",
        "## Adionando Dados a uma Planilha\n",
        "\n",
        "Agora já sabemos bem como ler, e acessar os dados de uma planilha, e até como iterar sobre as células e armazenar os dados para criar um dataframe a partir de um dicionário.\n",
        "\n",
        "Mas e se o que quisermos não for apenas consultar uma planliha, mas sim **acrescentar** algo a ela?\n",
        "\n",
        "\n",
        "<center><img width=\"50%\" src=\"https://images.unsplash.com/photo-1557853197-aefb550b6fdc?ixlib=rb-1.2.1&ixid=eyJhcHBfaWQiOjEyMDd9&auto=format&fit=crop&w=375&q=80\"></center>\n",
        "\n",
        "É isso que veremos nesse notebook.\n",
        "\n",
        "Mais uma vez, lembre-se de atualizar o openpyxl e fazer o upload dos arquivos necessários."
      ]
    },
    {
      "cell_type": "code",
      "metadata": {
        "id": "7wqPp9LoEPcX",
        "outputId": "5e0245f9-ce59-4bdd-dfe2-32d85a90875b",
        "colab": {
          "base_uri": "https://localhost:8080/",
          "height": 34
        }
      },
      "source": [
        "# atualizando a lib\n",
        "!pip install -U openpyxl -q"
      ],
      "execution_count": 1,
      "outputs": [
        {
          "output_type": "stream",
          "text": [
            "\u001b[?25l\r\u001b[K     |█▍                              | 10kB 24.4MB/s eta 0:00:01\r\u001b[K     |██▊                             | 20kB 6.3MB/s eta 0:00:01\r\u001b[K     |████                            | 30kB 7.4MB/s eta 0:00:01\r\u001b[K     |█████▍                          | 40kB 8.8MB/s eta 0:00:01\r\u001b[K     |██████▊                         | 51kB 6.7MB/s eta 0:00:01\r\u001b[K     |████████                        | 61kB 7.1MB/s eta 0:00:01\r\u001b[K     |█████████▌                      | 71kB 7.7MB/s eta 0:00:01\r\u001b[K     |██████████▉                     | 81kB 8.5MB/s eta 0:00:01\r\u001b[K     |████████████▏                   | 92kB 8.7MB/s eta 0:00:01\r\u001b[K     |█████████████▌                  | 102kB 9.4MB/s eta 0:00:01\r\u001b[K     |██████████████▉                 | 112kB 9.4MB/s eta 0:00:01\r\u001b[K     |████████████████▏               | 122kB 9.4MB/s eta 0:00:01\r\u001b[K     |█████████████████▌              | 133kB 9.4MB/s eta 0:00:01\r\u001b[K     |███████████████████             | 143kB 9.4MB/s eta 0:00:01\r\u001b[K     |████████████████████▎           | 153kB 9.4MB/s eta 0:00:01\r\u001b[K     |█████████████████████▋          | 163kB 9.4MB/s eta 0:00:01\r\u001b[K     |███████████████████████         | 174kB 9.4MB/s eta 0:00:01\r\u001b[K     |████████████████████████▎       | 184kB 9.4MB/s eta 0:00:01\r\u001b[K     |█████████████████████████▋      | 194kB 9.4MB/s eta 0:00:01\r\u001b[K     |███████████████████████████     | 204kB 9.4MB/s eta 0:00:01\r\u001b[K     |████████████████████████████▍   | 215kB 9.4MB/s eta 0:00:01\r\u001b[K     |█████████████████████████████▊  | 225kB 9.4MB/s eta 0:00:01\r\u001b[K     |███████████████████████████████ | 235kB 9.4MB/s eta 0:00:01\r\u001b[K     |████████████████████████████████| 245kB 9.4MB/s \n",
            "\u001b[?25h"
          ],
          "name": "stdout"
        }
      ]
    },
    {
      "cell_type": "code",
      "metadata": {
        "id": "CrNc3hR2xe1D",
        "outputId": "c99b857b-b7de-4a8c-e4ef-c78bbd0d85df",
        "colab": {
          "base_uri": "https://localhost:8080/",
          "height": 34
        }
      },
      "source": [
        "# importando os pacotes necessários\n",
        "from google.colab import drive\n",
        "\n",
        "# montando o drive\n",
        "drive.mount('/content/gdrive')"
      ],
      "execution_count": 2,
      "outputs": [
        {
          "output_type": "stream",
          "text": [
            "Mounted at /content/gdrive\n"
          ],
          "name": "stdout"
        }
      ]
    },
    {
      "cell_type": "code",
      "metadata": {
        "id": "7UTCqdEXxvQn"
      },
      "source": [
        "# listando arquivos\n",
        "!ls 'gdrive/My Drive/'"
      ],
      "execution_count": null,
      "outputs": []
    },
    {
      "cell_type": "markdown",
      "metadata": {
        "id": "hA_hK3SmxCzd"
      },
      "source": [
        ""
      ]
    },
    {
      "cell_type": "markdown",
      "metadata": {
        "id": "X7jU_m_AScSD"
      },
      "source": [
        "Mais uma vez, vamos utilizar os planilha de venda de relógios no Amazon como nossa base de dados.\n",
        "\n",
        "Carregaremos os dados da mesma forma que temos feito desde os notebooks anteriores."
      ]
    },
    {
      "cell_type": "code",
      "metadata": {
        "id": "3MyF1ZqRBShR"
      },
      "source": [
        "# carregando uma planilha\n",
        "from openpyxl import load_workbook\n",
        "\n",
        "workbook = load_workbook(filename='/content/gdrive/My Drive/sample.xlsx')\n",
        "\n",
        "# verificando as abas\n",
        "sheet = workbook.active"
      ],
      "execution_count": 13,
      "outputs": []
    },
    {
      "cell_type": "markdown",
      "metadata": {
        "id": "yDYOL9ctSreW"
      },
      "source": [
        "Lembrando que podemos chamar células individualmente, e consultar o valor contido dentro delas. Isso será útil para que possamos direcionar nossa manipulação."
      ]
    },
    {
      "cell_type": "code",
      "metadata": {
        "id": "8aDBpWZtBaQl",
        "outputId": "7cf09046-fbee-4780-ae25-e15713b8c7db",
        "colab": {
          "base_uri": "https://localhost:8080/",
          "height": 35
        }
      },
      "source": [
        "# acessando as células\n",
        "sheet['A1'].value"
      ],
      "execution_count": 14,
      "outputs": [
        {
          "output_type": "execute_result",
          "data": {
            "application/vnd.google.colaboratory.intrinsic+json": {
              "type": "string"
            },
            "text/plain": [
              "'marketplace'"
            ]
          },
          "metadata": {
            "tags": []
          },
          "execution_count": 14
        }
      ]
    },
    {
      "cell_type": "markdown",
      "metadata": {
        "id": "pc3Q8WKSS4_X"
      },
      "source": [
        "Agora que sabemos onde estamos, é só associar um novo valor a essa célula, que a modificação será feita."
      ]
    },
    {
      "cell_type": "code",
      "metadata": {
        "id": "DQFryQCVDCLi",
        "outputId": "7719fe36-ceea-4c4b-9b86-385ff79de05e",
        "colab": {
          "base_uri": "https://localhost:8080/",
          "height": 35
        }
      },
      "source": [
        "# modificando o valor\n",
        "sheet['A1'] = 'Marketplace'\n",
        "\n",
        "# conferindo o resultado\n",
        "sheet['A1'].value"
      ],
      "execution_count": 15,
      "outputs": [
        {
          "output_type": "execute_result",
          "data": {
            "application/vnd.google.colaboratory.intrinsic+json": {
              "type": "string"
            },
            "text/plain": [
              "'Marketplace'"
            ]
          },
          "metadata": {
            "tags": []
          },
          "execution_count": 15
        }
      ]
    },
    {
      "cell_type": "markdown",
      "metadata": {
        "id": "p3ozGjYgTA2N"
      },
      "source": [
        "Alternativamente, podemos salvar uma célula em um variável, e fazer a alteração direto na variável."
      ]
    },
    {
      "cell_type": "code",
      "metadata": {
        "id": "2-1sc5cJDKDB",
        "outputId": "6b65457f-d851-41b8-8953-dbb131ffdb18",
        "colab": {
          "base_uri": "https://localhost:8080/",
          "height": 35
        }
      },
      "source": [
        "# associando uma célula a uma variável\n",
        "cell = sheet['A1']\n",
        "\n",
        "# verificando o valor\n",
        "cell.value"
      ],
      "execution_count": 16,
      "outputs": [
        {
          "output_type": "execute_result",
          "data": {
            "application/vnd.google.colaboratory.intrinsic+json": {
              "type": "string"
            },
            "text/plain": [
              "'Marketplace'"
            ]
          },
          "metadata": {
            "tags": []
          },
          "execution_count": 16
        }
      ]
    },
    {
      "cell_type": "code",
      "metadata": {
        "id": "TbW2H5xxDRQN",
        "outputId": "c8448536-4bdd-41a7-cadd-3a26a6bf7ea8",
        "colab": {
          "base_uri": "https://localhost:8080/",
          "height": 35
        }
      },
      "source": [
        "# modificando o conteúdo da célula\n",
        "cell.value = 'marketplace'\n",
        "\n",
        "# verificando a mudança\n",
        "cell.value"
      ],
      "execution_count": 17,
      "outputs": [
        {
          "output_type": "execute_result",
          "data": {
            "application/vnd.google.colaboratory.intrinsic+json": {
              "type": "string"
            },
            "text/plain": [
              "'marketplace'"
            ]
          },
          "metadata": {
            "tags": []
          },
          "execution_count": 17
        }
      ]
    },
    {
      "cell_type": "markdown",
      "metadata": {
        "id": "X8b-2dgjTR0M"
      },
      "source": [
        "## Um Pouco Mais Sobre Openpyxl\n",
        "\n",
        "<center><img width=\"50%\" src=\"https://miro.medium.com/max/1062/0*eSQte3e-rJeH7bu8.jpg\"></center>\n",
        "\n",
        "\n",
        "Quando abrimos uma planilha no Excel podemos ver que há várias e várias linhas e colunas vazias, que aparecem em nossa visualização pelo programa, mas, como podemos perceber, não são trazidos para cá.\n",
        "\n",
        "Isso acontece pois o openpyxl trabalha de forma inteligente, economizando nossa memória, mostrando apenas as células que contém algo dentro delas.\n",
        "\n",
        "Entretanto, isso acontece no que podemos chamar de \"borda\" dos nossos dados. Quando começamos a ter vazio atrás de vazio, a lib não carrega mais aquelas células, entendendo o fim do nosso conjunto de dados.\n",
        "\n",
        "Entretanto, se as células vazias estão entre células preenchidas, o openpyxl vai sim ler e reconhecer esses espaço vazio, retornando células com formato `None`.\n",
        "\n",
        "Abaixo, vamos verificar todas as linhas do nosso conjunto de dados, e inserir linhas um pouco mais abaixo, para que possamos visualizar esses acontecimentos."
      ]
    },
    {
      "cell_type": "code",
      "metadata": {
        "id": "Wzj2BR_IVQbM",
        "outputId": "398e26d4-42b5-4526-dcc3-2fd7ee63569b",
        "colab": {
          "base_uri": "https://localhost:8080/",
          "height": 35
        }
      },
      "source": [
        "# verificando a quantidade de linhas\n",
        "sheet.dimensions"
      ],
      "execution_count": 9,
      "outputs": [
        {
          "output_type": "execute_result",
          "data": {
            "application/vnd.google.colaboratory.intrinsic+json": {
              "type": "string"
            },
            "text/plain": [
              "'A1:O100'"
            ]
          },
          "metadata": {
            "tags": []
          },
          "execution_count": 9
        }
      ]
    },
    {
      "cell_type": "markdown",
      "metadata": {
        "id": "DYGqHEzOVaQX"
      },
      "source": [
        "Vamos criar uma função que mostre todas as entradas do nosso conjunto de dados para que possamos facilmente acessar nossas mudanças.\n",
        "\n",
        "Esse código apesar de precisar ser definido novamente nos próximos notebooks, será reciclado para nossas conferências futuras."
      ]
    },
    {
      "cell_type": "code",
      "metadata": {
        "id": "DxeBDI9BDVlb"
      },
      "source": [
        "# verificando todas as linhas\n",
        "def print_rows():\n",
        "  for row in sheet.iter_rows(values_only=True):\n",
        "    print(row)\n",
        "print_rows()    "
      ],
      "execution_count": null,
      "outputs": []
    },
    {
      "cell_type": "markdown",
      "metadata": {
        "id": "iWzdPH4bVq9Y"
      },
      "source": [
        "Acima, vimos que nossa última linha é a linha 100. Por isso, não conseguimos ver o que está na célula 101, que está vazia.\n",
        "\n",
        "Entretanto, se adicionarmos conteúdo à célula `A102`, iremos ter como retorno diversas entradas vazias. Observe:"
      ]
    },
    {
      "cell_type": "code",
      "metadata": {
        "id": "TcVnYNHPENRH"
      },
      "source": [
        "# adicionando conteúdo na linha 102\n",
        "sheet['A102'] = 'teste'\n",
        "\n",
        "print_rows()"
      ],
      "execution_count": null,
      "outputs": []
    },
    {
      "cell_type": "code",
      "metadata": {
        "id": "qXqqvyxZ13nA"
      },
      "source": [
        ""
      ],
      "execution_count": null,
      "outputs": []
    }
  ]
}