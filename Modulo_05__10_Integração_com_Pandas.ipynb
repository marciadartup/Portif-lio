{
  "nbformat": 4,
  "nbformat_minor": 0,
  "metadata": {
    "colab": {
      "name": "Modulo 05_ 10 - Integração com Pandas",
      "provenance": [],
      "collapsed_sections": [],
      "toc_visible": true,
      "include_colab_link": true
    },
    "kernelspec": {
      "name": "python3",
      "display_name": "Python 3"
    }
  },
  "cells": [
    {
      "cell_type": "markdown",
      "metadata": {
        "id": "view-in-github",
        "colab_type": "text"
      },
      "source": [
        "<a href=\"https://colab.research.google.com/github/marciadartup/Portif-lio/blob/master/Modulo_05__10_Integra%C3%A7%C3%A3o_com_Pandas.ipynb\" target=\"_parent\"><img src=\"https://colab.research.google.com/assets/colab-badge.svg\" alt=\"Open In Colab\"/></a>"
      ]
    },
    {
      "cell_type": "markdown",
      "metadata": {
        "id": "UvWS-K71tiY9"
      },
      "source": [
        "---\n",
        "\n",
        "# Integração com Pandas\n",
        "\n",
        "Já sabemos que o Pandas é uma das principais bibliotecas de Python para manipulação de dados. Por isso, é sempre interessante unir Python com Pandas. Já vimos como é possível abrir arquivos xlsx com o Pandas, mas isso já infere que estaremos trabalhando com data frames, o que pode não ser o intuito no seu projeto.\n",
        "\n",
        "\n",
        "<center><img width=\"50%\" src=\"https://images.unsplash.com/photo-1508060769857-4248294a47e5?ixlib=rb-1.2.1&ixid=eyJhcHBfaWQiOjEyMDd9&auto=format&fit=crop&w=667&q=80\"></center>\n",
        "\n",
        "Por isso, é sempre importante saber como levar os dados a um data frame, e depois retorná-los para o formato xlsx, ou o contrário. Essa flexibilidade abre nosso leque de possibilidades e nosso poder analítico, e esse é o foco deste notebook.\n",
        "\n",
        "Mais uma vez, lembrando sobre a atualização da biblioteca e o carregamento dos dados."
      ]
    },
    {
      "cell_type": "code",
      "metadata": {
        "id": "c3JPM-kCvDZW",
        "outputId": "83b00a72-225e-490b-c77a-4f7695562f98",
        "colab": {
          "base_uri": "https://localhost:8080/",
          "height": 34
        }
      },
      "source": [
        "# atualizando a lib\n",
        "!pip install -U openpyxl -q"
      ],
      "execution_count": 1,
      "outputs": [
        {
          "output_type": "stream",
          "text": [
            "\u001b[?25l\r\u001b[K     |█▍                              | 10kB 19.9MB/s eta 0:00:01\r\u001b[K     |██▊                             | 20kB 6.6MB/s eta 0:00:01\r\u001b[K     |████                            | 30kB 6.9MB/s eta 0:00:01\r\u001b[K     |█████▍                          | 40kB 5.5MB/s eta 0:00:01\r\u001b[K     |██████▊                         | 51kB 4.7MB/s eta 0:00:01\r\u001b[K     |████████                        | 61kB 4.6MB/s eta 0:00:01\r\u001b[K     |█████████▌                      | 71kB 4.6MB/s eta 0:00:01\r\u001b[K     |██████████▉                     | 81kB 4.8MB/s eta 0:00:01\r\u001b[K     |████████████▏                   | 92kB 4.6MB/s eta 0:00:01\r\u001b[K     |█████████████▌                  | 102kB 4.8MB/s eta 0:00:01\r\u001b[K     |██████████████▉                 | 112kB 4.8MB/s eta 0:00:01\r\u001b[K     |████████████████▏               | 122kB 4.8MB/s eta 0:00:01\r\u001b[K     |█████████████████▌              | 133kB 4.8MB/s eta 0:00:01\r\u001b[K     |███████████████████             | 143kB 4.8MB/s eta 0:00:01\r\u001b[K     |████████████████████▎           | 153kB 4.8MB/s eta 0:00:01\r\u001b[K     |█████████████████████▋          | 163kB 4.8MB/s eta 0:00:01\r\u001b[K     |███████████████████████         | 174kB 4.8MB/s eta 0:00:01\r\u001b[K     |████████████████████████▎       | 184kB 4.8MB/s eta 0:00:01\r\u001b[K     |█████████████████████████▋      | 194kB 4.8MB/s eta 0:00:01\r\u001b[K     |███████████████████████████     | 204kB 4.8MB/s eta 0:00:01\r\u001b[K     |████████████████████████████▍   | 215kB 4.8MB/s eta 0:00:01\r\u001b[K     |█████████████████████████████▊  | 225kB 4.8MB/s eta 0:00:01\r\u001b[K     |███████████████████████████████ | 235kB 4.8MB/s eta 0:00:01\r\u001b[K     |████████████████████████████████| 245kB 4.8MB/s \n",
            "\u001b[?25h"
          ],
          "name": "stdout"
        }
      ]
    },
    {
      "cell_type": "markdown",
      "metadata": {
        "id": "ekYqh-RJvNsd"
      },
      "source": [
        "## Sobre o Openpyxl\n",
        "O Openpyxl tem ferramentas para converter um xlsx em dataframe, e vice versa. Cada biblioteca tem propriedades que podem ser desejáveis a depender do seu objetivo, e por isso é interessante que saibamos alternar entre elas.\n",
        "\n",
        "Para nosso primeiro caso, vamos abrir o nosso arquivo com Pandas, para simular o recebimento do arquivo como data frame, mas você quer trabalhar com o openpyxl."
      ]
    },
    {
      "cell_type": "code",
      "metadata": {
        "id": "pftlBfl-OtV3",
        "outputId": "4be1e175-3934-48cd-e99f-2a0f42eec770",
        "colab": {
          "base_uri": "https://localhost:8080/",
          "height": 34
        }
      },
      "source": [
        "# importando os pacotes necessários\n",
        "from google.colab import drive\n",
        "\n",
        "# montando o drive\n",
        "drive.mount('/content/gdrive')"
      ],
      "execution_count": 2,
      "outputs": [
        {
          "output_type": "stream",
          "text": [
            "Mounted at /content/gdrive\n"
          ],
          "name": "stdout"
        }
      ]
    },
    {
      "cell_type": "code",
      "metadata": {
        "id": "y7N5HhGRvJTH",
        "outputId": "29dcfc3c-8bf7-4b91-9164-b5d1e73c4a53",
        "colab": {
          "base_uri": "https://localhost:8080/",
          "height": 197
        }
      },
      "source": [
        "# importando o pandas e os dados\n",
        "import pandas as pd\n",
        "df = pd.read_excel('/content/gdrive/My Drive/controle_da_empresa.xlsx')\n",
        "\n",
        "# visualizando o data frame\n",
        "df.head()"
      ],
      "execution_count": 3,
      "outputs": [
        {
          "output_type": "execute_result",
          "data": {
            "text/html": [
              "<div>\n",
              "<style scoped>\n",
              "    .dataframe tbody tr th:only-of-type {\n",
              "        vertical-align: middle;\n",
              "    }\n",
              "\n",
              "    .dataframe tbody tr th {\n",
              "        vertical-align: top;\n",
              "    }\n",
              "\n",
              "    .dataframe thead th {\n",
              "        text-align: right;\n",
              "    }\n",
              "</style>\n",
              "<table border=\"1\" class=\"dataframe\">\n",
              "  <thead>\n",
              "    <tr style=\"text-align: right;\">\n",
              "      <th></th>\n",
              "      <th>Código</th>\n",
              "      <th>Item</th>\n",
              "      <th>Estoque Mínimo</th>\n",
              "      <th>Custo da Unidade</th>\n",
              "      <th>Preço da Unidade</th>\n",
              "      <th>Unidade de Medida</th>\n",
              "      <th>Estoque Atual</th>\n",
              "    </tr>\n",
              "  </thead>\n",
              "  <tbody>\n",
              "    <tr>\n",
              "      <th>0</th>\n",
              "      <td>SIG001</td>\n",
              "      <td>Canon 6D Mark II</td>\n",
              "      <td>5</td>\n",
              "      <td>8500</td>\n",
              "      <td>8500</td>\n",
              "      <td>Unidade</td>\n",
              "      <td>13</td>\n",
              "    </tr>\n",
              "    <tr>\n",
              "      <th>1</th>\n",
              "      <td>SIG002</td>\n",
              "      <td>Canon 5D Mark III</td>\n",
              "      <td>2</td>\n",
              "      <td>9500</td>\n",
              "      <td>13650</td>\n",
              "      <td>Unidade</td>\n",
              "      <td>1</td>\n",
              "    </tr>\n",
              "    <tr>\n",
              "      <th>2</th>\n",
              "      <td>SIG003</td>\n",
              "      <td>Lente 85mm f/1.4</td>\n",
              "      <td>8</td>\n",
              "      <td>7000</td>\n",
              "      <td>9989</td>\n",
              "      <td>Unidade</td>\n",
              "      <td>6</td>\n",
              "    </tr>\n",
              "    <tr>\n",
              "      <th>3</th>\n",
              "      <td>SIG004</td>\n",
              "      <td>Lente 50mm f/1.4</td>\n",
              "      <td>8</td>\n",
              "      <td>900</td>\n",
              "      <td>1649</td>\n",
              "      <td>Unidade</td>\n",
              "      <td>10</td>\n",
              "    </tr>\n",
              "    <tr>\n",
              "      <th>4</th>\n",
              "      <td>SIG005</td>\n",
              "      <td>Lente 16-35mm f/2.8</td>\n",
              "      <td>8</td>\n",
              "      <td>6120</td>\n",
              "      <td>8997</td>\n",
              "      <td>Unidade</td>\n",
              "      <td>11</td>\n",
              "    </tr>\n",
              "  </tbody>\n",
              "</table>\n",
              "</div>"
            ],
            "text/plain": [
              "   Código                 Item  ...  Unidade de Medida  Estoque Atual\n",
              "0  SIG001     Canon 6D Mark II  ...            Unidade             13\n",
              "1  SIG002    Canon 5D Mark III  ...            Unidade              1\n",
              "2  SIG003     Lente 85mm f/1.4  ...            Unidade              6\n",
              "3  SIG004     Lente 50mm f/1.4  ...            Unidade             10\n",
              "4  SIG005  Lente 16-35mm f/2.8  ...            Unidade             11\n",
              "\n",
              "[5 rows x 7 columns]"
            ]
          },
          "metadata": {
            "tags": []
          },
          "execution_count": 3
        }
      ]
    },
    {
      "cell_type": "markdown",
      "metadata": {
        "id": "uekjFqZ6vBCH"
      },
      "source": [
        "## Transformando para XLSX\n",
        "Uma vez carregado nosso data frame, é hora de trabalhar com o openpyxl. Para isso, vamos importar o módulo `Workbook` e dos utilitários do openpyxl vamos puxar do módulo dataframe, o `dataframe_to_rows`, que, como o nome sugere, transforma o dataframe em linhas, como quando lemos um arquivo xlsx."
      ]
    },
    {
      "cell_type": "code",
      "metadata": {
        "id": "Uhh-lATmvp2f"
      },
      "source": [
        "# importando os pacotes necessários\n",
        "from openpyxl import Workbook\n",
        "from openpyxl.utils.dataframe import dataframe_to_rows"
      ],
      "execution_count": 4,
      "outputs": []
    },
    {
      "cell_type": "markdown",
      "metadata": {
        "id": "kDqvBu72wjOR"
      },
      "source": [
        "Para podermos ter esses dados em formato xlsx, primeiro, precisamos criar nossa planilha, e acessar a aba principal, para então inserir os dados nas células.\n",
        "\n",
        "Portanto, vamos criar nossa planilha."
      ]
    },
    {
      "cell_type": "code",
      "metadata": {
        "id": "JFTznW-Kv3vT"
      },
      "source": [
        "# criando a planilha\n",
        "workbook = Workbook()\n",
        "\n",
        "# acessando a aba\n",
        "sheet = workbook.active\n"
      ],
      "execution_count": 5,
      "outputs": []
    },
    {
      "cell_type": "markdown",
      "metadata": {
        "id": "7FMGmYU7vswN"
      },
      "source": [
        "Com nossa planilha aberta, podemos usar um loop for para iterar sobre os dados do data frame, e inserir os mesmos em nossa planilha."
      ]
    },
    {
      "cell_type": "code",
      "metadata": {
        "id": "tFmLxUD5wALS"
      },
      "source": [
        "# iterando sobre o dataframe, inserindo os dados nas células\n",
        "for row in dataframe_to_rows(df, index=False, header=True):\n",
        "  sheet.append(row)\n",
        "\n",
        "# salvando a planilha\n",
        "workbook.save(filename='pandas.xlsx')"
      ],
      "execution_count": 6,
      "outputs": []
    },
    {
      "cell_type": "markdown",
      "metadata": {
        "id": "dURaxdVav2Du"
      },
      "source": [
        "Pronto! Agora podemos utilizar os arquivos que recebemos como csv, em formato xlsx."
      ]
    },
    {
      "cell_type": "markdown",
      "metadata": {
        "id": "LP9pld8Twlni"
      },
      "source": [
        "## Convertendo XLSX para DF\n",
        "\n",
        "Agora que já sabemos ir de Data Frame para XLSX, é hora de fazer o caminho contrário.\n",
        "\n",
        "<center><img width=\"50%\" src=\"https://images.unsplash.com/photo-1460925895917-afdab827c52f?ixlib=rb-1.2.1&ixid=eyJhcHBfaWQiOjEyMDd9&auto=format&fit=crop&w=702&q=80\"></center>\n",
        "\n",
        "Já conhecemos todas as possibilidades que o Pandas e outras bibliotecas trabalhando em conjunto com essa nos proporcionam, portajnto, é bastante interessante direcionarmos nossa análise com o Pandas. \n",
        "\n",
        "Aqui, vamos simular o recebimento de um arquivo em formato xlsx, e transformá-lo em um data frame do Pandas."
      ]
    },
    {
      "cell_type": "markdown",
      "metadata": {
        "id": "ri1oq63Iwo1U"
      },
      "source": [
        "Uma das primeiras coisas que precisaremos fazer é coletar o nome das colunas, pois quando criarmos nosso data frame, elas aparecerão como a primeira linha, e não como coluna.\n",
        "\n",
        "Depois de carregar os dados, vamos renomear as colunas e apagar a coluna extra. Mas, um passo de cada vez. Primeiro, vamos iterar sobre a primeira linha e coletar os nomes das colunas."
      ]
    },
    {
      "cell_type": "code",
      "metadata": {
        "id": "R58qau6ayU7D",
        "outputId": "3750b31c-cac8-46ee-949a-3a355d24c406",
        "colab": {
          "base_uri": "https://localhost:8080/",
          "height": 34
        }
      },
      "source": [
        "# buscando os nomes das colunas\n",
        "for value in sheet.iter_rows(min_row=1,\n",
        "                           max_row=1,\n",
        "                           min_col=1,\n",
        "                           max_col=7,\n",
        "                           values_only=True):\n",
        "  cols = value\n",
        "  print(cols)"
      ],
      "execution_count": 7,
      "outputs": [
        {
          "output_type": "stream",
          "text": [
            "('Código', 'Item', 'Estoque Mínimo', 'Custo da Unidade', 'Preço da Unidade', 'Unidade de Medida', 'Estoque Atual')\n"
          ],
          "name": "stdout"
        }
      ]
    },
    {
      "cell_type": "markdown",
      "metadata": {
        "id": "54pZW3ZyxALg"
      },
      "source": [
        "Agora, iremos coletar os valores presentes na coluna, e transformar em um data frame com a função `DataFrame` do Pandas.\n",
        "\n",
        "Após isso, utilizaremos a lista de colunas que guardamos na variável `cols` para renomear as colunas, e em seguida vamos excluir a primeira linha, que continha o nome das colunas.\n",
        "\n",
        "Por fim, é só visualizar o data frame."
      ]
    },
    {
      "cell_type": "code",
      "metadata": {
        "id": "IebU-PJ5wQKX",
        "outputId": "9f63989d-e87b-4a10-a4a9-d2ddc9f91222",
        "colab": {
          "base_uri": "https://localhost:8080/",
          "height": 197
        }
      },
      "source": [
        "# coletando os valores para o DF\n",
        "values = sheet.values\n",
        "\n",
        "# criando o dataframe\n",
        "df_xl = pd.DataFrame(values)\n",
        "\n",
        "# nomeando as colunas\n",
        "df_xl.columns = cols\n",
        "\n",
        "# removendo linha repetida\n",
        "df_xl.drop(df_xl.index[0], inplace = True)\n",
        "\n",
        "# visualizando o dataset\n",
        "df_xl.head()"
      ],
      "execution_count": 8,
      "outputs": [
        {
          "output_type": "execute_result",
          "data": {
            "text/html": [
              "<div>\n",
              "<style scoped>\n",
              "    .dataframe tbody tr th:only-of-type {\n",
              "        vertical-align: middle;\n",
              "    }\n",
              "\n",
              "    .dataframe tbody tr th {\n",
              "        vertical-align: top;\n",
              "    }\n",
              "\n",
              "    .dataframe thead th {\n",
              "        text-align: right;\n",
              "    }\n",
              "</style>\n",
              "<table border=\"1\" class=\"dataframe\">\n",
              "  <thead>\n",
              "    <tr style=\"text-align: right;\">\n",
              "      <th></th>\n",
              "      <th>Código</th>\n",
              "      <th>Item</th>\n",
              "      <th>Estoque Mínimo</th>\n",
              "      <th>Custo da Unidade</th>\n",
              "      <th>Preço da Unidade</th>\n",
              "      <th>Unidade de Medida</th>\n",
              "      <th>Estoque Atual</th>\n",
              "    </tr>\n",
              "  </thead>\n",
              "  <tbody>\n",
              "    <tr>\n",
              "      <th>1</th>\n",
              "      <td>SIG001</td>\n",
              "      <td>Canon 6D Mark II</td>\n",
              "      <td>5</td>\n",
              "      <td>8500</td>\n",
              "      <td>8500</td>\n",
              "      <td>Unidade</td>\n",
              "      <td>13</td>\n",
              "    </tr>\n",
              "    <tr>\n",
              "      <th>2</th>\n",
              "      <td>SIG002</td>\n",
              "      <td>Canon 5D Mark III</td>\n",
              "      <td>2</td>\n",
              "      <td>9500</td>\n",
              "      <td>13650</td>\n",
              "      <td>Unidade</td>\n",
              "      <td>1</td>\n",
              "    </tr>\n",
              "    <tr>\n",
              "      <th>3</th>\n",
              "      <td>SIG003</td>\n",
              "      <td>Lente 85mm f/1.4</td>\n",
              "      <td>8</td>\n",
              "      <td>7000</td>\n",
              "      <td>9989</td>\n",
              "      <td>Unidade</td>\n",
              "      <td>6</td>\n",
              "    </tr>\n",
              "    <tr>\n",
              "      <th>4</th>\n",
              "      <td>SIG004</td>\n",
              "      <td>Lente 50mm f/1.4</td>\n",
              "      <td>8</td>\n",
              "      <td>900</td>\n",
              "      <td>1649</td>\n",
              "      <td>Unidade</td>\n",
              "      <td>10</td>\n",
              "    </tr>\n",
              "    <tr>\n",
              "      <th>5</th>\n",
              "      <td>SIG005</td>\n",
              "      <td>Lente 16-35mm f/2.8</td>\n",
              "      <td>8</td>\n",
              "      <td>6120</td>\n",
              "      <td>8997</td>\n",
              "      <td>Unidade</td>\n",
              "      <td>11</td>\n",
              "    </tr>\n",
              "  </tbody>\n",
              "</table>\n",
              "</div>"
            ],
            "text/plain": [
              "   Código                 Item  ... Unidade de Medida Estoque Atual\n",
              "1  SIG001     Canon 6D Mark II  ...           Unidade            13\n",
              "2  SIG002    Canon 5D Mark III  ...           Unidade             1\n",
              "3  SIG003     Lente 85mm f/1.4  ...           Unidade             6\n",
              "4  SIG004     Lente 50mm f/1.4  ...           Unidade            10\n",
              "5  SIG005  Lente 16-35mm f/2.8  ...           Unidade            11\n",
              "\n",
              "[5 rows x 7 columns]"
            ]
          },
          "metadata": {
            "tags": []
          },
          "execution_count": 8
        }
      ]
    },
    {
      "cell_type": "code",
      "metadata": {
        "id": "XzKkFYRuylHF"
      },
      "source": [
        ""
      ],
      "execution_count": null,
      "outputs": []
    }
  ]
}