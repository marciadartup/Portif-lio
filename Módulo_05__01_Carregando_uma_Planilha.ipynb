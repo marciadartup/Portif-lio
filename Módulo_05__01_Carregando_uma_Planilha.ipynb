{
  "nbformat": 4,
  "nbformat_minor": 0,
  "metadata": {
    "colab": {
      "name": "Módulo 05 _01 - Carregando uma Planilha",
      "provenance": [],
      "collapsed_sections": [],
      "toc_visible": true,
      "include_colab_link": true
    },
    "kernelspec": {
      "name": "python3",
      "display_name": "Python 3"
    }
  },
  "cells": [
    {
      "cell_type": "markdown",
      "metadata": {
        "id": "view-in-github",
        "colab_type": "text"
      },
      "source": [
        "<a href=\"https://colab.research.google.com/github/marciadartup/Portif-lio/blob/master/M%C3%B3dulo_05__01_Carregando_uma_Planilha.ipynb\" target=\"_parent\"><img src=\"https://colab.research.google.com/assets/colab-badge.svg\" alt=\"Open In Colab\"/></a>"
      ]
    },
    {
      "cell_type": "markdown",
      "metadata": {
        "id": "KBpai48fv9gz"
      },
      "source": [
        "\n",
        "---\n",
        "\n",
        "## Carregando uma Planilha\n",
        "\n",
        "A biblioteca `openpyxl` permite que seja feita, com facilidade, a manipulação de arquivos em formato .xlsx, do Microsoft Excel por meio do Python. Essa é uma habilidade importantíssima devido ao amplo uso da ferramenta no ambiente profissional.\n",
        "\n",
        "\n",
        "<center><img width=\"50%\" src=\"https://image.freepik.com/free-photo/hacking-concept_23-2148165936.jpg\"></center>\n",
        "\n",
        "Vamos ver como ela funciona na prática.\n",
        "\n",
        "O openpyxl vem por padrão no Colab, mas sua versão desatualizada não será capaz de fazer tudo o que precisamos. Por isso, o primeiro passo sempre que abrir um notebook onde o openpyxl será necessário é rodar o comando abaixo, para atualizar o pacote no notebook."
      ]
    },
    {
      "cell_type": "code",
      "metadata": {
        "id": "bGMoE_gjm4t5",
        "outputId": "0a4f0dcc-e838-4b6e-d9fa-0a88a6f05b78",
        "colab": {
          "base_uri": "https://localhost:8080/",
          "height": 34
        }
      },
      "source": [
        "# atualizando o pacote\n",
        "!pip install -U openpyxl -q"
      ],
      "execution_count": 1,
      "outputs": [
        {
          "output_type": "stream",
          "text": [
            "\u001b[?25l\r\u001b[K     |█▍                              | 10kB 21.1MB/s eta 0:00:01\r\u001b[K     |██▊                             | 20kB 2.2MB/s eta 0:00:01\r\u001b[K     |████                            | 30kB 2.8MB/s eta 0:00:01\r\u001b[K     |█████▍                          | 40kB 3.0MB/s eta 0:00:01\r\u001b[K     |██████▊                         | 51kB 2.6MB/s eta 0:00:01\r\u001b[K     |████████                        | 61kB 2.8MB/s eta 0:00:01\r\u001b[K     |█████████▌                      | 71kB 3.1MB/s eta 0:00:01\r\u001b[K     |██████████▉                     | 81kB 3.2MB/s eta 0:00:01\r\u001b[K     |████████████▏                   | 92kB 3.6MB/s eta 0:00:01\r\u001b[K     |█████████████▌                  | 102kB 3.4MB/s eta 0:00:01\r\u001b[K     |██████████████▉                 | 112kB 3.4MB/s eta 0:00:01\r\u001b[K     |████████████████▏               | 122kB 3.4MB/s eta 0:00:01\r\u001b[K     |█████████████████▌              | 133kB 3.4MB/s eta 0:00:01\r\u001b[K     |███████████████████             | 143kB 3.4MB/s eta 0:00:01\r\u001b[K     |████████████████████▎           | 153kB 3.4MB/s eta 0:00:01\r\u001b[K     |█████████████████████▋          | 163kB 3.4MB/s eta 0:00:01\r\u001b[K     |███████████████████████         | 174kB 3.4MB/s eta 0:00:01\r\u001b[K     |████████████████████████▎       | 184kB 3.4MB/s eta 0:00:01\r\u001b[K     |█████████████████████████▋      | 194kB 3.4MB/s eta 0:00:01\r\u001b[K     |███████████████████████████     | 204kB 3.4MB/s eta 0:00:01\r\u001b[K     |████████████████████████████▍   | 215kB 3.4MB/s eta 0:00:01\r\u001b[K     |█████████████████████████████▊  | 225kB 3.4MB/s eta 0:00:01\r\u001b[K     |███████████████████████████████ | 235kB 3.4MB/s eta 0:00:01\r\u001b[K     |████████████████████████████████| 245kB 3.4MB/s \n",
            "\u001b[?25h"
          ],
          "name": "stdout"
        }
      ]
    },
    {
      "cell_type": "markdown",
      "metadata": {
        "id": "iWG1rrb26cFl"
      },
      "source": [
        "## Criando uma Planilha\n",
        "\n",
        "Aqui, vamos entender como funciona a nomenclatura utilizada pelo pacote. A planilha, e aqui leia-se o arquivo xlsx é chamado de `workbook`. Por tanto, vamos criar um objeto do tipo Workbook, e associá-lo à variável workbook.\n",
        "\n",
        "Dentro de um workbook, podemos ter diferentes *sheets*. Apesar da tradução livre para sheet ser planilha, aqui, vamos trabalhar as **abas** da planilha. \n",
        "\n",
        "Sempre precisamos definir qual a aba que será ativada e utilizada. Passando somente o padrão `active`, ele abrirá a primeira aba, aquela que aparece quando abrimos o arquivo. Vamos ver mais pra frente, como fazer para trabalhar com planilhas com variadas abas"
      ]
    },
    {
      "cell_type": "code",
      "metadata": {
        "id": "PgBQkKtknIXl"
      },
      "source": [
        "# importando a lib\n",
        "from openpyxl import Workbook\n",
        "\n",
        "# criando o workbook/ planilha\n",
        "workbook = Workbook()\n",
        "\n",
        "# selecionando a aba\n",
        "sheet = workbook.active"
      ],
      "execution_count": 2,
      "outputs": []
    },
    {
      "cell_type": "markdown",
      "metadata": {
        "id": "9wy8cPjL7lMq"
      },
      "source": [
        "## Escrevendo na Planilha\n",
        "Agora que estamos dentro da aba, dentro da planilha, podemos acessar as células, e associar valores a elas."
      ]
    },
    {
      "cell_type": "code",
      "metadata": {
        "id": "HLC9Z-jf7aa5"
      },
      "source": [
        "# acessando as células A1 e B1 e associando valores a elas\n",
        "sheet['A1'] = 'hello'\n",
        "sheet['B1'] = 'world'\n",
        "\n",
        "# para salvar as alterações, utilizar o comando abaixo\n",
        "workbook.save(filename='helloworld.xlsx')"
      ],
      "execution_count": 3,
      "outputs": []
    },
    {
      "cell_type": "markdown",
      "metadata": {
        "id": "OMQBayzl77L9"
      },
      "source": [
        "## Carregando uma Planilha\n",
        "\n",
        "Além de criar planilhas, também podemos acessar planilhas criadas previamente. Como estamos lidando com o Google Colab aqui, vamos fazer o upload da planilha, que foi disponibilizada no material de apoio dessa aula. É a mesma que utilizamos em aulas anteriores, de controle da empresa.\n",
        "\n",
        "Agora, vamos utilizar um outro módulo da lib openpyxl, que se chama `load_workbook`. Sua função, como o nome sugere, é carregar planilhas."
      ]
    },
    {
      "cell_type": "code",
      "metadata": {
        "id": "yjU1QnyHk_sv",
        "outputId": "ab157303-69b0-454d-f27f-5030597d2f12",
        "colab": {
          "base_uri": "https://localhost:8080/",
          "height": 34
        }
      },
      "source": [
        "# importando os pacotes necessários\n",
        "from google.colab import drive\n",
        "\n",
        "# montando o drive\n",
        "drive.mount('/content/gdrive')"
      ],
      "execution_count": 8,
      "outputs": [
        {
          "output_type": "stream",
          "text": [
            "Drive already mounted at /content/gdrive; to attempt to forcibly remount, call drive.mount(\"/content/gdrive\", force_remount=True).\n"
          ],
          "name": "stdout"
        }
      ]
    },
    {
      "cell_type": "code",
      "metadata": {
        "id": "SEHnhiN4lWDP",
        "outputId": "6db6f5fb-f013-4928-aee2-e39db2e112f2",
        "colab": {
          "base_uri": "https://localhost:8080/",
          "height": 141
        }
      },
      "source": [
        "# listando arquivos\n",
        "!ls 'gdrive/My Drive/'"
      ],
      "execution_count": 10,
      "outputs": [
        {
          "output_type": "stream",
          "text": [
            " 1relatorios\t     'Arquivos Colab (1)'       relatorios\n",
            " 8546071.xlsx\t     'Arquivo tratado.csv'      vendasexato.csv\n",
            " 8546072.csv\t     'Colab Notebooks'\t        vendasexato.xlsx\n",
            " 8546072.xls\t      dartup_estoque.pdf        Vendas_Lojas1.csv\n",
            " 854607alterado.csv   housing.csv\t        Vendas_Lojas.csv\n",
            " 854607novo.csv       lista_de_clientes.txt\n",
            "'Arquivos Colab'      modelo_de_relatorio.pdf\n"
          ],
          "name": "stdout"
        }
      ]
    },
    {
      "cell_type": "code",
      "metadata": {
        "id": "vQTslL3soQ7b",
        "outputId": "660db683-799f-45d0-8c3c-eac8bdd581b9",
        "colab": {
          "base_uri": "https://localhost:8080/",
          "height": 34
        }
      },
      "source": [
        "# carregando uma planilha\n",
        "from openpyxl import load_workbook\n",
        "\n",
        "# carregando o arquivo\n",
        "workbook = load_workbook(filename='controle_da_empresa.xlsx')\n",
        "\n",
        "# verificando as abas\n",
        "workbook.sheetnames"
      ],
      "execution_count": 11,
      "outputs": [
        {
          "output_type": "execute_result",
          "data": {
            "text/plain": [
              "['Estoque', 'Vendas', 'Funcionários']"
            ]
          },
          "metadata": {
            "tags": []
          },
          "execution_count": 11
        }
      ]
    },
    {
      "cell_type": "markdown",
      "metadata": {
        "id": "lnbdDthx8yXf"
      },
      "source": [
        "Essa planilha conta com 3 abas diferentes. Por isso, o mais interessante é que utilizemos o comando abaixo, para selecionar a planilha específica que desejamos utilizar."
      ]
    },
    {
      "cell_type": "code",
      "metadata": {
        "id": "6KJU83DlpZG8",
        "outputId": "bfdc78a8-d0eb-47ee-9e6f-3c229f097a0d",
        "colab": {
          "base_uri": "https://localhost:8080/",
          "height": 35
        }
      },
      "source": [
        "# selecionando a aba ativa\n",
        "sheet = workbook['Vendas']\n",
        "\n",
        "# verificando a aba aberta\n",
        "sheet.title"
      ],
      "execution_count": 12,
      "outputs": [
        {
          "output_type": "execute_result",
          "data": {
            "application/vnd.google.colaboratory.intrinsic+json": {
              "type": "string"
            },
            "text/plain": [
              "'Vendas'"
            ]
          },
          "metadata": {
            "tags": []
          },
          "execution_count": 12
        }
      ]
    },
    {
      "cell_type": "markdown",
      "metadata": {
        "id": "KMOKBIFc9Wpe"
      },
      "source": [
        "## Acessando as Células\n",
        "Para acessar uma célula, basta usar o comando abaixo. Lembre-se de passar o método .value, para que a consulta retorne o valor inserido dentro da célula."
      ]
    },
    {
      "cell_type": "code",
      "metadata": {
        "id": "O3rVhPqXp0q0",
        "outputId": "e5a4c4d1-fff1-487b-b092-35881b81012f",
        "colab": {
          "base_uri": "https://localhost:8080/",
          "height": 34
        }
      },
      "source": [
        "# acesando as células\n",
        "sheet['F10'].value"
      ],
      "execution_count": 13,
      "outputs": [
        {
          "output_type": "execute_result",
          "data": {
            "text/plain": [
              "17994"
            ]
          },
          "metadata": {
            "tags": []
          },
          "execution_count": 13
        }
      ]
    },
    {
      "cell_type": "markdown",
      "metadata": {
        "id": "Rv07pL179qjW"
      },
      "source": [
        "Também é possível acessar o conteúdo por meio do método cell, passando o número da coluna e da linha.\n",
        "\n",
        "Atenção para o index do excel que começa em 1, diferente do Python que começa em 0.\n"
      ]
    },
    {
      "cell_type": "code",
      "metadata": {
        "id": "mlq3t1c8qF-M",
        "outputId": "06ea0fc5-5378-4c66-8554-718b5889620f",
        "colab": {
          "base_uri": "https://localhost:8080/",
          "height": 34
        }
      },
      "source": [
        "# acessando as células\n",
        "sheet.cell(row=10, column=6).value"
      ],
      "execution_count": 14,
      "outputs": [
        {
          "output_type": "execute_result",
          "data": {
            "text/plain": [
              "17994"
            ]
          },
          "metadata": {
            "tags": []
          },
          "execution_count": 14
        }
      ]
    },
    {
      "cell_type": "markdown",
      "metadata": {
        "id": "jBpImk_yss5k"
      },
      "source": [
        "Atenção também para alguns argumentos que a função load_workbook recebe.\n",
        "\n",
        "* `read_only` tem por padrão `False`, o que nos possibilita manipular os dados.\n",
        "\n",
        "* `data_only` também recebe por padrão o argumento `False`. Caso seja passado `True`, qualquer célula que tenha fórmula, transmitirá somente o valor resultante da ação executada pela fórmula, sem aparesentar a mesma."
      ]
    },
    {
      "cell_type": "code",
      "metadata": {
        "id": "zz3eNOaxqyv5",
        "outputId": "b75906ab-41cd-43d2-e49b-f3d9554d8843",
        "colab": {
          "base_uri": "https://localhost:8080/",
          "height": 185
        }
      },
      "source": [
        "# adicione os parênteses e verifique a doc string para ver os argumentos\n",
        "workbook2 = load_workbook(read_only=True, data_only=True)"
      ],
      "execution_count": 15,
      "outputs": [
        {
          "output_type": "error",
          "ename": "TypeError",
          "evalue": "ignored",
          "traceback": [
            "\u001b[0;31m---------------------------------------------------------------------------\u001b[0m",
            "\u001b[0;31mTypeError\u001b[0m                                 Traceback (most recent call last)",
            "\u001b[0;32m<ipython-input-15-e45c247a8554>\u001b[0m in \u001b[0;36m<module>\u001b[0;34m()\u001b[0m\n\u001b[1;32m      1\u001b[0m \u001b[0;31m# adicione os parênteses e verifique a doc string para ver os argumentos\u001b[0m\u001b[0;34m\u001b[0m\u001b[0;34m\u001b[0m\u001b[0;34m\u001b[0m\u001b[0m\n\u001b[0;32m----> 2\u001b[0;31m \u001b[0mworkbook2\u001b[0m \u001b[0;34m=\u001b[0m \u001b[0mload_workbook\u001b[0m\u001b[0;34m(\u001b[0m\u001b[0mread_only\u001b[0m\u001b[0;34m=\u001b[0m\u001b[0;32mTrue\u001b[0m\u001b[0;34m,\u001b[0m \u001b[0mdata_only\u001b[0m\u001b[0;34m=\u001b[0m\u001b[0;32mTrue\u001b[0m\u001b[0;34m)\u001b[0m\u001b[0;34m\u001b[0m\u001b[0;34m\u001b[0m\u001b[0m\n\u001b[0m",
            "\u001b[0;31mTypeError\u001b[0m: load_workbook() missing 1 required positional argument: 'filename'"
          ]
        }
      ]
    },
    {
      "cell_type": "code",
      "metadata": {
        "id": "CZdSsTOcuwpl"
      },
      "source": [
        ""
      ],
      "execution_count": null,
      "outputs": []
    }
  ]
}