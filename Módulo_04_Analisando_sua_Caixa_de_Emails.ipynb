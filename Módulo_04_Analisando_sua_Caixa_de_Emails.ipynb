{
  "nbformat": 4,
  "nbformat_minor": 0,
  "metadata": {
    "colab": {
      "name": "Módulo 04_Analisando sua Caixa de Emails.ipynb",
      "provenance": [],
      "collapsed_sections": [],
      "include_colab_link": true
    },
    "kernelspec": {
      "name": "python3",
      "display_name": "Python 3"
    }
  },
  "cells": [
    {
      "cell_type": "markdown",
      "metadata": {
        "id": "view-in-github",
        "colab_type": "text"
      },
      "source": [
        "<a href=\"https://colab.research.google.com/github/marciadartup/Portif-lio/blob/master/M%C3%B3dulo_04_Analisando_sua_Caixa_de_Emails.ipynb\" target=\"_parent\"><img src=\"https://colab.research.google.com/assets/colab-badge.svg\" alt=\"Open In Colab\"/></a>"
      ]
    },
    {
      "cell_type": "markdown",
      "metadata": {
        "id": "jjYq8hKyOM3T",
        "colab_type": "text"
      },
      "source": [
        "\n",
        "\n",
        "---\n",
        "\n",
        "# Analisando sua Caixa de Emails\n",
        "\n",
        "Todos os dias recebemos uma grande quantidade de e-mails que nos trazem variados tipos de informações em diversos formatos. Mas como organizar, entender e trabalhar com todos esses dados disponíveis?\n",
        "\n",
        "\n",
        "<center><img width=\"50%\" src=\"https://image.freepik.com/free-vector/mail-sent-concept-illustration_114360-168.jpg\"></center>\n",
        "\n",
        "Nessa aula, veremos como acessar, baixar e trabalhar com os dados que recebemos por e-mail."
      ]
    },
    {
      "cell_type": "markdown",
      "metadata": {
        "id": "MMk0flsQA6ZH",
        "colab_type": "text"
      },
      "source": [
        "## Coletando os Dados\n",
        "\n",
        "Antes de começar, você vai precisar acessar sua conta do **Gmail**. Faça o login no mesmo navegador que você está utilizando agora, pois será necessário se conectar à sua conta.\n",
        "\n",
        "Quando você estiver logado, clique [aqui](https://takeout.google.com/settings/takeout).\n",
        "\n",
        "Na página do Google Takeout, ele te oferece diversas opções de dados de serviços Google a serem baixados. Entretanto, aqui estamos focados em e-mails, portanto, vamos **Desmarcar Tudo**.\n",
        "\n",
        "<center><img width=\"50%\" src=\"https://github.com/rafaelnduarte/sigmoidal_data/blob/master/Screen%20Shot%202020-09-16%20at%2011.09.01%20AM.png?raw=true\"></center>\n",
        "\n",
        "Assim, ele irá fazer o download apenas do que nós selecionarmos. Vamos selecionar **apenas o Gmail**, e seguir para o próximo passo, onde vamos configurar as opções de download.\n",
        "\n",
        "<center><img width=\"50%\" src=\"https://github.com/rafaelnduarte/sigmoidal_data/blob/master/Screen%20Shot%202020-09-16%20at%2011.09.17%20AM.png?raw=true\"></center>\n",
        "\n",
        "No próximo passo, vamos selecionar que o link de download seja enviado por e-mail, que os dados sejam exportados apenas uma vez,  vamos selecionar o formato `.zip`, e selecionar o tamanho do arquivo para 50GB.\n",
        "\n",
        "<center><img width=\"50%\" src=\"https://github.com/rafaelnduarte/sigmoidal_data/blob/master/Screen%20Shot%202020-09-16%20at%2011.19.50%20AM.png?raw=true\"></center>\n",
        "\n",
        "Atenção! Os dados podem demorar bastante para serem enviados, a depender do tamanho do arquivo que será gerado, caso sua caixa esteja muito cheia. É importante entender que o processo pode demorar. Mais dados nos ajudam a ter uma noção melhor do que está acontecendo, mas, caso prefira, é possível coletar um volume menor de dados.\n",
        "\n",
        "O processo pode levar várias horas, e até mais de um dia. Tenha paciência, e assim que receber e baixar, dê seguimento ao projeto por aqui."
      ]
    },
    {
      "cell_type": "code",
      "metadata": {
        "id": "xRiwElxQ7w88",
        "colab_type": "code",
        "colab": {
          "base_uri": "https://localhost:8080/",
          "height": 72
        },
        "outputId": "f174d88f-e497-4594-de6d-bdcc17426f29"
      },
      "source": [
        "# importando os pacotes necessários\n",
        "import pandas as pd\n",
        "import numpy as np\n",
        "import matplotlib.pyplot as plt\n",
        "import mailbox\n",
        "import re\n",
        "import pytz\n",
        "import seaborn as sns"
      ],
      "execution_count": 1,
      "outputs": [
        {
          "output_type": "stream",
          "text": [
            "/usr/local/lib/python3.6/dist-packages/statsmodels/tools/_testing.py:19: FutureWarning: pandas.util.testing is deprecated. Use the functions in the public API at pandas.testing instead.\n",
            "  import pandas.util.testing as tm\n"
          ],
          "name": "stderr"
        }
      ]
    },
    {
      "cell_type": "markdown",
      "metadata": {
        "id": "1APqUyjqTcCq",
        "colab_type": "text"
      },
      "source": [
        "## Carregando os Dados\n",
        "Após fazer o download do arquivo .zip, faça o upload do mesmo para o Colab através da aba de arquivos à esquerda do navegador. Uma vez lá, copie o caminho, e use esse endereço para carregar o arquivo como fizemos abaixo."
      ]
    },
    {
      "cell_type": "code",
      "metadata": {
        "id": "ivRnPgeDJJmk",
        "colab_type": "code",
        "colab": {
          "base_uri": "https://localhost:8080/",
          "height": 70
        },
        "outputId": "3718ae60-dab0-45d3-b31c-f9241a20dc49"
      },
      "source": [
        "!unzip /content/takeout-20200925T101207Z-001.zip"
      ],
      "execution_count": 4,
      "outputs": [
        {
          "output_type": "stream",
          "text": [
            "Archive:  /content/takeout-20200925T101207Z-001.zip\n",
            "  inflating: Takeout/E-mail/Todos os e-mails, incluindo Spam e Lixeira.mbox  \n",
            "  inflating: Takeout/navegador_arquivo.html  \n"
          ],
          "name": "stdout"
        }
      ]
    },
    {
      "cell_type": "markdown",
      "metadata": {
        "id": "Aq5VP2qITya8",
        "colab_type": "text"
      },
      "source": [
        "Agora que fizemos o upload e descompactamos o arquivo, é hora de carregar os dados do nosso e-mail. Para isso, vamos utilizar a biblioteca `mailbox` para carregar o arquivo do tipo `mbox` contido no nosso arquivo zip."
      ]
    },
    {
      "cell_type": "code",
      "metadata": {
        "id": "r2kSgDGG8Sei",
        "colab_type": "code",
        "colab": {}
      },
      "source": [
        "# carregando o arquivo\n",
        "mbox = mailbox.mbox(\"/content/Takeout/E-mail/Todos os e-mails, incluindo Spam e Lixeira.mbox\")"
      ],
      "execution_count": 5,
      "outputs": []
    },
    {
      "cell_type": "code",
      "metadata": {
        "id": "gsSzk35S-KT0",
        "colab_type": "code",
        "colab": {
          "base_uri": "https://localhost:8080/",
          "height": 532
        },
        "outputId": "f933dd78-cbe3-44fa-ceed-a97607b4e9ee"
      },
      "source": [
        "# visualizando as chaves\n",
        "mbox[0].keys()"
      ],
      "execution_count": 6,
      "outputs": [
        {
          "output_type": "execute_result",
          "data": {
            "text/plain": [
              "['X-GM-THRID',\n",
              " 'X-Gmail-Labels',\n",
              " 'Delivered-To',\n",
              " 'Received',\n",
              " 'X-Google-Smtp-Source',\n",
              " 'X-Received',\n",
              " 'ARC-Seal',\n",
              " 'ARC-Message-Signature',\n",
              " 'ARC-Authentication-Results',\n",
              " 'Return-Path',\n",
              " 'Received',\n",
              " 'Received-SPF',\n",
              " 'Authentication-Results',\n",
              " 'DKIM-Signature',\n",
              " 'DKIM-Signature',\n",
              " 'Received',\n",
              " 'Received',\n",
              " 'Content-Type',\n",
              " 'Date',\n",
              " 'From',\n",
              " 'Mime-Version',\n",
              " 'Precedence',\n",
              " 'Reply-to',\n",
              " 'Subject',\n",
              " 'To',\n",
              " 'Message-ID',\n",
              " 'X-SG-EID',\n",
              " 'X-SG-ID',\n",
              " 'X-Feedback-ID']"
            ]
          },
          "metadata": {
            "tags": []
          },
          "execution_count": 6
        }
      ]
    },
    {
      "cell_type": "markdown",
      "metadata": {
        "id": "RQNa-bKiUm4C",
        "colab_type": "text"
      },
      "source": [
        "## Criando o Data Frame\n",
        "Para que possamos trabalhar melhor com esses dados, vamos extrair os mesmos, salvá-los em um dicionário e construir com ele um data frame.\n",
        "\n",
        "Para isso, vamos criar um dicionário, onde as chaves são as informações que queremos puxar, e os valores serão as entradas de cada e-mail, para cada variável de interesse.\n",
        "\n",
        "Criaremos um loop for, para percorrer nosso arqvuio mbox, e pra cada mensagem, pegar as informações e adicioná-las aoo nosso dicionário."
      ]
    },
    {
      "cell_type": "code",
      "metadata": {
        "id": "GAGjVkbVF7zi",
        "colab_type": "code",
        "colab": {}
      },
      "source": [
        "# criando o dicionário\n",
        "email_dict = {\n",
        "    'date': [],\n",
        "    'from': [],\n",
        "    'to': [],\n",
        "    'subject': [],\n",
        "    'labels': []\n",
        "}\n",
        "\n",
        "# coletando os dados\n",
        "for message in mbox:\n",
        "    email_dict['date'].append(message['date'])\n",
        "    email_dict['from'].append(message['from'])\n",
        "    email_dict['to'].append(message['to'])\n",
        "    email_dict['subject'].append(message['subject'])\n",
        "    email_dict['labels'].append(message['X-Gmail-Labels'])"
      ],
      "execution_count": 7,
      "outputs": []
    },
    {
      "cell_type": "code",
      "metadata": {
        "id": "YgCgQrryJ8fJ",
        "colab_type": "code",
        "colab": {}
      },
      "source": [
        "# transformando em dataframe\n",
        "df = pd.DataFrame(email_dict)"
      ],
      "execution_count": 8,
      "outputs": []
    },
    {
      "cell_type": "code",
      "metadata": {
        "id": "Bfozb_IvMAPO",
        "colab_type": "code",
        "colab": {
          "base_uri": "https://localhost:8080/",
          "height": 497
        },
        "outputId": "35ca7aa9-de24-4259-9b71-5e6ed0015c5a"
      },
      "source": [
        "# visualizando as primeiras entradas\n",
        "df.head()"
      ],
      "execution_count": 9,
      "outputs": [
        {
          "output_type": "execute_result",
          "data": {
            "text/html": [
              "<div>\n",
              "<style scoped>\n",
              "    .dataframe tbody tr th:only-of-type {\n",
              "        vertical-align: middle;\n",
              "    }\n",
              "\n",
              "    .dataframe tbody tr th {\n",
              "        vertical-align: top;\n",
              "    }\n",
              "\n",
              "    .dataframe thead th {\n",
              "        text-align: right;\n",
              "    }\n",
              "</style>\n",
              "<table border=\"1\" class=\"dataframe\">\n",
              "  <thead>\n",
              "    <tr style=\"text-align: right;\">\n",
              "      <th></th>\n",
              "      <th>date</th>\n",
              "      <th>from</th>\n",
              "      <th>to</th>\n",
              "      <th>subject</th>\n",
              "      <th>labels</th>\n",
              "    </tr>\n",
              "  </thead>\n",
              "  <tbody>\n",
              "    <tr>\n",
              "      <th>0</th>\n",
              "      <td>Sun, 20 Sep 2020 15:27:44 +0000 (UTC)</td>\n",
              "      <td>\"SESCON-MG\" &lt;faleconosco@sescon-mg.com.br&gt;</td>\n",
              "      <td>marcia.darts@gmail.com</td>\n",
              "      <td>=?UTF-8?B?Q2ljbG8gUGFsZXN0cmFzIGRlIERpcmVpdG8g...</td>\n",
              "      <td>=?UTF-8?Q?Caixa_de_entrada,Categoria:_promo=C3...</td>\n",
              "    </tr>\n",
              "    <tr>\n",
              "      <th>1</th>\n",
              "      <td>Mon, 21 Sep 2020 15:43:11 -0700</td>\n",
              "      <td>Kaggle &lt;noreply@kaggle.com&gt;</td>\n",
              "      <td>marcia.darts@gmail.com</td>\n",
              "      <td>Updated Privacy Policy and Terms</td>\n",
              "      <td>=?UTF-8?Q?Caixa_de_entrada,Importante,A?=\\r\\n ...</td>\n",
              "    </tr>\n",
              "    <tr>\n",
              "      <th>2</th>\n",
              "      <td>Thu, 17 Sep 2020 15:21:05 +0000 (UTC)</td>\n",
              "      <td>\"James Clear\" &lt;james@jamesclear.com&gt;</td>\n",
              "      <td>\"\" &lt;marcia.darts@gmail.com&gt;</td>\n",
              "      <td>3-2-1: On talent, qualities of a great career,...</td>\n",
              "      <td>=?UTF-8?Q?Caixa_de_entrada,Importante,A?=\\r\\n ...</td>\n",
              "    </tr>\n",
              "    <tr>\n",
              "      <th>3</th>\n",
              "      <td>Sat, 19 Sep 2020 11:03:32 +0000</td>\n",
              "      <td>=?utf-8?Q?Tribut=C3=A1rio?= &lt;newsletter@tribut...</td>\n",
              "      <td>=?utf-8?Q?marcia.darts?= &lt;marcia.darts@gmail.com&gt;</td>\n",
              "      <td>=?utf-8?Q?14=20novidades=2C=20destaque=20para=...</td>\n",
              "      <td>=?UTF-8?Q?Caixa_de_entrada,Categoria:_promo=C3...</td>\n",
              "    </tr>\n",
              "    <tr>\n",
              "      <th>4</th>\n",
              "      <td>Sun, 20 Sep 2020 11:50:00 +0000 (UTC)</td>\n",
              "      <td>\"Medium Daily Digest\" &lt;noreply@medium.com&gt;</td>\n",
              "      <td>marcia.darts@gmail.com</td>\n",
              "      <td>=?UTF-8?B?UmljaGFyZCBGZXlubWFuIG9uIHRoZSBEaWZm...</td>\n",
              "      <td>=?UTF-8?Q?Caixa_de_entrada,Categoria:_promo=C3...</td>\n",
              "    </tr>\n",
              "  </tbody>\n",
              "</table>\n",
              "</div>"
            ],
            "text/plain": [
              "                                    date  ...                                             labels\n",
              "0  Sun, 20 Sep 2020 15:27:44 +0000 (UTC)  ...  =?UTF-8?Q?Caixa_de_entrada,Categoria:_promo=C3...\n",
              "1        Mon, 21 Sep 2020 15:43:11 -0700  ...  =?UTF-8?Q?Caixa_de_entrada,Importante,A?=\\r\\n ...\n",
              "2  Thu, 17 Sep 2020 15:21:05 +0000 (UTC)  ...  =?UTF-8?Q?Caixa_de_entrada,Importante,A?=\\r\\n ...\n",
              "3        Sat, 19 Sep 2020 11:03:32 +0000  ...  =?UTF-8?Q?Caixa_de_entrada,Categoria:_promo=C3...\n",
              "4  Sun, 20 Sep 2020 11:50:00 +0000 (UTC)  ...  =?UTF-8?Q?Caixa_de_entrada,Categoria:_promo=C3...\n",
              "\n",
              "[5 rows x 5 columns]"
            ]
          },
          "metadata": {
            "tags": []
          },
          "execution_count": 9
        }
      ]
    },
    {
      "cell_type": "code",
      "metadata": {
        "id": "EeewqwoEMIsX",
        "colab_type": "code",
        "colab": {
          "base_uri": "https://localhost:8080/",
          "height": 123
        },
        "outputId": "093b1ee3-d353-4337-e5c2-67d4e176605d"
      },
      "source": [
        "# verificando os tipos\n",
        "df.dtypes"
      ],
      "execution_count": 10,
      "outputs": [
        {
          "output_type": "execute_result",
          "data": {
            "text/plain": [
              "date       object\n",
              "from       object\n",
              "to         object\n",
              "subject    object\n",
              "labels     object\n",
              "dtype: object"
            ]
          },
          "metadata": {
            "tags": []
          },
          "execution_count": 10
        }
      ]
    },
    {
      "cell_type": "markdown",
      "metadata": {
        "id": "ZR00qmLZVYPw",
        "colab_type": "text"
      },
      "source": [
        "Ao verificar os tipos das variáveis, já conseguimos perceber que precisaremos trablhar a coluna `date`. Essa coluna nos traz informações de data, mas está em formato `object`, é uma string.\n",
        "\n",
        "Portanto, vamos converter para o formato `datetime`. Entretanto, essa coluna nos trás informácões de Time Zones, e precisamos passar o parâmetro `utc=True`, para que a conversão possa ser feita corretamente."
      ]
    },
    {
      "cell_type": "code",
      "metadata": {
        "id": "DfmsPMeaMJ1S",
        "colab_type": "code",
        "colab": {}
      },
      "source": [
        "# convertendo date para datetime\n",
        "df['date'] = pd.to_datetime(df['date'], utc=True)"
      ],
      "execution_count": 11,
      "outputs": []
    },
    {
      "cell_type": "code",
      "metadata": {
        "id": "-SeJneUOMN8z",
        "colab_type": "code",
        "colab": {
          "base_uri": "https://localhost:8080/",
          "height": 334
        },
        "outputId": "ed17865d-3a8c-4812-9191-7dc28874046f"
      },
      "source": [
        "# verificando as primeiras entradas\n",
        "df.head()"
      ],
      "execution_count": 12,
      "outputs": [
        {
          "output_type": "execute_result",
          "data": {
            "text/html": [
              "<div>\n",
              "<style scoped>\n",
              "    .dataframe tbody tr th:only-of-type {\n",
              "        vertical-align: middle;\n",
              "    }\n",
              "\n",
              "    .dataframe tbody tr th {\n",
              "        vertical-align: top;\n",
              "    }\n",
              "\n",
              "    .dataframe thead th {\n",
              "        text-align: right;\n",
              "    }\n",
              "</style>\n",
              "<table border=\"1\" class=\"dataframe\">\n",
              "  <thead>\n",
              "    <tr style=\"text-align: right;\">\n",
              "      <th></th>\n",
              "      <th>date</th>\n",
              "      <th>from</th>\n",
              "      <th>to</th>\n",
              "      <th>subject</th>\n",
              "      <th>labels</th>\n",
              "    </tr>\n",
              "  </thead>\n",
              "  <tbody>\n",
              "    <tr>\n",
              "      <th>0</th>\n",
              "      <td>2020-09-20 15:27:44+00:00</td>\n",
              "      <td>\"SESCON-MG\" &lt;faleconosco@sescon-mg.com.br&gt;</td>\n",
              "      <td>marcia.darts@gmail.com</td>\n",
              "      <td>=?UTF-8?B?Q2ljbG8gUGFsZXN0cmFzIGRlIERpcmVpdG8g...</td>\n",
              "      <td>=?UTF-8?Q?Caixa_de_entrada,Categoria:_promo=C3...</td>\n",
              "    </tr>\n",
              "    <tr>\n",
              "      <th>1</th>\n",
              "      <td>2020-09-21 22:43:11+00:00</td>\n",
              "      <td>Kaggle &lt;noreply@kaggle.com&gt;</td>\n",
              "      <td>marcia.darts@gmail.com</td>\n",
              "      <td>Updated Privacy Policy and Terms</td>\n",
              "      <td>=?UTF-8?Q?Caixa_de_entrada,Importante,A?=\\r\\n ...</td>\n",
              "    </tr>\n",
              "    <tr>\n",
              "      <th>2</th>\n",
              "      <td>2020-09-17 15:21:05+00:00</td>\n",
              "      <td>\"James Clear\" &lt;james@jamesclear.com&gt;</td>\n",
              "      <td>\"\" &lt;marcia.darts@gmail.com&gt;</td>\n",
              "      <td>3-2-1: On talent, qualities of a great career,...</td>\n",
              "      <td>=?UTF-8?Q?Caixa_de_entrada,Importante,A?=\\r\\n ...</td>\n",
              "    </tr>\n",
              "    <tr>\n",
              "      <th>3</th>\n",
              "      <td>2020-09-19 11:03:32+00:00</td>\n",
              "      <td>=?utf-8?Q?Tribut=C3=A1rio?= &lt;newsletter@tribut...</td>\n",
              "      <td>=?utf-8?Q?marcia.darts?= &lt;marcia.darts@gmail.com&gt;</td>\n",
              "      <td>=?utf-8?Q?14=20novidades=2C=20destaque=20para=...</td>\n",
              "      <td>=?UTF-8?Q?Caixa_de_entrada,Categoria:_promo=C3...</td>\n",
              "    </tr>\n",
              "    <tr>\n",
              "      <th>4</th>\n",
              "      <td>2020-09-20 11:50:00+00:00</td>\n",
              "      <td>\"Medium Daily Digest\" &lt;noreply@medium.com&gt;</td>\n",
              "      <td>marcia.darts@gmail.com</td>\n",
              "      <td>=?UTF-8?B?UmljaGFyZCBGZXlubWFuIG9uIHRoZSBEaWZm...</td>\n",
              "      <td>=?UTF-8?Q?Caixa_de_entrada,Categoria:_promo=C3...</td>\n",
              "    </tr>\n",
              "  </tbody>\n",
              "</table>\n",
              "</div>"
            ],
            "text/plain": [
              "                       date  ...                                             labels\n",
              "0 2020-09-20 15:27:44+00:00  ...  =?UTF-8?Q?Caixa_de_entrada,Categoria:_promo=C3...\n",
              "1 2020-09-21 22:43:11+00:00  ...  =?UTF-8?Q?Caixa_de_entrada,Importante,A?=\\r\\n ...\n",
              "2 2020-09-17 15:21:05+00:00  ...  =?UTF-8?Q?Caixa_de_entrada,Importante,A?=\\r\\n ...\n",
              "3 2020-09-19 11:03:32+00:00  ...  =?UTF-8?Q?Caixa_de_entrada,Categoria:_promo=C3...\n",
              "4 2020-09-20 11:50:00+00:00  ...  =?UTF-8?Q?Caixa_de_entrada,Categoria:_promo=C3...\n",
              "\n",
              "[5 rows x 5 columns]"
            ]
          },
          "metadata": {
            "tags": []
          },
          "execution_count": 12
        }
      ]
    },
    {
      "cell_type": "markdown",
      "metadata": {
        "id": "l3uVaiLmWHWY",
        "colab_type": "text"
      },
      "source": [
        "Excelente! Já temos nossos dados no tipo que precisamos. Entretanto, ainda existe uma transformação que precisa ser feita. \n",
        "\n",
        "Precisamos que a informação de *time zone* esteja condizente com a Time Zone que nos encontramos. Para isso, aplicaremos uma função *lambda* para aplicar às entradas o método timezone da biblioteca `pytz` para que possamos ter a informação correta de *time zone*."
      ]
    },
    {
      "cell_type": "code",
      "metadata": {
        "id": "mo_WDtS36K0T",
        "colab_type": "code",
        "colab": {}
      },
      "source": [
        "# transformando time zone\n",
        "df[\"date\"] = df[\"date\"].apply(lambda x: x.astimezone(pytz.timezone(\"America/Sao_Paulo\")))"
      ],
      "execution_count": 13,
      "outputs": []
    },
    {
      "cell_type": "code",
      "metadata": {
        "id": "siOjmmul6k0l",
        "colab_type": "code",
        "colab": {
          "base_uri": "https://localhost:8080/",
          "height": 447
        },
        "outputId": "b3dd12fb-580e-46a0-94b4-68205ed42b8f"
      },
      "source": [
        "# verificando o resultado\n",
        "df.head()"
      ],
      "execution_count": 14,
      "outputs": [
        {
          "output_type": "execute_result",
          "data": {
            "text/html": [
              "<div>\n",
              "<style scoped>\n",
              "    .dataframe tbody tr th:only-of-type {\n",
              "        vertical-align: middle;\n",
              "    }\n",
              "\n",
              "    .dataframe tbody tr th {\n",
              "        vertical-align: top;\n",
              "    }\n",
              "\n",
              "    .dataframe thead th {\n",
              "        text-align: right;\n",
              "    }\n",
              "</style>\n",
              "<table border=\"1\" class=\"dataframe\">\n",
              "  <thead>\n",
              "    <tr style=\"text-align: right;\">\n",
              "      <th></th>\n",
              "      <th>date</th>\n",
              "      <th>from</th>\n",
              "      <th>to</th>\n",
              "      <th>subject</th>\n",
              "      <th>labels</th>\n",
              "    </tr>\n",
              "  </thead>\n",
              "  <tbody>\n",
              "    <tr>\n",
              "      <th>0</th>\n",
              "      <td>2020-09-20 12:27:44-03:00</td>\n",
              "      <td>\"SESCON-MG\" &lt;faleconosco@sescon-mg.com.br&gt;</td>\n",
              "      <td>marcia.darts@gmail.com</td>\n",
              "      <td>=?UTF-8?B?Q2ljbG8gUGFsZXN0cmFzIGRlIERpcmVpdG8g...</td>\n",
              "      <td>=?UTF-8?Q?Caixa_de_entrada,Categoria:_promo=C3...</td>\n",
              "    </tr>\n",
              "    <tr>\n",
              "      <th>1</th>\n",
              "      <td>2020-09-21 19:43:11-03:00</td>\n",
              "      <td>Kaggle &lt;noreply@kaggle.com&gt;</td>\n",
              "      <td>marcia.darts@gmail.com</td>\n",
              "      <td>Updated Privacy Policy and Terms</td>\n",
              "      <td>=?UTF-8?Q?Caixa_de_entrada,Importante,A?=\\r\\n ...</td>\n",
              "    </tr>\n",
              "    <tr>\n",
              "      <th>2</th>\n",
              "      <td>2020-09-17 12:21:05-03:00</td>\n",
              "      <td>\"James Clear\" &lt;james@jamesclear.com&gt;</td>\n",
              "      <td>\"\" &lt;marcia.darts@gmail.com&gt;</td>\n",
              "      <td>3-2-1: On talent, qualities of a great career,...</td>\n",
              "      <td>=?UTF-8?Q?Caixa_de_entrada,Importante,A?=\\r\\n ...</td>\n",
              "    </tr>\n",
              "    <tr>\n",
              "      <th>3</th>\n",
              "      <td>2020-09-19 08:03:32-03:00</td>\n",
              "      <td>=?utf-8?Q?Tribut=C3=A1rio?= &lt;newsletter@tribut...</td>\n",
              "      <td>=?utf-8?Q?marcia.darts?= &lt;marcia.darts@gmail.com&gt;</td>\n",
              "      <td>=?utf-8?Q?14=20novidades=2C=20destaque=20para=...</td>\n",
              "      <td>=?UTF-8?Q?Caixa_de_entrada,Categoria:_promo=C3...</td>\n",
              "    </tr>\n",
              "    <tr>\n",
              "      <th>4</th>\n",
              "      <td>2020-09-20 08:50:00-03:00</td>\n",
              "      <td>\"Medium Daily Digest\" &lt;noreply@medium.com&gt;</td>\n",
              "      <td>marcia.darts@gmail.com</td>\n",
              "      <td>=?UTF-8?B?UmljaGFyZCBGZXlubWFuIG9uIHRoZSBEaWZm...</td>\n",
              "      <td>=?UTF-8?Q?Caixa_de_entrada,Categoria:_promo=C3...</td>\n",
              "    </tr>\n",
              "  </tbody>\n",
              "</table>\n",
              "</div>"
            ],
            "text/plain": [
              "                       date  ...                                             labels\n",
              "0 2020-09-20 12:27:44-03:00  ...  =?UTF-8?Q?Caixa_de_entrada,Categoria:_promo=C3...\n",
              "1 2020-09-21 19:43:11-03:00  ...  =?UTF-8?Q?Caixa_de_entrada,Importante,A?=\\r\\n ...\n",
              "2 2020-09-17 12:21:05-03:00  ...  =?UTF-8?Q?Caixa_de_entrada,Importante,A?=\\r\\n ...\n",
              "3 2020-09-19 08:03:32-03:00  ...  =?UTF-8?Q?Caixa_de_entrada,Categoria:_promo=C3...\n",
              "4 2020-09-20 08:50:00-03:00  ...  =?UTF-8?Q?Caixa_de_entrada,Categoria:_promo=C3...\n",
              "\n",
              "[5 rows x 5 columns]"
            ]
          },
          "metadata": {
            "tags": []
          },
          "execution_count": 14
        }
      ]
    },
    {
      "cell_type": "markdown",
      "metadata": {
        "id": "BouOdxbBWqko",
        "colab_type": "text"
      },
      "source": [
        "Com os dados nos formatos e tipos que precisamos, é hora de continuar a limpeza dos nossos dados.\n",
        "\n",
        "Abaixo, ao verificamos a presença de dados ausentes. Como a quantidade é pequena, vamos excluir essas linhas."
      ]
    },
    {
      "cell_type": "code",
      "metadata": {
        "id": "3MHjs5CaMQi7",
        "colab_type": "code",
        "colab": {
          "base_uri": "https://localhost:8080/",
          "height": 123
        },
        "outputId": "3b83d95b-62bb-4de2-d2da-3dce560d5517"
      },
      "source": [
        "# verificando entradas vazias\n",
        "df.isnull().sum()"
      ],
      "execution_count": 15,
      "outputs": [
        {
          "output_type": "execute_result",
          "data": {
            "text/plain": [
              "date       0\n",
              "from       0\n",
              "to         0\n",
              "subject    0\n",
              "labels     0\n",
              "dtype: int64"
            ]
          },
          "metadata": {
            "tags": []
          },
          "execution_count": 15
        }
      ]
    },
    {
      "cell_type": "code",
      "metadata": {
        "id": "-HFGsh39tfQ7",
        "colab_type": "code",
        "colab": {}
      },
      "source": [
        "# excluindo as linhas\n",
        "df.dropna(how='any', inplace=True)"
      ],
      "execution_count": 16,
      "outputs": []
    },
    {
      "cell_type": "code",
      "metadata": {
        "id": "HhvIHQ9Utjwg",
        "colab_type": "code",
        "colab": {
          "base_uri": "https://localhost:8080/",
          "height": 123
        },
        "outputId": "08a1b84f-d708-48f2-f9d0-7d7dd6f4c8db"
      },
      "source": [
        "# verificando novamente\n",
        "df.isnull().sum()"
      ],
      "execution_count": 17,
      "outputs": [
        {
          "output_type": "execute_result",
          "data": {
            "text/plain": [
              "date       0\n",
              "from       0\n",
              "to         0\n",
              "subject    0\n",
              "labels     0\n",
              "dtype: int64"
            ]
          },
          "metadata": {
            "tags": []
          },
          "execution_count": 17
        }
      ]
    },
    {
      "cell_type": "markdown",
      "metadata": {
        "id": "z47JNpuGXBbU",
        "colab_type": "text"
      },
      "source": [
        "## Limpeza de Strings\n",
        "\n",
        "Ao verificar os dados acima, conseguimos perceber que temos algumas entradas bastante confusas, onde o entendimento do que, de fato, é informação relevante fica comprometido.\n",
        "\n",
        "<center><img width=\"50%\" src=\"https://image.freepik.com/free-photo/housekeeping-concept-with-hand-holding-cloth_23-2147699396.jpg\"></center>\n",
        "\n",
        "Por isso, é importante que façamos uma limpeza dessas entradas, utilizando as técnicas de manipulação de strings que aprendemos nos módulos anteriores. "
      ]
    },
    {
      "cell_type": "markdown",
      "metadata": {
        "id": "idwufgc8Z8EH",
        "colab_type": "text"
      },
      "source": [
        "A primeira coisa que vamos fazer é limpar os e-mails.\n",
        "\n",
        "Para isso, vamos criar uma função para retirar tudo aquilo que não faz parte do endereço de e-mail, e aplicar a mesma nas colunas `to` e `from`."
      ]
    },
    {
      "cell_type": "code",
      "metadata": {
        "id": "i5r-n5UqN-A-",
        "colab_type": "code",
        "colab": {}
      },
      "source": [
        "# criando a função\n",
        "def extrair_email(string_email):\n",
        "    email = re.findall(r'<(.+?)>', string_email)\n",
        "    if email:\n",
        "        return email[0]\n",
        "    else:\n",
        "        return string_email"
      ],
      "execution_count": 18,
      "outputs": []
    },
    {
      "cell_type": "code",
      "metadata": {
        "id": "k8ias8EDrU48",
        "colab_type": "code",
        "colab": {
          "base_uri": "https://localhost:8080/",
          "height": 387
        },
        "outputId": "2c853540-af05-4c49-e813-3bac28eb9d7f"
      },
      "source": [
        "# aplicando a função\n",
        "df['to'] = df['to'].apply(extrair_email)\n",
        "df['from'] = df['from'].apply(extrair_email)"
      ],
      "execution_count": 19,
      "outputs": [
        {
          "output_type": "error",
          "ename": "TypeError",
          "evalue": "ignored",
          "traceback": [
            "\u001b[0;31m---------------------------------------------------------------------------\u001b[0m",
            "\u001b[0;31mTypeError\u001b[0m                                 Traceback (most recent call last)",
            "\u001b[0;32m<ipython-input-19-a3e472a55299>\u001b[0m in \u001b[0;36m<module>\u001b[0;34m()\u001b[0m\n\u001b[1;32m      1\u001b[0m \u001b[0;31m# aplicando a função\u001b[0m\u001b[0;34m\u001b[0m\u001b[0;34m\u001b[0m\u001b[0;34m\u001b[0m\u001b[0m\n\u001b[1;32m      2\u001b[0m \u001b[0mdf\u001b[0m\u001b[0;34m[\u001b[0m\u001b[0;34m'to'\u001b[0m\u001b[0;34m]\u001b[0m \u001b[0;34m=\u001b[0m \u001b[0mdf\u001b[0m\u001b[0;34m[\u001b[0m\u001b[0;34m'to'\u001b[0m\u001b[0;34m]\u001b[0m\u001b[0;34m.\u001b[0m\u001b[0mapply\u001b[0m\u001b[0;34m(\u001b[0m\u001b[0mextrair_email\u001b[0m\u001b[0;34m)\u001b[0m\u001b[0;34m\u001b[0m\u001b[0;34m\u001b[0m\u001b[0m\n\u001b[0;32m----> 3\u001b[0;31m \u001b[0mdf\u001b[0m\u001b[0;34m[\u001b[0m\u001b[0;34m'from'\u001b[0m\u001b[0;34m]\u001b[0m \u001b[0;34m=\u001b[0m \u001b[0mdf\u001b[0m\u001b[0;34m[\u001b[0m\u001b[0;34m'from'\u001b[0m\u001b[0;34m]\u001b[0m\u001b[0;34m.\u001b[0m\u001b[0mapply\u001b[0m\u001b[0;34m(\u001b[0m\u001b[0mextrair_email\u001b[0m\u001b[0;34m)\u001b[0m\u001b[0;34m\u001b[0m\u001b[0;34m\u001b[0m\u001b[0m\n\u001b[0m",
            "\u001b[0;32m/usr/local/lib/python3.6/dist-packages/pandas/core/series.py\u001b[0m in \u001b[0;36mapply\u001b[0;34m(self, func, convert_dtype, args, **kwds)\u001b[0m\n\u001b[1;32m   3846\u001b[0m             \u001b[0;32melse\u001b[0m\u001b[0;34m:\u001b[0m\u001b[0;34m\u001b[0m\u001b[0;34m\u001b[0m\u001b[0m\n\u001b[1;32m   3847\u001b[0m                 \u001b[0mvalues\u001b[0m \u001b[0;34m=\u001b[0m \u001b[0mself\u001b[0m\u001b[0;34m.\u001b[0m\u001b[0mastype\u001b[0m\u001b[0;34m(\u001b[0m\u001b[0mobject\u001b[0m\u001b[0;34m)\u001b[0m\u001b[0;34m.\u001b[0m\u001b[0mvalues\u001b[0m\u001b[0;34m\u001b[0m\u001b[0;34m\u001b[0m\u001b[0m\n\u001b[0;32m-> 3848\u001b[0;31m                 \u001b[0mmapped\u001b[0m \u001b[0;34m=\u001b[0m \u001b[0mlib\u001b[0m\u001b[0;34m.\u001b[0m\u001b[0mmap_infer\u001b[0m\u001b[0;34m(\u001b[0m\u001b[0mvalues\u001b[0m\u001b[0;34m,\u001b[0m \u001b[0mf\u001b[0m\u001b[0;34m,\u001b[0m \u001b[0mconvert\u001b[0m\u001b[0;34m=\u001b[0m\u001b[0mconvert_dtype\u001b[0m\u001b[0;34m)\u001b[0m\u001b[0;34m\u001b[0m\u001b[0;34m\u001b[0m\u001b[0m\n\u001b[0m\u001b[1;32m   3849\u001b[0m \u001b[0;34m\u001b[0m\u001b[0m\n\u001b[1;32m   3850\u001b[0m         \u001b[0;32mif\u001b[0m \u001b[0mlen\u001b[0m\u001b[0;34m(\u001b[0m\u001b[0mmapped\u001b[0m\u001b[0;34m)\u001b[0m \u001b[0;32mand\u001b[0m \u001b[0misinstance\u001b[0m\u001b[0;34m(\u001b[0m\u001b[0mmapped\u001b[0m\u001b[0;34m[\u001b[0m\u001b[0;36m0\u001b[0m\u001b[0;34m]\u001b[0m\u001b[0;34m,\u001b[0m \u001b[0mSeries\u001b[0m\u001b[0;34m)\u001b[0m\u001b[0;34m:\u001b[0m\u001b[0;34m\u001b[0m\u001b[0;34m\u001b[0m\u001b[0m\n",
            "\u001b[0;32mpandas/_libs/lib.pyx\u001b[0m in \u001b[0;36mpandas._libs.lib.map_infer\u001b[0;34m()\u001b[0m\n",
            "\u001b[0;32m<ipython-input-18-28856b8d947c>\u001b[0m in \u001b[0;36mextrair_email\u001b[0;34m(string_email)\u001b[0m\n\u001b[1;32m      1\u001b[0m \u001b[0;31m# criando a função\u001b[0m\u001b[0;34m\u001b[0m\u001b[0;34m\u001b[0m\u001b[0;34m\u001b[0m\u001b[0m\n\u001b[1;32m      2\u001b[0m \u001b[0;32mdef\u001b[0m \u001b[0mextrair_email\u001b[0m\u001b[0;34m(\u001b[0m\u001b[0mstring_email\u001b[0m\u001b[0;34m)\u001b[0m\u001b[0;34m:\u001b[0m\u001b[0;34m\u001b[0m\u001b[0;34m\u001b[0m\u001b[0m\n\u001b[0;32m----> 3\u001b[0;31m     \u001b[0memail\u001b[0m \u001b[0;34m=\u001b[0m \u001b[0mre\u001b[0m\u001b[0;34m.\u001b[0m\u001b[0mfindall\u001b[0m\u001b[0;34m(\u001b[0m\u001b[0;34mr'<(.+?)>'\u001b[0m\u001b[0;34m,\u001b[0m \u001b[0mstring_email\u001b[0m\u001b[0;34m)\u001b[0m\u001b[0;34m\u001b[0m\u001b[0;34m\u001b[0m\u001b[0m\n\u001b[0m\u001b[1;32m      4\u001b[0m     \u001b[0;32mif\u001b[0m \u001b[0memail\u001b[0m\u001b[0;34m:\u001b[0m\u001b[0;34m\u001b[0m\u001b[0;34m\u001b[0m\u001b[0m\n\u001b[1;32m      5\u001b[0m         \u001b[0;32mreturn\u001b[0m \u001b[0memail\u001b[0m\u001b[0;34m[\u001b[0m\u001b[0;36m0\u001b[0m\u001b[0;34m]\u001b[0m\u001b[0;34m\u001b[0m\u001b[0;34m\u001b[0m\u001b[0m\n",
            "\u001b[0;32m/usr/lib/python3.6/re.py\u001b[0m in \u001b[0;36mfindall\u001b[0;34m(pattern, string, flags)\u001b[0m\n\u001b[1;32m    220\u001b[0m \u001b[0;34m\u001b[0m\u001b[0m\n\u001b[1;32m    221\u001b[0m     Empty matches are included in the result.\"\"\"\n\u001b[0;32m--> 222\u001b[0;31m     \u001b[0;32mreturn\u001b[0m \u001b[0m_compile\u001b[0m\u001b[0;34m(\u001b[0m\u001b[0mpattern\u001b[0m\u001b[0;34m,\u001b[0m \u001b[0mflags\u001b[0m\u001b[0;34m)\u001b[0m\u001b[0;34m.\u001b[0m\u001b[0mfindall\u001b[0m\u001b[0;34m(\u001b[0m\u001b[0mstring\u001b[0m\u001b[0;34m)\u001b[0m\u001b[0;34m\u001b[0m\u001b[0;34m\u001b[0m\u001b[0m\n\u001b[0m\u001b[1;32m    223\u001b[0m \u001b[0;34m\u001b[0m\u001b[0m\n\u001b[1;32m    224\u001b[0m \u001b[0;32mdef\u001b[0m \u001b[0mfinditer\u001b[0m\u001b[0;34m(\u001b[0m\u001b[0mpattern\u001b[0m\u001b[0;34m,\u001b[0m \u001b[0mstring\u001b[0m\u001b[0;34m,\u001b[0m \u001b[0mflags\u001b[0m\u001b[0;34m=\u001b[0m\u001b[0;36m0\u001b[0m\u001b[0;34m)\u001b[0m\u001b[0;34m:\u001b[0m\u001b[0;34m\u001b[0m\u001b[0;34m\u001b[0m\u001b[0m\n",
            "\u001b[0;31mTypeError\u001b[0m: expected string or bytes-like object"
          ]
        }
      ]
    },
    {
      "cell_type": "code",
      "metadata": {
        "id": "Oskp4RXSs-qj",
        "colab_type": "code",
        "colab": {
          "base_uri": "https://localhost:8080/",
          "height": 364
        },
        "outputId": "1adb28f4-7dd6-4afd-da98-cd7ac5d6ca5e"
      },
      "source": [
        "# verificando os resultados\n",
        "df.head()"
      ],
      "execution_count": 20,
      "outputs": [
        {
          "output_type": "execute_result",
          "data": {
            "text/html": [
              "<div>\n",
              "<style scoped>\n",
              "    .dataframe tbody tr th:only-of-type {\n",
              "        vertical-align: middle;\n",
              "    }\n",
              "\n",
              "    .dataframe tbody tr th {\n",
              "        vertical-align: top;\n",
              "    }\n",
              "\n",
              "    .dataframe thead th {\n",
              "        text-align: right;\n",
              "    }\n",
              "</style>\n",
              "<table border=\"1\" class=\"dataframe\">\n",
              "  <thead>\n",
              "    <tr style=\"text-align: right;\">\n",
              "      <th></th>\n",
              "      <th>date</th>\n",
              "      <th>from</th>\n",
              "      <th>to</th>\n",
              "      <th>subject</th>\n",
              "      <th>labels</th>\n",
              "    </tr>\n",
              "  </thead>\n",
              "  <tbody>\n",
              "    <tr>\n",
              "      <th>0</th>\n",
              "      <td>2020-09-20 12:27:44-03:00</td>\n",
              "      <td>\"SESCON-MG\" &lt;faleconosco@sescon-mg.com.br&gt;</td>\n",
              "      <td>marcia.darts@gmail.com</td>\n",
              "      <td>=?UTF-8?B?Q2ljbG8gUGFsZXN0cmFzIGRlIERpcmVpdG8g...</td>\n",
              "      <td>=?UTF-8?Q?Caixa_de_entrada,Categoria:_promo=C3...</td>\n",
              "    </tr>\n",
              "    <tr>\n",
              "      <th>1</th>\n",
              "      <td>2020-09-21 19:43:11-03:00</td>\n",
              "      <td>Kaggle &lt;noreply@kaggle.com&gt;</td>\n",
              "      <td>marcia.darts@gmail.com</td>\n",
              "      <td>Updated Privacy Policy and Terms</td>\n",
              "      <td>=?UTF-8?Q?Caixa_de_entrada,Importante,A?=\\r\\n ...</td>\n",
              "    </tr>\n",
              "    <tr>\n",
              "      <th>2</th>\n",
              "      <td>2020-09-17 12:21:05-03:00</td>\n",
              "      <td>\"James Clear\" &lt;james@jamesclear.com&gt;</td>\n",
              "      <td>marcia.darts@gmail.com</td>\n",
              "      <td>3-2-1: On talent, qualities of a great career,...</td>\n",
              "      <td>=?UTF-8?Q?Caixa_de_entrada,Importante,A?=\\r\\n ...</td>\n",
              "    </tr>\n",
              "    <tr>\n",
              "      <th>3</th>\n",
              "      <td>2020-09-19 08:03:32-03:00</td>\n",
              "      <td>=?utf-8?Q?Tribut=C3=A1rio?= &lt;newsletter@tribut...</td>\n",
              "      <td>marcia.darts@gmail.com</td>\n",
              "      <td>=?utf-8?Q?14=20novidades=2C=20destaque=20para=...</td>\n",
              "      <td>=?UTF-8?Q?Caixa_de_entrada,Categoria:_promo=C3...</td>\n",
              "    </tr>\n",
              "    <tr>\n",
              "      <th>4</th>\n",
              "      <td>2020-09-20 08:50:00-03:00</td>\n",
              "      <td>\"Medium Daily Digest\" &lt;noreply@medium.com&gt;</td>\n",
              "      <td>marcia.darts@gmail.com</td>\n",
              "      <td>=?UTF-8?B?UmljaGFyZCBGZXlubWFuIG9uIHRoZSBEaWZm...</td>\n",
              "      <td>=?UTF-8?Q?Caixa_de_entrada,Categoria:_promo=C3...</td>\n",
              "    </tr>\n",
              "  </tbody>\n",
              "</table>\n",
              "</div>"
            ],
            "text/plain": [
              "                       date  ...                                             labels\n",
              "0 2020-09-20 12:27:44-03:00  ...  =?UTF-8?Q?Caixa_de_entrada,Categoria:_promo=C3...\n",
              "1 2020-09-21 19:43:11-03:00  ...  =?UTF-8?Q?Caixa_de_entrada,Importante,A?=\\r\\n ...\n",
              "2 2020-09-17 12:21:05-03:00  ...  =?UTF-8?Q?Caixa_de_entrada,Importante,A?=\\r\\n ...\n",
              "3 2020-09-19 08:03:32-03:00  ...  =?UTF-8?Q?Caixa_de_entrada,Categoria:_promo=C3...\n",
              "4 2020-09-20 08:50:00-03:00  ...  =?UTF-8?Q?Caixa_de_entrada,Categoria:_promo=C3...\n",
              "\n",
              "[5 rows x 5 columns]"
            ]
          },
          "metadata": {
            "tags": []
          },
          "execution_count": 20
        }
      ]
    },
    {
      "cell_type": "markdown",
      "metadata": {
        "id": "mPNcsuv9abAy",
        "colab_type": "text"
      },
      "source": [
        "Agora, iremos fazer um processo parecido para limpar a coluna `label`.\n",
        "\n",
        "Criaremos uma função que retire as informações desnecessárias, divida os itens por vírgula, e retorne apenas o primeiro item, que é o item de interesse para nós."
      ]
    },
    {
      "cell_type": "code",
      "metadata": {
        "id": "DDj4ib5Et4Sf",
        "colab_type": "code",
        "colab": {}
      },
      "source": [
        "# criando a função\n",
        "def extrair_label(string_labels):\n",
        "    return string_labels.replace(\"=?UTF-8?Q?\", \"\").split(\",\")[0]"
      ],
      "execution_count": 21,
      "outputs": []
    },
    {
      "cell_type": "code",
      "metadata": {
        "id": "kyNnHt380l1o",
        "colab_type": "code",
        "colab": {}
      },
      "source": [
        "# aplicando a função\n",
        "df[\"labels\"] = df[\"labels\"].apply(extrair_label)"
      ],
      "execution_count": 22,
      "outputs": []
    },
    {
      "cell_type": "code",
      "metadata": {
        "id": "nSRzU8Mf2yTg",
        "colab_type": "code",
        "colab": {
          "base_uri": "https://localhost:8080/",
          "height": 281
        },
        "outputId": "bb06918b-d602-47a7-e429-2ee00f368e79"
      },
      "source": [
        "# verificando os resultados\n",
        "df.head()"
      ],
      "execution_count": 23,
      "outputs": [
        {
          "output_type": "execute_result",
          "data": {
            "text/html": [
              "<div>\n",
              "<style scoped>\n",
              "    .dataframe tbody tr th:only-of-type {\n",
              "        vertical-align: middle;\n",
              "    }\n",
              "\n",
              "    .dataframe tbody tr th {\n",
              "        vertical-align: top;\n",
              "    }\n",
              "\n",
              "    .dataframe thead th {\n",
              "        text-align: right;\n",
              "    }\n",
              "</style>\n",
              "<table border=\"1\" class=\"dataframe\">\n",
              "  <thead>\n",
              "    <tr style=\"text-align: right;\">\n",
              "      <th></th>\n",
              "      <th>date</th>\n",
              "      <th>from</th>\n",
              "      <th>to</th>\n",
              "      <th>subject</th>\n",
              "      <th>labels</th>\n",
              "    </tr>\n",
              "  </thead>\n",
              "  <tbody>\n",
              "    <tr>\n",
              "      <th>0</th>\n",
              "      <td>2020-09-20 12:27:44-03:00</td>\n",
              "      <td>\"SESCON-MG\" &lt;faleconosco@sescon-mg.com.br&gt;</td>\n",
              "      <td>marcia.darts@gmail.com</td>\n",
              "      <td>=?UTF-8?B?Q2ljbG8gUGFsZXN0cmFzIGRlIERpcmVpdG8g...</td>\n",
              "      <td>Caixa_de_entrada</td>\n",
              "    </tr>\n",
              "    <tr>\n",
              "      <th>1</th>\n",
              "      <td>2020-09-21 19:43:11-03:00</td>\n",
              "      <td>Kaggle &lt;noreply@kaggle.com&gt;</td>\n",
              "      <td>marcia.darts@gmail.com</td>\n",
              "      <td>Updated Privacy Policy and Terms</td>\n",
              "      <td>Caixa_de_entrada</td>\n",
              "    </tr>\n",
              "    <tr>\n",
              "      <th>2</th>\n",
              "      <td>2020-09-17 12:21:05-03:00</td>\n",
              "      <td>\"James Clear\" &lt;james@jamesclear.com&gt;</td>\n",
              "      <td>marcia.darts@gmail.com</td>\n",
              "      <td>3-2-1: On talent, qualities of a great career,...</td>\n",
              "      <td>Caixa_de_entrada</td>\n",
              "    </tr>\n",
              "    <tr>\n",
              "      <th>3</th>\n",
              "      <td>2020-09-19 08:03:32-03:00</td>\n",
              "      <td>=?utf-8?Q?Tribut=C3=A1rio?= &lt;newsletter@tribut...</td>\n",
              "      <td>marcia.darts@gmail.com</td>\n",
              "      <td>=?utf-8?Q?14=20novidades=2C=20destaque=20para=...</td>\n",
              "      <td>Caixa_de_entrada</td>\n",
              "    </tr>\n",
              "    <tr>\n",
              "      <th>4</th>\n",
              "      <td>2020-09-20 08:50:00-03:00</td>\n",
              "      <td>\"Medium Daily Digest\" &lt;noreply@medium.com&gt;</td>\n",
              "      <td>marcia.darts@gmail.com</td>\n",
              "      <td>=?UTF-8?B?UmljaGFyZCBGZXlubWFuIG9uIHRoZSBEaWZm...</td>\n",
              "      <td>Caixa_de_entrada</td>\n",
              "    </tr>\n",
              "  </tbody>\n",
              "</table>\n",
              "</div>"
            ],
            "text/plain": [
              "                       date  ...            labels\n",
              "0 2020-09-20 12:27:44-03:00  ...  Caixa_de_entrada\n",
              "1 2020-09-21 19:43:11-03:00  ...  Caixa_de_entrada\n",
              "2 2020-09-17 12:21:05-03:00  ...  Caixa_de_entrada\n",
              "3 2020-09-19 08:03:32-03:00  ...  Caixa_de_entrada\n",
              "4 2020-09-20 08:50:00-03:00  ...  Caixa_de_entrada\n",
              "\n",
              "[5 rows x 5 columns]"
            ]
          },
          "metadata": {
            "tags": []
          },
          "execution_count": 23
        }
      ]
    },
    {
      "cell_type": "markdown",
      "metadata": {
        "id": "d25m8g7jb80F",
        "colab_type": "text"
      },
      "source": [
        "## Análise Exploratória\n",
        "\n",
        "Agora que nossos dados foram adquiridos, carregados e limpos, eles estão prontos para serem analisados!\n",
        "\n",
        "<center><img width=\"50%\" src=\"https://image.freepik.com/free-photo/business-presentation-laptop-screen_53876-13516.jpg\"></center>\n",
        "\n",
        "A parte que mais demanda nosso tempo e atenção é a Análise Exploratória, pois é aqui que vamos transformar dados em informação, encontrar isights que farão a diferença em nosso projetos."
      ]
    },
    {
      "cell_type": "markdown",
      "metadata": {
        "id": "ki9j0fvvcxYk",
        "colab_type": "text"
      },
      "source": [
        "A primeira análise que faremos será em relação aos endereços que nos enviam e-mail. Qual foi o endereço que mais me enviou e-mails?"
      ]
    },
    {
      "cell_type": "code",
      "metadata": {
        "id": "g5IJ7dC75jSO",
        "colab_type": "code",
        "colab": {
          "base_uri": "https://localhost:8080/",
          "height": 123
        },
        "outputId": "81bc9d15-71f7-4dda-9a08-48f8e5670b3b"
      },
      "source": [
        "# verificando endereços que mais enviaram e-mail para minha caixa entrada\n",
        "df[df[\"labels\"] == \"Caixa_de_entrada\"][\"from\"].value_counts()[0:5]"
      ],
      "execution_count": 24,
      "outputs": [
        {
          "output_type": "execute_result",
          "data": {
            "text/plain": [
              "=?utf-8?Q?Tribut=C3=A1rio?= <newsletter@tributario.com.br>    29\n",
              "\"SESCON-MG\" <faleconosco@sescon-mg.com.br>                    23\n",
              "\"Medium Daily Digest\" <noreply@medium.com>                    22\n",
              "edX <news@edx.org>                                            17\n",
              "\"Dan at Real Python\" <info@realpython.com>                    12\n",
              "Name: from, dtype: int64"
            ]
          },
          "metadata": {
            "tags": []
          },
          "execution_count": 24
        }
      ]
    },
    {
      "cell_type": "markdown",
      "metadata": {
        "id": "OYaJVmYfdDp8",
        "colab_type": "text"
      },
      "source": [
        "Outro insight interessante é descobrir que dia da semana a recebemos mais e-mail.\n",
        "\n",
        "Usando Python e Pandas, vamos criar uma nova coluna, que indica em que dia da semana cada e-mail foi enviado."
      ]
    },
    {
      "cell_type": "code",
      "metadata": {
        "id": "dJLaB0EiYsFA",
        "colab_type": "code",
        "colab": {
          "base_uri": "https://localhost:8080/",
          "height": 281
        },
        "outputId": "e7a33a0f-eb96-472f-cb9f-e1d98c62f152"
      },
      "source": [
        "df.head()"
      ],
      "execution_count": 25,
      "outputs": [
        {
          "output_type": "execute_result",
          "data": {
            "text/html": [
              "<div>\n",
              "<style scoped>\n",
              "    .dataframe tbody tr th:only-of-type {\n",
              "        vertical-align: middle;\n",
              "    }\n",
              "\n",
              "    .dataframe tbody tr th {\n",
              "        vertical-align: top;\n",
              "    }\n",
              "\n",
              "    .dataframe thead th {\n",
              "        text-align: right;\n",
              "    }\n",
              "</style>\n",
              "<table border=\"1\" class=\"dataframe\">\n",
              "  <thead>\n",
              "    <tr style=\"text-align: right;\">\n",
              "      <th></th>\n",
              "      <th>date</th>\n",
              "      <th>from</th>\n",
              "      <th>to</th>\n",
              "      <th>subject</th>\n",
              "      <th>labels</th>\n",
              "    </tr>\n",
              "  </thead>\n",
              "  <tbody>\n",
              "    <tr>\n",
              "      <th>0</th>\n",
              "      <td>2020-09-20 12:27:44-03:00</td>\n",
              "      <td>\"SESCON-MG\" &lt;faleconosco@sescon-mg.com.br&gt;</td>\n",
              "      <td>marcia.darts@gmail.com</td>\n",
              "      <td>=?UTF-8?B?Q2ljbG8gUGFsZXN0cmFzIGRlIERpcmVpdG8g...</td>\n",
              "      <td>Caixa_de_entrada</td>\n",
              "    </tr>\n",
              "    <tr>\n",
              "      <th>1</th>\n",
              "      <td>2020-09-21 19:43:11-03:00</td>\n",
              "      <td>Kaggle &lt;noreply@kaggle.com&gt;</td>\n",
              "      <td>marcia.darts@gmail.com</td>\n",
              "      <td>Updated Privacy Policy and Terms</td>\n",
              "      <td>Caixa_de_entrada</td>\n",
              "    </tr>\n",
              "    <tr>\n",
              "      <th>2</th>\n",
              "      <td>2020-09-17 12:21:05-03:00</td>\n",
              "      <td>\"James Clear\" &lt;james@jamesclear.com&gt;</td>\n",
              "      <td>marcia.darts@gmail.com</td>\n",
              "      <td>3-2-1: On talent, qualities of a great career,...</td>\n",
              "      <td>Caixa_de_entrada</td>\n",
              "    </tr>\n",
              "    <tr>\n",
              "      <th>3</th>\n",
              "      <td>2020-09-19 08:03:32-03:00</td>\n",
              "      <td>=?utf-8?Q?Tribut=C3=A1rio?= &lt;newsletter@tribut...</td>\n",
              "      <td>marcia.darts@gmail.com</td>\n",
              "      <td>=?utf-8?Q?14=20novidades=2C=20destaque=20para=...</td>\n",
              "      <td>Caixa_de_entrada</td>\n",
              "    </tr>\n",
              "    <tr>\n",
              "      <th>4</th>\n",
              "      <td>2020-09-20 08:50:00-03:00</td>\n",
              "      <td>\"Medium Daily Digest\" &lt;noreply@medium.com&gt;</td>\n",
              "      <td>marcia.darts@gmail.com</td>\n",
              "      <td>=?UTF-8?B?UmljaGFyZCBGZXlubWFuIG9uIHRoZSBEaWZm...</td>\n",
              "      <td>Caixa_de_entrada</td>\n",
              "    </tr>\n",
              "  </tbody>\n",
              "</table>\n",
              "</div>"
            ],
            "text/plain": [
              "                       date  ...            labels\n",
              "0 2020-09-20 12:27:44-03:00  ...  Caixa_de_entrada\n",
              "1 2020-09-21 19:43:11-03:00  ...  Caixa_de_entrada\n",
              "2 2020-09-17 12:21:05-03:00  ...  Caixa_de_entrada\n",
              "3 2020-09-19 08:03:32-03:00  ...  Caixa_de_entrada\n",
              "4 2020-09-20 08:50:00-03:00  ...  Caixa_de_entrada\n",
              "\n",
              "[5 rows x 5 columns]"
            ]
          },
          "metadata": {
            "tags": []
          },
          "execution_count": 25
        }
      ]
    },
    {
      "cell_type": "code",
      "metadata": {
        "id": "KOKumOgm7GfX",
        "colab_type": "code",
        "colab": {}
      },
      "source": [
        "# criando uma variávei de dia da semana\n",
        "df[\"weekday\"] = df[\"date\"].dt.weekday"
      ],
      "execution_count": 26,
      "outputs": []
    },
    {
      "cell_type": "code",
      "metadata": {
        "id": "zqwt4D_j9EBK",
        "colab_type": "code",
        "colab": {
          "base_uri": "https://localhost:8080/",
          "height": 281
        },
        "outputId": "f25a906c-da45-4563-ebb7-f69bf5b36e60"
      },
      "source": [
        "# verificando o resultado\n",
        "df.head()"
      ],
      "execution_count": 27,
      "outputs": [
        {
          "output_type": "execute_result",
          "data": {
            "text/html": [
              "<div>\n",
              "<style scoped>\n",
              "    .dataframe tbody tr th:only-of-type {\n",
              "        vertical-align: middle;\n",
              "    }\n",
              "\n",
              "    .dataframe tbody tr th {\n",
              "        vertical-align: top;\n",
              "    }\n",
              "\n",
              "    .dataframe thead th {\n",
              "        text-align: right;\n",
              "    }\n",
              "</style>\n",
              "<table border=\"1\" class=\"dataframe\">\n",
              "  <thead>\n",
              "    <tr style=\"text-align: right;\">\n",
              "      <th></th>\n",
              "      <th>date</th>\n",
              "      <th>from</th>\n",
              "      <th>to</th>\n",
              "      <th>subject</th>\n",
              "      <th>labels</th>\n",
              "      <th>weekday</th>\n",
              "    </tr>\n",
              "  </thead>\n",
              "  <tbody>\n",
              "    <tr>\n",
              "      <th>0</th>\n",
              "      <td>2020-09-20 12:27:44-03:00</td>\n",
              "      <td>\"SESCON-MG\" &lt;faleconosco@sescon-mg.com.br&gt;</td>\n",
              "      <td>marcia.darts@gmail.com</td>\n",
              "      <td>=?UTF-8?B?Q2ljbG8gUGFsZXN0cmFzIGRlIERpcmVpdG8g...</td>\n",
              "      <td>Caixa_de_entrada</td>\n",
              "      <td>6</td>\n",
              "    </tr>\n",
              "    <tr>\n",
              "      <th>1</th>\n",
              "      <td>2020-09-21 19:43:11-03:00</td>\n",
              "      <td>Kaggle &lt;noreply@kaggle.com&gt;</td>\n",
              "      <td>marcia.darts@gmail.com</td>\n",
              "      <td>Updated Privacy Policy and Terms</td>\n",
              "      <td>Caixa_de_entrada</td>\n",
              "      <td>0</td>\n",
              "    </tr>\n",
              "    <tr>\n",
              "      <th>2</th>\n",
              "      <td>2020-09-17 12:21:05-03:00</td>\n",
              "      <td>\"James Clear\" &lt;james@jamesclear.com&gt;</td>\n",
              "      <td>marcia.darts@gmail.com</td>\n",
              "      <td>3-2-1: On talent, qualities of a great career,...</td>\n",
              "      <td>Caixa_de_entrada</td>\n",
              "      <td>3</td>\n",
              "    </tr>\n",
              "    <tr>\n",
              "      <th>3</th>\n",
              "      <td>2020-09-19 08:03:32-03:00</td>\n",
              "      <td>=?utf-8?Q?Tribut=C3=A1rio?= &lt;newsletter@tribut...</td>\n",
              "      <td>marcia.darts@gmail.com</td>\n",
              "      <td>=?utf-8?Q?14=20novidades=2C=20destaque=20para=...</td>\n",
              "      <td>Caixa_de_entrada</td>\n",
              "      <td>5</td>\n",
              "    </tr>\n",
              "    <tr>\n",
              "      <th>4</th>\n",
              "      <td>2020-09-20 08:50:00-03:00</td>\n",
              "      <td>\"Medium Daily Digest\" &lt;noreply@medium.com&gt;</td>\n",
              "      <td>marcia.darts@gmail.com</td>\n",
              "      <td>=?UTF-8?B?UmljaGFyZCBGZXlubWFuIG9uIHRoZSBEaWZm...</td>\n",
              "      <td>Caixa_de_entrada</td>\n",
              "      <td>6</td>\n",
              "    </tr>\n",
              "  </tbody>\n",
              "</table>\n",
              "</div>"
            ],
            "text/plain": [
              "                       date  ... weekday\n",
              "0 2020-09-20 12:27:44-03:00  ...       6\n",
              "1 2020-09-21 19:43:11-03:00  ...       0\n",
              "2 2020-09-17 12:21:05-03:00  ...       3\n",
              "3 2020-09-19 08:03:32-03:00  ...       5\n",
              "4 2020-09-20 08:50:00-03:00  ...       6\n",
              "\n",
              "[5 rows x 6 columns]"
            ]
          },
          "metadata": {
            "tags": []
          },
          "execution_count": 27
        }
      ]
    },
    {
      "cell_type": "markdown",
      "metadata": {
        "id": "XuhVm8s-dW44",
        "colab_type": "text"
      },
      "source": [
        "Com a coluna criada, vamos transformar esses números em uma informação mais fácil de digerir e interpretar.\n",
        "\n",
        "A transformação que fizemos retorna Segunda-Feira como o primeiro dia, portanto, o dia associado ao valor `0`, é Segunda-Feira, e assim sucessivamente.\n",
        "\n",
        "Vamos criar um dicionário, onde associaremos para as chaves, valores em formato de string para os dias da semana, e transformar nossa coluna com esse dicionário."
      ]
    },
    {
      "cell_type": "code",
      "metadata": {
        "id": "E_rU5kHs9GhH",
        "colab_type": "code",
        "colab": {}
      },
      "source": [
        "# criando dicionário\n",
        "dias_semana = {0:\"Segunda\", 1:\"Terça\", 2:\"Quarta\",3:\"Quinta\", 4:\"Sexta\", 5:\"Sábado\", 6:\"Domingo\"}\n",
        "\n",
        "# transformando a coluna\n",
        "df[\"weekday\"] = df[\"weekday\"].replace(dias_semana)"
      ],
      "execution_count": 28,
      "outputs": []
    },
    {
      "cell_type": "code",
      "metadata": {
        "id": "oe0ZXoj9_DZ0",
        "colab_type": "code",
        "colab": {
          "base_uri": "https://localhost:8080/",
          "height": 281
        },
        "outputId": "cdea2525-7f36-4557-b4d8-2df182aaf8d3"
      },
      "source": [
        "# verificando o resultado\n",
        "df.head()"
      ],
      "execution_count": 29,
      "outputs": [
        {
          "output_type": "execute_result",
          "data": {
            "text/html": [
              "<div>\n",
              "<style scoped>\n",
              "    .dataframe tbody tr th:only-of-type {\n",
              "        vertical-align: middle;\n",
              "    }\n",
              "\n",
              "    .dataframe tbody tr th {\n",
              "        vertical-align: top;\n",
              "    }\n",
              "\n",
              "    .dataframe thead th {\n",
              "        text-align: right;\n",
              "    }\n",
              "</style>\n",
              "<table border=\"1\" class=\"dataframe\">\n",
              "  <thead>\n",
              "    <tr style=\"text-align: right;\">\n",
              "      <th></th>\n",
              "      <th>date</th>\n",
              "      <th>from</th>\n",
              "      <th>to</th>\n",
              "      <th>subject</th>\n",
              "      <th>labels</th>\n",
              "      <th>weekday</th>\n",
              "    </tr>\n",
              "  </thead>\n",
              "  <tbody>\n",
              "    <tr>\n",
              "      <th>0</th>\n",
              "      <td>2020-09-20 12:27:44-03:00</td>\n",
              "      <td>\"SESCON-MG\" &lt;faleconosco@sescon-mg.com.br&gt;</td>\n",
              "      <td>marcia.darts@gmail.com</td>\n",
              "      <td>=?UTF-8?B?Q2ljbG8gUGFsZXN0cmFzIGRlIERpcmVpdG8g...</td>\n",
              "      <td>Caixa_de_entrada</td>\n",
              "      <td>Domingo</td>\n",
              "    </tr>\n",
              "    <tr>\n",
              "      <th>1</th>\n",
              "      <td>2020-09-21 19:43:11-03:00</td>\n",
              "      <td>Kaggle &lt;noreply@kaggle.com&gt;</td>\n",
              "      <td>marcia.darts@gmail.com</td>\n",
              "      <td>Updated Privacy Policy and Terms</td>\n",
              "      <td>Caixa_de_entrada</td>\n",
              "      <td>Segunda</td>\n",
              "    </tr>\n",
              "    <tr>\n",
              "      <th>2</th>\n",
              "      <td>2020-09-17 12:21:05-03:00</td>\n",
              "      <td>\"James Clear\" &lt;james@jamesclear.com&gt;</td>\n",
              "      <td>marcia.darts@gmail.com</td>\n",
              "      <td>3-2-1: On talent, qualities of a great career,...</td>\n",
              "      <td>Caixa_de_entrada</td>\n",
              "      <td>Quinta</td>\n",
              "    </tr>\n",
              "    <tr>\n",
              "      <th>3</th>\n",
              "      <td>2020-09-19 08:03:32-03:00</td>\n",
              "      <td>=?utf-8?Q?Tribut=C3=A1rio?= &lt;newsletter@tribut...</td>\n",
              "      <td>marcia.darts@gmail.com</td>\n",
              "      <td>=?utf-8?Q?14=20novidades=2C=20destaque=20para=...</td>\n",
              "      <td>Caixa_de_entrada</td>\n",
              "      <td>Sábado</td>\n",
              "    </tr>\n",
              "    <tr>\n",
              "      <th>4</th>\n",
              "      <td>2020-09-20 08:50:00-03:00</td>\n",
              "      <td>\"Medium Daily Digest\" &lt;noreply@medium.com&gt;</td>\n",
              "      <td>marcia.darts@gmail.com</td>\n",
              "      <td>=?UTF-8?B?UmljaGFyZCBGZXlubWFuIG9uIHRoZSBEaWZm...</td>\n",
              "      <td>Caixa_de_entrada</td>\n",
              "      <td>Domingo</td>\n",
              "    </tr>\n",
              "  </tbody>\n",
              "</table>\n",
              "</div>"
            ],
            "text/plain": [
              "                       date  ...  weekday\n",
              "0 2020-09-20 12:27:44-03:00  ...  Domingo\n",
              "1 2020-09-21 19:43:11-03:00  ...  Segunda\n",
              "2 2020-09-17 12:21:05-03:00  ...   Quinta\n",
              "3 2020-09-19 08:03:32-03:00  ...   Sábado\n",
              "4 2020-09-20 08:50:00-03:00  ...  Domingo\n",
              "\n",
              "[5 rows x 6 columns]"
            ]
          },
          "metadata": {
            "tags": []
          },
          "execution_count": 29
        }
      ]
    },
    {
      "cell_type": "markdown",
      "metadata": {
        "id": "rQVEsrdFlltI",
        "colab_type": "text"
      },
      "source": [
        "Agora que temos todas as informações necessárias, podemos usar a biblioteca `seaborn` para plotar um `countplot` e nos mostrar em qual dia da semana recebemos mais e-mails."
      ]
    },
    {
      "cell_type": "code",
      "metadata": {
        "id": "Dc_40UHj76eC",
        "colab_type": "code",
        "colab": {
          "base_uri": "https://localhost:8080/",
          "height": 278
        },
        "outputId": "5e2e64de-ae25-4a8b-d5e3-82450e655dfc"
      },
      "source": [
        "# plotando o countplot\n",
        "sns.countplot(df[\"weekday\"], order=[\"Segunda\", \"Terça\", \"Quarta\", \"Quinta\", \"Sexta\", \"Sábado\", \"Domingo\"]);"
      ],
      "execution_count": 30,
      "outputs": [
        {
          "output_type": "display_data",
          "data": {
            "image/png": "[encoded data removed]",
            "text/plain": [
              "<Figure size 432x288 with 1 Axes>"
            ]
          },
          "metadata": {
            "tags": [],
            "needs_background": "light"
          }
        }
      ]
    },
    {
      "cell_type": "markdown",
      "metadata": {
        "id": "XALg4Oetm614",
        "colab_type": "text"
      },
      "source": [
        "Agora já sabemos que a **Segunda-Feira** traz um volume maior de e-mails do que qualquer outro dia da semana. Mas qual será o horário que mais recebemos e-mails?\n",
        "\n",
        "Podemos fazer um processo parecido com o que fizemos de dias da semana para criar uma variável que nos indica a hora em que o e-mail foi recebido.\n",
        "\n",
        "Assim, conseguimos fazer uma análise sememlhante à que fizemos sobre os dias."
      ]
    },
    {
      "cell_type": "code",
      "metadata": {
        "id": "3N1XDDTs9DCQ",
        "colab_type": "code",
        "colab": {}
      },
      "source": [
        "# coletando as horas\n",
        "df[\"hora\"] = df[\"date\"].dt.hour"
      ],
      "execution_count": 31,
      "outputs": []
    },
    {
      "cell_type": "code",
      "metadata": {
        "id": "20mCExyz77IA",
        "colab_type": "code",
        "colab": {
          "base_uri": "https://localhost:8080/",
          "height": 364
        },
        "outputId": "73a64831-54b8-4245-aec8-0a4ae1eca9fd"
      },
      "source": [
        "# verificando o resultado\n",
        "df.head()"
      ],
      "execution_count": 32,
      "outputs": [
        {
          "output_type": "execute_result",
          "data": {
            "text/html": [
              "<div>\n",
              "<style scoped>\n",
              "    .dataframe tbody tr th:only-of-type {\n",
              "        vertical-align: middle;\n",
              "    }\n",
              "\n",
              "    .dataframe tbody tr th {\n",
              "        vertical-align: top;\n",
              "    }\n",
              "\n",
              "    .dataframe thead th {\n",
              "        text-align: right;\n",
              "    }\n",
              "</style>\n",
              "<table border=\"1\" class=\"dataframe\">\n",
              "  <thead>\n",
              "    <tr style=\"text-align: right;\">\n",
              "      <th></th>\n",
              "      <th>date</th>\n",
              "      <th>from</th>\n",
              "      <th>to</th>\n",
              "      <th>subject</th>\n",
              "      <th>labels</th>\n",
              "      <th>weekday</th>\n",
              "      <th>hora</th>\n",
              "    </tr>\n",
              "  </thead>\n",
              "  <tbody>\n",
              "    <tr>\n",
              "      <th>0</th>\n",
              "      <td>2020-09-20 12:27:44-03:00</td>\n",
              "      <td>\"SESCON-MG\" &lt;faleconosco@sescon-mg.com.br&gt;</td>\n",
              "      <td>marcia.darts@gmail.com</td>\n",
              "      <td>=?UTF-8?B?Q2ljbG8gUGFsZXN0cmFzIGRlIERpcmVpdG8g...</td>\n",
              "      <td>Caixa_de_entrada</td>\n",
              "      <td>Domingo</td>\n",
              "      <td>12</td>\n",
              "    </tr>\n",
              "    <tr>\n",
              "      <th>1</th>\n",
              "      <td>2020-09-21 19:43:11-03:00</td>\n",
              "      <td>Kaggle &lt;noreply@kaggle.com&gt;</td>\n",
              "      <td>marcia.darts@gmail.com</td>\n",
              "      <td>Updated Privacy Policy and Terms</td>\n",
              "      <td>Caixa_de_entrada</td>\n",
              "      <td>Segunda</td>\n",
              "      <td>19</td>\n",
              "    </tr>\n",
              "    <tr>\n",
              "      <th>2</th>\n",
              "      <td>2020-09-17 12:21:05-03:00</td>\n",
              "      <td>\"James Clear\" &lt;james@jamesclear.com&gt;</td>\n",
              "      <td>marcia.darts@gmail.com</td>\n",
              "      <td>3-2-1: On talent, qualities of a great career,...</td>\n",
              "      <td>Caixa_de_entrada</td>\n",
              "      <td>Quinta</td>\n",
              "      <td>12</td>\n",
              "    </tr>\n",
              "    <tr>\n",
              "      <th>3</th>\n",
              "      <td>2020-09-19 08:03:32-03:00</td>\n",
              "      <td>=?utf-8?Q?Tribut=C3=A1rio?= &lt;newsletter@tribut...</td>\n",
              "      <td>marcia.darts@gmail.com</td>\n",
              "      <td>=?utf-8?Q?14=20novidades=2C=20destaque=20para=...</td>\n",
              "      <td>Caixa_de_entrada</td>\n",
              "      <td>Sábado</td>\n",
              "      <td>8</td>\n",
              "    </tr>\n",
              "    <tr>\n",
              "      <th>4</th>\n",
              "      <td>2020-09-20 08:50:00-03:00</td>\n",
              "      <td>\"Medium Daily Digest\" &lt;noreply@medium.com&gt;</td>\n",
              "      <td>marcia.darts@gmail.com</td>\n",
              "      <td>=?UTF-8?B?UmljaGFyZCBGZXlubWFuIG9uIHRoZSBEaWZm...</td>\n",
              "      <td>Caixa_de_entrada</td>\n",
              "      <td>Domingo</td>\n",
              "      <td>8</td>\n",
              "    </tr>\n",
              "  </tbody>\n",
              "</table>\n",
              "</div>"
            ],
            "text/plain": [
              "                       date  ... hora\n",
              "0 2020-09-20 12:27:44-03:00  ...   12\n",
              "1 2020-09-21 19:43:11-03:00  ...   19\n",
              "2 2020-09-17 12:21:05-03:00  ...   12\n",
              "3 2020-09-19 08:03:32-03:00  ...    8\n",
              "4 2020-09-20 08:50:00-03:00  ...    8\n",
              "\n",
              "[5 rows x 7 columns]"
            ]
          },
          "metadata": {
            "tags": []
          },
          "execution_count": 32
        }
      ]
    },
    {
      "cell_type": "markdown",
      "metadata": {
        "id": "wa8D36RHns71",
        "colab_type": "text"
      },
      "source": [
        "Pronto! Agora basta plotar um countplot, como fizemos anteriormente."
      ]
    },
    {
      "cell_type": "code",
      "metadata": {
        "id": "Ad_KeXwF_N4l",
        "colab_type": "code",
        "colab": {
          "base_uri": "https://localhost:8080/",
          "height": 278
        },
        "outputId": "1ca344c3-3849-4aa3-e9d1-7e81d1aa2e06"
      },
      "source": [
        "# plotando o gráfico\n",
        "sns.countplot(df[\"hora\"]);"
      ],
      "execution_count": 33,
      "outputs": [
        {
          "output_type": "display_data",
          "data": {
            "image/png": "[encoded data removed]",
            "text/plain": [
              "<Figure size 432x288 with 1 Axes>"
            ]
          },
          "metadata": {
            "tags": [],
            "needs_background": "light"
          }
        }
      ]
    },
    {
      "cell_type": "markdown",
      "metadata": {
        "id": "1jd0M94TW7i9",
        "colab_type": "text"
      },
      "source": [
        "**One more thing... exportando para Excel!**\n",
        "\n"
      ]
    },
    {
      "cell_type": "code",
      "metadata": {
        "id": "3BpS2fx6XBNi",
        "colab_type": "code",
        "colab": {}
      },
      "source": [
        "# converter para formato de data que o Excel aceita\n",
        "df['date'] = df['date'].apply(lambda a: pd.to_datetime(a).date()) "
      ],
      "execution_count": 34,
      "outputs": []
    },
    {
      "cell_type": "code",
      "metadata": {
        "id": "ei7rAKXMa-Fy",
        "colab_type": "code",
        "colab": {}
      },
      "source": [
        "df.to_excel(\"meu_gmail.xlsx\", index=False)"
      ],
      "execution_count": 35,
      "outputs": []
    },
    {
      "cell_type": "markdown",
      "metadata": {
        "id": "DNLyXudO_ktt",
        "colab_type": "text"
      },
      "source": [
        "## [EXTRA] Word Clouds\n",
        "<center><img width=\"50%\" src=\"https://sigmoidal.ai/wp-content/uploads/2019/10/wordcloud_python-2-1024x576-min-1024x576.png\"></center>\n",
        "\n",
        "Aqui, vamos mostrar uma outra possibilidade que trabalhar com palavras nos proporciona. É possível criar `Word Clouds`, ou nuvens de palavras, em tradução livre.\n",
        "\n",
        "Esse tipo de visualização nos ajuda a entender melhor um conjunto de palavras, e pode ser uma poderosa ferramenta de visualização.\n",
        "\n",
        "A intenção nesse notebook não é de fazer um tutorial completo sobre wordclouds, e sim apenas mostrar o potencial desse tipo de visualização, e incentivar você a ir além, pensar fora da caixa, e buscar formas diferentes de analisar e apresentar suas análises.\n",
        "\n",
        "Caso você queira um tutorial completo sobre o que são, como funciona e como implementar word clouds, no Sigmoidal já fizemos um artigo com vídeo mostrando tudo! Basta clicar [aqui](https://sigmoidal.ai/como-criar-uma-wordcloud-em-python/) para acessar.\n",
        "\n"
      ]
    },
    {
      "cell_type": "code",
      "metadata": {
        "id": "N_Taqm-2_TaF",
        "colab_type": "code",
        "colab": {}
      },
      "source": [
        "# importando os pacotes\n",
        "from wordcloud import WordCloud, STOPWORDS, ImageColorGenerator"
      ],
      "execution_count": 38,
      "outputs": []
    },
    {
      "cell_type": "code",
      "metadata": {
        "id": "X1jKXZQx_mEt",
        "colab_type": "code",
        "colab": {}
      },
      "source": [
        "Tempo = [\"Segunda\",\"Terça\",\"Quarta\",\"Quinta\",\"Sexta\",\"Sabado\",\"Domingo\",\"Tempo Vem\",\"Sucesso\",\"Tempo Vai\",\"Tempo\",\"Sucesso\",\"Time\",\"Hora\"]"
      ],
      "execution_count": 66,
      "outputs": []
    },
    {
      "cell_type": "code",
      "metadata": {
        "id": "PQbBKh3qANFt",
        "colab_type": "code",
        "colab": {
          "base_uri": "https://localhost:8080/",
          "height": 230
        },
        "outputId": "3184b105-be63-4c79-a24f-f4dddb1b2bc8"
      },
      "source": [
        "Dias"
      ],
      "execution_count": 47,
      "outputs": [
        {
          "output_type": "execute_result",
          "data": {
            "text/plain": [
              "['Segunda',\n",
              " 'Terça',\n",
              " 'Quarta',\n",
              " 'Quinta',\n",
              " 'Sexta',\n",
              " 'Sabado',\n",
              " 'Domingo',\n",
              " 'Tempo Vem',\n",
              " 'Sucesso',\n",
              " 'Tempo Vai',\n",
              " 'Tempo',\n",
              " 'Sucesso']"
            ]
          },
          "metadata": {
            "tags": []
          },
          "execution_count": 47
        }
      ]
    },
    {
      "cell_type": "code",
      "metadata": {
        "id": "7V8Hzta-_gJX",
        "colab_type": "code",
        "colab": {
          "base_uri": "https://localhost:8080/",
          "height": 356
        },
        "outputId": "f872f06e-3b6e-4a7e-ccc6-c3901a64bb65"
      },
      "source": [
        "# criando a wordcloud\n",
        "summary = Dias\n",
        "\n",
        "all_summary = \" \".join(s for s in summary)\n",
        " \n",
        "# lista de stopword\n",
        "stopwords = set(STOPWORDS)\n",
        "stopwords.update([\"da\", \"meu\", \"em\", \"você\", \"de\", \"ao\", \"os\", \"ai\", \"UTF\", \"_http\"], \"hotmail\", \"gmail\")\n",
        " \n",
        "# gerar uma wordcloud\n",
        "wordcloud = WordCloud(stopwords=stopwords,\n",
        "                      background_color=\"Black\",\n",
        "                      width=1900, height=1200).generate(all_summary)\n",
        " \n",
        "# mostrar a imagem final\n",
        "fig, ax = plt.subplots(figsize=(12,6))\n",
        "ax.imshow(wordcloud, interpolation='bilinear')\n",
        "ax.set_axis_off()\n",
        " \n",
        "plt.imshow(wordcloud);"
      ],
      "execution_count": 65,
      "outputs": [
        {
          "output_type": "display_data",
          "data": {
            "image/png": "[encoded data removed]",
            "text/plain": [
              "<Figure size 864x432 with 1 Axes>"
            ]
          },
          "metadata": {
            "tags": [],
            "needs_background": "light"
          }
        }
      ]
    },
    {
      "cell_type": "code",
      "metadata": {
        "id": "W1UMUi4u1sh7",
        "colab_type": "code",
        "colab": {}
      },
      "source": [
        ""
      ],
      "execution_count": null,
      "outputs": []
    },
    {
      "cell_type": "code",
      "metadata": {
        "colab_type": "code",
        "id": "F3_jfqNX1tTd",
        "colab": {
          "base_uri": "https://localhost:8080/",
          "height": 310
        },
        "outputId": "faa1b21b-48f3-4dad-8753-1c236e4e0976"
      },
      "source": [
        "# criando a wordcloud\n",
        "summary = df ['to']\n",
        "\n",
        "all_summary = \" \".join(s for s in summary)\n",
        " \n",
        "# lista de stopword\n",
        "stopwords = set(STOPWORDS)\n",
        "stopwords.update([\"da\", \"meu\", \"em\", \"você\", \"de\", \"ao\", \"os\", \"ai\", \"UTF\", \"_http\"], \"hotmail\", \"gmail\")\n",
        " \n",
        "# gerar uma wordcloud\n",
        "wordcloud = WordCloud(stopwords=stopwords,\n",
        "                      background_color=\"pink\",\n",
        "                      width=1600, height=800).generate(all_summary)\n",
        " \n",
        "# mostrar a imagem final\n",
        "fig, ax = plt.subplots(figsize=(10,6))\n",
        "ax.imshow(wordcloud, interpolation='bilinear')\n",
        "ax.set_axis_off()\n",
        " \n",
        "plt.imshow(wordcloud);"
      ],
      "execution_count": 43,
      "outputs": [
        {
          "output_type": "display_data",
          "data": {
            "image/png": "[encoded data removed]",
            "text/plain": [
              "<Figure size 720x432 with 1 Axes>"
            ]
          },
          "metadata": {
            "tags": [],
            "needs_background": "light"
          }
        }
      ]
    },
    {
      "cell_type": "markdown",
      "metadata": {
        "id": "MlTzWYlorkpF",
        "colab_type": "text"
      },
      "source": [
        "Aqui, o intuito foi apenas mostrar a possibilidade. Existem muitas coisas que podem ser melhoradas, tratamento mais fino de stopwords, uso de máscaras, muitas possibilidades.\n",
        "\n",
        "Se você ficou interessado, não deixe de acessar o [tutorial completo](https://sigmoidal.ai/como-criar-uma-wordcloud-em-python/)."
      ]
    },
    {
      "cell_type": "code",
      "metadata": {
        "id": "ImocuzwN_5lp",
        "colab_type": "code",
        "colab": {}
      },
      "source": [
        ""
      ],
      "execution_count": 40,
      "outputs": []
    }
  ]
}