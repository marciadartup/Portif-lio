{
  "nbformat": 4,
  "nbformat_minor": 0,
  "metadata": {
    "colab": {
      "name": "Modulo 3_ Gráfico de Waffle",
      "provenance": [],
      "collapsed_sections": [],
      "include_colab_link": true
    },
    "kernelspec": {
      "name": "python3",
      "display_name": "Python 3"
    }
  },
  "cells": [
    {
      "cell_type": "markdown",
      "metadata": {
        "id": "view-in-github",
        "colab_type": "text"
      },
      "source": [
        "<a href=\"https://colab.research.google.com/github/marciadartup/Portif-lio/blob/master/Modulo_3__Gr%C3%A1fico_de_Waffle.ipynb\" target=\"_parent\"><img src=\"https://colab.research.google.com/assets/colab-badge.svg\" alt=\"Open In Colab\"/></a>"
      ]
    },
    {
      "cell_type": "markdown",
      "metadata": {
        "id": "Runk5zGmSRp8",
        "colab_type": "text"
      },
      "source": [
        "\n",
        "---\n",
        "\n",
        "# Gráfico de Waffle\n",
        "\n",
        "Se o nome não é familiar, com certeza você já viu vários exemplos de *waffle charts* em sites, revistas e jornais, pois eles não apenas transmitem informações claramente, mas são visualmente mais impactantes que gráficos de barras ou pizza.\n",
        "\n",
        "<img src=\"http://sigmoidal.ai/wp-content/uploads/2019/10/grafico_de_waffle.png\" height=\"250px\">\n",
        "\n",
        "A figura acima mostra como a biblioteca `pywaffle` foi usada para mostrar pictorialmente o resultado das eleições dos EUA em 2016.\n",
        "\n",
        "Pode reparar, os grandes meios de comunicação preferem esse tipo de visualização, pois nem todo mundo está acostumado a interpretar gráficos de linhas ou barras.\n",
        "\n",
        "Como vamos ver abaixo, a biblioteca tem muitas outras formas de customização, e recomendo você incluir ela no seu arsenal de ferramentas."
      ]
    },
    {
      "cell_type": "markdown",
      "metadata": {
        "id": "UNUcoeIgSanO",
        "colab_type": "text"
      },
      "source": [
        "## Usando `pywaffle` para criar gráficos de waffle\n",
        "\n",
        "Infelizmente, gráficos de waffle não vêm junto com a biblioteca `matplotlib`. A melhor alternatica que eu conheço é o pacote `pywaffle`, uma vez que ele se integra perfeitamente ao `matplotlib`.\n",
        "\n",
        "[Bem documentada](https://github.com/gyli/PyWaffle) e com vários exemplos de aplicação, em poucas linhas de código você já consegue plotar seu primeiro gráfico.\n",
        "\n",
        "Ah sim, verifique antes se você têm ela instalada no seu ambiente. Caso contrário, basta instalar usando o conda (`conda install pywaffle`) ou pip (`pip install pywaffle`)."
      ]
    },
    {
      "cell_type": "code",
      "metadata": {
        "id": "4pCSZoidSBPd",
        "colab_type": "code",
        "colab": {
          "base_uri": "https://localhost:8080/",
          "height": 241
        },
        "outputId": "8b51996e-17b4-494a-b6ab-01e2feb55c25"
      },
      "source": [
        "# instalar o pywaffle\n",
        "!pip install pywaffle"
      ],
      "execution_count": 1,
      "outputs": [
        {
          "output_type": "stream",
          "text": [
            "Collecting pywaffle\n",
            "\u001b[?25l  Downloading https://files.pythonhosted.org/packages/e2/93/9a1e014fef383149b0f6dccdb8b2f2126d8827d4d48f2884949d6f8769ea/pywaffle-0.6.1-py2.py3-none-any.whl (526kB)\n",
            "\r\u001b[K     |▋                               | 10kB 16.9MB/s eta 0:00:01\r\u001b[K     |█▎                              | 20kB 1.9MB/s eta 0:00:01\r\u001b[K     |█▉                              | 30kB 2.5MB/s eta 0:00:01\r\u001b[K     |██▌                             | 40kB 2.8MB/s eta 0:00:01\r\u001b[K     |███                             | 51kB 2.4MB/s eta 0:00:01\r\u001b[K     |███▊                            | 61kB 2.7MB/s eta 0:00:01\r\u001b[K     |████▍                           | 71kB 3.0MB/s eta 0:00:01\r\u001b[K     |█████                           | 81kB 3.3MB/s eta 0:00:01\r\u001b[K     |█████▋                          | 92kB 3.4MB/s eta 0:00:01\r\u001b[K     |██████▏                         | 102kB 3.4MB/s eta 0:00:01\r\u001b[K     |██████▉                         | 112kB 3.4MB/s eta 0:00:01\r\u001b[K     |███████▌                        | 122kB 3.4MB/s eta 0:00:01\r\u001b[K     |████████                        | 133kB 3.4MB/s eta 0:00:01\r\u001b[K     |████████▊                       | 143kB 3.4MB/s eta 0:00:01\r\u001b[K     |█████████▎                      | 153kB 3.4MB/s eta 0:00:01\r\u001b[K     |██████████                      | 163kB 3.4MB/s eta 0:00:01\r\u001b[K     |██████████▋                     | 174kB 3.4MB/s eta 0:00:01\r\u001b[K     |███████████▏                    | 184kB 3.4MB/s eta 0:00:01\r\u001b[K     |███████████▉                    | 194kB 3.4MB/s eta 0:00:01\r\u001b[K     |████████████▍                   | 204kB 3.4MB/s eta 0:00:01\r\u001b[K     |█████████████                   | 215kB 3.4MB/s eta 0:00:01\r\u001b[K     |█████████████▊                  | 225kB 3.4MB/s eta 0:00:01\r\u001b[K     |██████████████▎                 | 235kB 3.4MB/s eta 0:00:01\r\u001b[K     |███████████████                 | 245kB 3.4MB/s eta 0:00:01\r\u001b[K     |███████████████▌                | 256kB 3.4MB/s eta 0:00:01\r\u001b[K     |████████████████▏               | 266kB 3.4MB/s eta 0:00:01\r\u001b[K     |████████████████▉               | 276kB 3.4MB/s eta 0:00:01\r\u001b[K     |█████████████████▍              | 286kB 3.4MB/s eta 0:00:01\r\u001b[K     |██████████████████              | 296kB 3.4MB/s eta 0:00:01\r\u001b[K     |██████████████████▋             | 307kB 3.4MB/s eta 0:00:01\r\u001b[K     |███████████████████▎            | 317kB 3.4MB/s eta 0:00:01\r\u001b[K     |████████████████████            | 327kB 3.4MB/s eta 0:00:01\r\u001b[K     |████████████████████▌           | 337kB 3.4MB/s eta 0:00:01\r\u001b[K     |█████████████████████▏          | 348kB 3.4MB/s eta 0:00:01\r\u001b[K     |█████████████████████▊          | 358kB 3.4MB/s eta 0:00:01\r\u001b[K     |██████████████████████▍         | 368kB 3.4MB/s eta 0:00:01\r\u001b[K     |███████████████████████         | 378kB 3.4MB/s eta 0:00:01\r\u001b[K     |███████████████████████▋        | 389kB 3.4MB/s eta 0:00:01\r\u001b[K     |████████████████████████▎       | 399kB 3.4MB/s eta 0:00:01\r\u001b[K     |████████████████████████▉       | 409kB 3.4MB/s eta 0:00:01\r\u001b[K     |█████████████████████████▌      | 419kB 3.4MB/s eta 0:00:01\r\u001b[K     |██████████████████████████▏     | 430kB 3.4MB/s eta 0:00:01\r\u001b[K     |██████████████████████████▊     | 440kB 3.4MB/s eta 0:00:01\r\u001b[K     |███████████████████████████▍    | 450kB 3.4MB/s eta 0:00:01\r\u001b[K     |████████████████████████████    | 460kB 3.4MB/s eta 0:00:01\r\u001b[K     |████████████████████████████▋   | 471kB 3.4MB/s eta 0:00:01\r\u001b[K     |█████████████████████████████▎  | 481kB 3.4MB/s eta 0:00:01\r\u001b[K     |█████████████████████████████▉  | 491kB 3.4MB/s eta 0:00:01\r\u001b[K     |██████████████████████████████▌ | 501kB 3.4MB/s eta 0:00:01\r\u001b[K     |███████████████████████████████ | 512kB 3.4MB/s eta 0:00:01\r\u001b[K     |███████████████████████████████▊| 522kB 3.4MB/s eta 0:00:01\r\u001b[K     |████████████████████████████████| 532kB 3.4MB/s \n",
            "\u001b[?25hRequirement already satisfied: matplotlib in /usr/local/lib/python3.6/dist-packages (from pywaffle) (3.2.2)\n",
            "Requirement already satisfied: kiwisolver>=1.0.1 in /usr/local/lib/python3.6/dist-packages (from matplotlib->pywaffle) (1.2.0)\n",
            "Requirement already satisfied: cycler>=0.10 in /usr/local/lib/python3.6/dist-packages (from matplotlib->pywaffle) (0.10.0)\n",
            "Requirement already satisfied: pyparsing!=2.0.4,!=2.1.2,!=2.1.6,>=2.0.1 in /usr/local/lib/python3.6/dist-packages (from matplotlib->pywaffle) (2.4.7)\n",
            "Requirement already satisfied: numpy>=1.11 in /usr/local/lib/python3.6/dist-packages (from matplotlib->pywaffle) (1.18.5)\n",
            "Requirement already satisfied: python-dateutil>=2.1 in /usr/local/lib/python3.6/dist-packages (from matplotlib->pywaffle) (2.8.1)\n",
            "Requirement already satisfied: six in /usr/local/lib/python3.6/dist-packages (from cycler>=0.10->matplotlib->pywaffle) (1.15.0)\n",
            "Installing collected packages: pywaffle\n",
            "Successfully installed pywaffle-0.6.1\n"
          ],
          "name": "stdout"
        }
      ]
    },
    {
      "cell_type": "markdown",
      "metadata": {
        "id": "P6Fc3I_zSemi",
        "colab_type": "text"
      },
      "source": [
        "Vamos supor que uma pesquisa muito séria da Folha de São Paulo identificou que 33% dos brasileiros falam Bolacha, 48% falam Biscoito e uma minoria de 19% fala Salgadinho.\n",
        "\n",
        "No lugar de plotar um manjado gráfico de pizza, olha como ficaria usando o gráfico de waffle."
      ]
    },
    {
      "cell_type": "code",
      "metadata": {
        "id": "dUnMMN1VSdok",
        "colab_type": "code",
        "colab": {
          "base_uri": "https://localhost:8080/",
          "height": 163
        },
        "outputId": "dad71514-e2bf-49cd-bd9b-944c4ef6429b"
      },
      "source": [
        "# importar as bibliotecas necessárias\n",
        "import matplotlib.pyplot as plt\n",
        "from pywaffle import Waffle\n",
        "\n",
        "# exemplo de Waffle\n",
        "fig = plt.figure(\n",
        "                FigureClass=Waffle,\n",
        "                rows=8,\n",
        "                columns=20,\n",
        "                values={'Bolacha': 50,\n",
        "                        'Biscoito': 40,\n",
        "                        'Salgadinho': 10},\n",
        "                legend={'loc': 'upper left',\n",
        "                        'bbox_to_anchor': (1.1, 1)}\n",
        "                )\n",
        "\n",
        "fig.set_tight_layout(False)\n",
        "plt.show()"
      ],
      "execution_count": 6,
      "outputs": [
        {
          "output_type": "display_data",
          "data": {
            "image/png": "[encoded data removed]",
            "text/plain": [
              "<Waffle size 432x288 with 1 Axes>"
            ]
          },
          "metadata": {
            "tags": [],
            "needs_background": "light"
          }
        }
      ]
    },
    {
      "cell_type": "markdown",
      "metadata": {
        "id": "4kQgIpvVSlxF",
        "colab_type": "text"
      },
      "source": [
        "## Customizando seus gráficos de waffle\n",
        "\n",
        "O `pywaffle` é altamente customizado e aceita os ícones da [Font Awesome](http://fontawesome.io/).\n",
        "\n",
        "Vamos ver como customizar os ícones da biblioteca para representar as estatísticas de ocorrências e acidentes com aviões no Brasil. Para isso, vou importar a [base de dados do Centro de Prevenção e Investigação de Acidentes Aeronáuticos](http://www2.fab.mil.br/cenipa/index.php/estatisticas).\n",
        "\n"
      ]
    },
    {
      "cell_type": "code",
      "metadata": {
        "id": "iiJ0clFZSjG1",
        "colab_type": "code",
        "colab": {
          "base_uri": "https://localhost:8080/",
          "height": 141
        },
        "outputId": "42a03c8c-9a0b-4953-ae5e-77574ef1e88c"
      },
      "source": [
        "# importar o pandas\n",
        "import pandas as pd\n",
        "\n",
        "# importar dados do CENIPA\n",
        "df = pd.read_csv(\"https://raw.githubusercontent.com/carlosfab/dsnp2/master/datasets/ocorrencias_aviacao.csv\")\n",
        "\n",
        "# extrair value counts da variavel ocorrencia_classificacao\n",
        "data = dict(df[\"ocorrencia_classificacao\"].value_counts())\n",
        "\n",
        "# plotar gráfico de waffle\n",
        "fig = plt.figure(\n",
        "                FigureClass=Waffle,\n",
        "                rows=5,\n",
        "                columns=15,\n",
        "                colors=(\"#232066\", \"#983D3D\", \"#DCB732\"),\n",
        "                values=data, icons='plane', icon_size=12,\n",
        "                legend={'loc': 'upper left', 'bbox_to_anchor': (1,1)},\n",
        "                icon_legend=True\n",
        "                )\n",
        "fig.set_tight_layout(False)\n",
        "plt.show();"
      ],
      "execution_count": 5,
      "outputs": [
        {
          "output_type": "display_data",
          "data": {
            "image/png": "[encoded data removed]",
            "text/plain": [
              "<Waffle size 432x288 with 1 Axes>"
            ]
          },
          "metadata": {
            "tags": [],
            "needs_background": "light"
          }
        }
      ]
    },
    {
      "cell_type": "markdown",
      "metadata": {
        "id": "0-aTsBqLSs-h",
        "colab_type": "text"
      },
      "source": [
        "Na figura acima, eu selecionei o ícone `plane`, que é apenas um entre inúmeros outros disponíveis.\n",
        "\n",
        "Em outro exemplo, suponha que você quer representar por *waffle chart* a quantidade de homens e mulheres que estão matriculados em um determinado curso de ingles. Repare que eu vou usar o ícone `child`."
      ]
    },
    {
      "cell_type": "code",
      "metadata": {
        "id": "ZWrXi9DOSqpi",
        "colab_type": "code",
        "colab": {
          "base_uri": "https://localhost:8080/",
          "height": 222
        },
        "outputId": "0356fb3a-76d6-4457-9817-14743ab8d56d"
      },
      "source": [
        "# plotar homens e mulheres na sala de aula\n",
        "fig = plt.figure(\n",
        "    FigureClass=Waffle, \n",
        "    rows=8, \n",
        "    values={'Homens': 48, 'Mulheres': 58}, \n",
        "    colors=(\"#232066\", \"#983D3D\"),\n",
        "    legend={'loc': 'upper left', 'bbox_to_anchor': (1, 1)},\n",
        "    icons='child', icon_size=12, \n",
        "    icon_legend=True\n",
        ")\n",
        "\n",
        "fig.set_tight_layout(False)\n",
        "plt.show();"
      ],
      "execution_count": 7,
      "outputs": [
        {
          "output_type": "display_data",
          "data": {
            "image/png": "[encoded data removed]",
            "text/plain": [
              "<Waffle size 432x288 with 1 Axes>"
            ]
          },
          "metadata": {
            "tags": [],
            "needs_background": "light"
          }
        }
      ]
    },
    {
      "cell_type": "code",
      "metadata": {
        "id": "JmNUXtaqSvd6",
        "colab_type": "code",
        "colab": {}
      },
      "source": [
        ""
      ],
      "execution_count": null,
      "outputs": []
    }
  ]
}