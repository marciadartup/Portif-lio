{
  "nbformat": 4,
  "nbformat_minor": 0,
  "metadata": {
    "colab": {
      "name": "Cópia de 09 - Inserindo Gráficos",
      "provenance": [],
      "collapsed_sections": [],
      "toc_visible": true,
      "include_colab_link": true
    },
    "kernelspec": {
      "name": "python3",
      "display_name": "Python 3"
    }
  },
  "cells": [
    {
      "cell_type": "markdown",
      "metadata": {
        "id": "view-in-github",
        "colab_type": "text"
      },
      "source": [
        "<a href=\"https://colab.research.google.com/github/marciadartup/Portif-lio/blob/master/C%C3%B3pia_de_09_Inserindo_Gr%C3%A1ficos.ipynb\" target=\"_parent\"><img src=\"https://colab.research.google.com/assets/colab-badge.svg\" alt=\"Open In Colab\"/></a>"
      ]
    },
    {
      "cell_type": "markdown",
      "metadata": {
        "id": "xC6oS4qYk71b"
      },
      "source": [
        "\n",
        "---\n",
        "\n",
        "# Inserindo Gráficos\n",
        "\n",
        "Outra parte fundamental de análises e apresentação de resultados utiliando planilhas são os gráficos. Uma forma visual de apresentar os dados sempre é muito bem vinda e pode acrescentar bastante valor aos nossos projetos.\n",
        "\n",
        "Tudo que precisamos fazer com a planliha foi possível com Python até aqui, e esse detalhe não poderia ser diferente. Neste notebook, vamos ver como criar e inserir gráficos em nossas planilhas usando Python e openpyxl.\n",
        "\n",
        "\n",
        "<center><img width=\"50%\" src=\"https://images.unsplash.com/photo-1526925539332-aa3b66e35444?ixlib=rb-1.2.1&ixid=eyJhcHBfaWQiOjEyMDd9&auto=format&fit=crop&w=401&q=80\"></center>\n",
        "\n",
        "Como sempre, lembre-se de atualizar a biblioteca e importar os arquivos necessários."
      ]
    },
    {
      "cell_type": "markdown",
      "metadata": {
        "id": "wb86mLNGk8xK"
      },
      "source": [
        "As possibilidades são várias e os processos muito parecidos, por isso vamos deixar aqui alguns exemplos, e a documentação caso você tenha curiosidade de como fazer algum gráfico que não deixamos como exmemplo."
      ]
    },
    {
      "cell_type": "code",
      "metadata": {
        "id": "yl1yI_m0kw2C"
      },
      "source": [
        "# atualizando a lib\n",
        "!pip install -U openpyxl -q"
      ],
      "execution_count": null,
      "outputs": []
    },
    {
      "cell_type": "markdown",
      "metadata": {
        "id": "zUZzJpZRoaEc"
      },
      "source": [
        "## Carregando os Dados\n",
        "\n",
        "\n",
        "<center><img width=\"50%\" src=\"https://images.unsplash.com/photo-1501504905252-473c47e087f8?ixlib=rb-1.2.1&ixid=eyJhcHBfaWQiOjEyMDd9&auto=format&fit=crop&w=667&q=80\"></center>\n",
        "\n",
        "\n",
        "Como de praxe, carregaremos os dados da mesma forma que temos feito. Entretanto, importaremos, também, os módulos BarChart, LineChart e Reference, que possibilitarão a criação dos nossos gráficos.\n",
        "\n",
        "Aqui, veremos os princípios básicos para criação e inserção dos gráficos à planilha, que são similares para outros tipos de gráfico. Para mais detalhes em diferentes tipos de gráficos, e mais exemplos, a [documentação](https://openpyxl.readthedocs.io/en/stable/charts/introduction.html) é uma excelente fonte."
      ]
    },
    {
      "cell_type": "code",
      "metadata": {
        "id": "Jwan6CqFMVIk",
        "outputId": "03e3b965-061b-466d-a86f-cd8cde13627f",
        "colab": {
          "base_uri": "https://localhost:8080/",
          "height": 34
        }
      },
      "source": [
        "# importando os pacotes necessários\n",
        "from google.colab import drive\n",
        "\n",
        "# montando o drive\n",
        "drive.mount('/content/gdrive')"
      ],
      "execution_count": 1,
      "outputs": [
        {
          "output_type": "stream",
          "text": [
            "Mounted at /content/gdrive\n"
          ],
          "name": "stdout"
        }
      ]
    },
    {
      "cell_type": "code",
      "metadata": {
        "id": "cPaMdWu2lORY"
      },
      "source": [
        "# carregando uma planilha\n",
        "from openpyxl import load_workbook, Workbook\n",
        "from openpyxl.chart import BarChart, LineChart, Reference \n",
        "\n",
        "workbook = load_workbook(filename='/content/gdrive/My Drive/controle_da_empresa.xlsx')\n",
        "\n",
        "# verificando as abas\n",
        "workbook.sheetnames\n",
        "\n",
        "# carregando uma aba específica\n",
        "sheet = workbook['Estoque']"
      ],
      "execution_count": 2,
      "outputs": []
    },
    {
      "cell_type": "markdown",
      "metadata": {
        "id": "8AgQ6DPrqBu0"
      },
      "source": [
        "## Gráfico de Barras\n",
        "A primeira visualização que utilizaremos é o gráfico de barras.\n",
        "\n",
        "<center><img width=\"50%\" src=\"https://images.unsplash.com/photo-1551288049-bebda4e38f71?ixlib=rb-1.2.1&ixid=eyJhcHBfaWQiOjEyMDd9&auto=format&fit=crop&w=750&q=80\"></center>\n",
        "\n",
        "Para criar gráficos, criaremos um objeto BarChart, e o associaremos a uma variável. Então, selecionaremos todas as informações que queremos utilizar, adicionaremos essas informações ao gráfico, e adicionaremos o gráfico à planilha.\n",
        "\n",
        "Essa última parte funciona da mesma forma da inserção de imagens, que vimos anteriormente, mas nesse caso utilizaremos o método `add_chart`, com parâmetros similares aos que passamos para imagens."
      ]
    },
    {
      "cell_type": "code",
      "metadata": {
        "id": "Gm1cxhOblUjg"
      },
      "source": [
        "# criando o objeto BarChart\n",
        "chart = BarChart()\n",
        "\n",
        "# adicionando os dados de referência\n",
        "# data = Reference(worksheet=sheet,\n",
        "#                  min_row=1,\n",
        "#                  max_row=91,\n",
        "#                  min_col=2,\n",
        "#                  max_col=6)\n",
        "\n",
        "data = \"Estoque!$B$1:$C$11\"\n",
        "\n",
        "# nomeando os eixos\n",
        "chart.x_axis.title = 'Itens'\n",
        "chart.y_axis.title = 'Estoque Mínimo'\n",
        "\n",
        "# adicionando os dados ao gráfico\n",
        "chart.add_data(data, titles_from_data=True)\n",
        "\n",
        "# adicionando o gráfico à planilha\n",
        "sheet.add_chart(chart, 'H1')"
      ],
      "execution_count": 3,
      "outputs": []
    },
    {
      "cell_type": "markdown",
      "metadata": {
        "id": "609JP0JpombK"
      },
      "source": [
        "O resultado foi um gráfico que mostra a diferença entre o **custo de aquisição** e o **preço final** para o consumidor, para cada item em estoque. \n",
        "\n",
        "Como todas as células de interesse foram selecionadas, é possível, no próprio excel, modificar a visualização.\n",
        "\n",
        "Lembre-se de salvar o arquivo modificado para que possa ser feita a conferência."
      ]
    },
    {
      "cell_type": "code",
      "metadata": {
        "id": "3WdET1HqnlC0"
      },
      "source": [
        "# salvando a planilha com gráfico de barras\n",
        "workbook.save(filename='controle_chart.xlsx')"
      ],
      "execution_count": 4,
      "outputs": []
    },
    {
      "cell_type": "markdown",
      "metadata": {
        "id": "9aYzdu7Yqyv2"
      },
      "source": [
        "## Gráfico de Linhas\n",
        "Outra visualização bastante importante e usada com bastante frequência é o Gráfico de Linhas.\n",
        "\n",
        "<center><img width=\"50%\" src=\"https://images.unsplash.com/photo-1591696205602-2f950c417cb9?ixlib=rb-1.2.1&ixid=eyJhcHBfaWQiOjEyMDd9&auto=format&fit=crop&w=750&q=80\"></center>\n",
        "\n",
        "Como já sabemos, esse tipo de gráfico é excelente para demonstrar evolução ao longo do tempo.\n",
        "\n",
        "Para esse gráfico, vamos criar uma outra planilha, com dados novos para que possamos criar uma visualização interessante nesse sentido.\n",
        "\n",
        "O princípioé  o mesmo que aplicamos nos notebooks anteriores. Criamos uma planilha, abrimos a aba principal, carregamos dados para dentro dessa planilha.\n",
        "\n",
        "Então, criamos um objeto LineChart, passamos para ele as referências de nossos dados, estilizamos ele, inserimos os dados no gráfico, e o gráfico na planilha.\n",
        "\n",
        "Por fim, salvamos o arquivo da planilha, para que possamos conferir o que fizemos."
      ]
    },
    {
      "cell_type": "code",
      "metadata": {
        "id": "J87dIqCjnzoI"
      },
      "source": [
        "from openpyxl.chart.axis import DateAxis\n",
        "from datetime import date\n",
        "\n",
        "# criando a planilha\n",
        "wb = Workbook()\n",
        "\n",
        "# acessando a aba\n",
        "ws = wb.active\n",
        "\n",
        "# criando os dados\n",
        "rows = [\n",
        "    ['Date', 'Batch 1', 'Batch 2', 'Batch 3'],\n",
        "    [date(2015,9, 1), 40, 30, 25],\n",
        "    [date(2015,9, 2), 40, 25, 30],\n",
        "    [date(2015,9, 3), 50, 30, 45],\n",
        "    [date(2015,9, 4), 30, 25, 40],\n",
        "    [date(2015,9, 5), 25, 35, 30],\n",
        "    [date(2015,9, 6), 20, 40, 35],\n",
        "]\n",
        "\n",
        "# inserindo os dados\n",
        "for row in rows:\n",
        "    ws.append(row)\n",
        "\n",
        "# criando o gráfico\n",
        "c1 = LineChart()\n",
        "c1.title = \"Line Chart\"\n",
        "c1.style = 13\n",
        "c1.y_axis.title = 'Tamanho'\n",
        "c1.x_axis.title = 'Número de testes'\n",
        "\n",
        "data = Reference(ws, min_col=2, min_row=1, max_col=4, max_row=7)\n",
        "\n",
        "# adicionando as referências\n",
        "c1.add_data(data, titles_from_data=True)\n",
        "\n",
        "# adicionando o gráfico à planilha\n",
        "ws.add_chart(c1, \"A10\")\n",
        "\n",
        "# salvando a planilha\n",
        "wb.save(filename='line_chart.xlsx')"
      ],
      "execution_count": 6,
      "outputs": []
    }
  ]
}