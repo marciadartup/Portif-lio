{
  "nbformat": 4,
  "nbformat_minor": 0,
  "metadata": {
    "colab": {
      "name": "Módulo 05_ 06 - Navegando Pelas Abas de uma Planilha",
      "provenance": [],
      "collapsed_sections": [],
      "toc_visible": true,
      "include_colab_link": true
    },
    "kernelspec": {
      "name": "python3",
      "display_name": "Python 3"
    }
  },
  "cells": [
    {
      "cell_type": "markdown",
      "metadata": {
        "id": "view-in-github",
        "colab_type": "text"
      },
      "source": [
        "<a href=\"https://colab.research.google.com/github/marciadartup/Portif-lio/blob/master/M%C3%B3dulo_05__06_Navegando_Pelas_Abas_de_uma_Planilha.ipynb\" target=\"_parent\"><img src=\"https://colab.research.google.com/assets/colab-badge.svg\" alt=\"Open In Colab\"/></a>"
      ]
    },
    {
      "cell_type": "markdown",
      "metadata": {
        "id": "1lHKx8PEZbVU"
      },
      "source": [
        "\n",
        "---\n",
        "\n",
        "## Navegando Pelas Abas de uma Planilha\n",
        "\n",
        "Seguindo adiante com nossa manipulação de arquivos xlsx, precisamos aprender com efetividade como acessar e navegar pelas abas de uma planilha.\n",
        "\n",
        "<center><img width=\"50%\" src=\"https://images.unsplash.com/photo-1555949963-ff9fe0c870eb?ixlib=rb-1.2.1&ixid=eyJhcHBfaWQiOjEyMDd9&auto=format&fit=crop&w=750&q=80\"></center>\n",
        "\n",
        "Uma das grandes vantagens desse formato de arquivo é a flexibilidade e facilidade que trabalhar com abas permite. Trabalhando nesses arquivos com Python não deveria ser diferente.\n",
        "\n",
        "Por isso, vamos ver como utilizar na prática esses recursos com efetividade.\n",
        "\n",
        "Como sempre, lembramos de fazer o upload dos arqquivos utilizados e a atualização do pacote."
      ]
    },
    {
      "cell_type": "code",
      "metadata": {
        "id": "rnwkG3r0JQ9C",
        "outputId": "d569210c-cc90-4895-cb13-1db4bd2a7bab",
        "colab": {
          "base_uri": "https://localhost:8080/",
          "height": 34
        }
      },
      "source": [
        "# atualizando a lib\n",
        "!pip install -U openpyxl -q"
      ],
      "execution_count": 1,
      "outputs": [
        {
          "output_type": "stream",
          "text": [
            "\u001b[?25l\r\u001b[K     |█▍                              | 10kB 20.7MB/s eta 0:00:01\r\u001b[K     |██▊                             | 20kB 2.8MB/s eta 0:00:01\r\u001b[K     |████                            | 30kB 3.5MB/s eta 0:00:01\r\u001b[K     |█████▍                          | 40kB 3.9MB/s eta 0:00:01\r\u001b[K     |██████▊                         | 51kB 3.3MB/s eta 0:00:01\r\u001b[K     |████████                        | 61kB 3.6MB/s eta 0:00:01\r\u001b[K     |█████████▌                      | 71kB 3.9MB/s eta 0:00:01\r\u001b[K     |██████████▉                     | 81kB 4.2MB/s eta 0:00:01\r\u001b[K     |████████████▏                   | 92kB 4.4MB/s eta 0:00:01\r\u001b[K     |█████████████▌                  | 102kB 4.3MB/s eta 0:00:01\r\u001b[K     |██████████████▉                 | 112kB 4.3MB/s eta 0:00:01\r\u001b[K     |████████████████▏               | 122kB 4.3MB/s eta 0:00:01\r\u001b[K     |█████████████████▌              | 133kB 4.3MB/s eta 0:00:01\r\u001b[K     |███████████████████             | 143kB 4.3MB/s eta 0:00:01\r\u001b[K     |████████████████████▎           | 153kB 4.3MB/s eta 0:00:01\r\u001b[K     |█████████████████████▋          | 163kB 4.3MB/s eta 0:00:01\r\u001b[K     |███████████████████████         | 174kB 4.3MB/s eta 0:00:01\r\u001b[K     |████████████████████████▎       | 184kB 4.3MB/s eta 0:00:01\r\u001b[K     |█████████████████████████▋      | 194kB 4.3MB/s eta 0:00:01\r\u001b[K     |███████████████████████████     | 204kB 4.3MB/s eta 0:00:01\r\u001b[K     |████████████████████████████▍   | 215kB 4.3MB/s eta 0:00:01\r\u001b[K     |█████████████████████████████▊  | 225kB 4.3MB/s eta 0:00:01\r\u001b[K     |███████████████████████████████ | 235kB 4.3MB/s eta 0:00:01\r\u001b[K     |████████████████████████████████| 245kB 4.3MB/s \n",
            "\u001b[?25h"
          ],
          "name": "stdout"
        }
      ]
    },
    {
      "cell_type": "code",
      "metadata": {
        "id": "-nuNjqrB7Hi_",
        "outputId": "1fe73847-cfae-4a04-db3a-685d70c45790",
        "colab": {
          "base_uri": "https://localhost:8080/",
          "height": 34
        }
      },
      "source": [
        "# importando os pacotes necessários\n",
        "from google.colab import drive\n",
        "\n",
        "# montando o drive\n",
        "drive.mount('/content/gdrive')"
      ],
      "execution_count": 2,
      "outputs": [
        {
          "output_type": "stream",
          "text": [
            "Mounted at /content/gdrive\n"
          ],
          "name": "stdout"
        }
      ]
    },
    {
      "cell_type": "code",
      "metadata": {
        "id": "zorcU36E7Z4T"
      },
      "source": [
        "# listando arquivos\n",
        "!ls 'gdrive/My Drive/'"
      ],
      "execution_count": null,
      "outputs": []
    },
    {
      "cell_type": "markdown",
      "metadata": {
        "id": "NiU8QUwEaQ7r"
      },
      "source": [
        "Vamos carregar os dados como temos feito em todos os notebooks anteriores. Foco, dessa vez, para o método `sheetnames`, que nos mostra o nome das abas pelas quais podemos navegar nesse arquivo."
      ]
    },
    {
      "cell_type": "code",
      "metadata": {
        "id": "XyVhUw3RJXTu"
      },
      "source": [
        "# carregando uma planilha\n",
        "from openpyxl import load_workbook\n",
        "\n",
        "workbook = load_workbook(filename='/content/gdrive/My Drive/vendasexato.xlsx')"
      ],
      "execution_count": 9,
      "outputs": []
    },
    {
      "cell_type": "code",
      "metadata": {
        "id": "dbtvBtN0a0Zb",
        "outputId": "2c702853-e391-496a-d015-5edcdd83de89",
        "colab": {
          "base_uri": "https://localhost:8080/",
          "height": 34
        }
      },
      "source": [
        "# verificando as abas\n",
        "workbook.sheetnames"
      ],
      "execution_count": 10,
      "outputs": [
        {
          "output_type": "execute_result",
          "data": {
            "text/plain": [
              "['Exportados']"
            ]
          },
          "metadata": {
            "tags": []
          },
          "execution_count": 10
        }
      ]
    },
    {
      "cell_type": "markdown",
      "metadata": {
        "id": "aY8v7Y2XanYk"
      },
      "source": [
        "## Escolhendo uma Aba\n",
        "\n",
        "Para carregar uma aba específica, vamos chamar o nome da aba dentro de aspas, simples ou duplas, dentro de colchetes, ao chamar o objeto workbook. É ideal que salvemos esse objeto dentro de uma variável, para facilitar o acesso no futuro."
      ]
    },
    {
      "cell_type": "code",
      "metadata": {
        "id": "uaHevivQJgUm"
      },
      "source": [
        "# carregando uma aba específica\n",
        "sheet = workbook['Exportados']"
      ],
      "execution_count": 11,
      "outputs": []
    },
    {
      "cell_type": "markdown",
      "metadata": {
        "id": "kDEdTu2Ea0Yu"
      },
      "source": [
        "## Renomeando uma Aba\n",
        "Uma vez carregada, podemos modificar o nome da aba, através do método `title`."
      ]
    },
    {
      "cell_type": "code",
      "metadata": {
        "id": "ElfHiwuLJy_c",
        "outputId": "1b455a80-4c6f-4076-faa2-ba3f5f835f0b",
        "colab": {
          "base_uri": "https://localhost:8080/",
          "height": 34
        }
      },
      "source": [
        "# modificar o nome da aba\n",
        "sheet.title = 'Exato'\n",
        "print(sheet.title)"
      ],
      "execution_count": 12,
      "outputs": [
        {
          "output_type": "stream",
          "text": [
            "Exato\n"
          ],
          "name": "stdout"
        }
      ]
    },
    {
      "cell_type": "markdown",
      "metadata": {
        "id": "EoAu8_FCbAJq"
      },
      "source": [
        "## Criando Novas Abas\n",
        "Também é possível criar uma nova aba, através do método `create_sheet`.\n",
        "\n",
        "Abaixo, podemos conferir que o nome da aba Vendas foi modificado com sucesso, e podemos ver que a aba Nova Aba também foi criada sem problemas."
      ]
    },
    {
      "cell_type": "code",
      "metadata": {
        "id": "6Lon6TBPJ9pj",
        "outputId": "e54b0b17-98c9-406d-acce-d489b5a9fe63",
        "colab": {
          "base_uri": "https://localhost:8080/",
          "height": 34
        }
      },
      "source": [
        "# criando uma aba nova\n",
        "new_sheet = workbook.create_sheet('Nova Aba')\n",
        "workbook.sheetnames"
      ],
      "execution_count": 13,
      "outputs": [
        {
          "output_type": "execute_result",
          "data": {
            "text/plain": [
              "['Exato', 'Nova Aba']"
            ]
          },
          "metadata": {
            "tags": []
          },
          "execution_count": 13
        }
      ]
    },
    {
      "cell_type": "markdown",
      "metadata": {
        "id": "ytOPxS0ubRX1"
      },
      "source": [
        "Quando criamos uma nova aba, por padrão, ela toma a últimia posição entre as abas existentes. Entretanto, possível modificar isso, passando como argumento um `int` que indica a posição que desejamos que ela assuma.\n",
        "\n",
        "Nesse caso, a indexação é feita pelo Python, por isso, o index 0 é a primeira posição."
      ]
    },
    {
      "cell_type": "code",
      "metadata": {
        "id": "EBoh5D26KXV3",
        "outputId": "8cf03758-767f-46ce-cc5d-ffcd32c9d801",
        "colab": {
          "base_uri": "https://localhost:8080/",
          "height": 34
        }
      },
      "source": [
        "# ao criar uma nova aba, é possível escolher a posição dela\n",
        "nova_aba = workbook.create_sheet('Primeira Aba', 0)\n",
        "workbook.sheetnames"
      ],
      "execution_count": 14,
      "outputs": [
        {
          "output_type": "execute_result",
          "data": {
            "text/plain": [
              "['Primeira Aba', 'Exato', 'Nova Aba']"
            ]
          },
          "metadata": {
            "tags": []
          },
          "execution_count": 14
        }
      ]
    },
    {
      "cell_type": "markdown",
      "metadata": {
        "id": "SFHhZEOZbmTh"
      },
      "source": [
        "## Removendo Abas\n",
        "\n",
        "Da mesma forma que podemos criar, podemos também remover abas. Isso é feito facilmente através do método `remove`, passando como parâmetro a aba a ser excluída."
      ]
    },
    {
      "cell_type": "code",
      "metadata": {
        "id": "Y2LeUL-gKpO8",
        "outputId": "8de23aa2-474c-430f-b8e4-790343685aad",
        "colab": {
          "base_uri": "https://localhost:8080/",
          "height": 34
        }
      },
      "source": [
        "# removendo uma aba\n",
        "workbook.remove(nova_aba)\n",
        "workbook.remove(new_sheet)\n",
        "workbook.sheetnames"
      ],
      "execution_count": 15,
      "outputs": [
        {
          "output_type": "execute_result",
          "data": {
            "text/plain": [
              "['Exato']"
            ]
          },
          "metadata": {
            "tags": []
          },
          "execution_count": 15
        }
      ]
    },
    {
      "cell_type": "markdown",
      "metadata": {
        "id": "_y48InOsb7Md"
      },
      "source": [
        "## Copiando Abas\n",
        "\n",
        "Por fim, podemos também criar cópias de abas existentes, utilizando o método `copy_worksheet`."
      ]
    },
    {
      "cell_type": "code",
      "metadata": {
        "id": "FCS-Q_D0K4MF",
        "outputId": "22be66fa-ca01-42eb-e48f-4c95b138a627",
        "colab": {
          "base_uri": "https://localhost:8080/",
          "height": 34
        }
      },
      "source": [
        "# copiando uma aba\n",
        "workbook.copy_worksheet(sheet)\n",
        "workbook.sheetnames"
      ],
      "execution_count": 16,
      "outputs": [
        {
          "output_type": "execute_result",
          "data": {
            "text/plain": [
              "['Exato', 'Exato Copy']"
            ]
          },
          "metadata": {
            "tags": []
          },
          "execution_count": 16
        }
      ]
    },
    {
      "cell_type": "code",
      "metadata": {
        "id": "RCCiadUyL9CZ"
      },
      "source": [
        ""
      ],
      "execution_count": null,
      "outputs": []
    }
  ]
}