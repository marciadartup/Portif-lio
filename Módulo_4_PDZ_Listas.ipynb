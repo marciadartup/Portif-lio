{
  "nbformat": 4,
  "nbformat_minor": 0,
  "metadata": {
    "colab": {
      "name": "Módulo 4  PDZ - Listas",
      "provenance": [],
      "collapsed_sections": [],
      "include_colab_link": true
    },
    "kernelspec": {
      "name": "python3",
      "display_name": "Python 3"
    }
  },
  "cells": [
    {
      "cell_type": "markdown",
      "metadata": {
        "id": "view-in-github",
        "colab_type": "text"
      },
      "source": [
        "<a href=\"https://colab.research.google.com/github/marciadartup/Portif-lio/blob/master/M%C3%B3dulo_4_PDZ_Listas.ipynb\" target=\"_parent\"><img src=\"https://colab.research.google.com/assets/colab-badge.svg\" alt=\"Open In Colab\"/></a>"
      ]
    },
    {
      "cell_type": "markdown",
      "metadata": {
        "id": "1v8jEIJPfoxg",
        "colab_type": "text"
      },
      "source": [
        "\n",
        "# Listas\n",
        "\n",
        "Listas são sequências de valores, onde cada valor é identificado por um índice referente a sua posição. O tipo de variável das listas é `list`, e você vai ver como elas são extremamente úteis para manipulação dos dados.\n",
        "\n",
        "\n",
        "<center><img width=\"45%\" src=\"https://image.freepik.com/free-vector/check-list-with-businessman-flat-design_79603-145.jpg\"></center>\n",
        "\n",
        "Detalhe importante, as listas são mutáveis, compostas de diversos valores, chamados elementos ou itens, e que podem ser de diferentes tipos.\n"
      ]
    },
    {
      "cell_type": "markdown",
      "metadata": {
        "id": "l7yd4mtT0uqG",
        "colab_type": "text"
      },
      "source": [
        "Para criar uma lista, utilizaremos colchetes `[]`."
      ]
    },
    {
      "cell_type": "code",
      "metadata": {
        "id": "XkHmR-gwp1If",
        "colab_type": "code",
        "colab": {
          "base_uri": "https://localhost:8080/",
          "height": 52
        },
        "outputId": "22558a98-d034-435c-d0f1-31706e10b2b9"
      },
      "source": [
        "# criar uma lista\n",
        "lista_inicial = []\n",
        "print(lista_inicial)\n",
        "print(type(lista_inicial))"
      ],
      "execution_count": 1,
      "outputs": [
        {
          "output_type": "stream",
          "text": [
            "[]\n",
            "<class 'list'>\n"
          ],
          "name": "stdout"
        }
      ]
    },
    {
      "cell_type": "markdown",
      "metadata": {
        "id": "d7-zXfQY095X",
        "colab_type": "text"
      },
      "source": [
        "Nós podemos inserir items de diferentes tipos dentro de uma lista."
      ]
    },
    {
      "cell_type": "code",
      "metadata": {
        "id": "1HpoW6HpqTdf",
        "colab_type": "code",
        "colab": {
          "base_uri": "https://localhost:8080/",
          "height": 34
        },
        "outputId": "295545de-af2f-4916-c1ed-b37377f71f40"
      },
      "source": [
        "# criar uma lista com itens\n",
        "lista_inicial = [\"Marcia\", \"Alves\", 1.55, True]\n",
        "print(lista_inicial)"
      ],
      "execution_count": 4,
      "outputs": [
        {
          "output_type": "stream",
          "text": [
            "['Marcia', 'Alves', 1.55, True]\n"
          ],
          "name": "stdout"
        }
      ]
    },
    {
      "cell_type": "markdown",
      "metadata": {
        "id": "PdHQTqo4qe6Z",
        "colab_type": "text"
      },
      "source": [
        "#### Acessando um elemento\n",
        "\n",
        "Na última célula acima, criamos uma lista `lista_inicial = [\"Marcia\", \"Alves\", 1.55, True]`.\n",
        "\n",
        "Para acessar qualquer elemento dessa lista, precisamos indicar qual o índice referente à posição do mesmo. Lembre-se que o primeiro elemento contém a indexação igual a $0$!\n",
        "\n",
        "| \"Marcia\" | \"Alves\" | 1\\.55 | True |\n",
        "|----------|--------|-------|------|\n",
        "| 0        | 1      | 2     | 3    |\n",
        "| \\-4      | \\-3    | \\-2   | \\-1  |\n",
        "\n",
        "O Python também permite você acessar elementos a partir do último, bastando usar o $-1$ para a última casa e ir subtraindo 1 para as posições anteriores.\n"
      ]
    },
    {
      "cell_type": "code",
      "metadata": {
        "id": "DlXQkX-brTfG",
        "colab_type": "code",
        "colab": {
          "base_uri": "https://localhost:8080/",
          "height": 34
        },
        "outputId": "74699a9b-a04d-4f2e-c0f3-43297cddb44f"
      },
      "source": [
        "# acessar o elemento \"Alves\"\n",
        "print(lista_inicial[1])"
      ],
      "execution_count": 5,
      "outputs": [
        {
          "output_type": "stream",
          "text": [
            "Alves\n"
          ],
          "name": "stdout"
        }
      ]
    },
    {
      "cell_type": "code",
      "metadata": {
        "id": "KT-ifEJWsEMN",
        "colab_type": "code",
        "colab": {
          "base_uri": "https://localhost:8080/",
          "height": 34
        },
        "outputId": "9bc24d8a-efae-4eeb-8d41-b559747d4d4f"
      },
      "source": [
        "# acessar o penúltimo elemento\n",
        "print(lista_inicial[-2])"
      ],
      "execution_count": 6,
      "outputs": [
        {
          "output_type": "stream",
          "text": [
            "1.55\n"
          ],
          "name": "stdout"
        }
      ]
    },
    {
      "cell_type": "code",
      "metadata": {
        "id": "gXInewUcsN92",
        "colab_type": "code",
        "colab": {
          "base_uri": "https://localhost:8080/",
          "height": 185
        },
        "outputId": "03cf3886-9c7d-43a8-f992-41dca0c7e77a"
      },
      "source": [
        "# erro ao tentar acessar um valor que não está no range da lista\n",
        "print(lista_inicial[11])"
      ],
      "execution_count": 7,
      "outputs": [
        {
          "output_type": "error",
          "ename": "IndexError",
          "evalue": "ignored",
          "traceback": [
            "\u001b[0;31m---------------------------------------------------------------------------\u001b[0m",
            "\u001b[0;31mIndexError\u001b[0m                                Traceback (most recent call last)",
            "\u001b[0;32m<ipython-input-7-3eff268c8d97>\u001b[0m in \u001b[0;36m<module>\u001b[0;34m()\u001b[0m\n\u001b[1;32m      1\u001b[0m \u001b[0;31m# erro ao tentar acessar um valor que não está no range da lista\u001b[0m\u001b[0;34m\u001b[0m\u001b[0;34m\u001b[0m\u001b[0;34m\u001b[0m\u001b[0m\n\u001b[0;32m----> 2\u001b[0;31m \u001b[0mprint\u001b[0m\u001b[0;34m(\u001b[0m\u001b[0mlista_inicial\u001b[0m\u001b[0;34m[\u001b[0m\u001b[0;36m11\u001b[0m\u001b[0;34m]\u001b[0m\u001b[0;34m)\u001b[0m\u001b[0;34m\u001b[0m\u001b[0;34m\u001b[0m\u001b[0m\n\u001b[0m",
            "\u001b[0;31mIndexError\u001b[0m: list index out of range"
          ]
        }
      ]
    },
    {
      "cell_type": "markdown",
      "metadata": {
        "id": "z-XUhyC6sTp2",
        "colab_type": "text"
      },
      "source": [
        "#### Fatias de Listas\n",
        "\n",
        "Da mesma maneira que conseguimos \"fatiar\" um string, é possível fatiar uma lista. No caso, fatiar significa acessar itens que estejam dentro de um intervalo considerado.\n",
        "\n",
        "| \"Eduarda\" | \"Estudante\" | 222\\.50 | 433\\.80 | 591\\.66 | 124\\.20 |\n",
        "|-----------|-------------|---------|---------|---------|---------|\n",
        "| 0         | 1           | 2       | 3       | 4       | 5       |\n",
        "| \\-6       | \\-5         | \\-4     | \\-3     | \\-2     | \\-1     |\n",
        "\n",
        "\n",
        "Vamos ver como isso funciona na prática, criando e fatiando uma lista.\n",
        "\n"
      ]
    },
    {
      "cell_type": "code",
      "metadata": {
        "id": "ru7eNkNfsmBW",
        "colab_type": "code",
        "colab": {}
      },
      "source": [
        "# gastos por trimestre\n",
        "cliente = [\"Eduarda\", \"Estudante\", 222.50, 433.80, 591.66, 124.20]"
      ],
      "execution_count": 8,
      "outputs": []
    },
    {
      "cell_type": "code",
      "metadata": {
        "id": "nyVOR6y1uikP",
        "colab_type": "code",
        "colab": {
          "base_uri": "https://localhost:8080/",
          "height": 34
        },
        "outputId": "67a4cb10-8e0b-4afc-d034-2a84e605743f"
      },
      "source": [
        "# acessar as últimas quatro colunas:\n",
        "cliente[2:]"
      ],
      "execution_count": 9,
      "outputs": [
        {
          "output_type": "execute_result",
          "data": {
            "text/plain": [
              "[222.5, 433.8, 591.66, 124.2]"
            ]
          },
          "metadata": {
            "tags": []
          },
          "execution_count": 9
        }
      ]
    },
    {
      "cell_type": "markdown",
      "metadata": {
        "id": "9C8RsDoXvIIp",
        "colab_type": "text"
      },
      "source": [
        "#### Verificando se um item pertence à lista\n",
        "\n",
        "É possível checar se um determinado item está ou não em uma lista. Isso pode ser feito usando  `in` ou `not in`, que irão retornar uma resposta booleana.\n"
      ]
    },
    {
      "cell_type": "code",
      "metadata": {
        "id": "6jW92e0CvTiV",
        "colab_type": "code",
        "colab": {}
      },
      "source": [
        "# criar lista de convidados\n",
        "convidados = [\"Ricardo\", \"Aline\", \"Carlos\", \"Mathias\", \"Elaine\"]"
      ],
      "execution_count": 10,
      "outputs": []
    },
    {
      "cell_type": "code",
      "metadata": {
        "id": "SK_vx15UvuAR",
        "colab_type": "code",
        "colab": {
          "base_uri": "https://localhost:8080/",
          "height": 34
        },
        "outputId": "98471b77-b972-4261-8b38-29427a30f4bb"
      },
      "source": [
        "# ver se Elaine está entre os convidados\n",
        "\"Elaine\" in convidados"
      ],
      "execution_count": 11,
      "outputs": [
        {
          "output_type": "execute_result",
          "data": {
            "text/plain": [
              "True"
            ]
          },
          "metadata": {
            "tags": []
          },
          "execution_count": 11
        }
      ]
    },
    {
      "cell_type": "code",
      "metadata": {
        "id": "b3HKXn3hvzbv",
        "colab_type": "code",
        "colab": {
          "base_uri": "https://localhost:8080/",
          "height": 34
        },
        "outputId": "4adf298a-289e-4d99-ea37-037e7e285555"
      },
      "source": [
        "# confirmar se Pablo não foi convidado\n",
        "\"Pablo\" not in convidados"
      ],
      "execution_count": 12,
      "outputs": [
        {
          "output_type": "execute_result",
          "data": {
            "text/plain": [
              "True"
            ]
          },
          "metadata": {
            "tags": []
          },
          "execution_count": 12
        }
      ]
    },
    {
      "cell_type": "markdown",
      "metadata": {
        "id": "GPVP9gy7v-KK",
        "colab_type": "text"
      },
      "source": [
        "#### Alterar um item da minha lista\n",
        "\n",
        "Uma vez que as listas são mutáveis, é possível acessar um índice e alterar o conteúdo dele."
      ]
    },
    {
      "cell_type": "code",
      "metadata": {
        "id": "gHQy65DawOMY",
        "colab_type": "code",
        "colab": {
          "base_uri": "https://localhost:8080/",
          "height": 34
        },
        "outputId": "5a2d1117-8c1b-4ee7-a252-6fa4f511c3d6"
      },
      "source": [
        "# carteira de ações\n",
        "carteira = [\"BBAS3\", \"WEGE3\", \"ITSA4\"]\n",
        "\n",
        "print(carteira)"
      ],
      "execution_count": 13,
      "outputs": [
        {
          "output_type": "stream",
          "text": [
            "['BBAS3', 'WEGE3', 'ITSA4']\n"
          ],
          "name": "stdout"
        }
      ]
    },
    {
      "cell_type": "code",
      "metadata": {
        "id": "ciCxHvg_xQJQ",
        "colab_type": "code",
        "colab": {
          "base_uri": "https://localhost:8080/",
          "height": 34
        },
        "outputId": "4d3f8a4c-b6a8-48ab-9d04-05020c13f352"
      },
      "source": [
        "# trocar a ITSA4 por PETR4\n",
        "carteira[2] = \"PETR4\"\n",
        "\n",
        "print(carteira)"
      ],
      "execution_count": 14,
      "outputs": [
        {
          "output_type": "stream",
          "text": [
            "['BBAS3', 'WEGE3', 'PETR4']\n"
          ],
          "name": "stdout"
        }
      ]
    },
    {
      "cell_type": "markdown",
      "metadata": {
        "id": "TwIZYjybxYoS",
        "colab_type": "text"
      },
      "source": [
        "#### Adicionando ou excluindo itens de listas\n",
        "\n",
        "Para acrescentar um item ao final de uma lista, você pode usar o método `append()`. \n",
        "\n",
        "Para excluir um item, pode ser usado tantos o método `pop()` quanto o `remove()`. A diferença entre eles é que enquanto o primeiro recebe a posição do item como argumento, o segundo considera o próprio valor do item."
      ]
    },
    {
      "cell_type": "code",
      "metadata": {
        "id": "FUhuWPjbXinF",
        "colab_type": "code",
        "colab": {
          "base_uri": "https://localhost:8080/",
          "height": 34
        },
        "outputId": "3c14cc6f-300e-44b5-d0cb-9204abe6ca7e"
      },
      "source": [
        "# Acrescentar \"Ana Cristina\" à lista\n",
        "convidados = [\"Ricardo\", \"Aline\", \"Carlos\", \"Mathias\", \"Elaine\"]\n",
        "\n",
        "convidados.append(\"Ana Cristina\")\n",
        "print(convidados)"
      ],
      "execution_count": 15,
      "outputs": [
        {
          "output_type": "stream",
          "text": [
            "['Ricardo', 'Aline', 'Carlos', 'Mathias', 'Elaine', 'Ana Cristina']\n"
          ],
          "name": "stdout"
        }
      ]
    },
    {
      "cell_type": "code",
      "metadata": {
        "id": "z_xe0mqxYCsB",
        "colab_type": "code",
        "colab": {
          "base_uri": "https://localhost:8080/",
          "height": 34
        },
        "outputId": "8b55f4f1-a56d-4aa6-e416-2a9aa41f246d"
      },
      "source": [
        "# Excluir o primeiro convidado da lista\n",
        "\n",
        "convidados.pop(0)\n",
        "print(convidados)"
      ],
      "execution_count": 16,
      "outputs": [
        {
          "output_type": "stream",
          "text": [
            "['Aline', 'Carlos', 'Mathias', 'Elaine', 'Ana Cristina']\n"
          ],
          "name": "stdout"
        }
      ]
    },
    {
      "cell_type": "code",
      "metadata": {
        "id": "JXcna8deYN8-",
        "colab_type": "code",
        "colab": {
          "base_uri": "https://localhost:8080/",
          "height": 34
        },
        "outputId": "7d50b34e-1839-4fbc-d21c-5b2a2a792bf9"
      },
      "source": [
        "# Excluir o \"Carlos\" dos convidados\n",
        "\n",
        "convidados.remove(\"Carlos\")\n",
        "print(convidados)"
      ],
      "execution_count": 17,
      "outputs": [
        {
          "output_type": "stream",
          "text": [
            "['Aline', 'Mathias', 'Elaine', 'Ana Cristina']\n"
          ],
          "name": "stdout"
        }
      ]
    },
    {
      "cell_type": "markdown",
      "metadata": {
        "id": "pe1CwQkj32wD",
        "colab_type": "text"
      },
      "source": [
        "## Exercícios\n",
        "\n",
        "Listas serão usadas com frequência quandon lidamos com Python, por isso, estar afiado na manipulação desse tipo de dados é essencial.\n",
        "\n",
        "Por isso, vamos praticar!\n",
        "\n",
        "\n",
        "<center><img width=\"50%\" src=\"https://image.freepik.com/free-photo/rear-view-programmer-working-all-night-long_1098-18697.jpg\"></center>"
      ]
    },
    {
      "cell_type": "markdown",
      "metadata": {
        "id": "3gEUUe6Y3yrm",
        "colab_type": "text"
      },
      "source": [
        "### Exercício 1\n",
        "\n",
        "Crie uma lista que contenha o nome de 5 frutas."
      ]
    },
    {
      "cell_type": "code",
      "metadata": {
        "id": "5t-rhQ6A4MBm",
        "colab_type": "code",
        "colab": {}
      },
      "source": [
        "# resposta\n",
        "lista_frutas = ['maca','pera','banana','melao','tomate']"
      ],
      "execution_count": 38,
      "outputs": []
    },
    {
      "cell_type": "code",
      "metadata": {
        "id": "ySEdGxUBRkRs",
        "colab_type": "code",
        "colab": {
          "base_uri": "https://localhost:8080/",
          "height": 34
        },
        "outputId": "4f26cfbc-14ce-4e7a-df31-8b4d05e4dc12"
      },
      "source": [
        "print(lista_frutas)"
      ],
      "execution_count": 42,
      "outputs": [
        {
          "output_type": "stream",
          "text": [
            "['maca', 'pera', 'banana', 'melao', 'tomate']\n"
          ],
          "name": "stdout"
        }
      ]
    },
    {
      "cell_type": "code",
      "metadata": {
        "id": "1jM5kDZzYSmk",
        "colab_type": "code",
        "cellView": "form",
        "colab": {}
      },
      "source": [
        "#@title Solução\n",
        "frutas = ['Banana', 'Uva', 'Maçã', 'Abacaxi', 'Kiwi']\n",
        "print(frutas)"
      ],
      "execution_count": null,
      "outputs": []
    },
    {
      "cell_type": "markdown",
      "metadata": {
        "id": "pRZ7HSR94Nfv",
        "colab_type": "text"
      },
      "source": [
        "#### Exercício 2\n",
        "\n",
        "Adicione à sua lista de frutas:\n",
        "\n",
        "* Uma sexta fruta\n",
        "* Um objeto de tipo `int`\n",
        "* Um objeto de tipo `float`"
      ]
    },
    {
      "cell_type": "code",
      "metadata": {
        "id": "fGSZ0vk15nz7",
        "colab_type": "code",
        "colab": {}
      },
      "source": [
        "# resposta\n",
        "lista_frutas.append('mamao')\n",
        "\n"
      ],
      "execution_count": 43,
      "outputs": []
    },
    {
      "cell_type": "code",
      "metadata": {
        "id": "kne23NkcR0dt",
        "colab_type": "code",
        "colab": {}
      },
      "source": [
        "lista_frutas.append('5')\n"
      ],
      "execution_count": 45,
      "outputs": []
    },
    {
      "cell_type": "code",
      "metadata": {
        "id": "xqnOvhhaR5IE",
        "colab_type": "code",
        "colab": {}
      },
      "source": [
        "lista_frutas.append('2.50')"
      ],
      "execution_count": 47,
      "outputs": []
    },
    {
      "cell_type": "code",
      "metadata": {
        "id": "HrIRKMizRGim",
        "colab_type": "code",
        "colab": {
          "base_uri": "https://localhost:8080/",
          "height": 34
        },
        "outputId": "f85c5b83-fd3d-43f7-87bc-65d1a14e002b"
      },
      "source": [
        "print (lista_frutas)"
      ],
      "execution_count": 48,
      "outputs": [
        {
          "output_type": "stream",
          "text": [
            "['maca', 'pera', 'banana', 'melao', 'tomate', 'mamao', '5', '2.50']\n"
          ],
          "name": "stdout"
        }
      ]
    },
    {
      "cell_type": "code",
      "metadata": {
        "id": "vwOeRQVm4KmF",
        "colab_type": "code",
        "cellView": "form",
        "colab": {
          "base_uri": "https://localhost:8080/",
          "height": 34
        },
        "outputId": "1d28a1e2-d680-4c07-91b2-54fcb7c33b6a"
      },
      "source": [
        "#@title Solução\n",
        "# adicionando a fruta\n",
        "frutas.append('Melancia')\n",
        "\n",
        "# adicionando o int\n",
        "frutas.append(5)\n",
        "\n",
        "#adicionando o float\n",
        "frutas.append(5.0)\n",
        "\n",
        "# verificando o resultado\n",
        "print(frutas)"
      ],
      "execution_count": 31,
      "outputs": [
        {
          "output_type": "stream",
          "text": [
            "['Banana', 'Uva', 'Maçã', 'Abacaxi', 'Kiwi', 'Melancia', 5, 5.0]\n"
          ],
          "name": "stdout"
        }
      ]
    },
    {
      "cell_type": "markdown",
      "metadata": {
        "id": "JXcfIWvF5pN7",
        "colab_type": "text"
      },
      "source": [
        "#### Exercício 3\n",
        "Verifique se os seguintes itens estão na lista:\n",
        "\n",
        "* Maçã\n",
        "* Mamão\n",
        "* 90"
      ]
    },
    {
      "cell_type": "code",
      "metadata": {
        "id": "KdTbXda84gU3",
        "colab_type": "code",
        "colab": {
          "base_uri": "https://localhost:8080/",
          "height": 34
        },
        "outputId": "a9e9958b-86eb-4c2f-96df-e2e8c4fee271"
      },
      "source": [
        "# resposta\n",
        "'Maçã', in lista_frutas\n",
        "'Mamâo' in lista_frutas\n",
        "'90' in lista_frutas"
      ],
      "execution_count": 51,
      "outputs": [
        {
          "output_type": "execute_result",
          "data": {
            "text/plain": [
              "False"
            ]
          },
          "metadata": {
            "tags": []
          },
          "execution_count": 51
        }
      ]
    },
    {
      "cell_type": "code",
      "metadata": {
        "id": "RYtGqwZ8502F",
        "colab_type": "code",
        "cellView": "form",
        "colab": {
          "base_uri": "https://localhost:8080/",
          "height": 70
        },
        "outputId": "cabc5740-c8f5-4a3d-cd31-0824371fd40c"
      },
      "source": [
        "#@title Solução\n",
        "\n",
        "print('A fruta Maçã está na lista? {}'.format('Maçã' in frutas))\n",
        "print('A fruta Mamão está na lista? {}'.format('Mamão' in frutas))\n",
        "print('O número 90 está na lista? {}'.format(90 in frutas))"
      ],
      "execution_count": 52,
      "outputs": [
        {
          "output_type": "stream",
          "text": [
            "A fruta Maçã está na lista? True\n",
            "A fruta Mamão está na lista? False\n",
            "O número 90 está na lista? False\n"
          ],
          "name": "stdout"
        }
      ]
    },
    {
      "cell_type": "markdown",
      "metadata": {
        "id": "F0TYFduV6Q2Z",
        "colab_type": "text"
      },
      "source": [
        "#### Exercício 4\n",
        "\n",
        "Execute as seguintes tarefas com a sua lista:\n",
        "\n",
        "* Substitua o item no index 3 pelo número `35`.\n",
        "* Remova da lista o item no index 3.\n",
        "* Remova todos os items da lista."
      ]
    },
    {
      "cell_type": "code",
      "metadata": {
        "id": "PDpkii5p54zt",
        "colab_type": "code",
        "colab": {}
      },
      "source": [
        "# resposta\n",
        "\n",
        "lista_frutas [3] = '35'"
      ],
      "execution_count": 53,
      "outputs": []
    },
    {
      "cell_type": "code",
      "metadata": {
        "id": "Mc3fdoLeS98X",
        "colab_type": "code",
        "colab": {
          "base_uri": "https://localhost:8080/",
          "height": 34
        },
        "outputId": "17264190-3653-42cb-9732-ef45715fc5b1"
      },
      "source": [
        "print(lista_frutas)"
      ],
      "execution_count": 54,
      "outputs": [
        {
          "output_type": "stream",
          "text": [
            "['maca', 'pera', 'banana', '35', 'tomate', 'mamao', '5', '2.50']\n"
          ],
          "name": "stdout"
        }
      ]
    },
    {
      "cell_type": "code",
      "metadata": {
        "id": "CWd_ocfRTJqZ",
        "colab_type": "code",
        "colab": {
          "base_uri": "https://localhost:8080/",
          "height": 35
        },
        "outputId": "8a5b70a6-224a-4804-a153-8f5828693b00"
      },
      "source": [
        "lista_frutas.pop(3)"
      ],
      "execution_count": 55,
      "outputs": [
        {
          "output_type": "execute_result",
          "data": {
            "application/vnd.google.colaboratory.intrinsic+json": {
              "type": "string"
            },
            "text/plain": [
              "'35'"
            ]
          },
          "metadata": {
            "tags": []
          },
          "execution_count": 55
        }
      ]
    },
    {
      "cell_type": "code",
      "metadata": {
        "id": "CtaU76AsTw4B",
        "colab_type": "code",
        "colab": {}
      },
      "source": [
        "lista_frutas.remove('maca')"
      ],
      "execution_count": 61,
      "outputs": []
    },
    {
      "cell_type": "code",
      "metadata": {
        "id": "OWlMk6L76k9D",
        "colab_type": "code",
        "cellView": "form",
        "colab": {}
      },
      "source": [
        "#@title Solução\n",
        "# item 2 da lista antes da alteração\n",
        "print('Item no index 2 antes da alteração: ',frutas[2])\n",
        "\n",
        "# alterando o item no index 2\n",
        "frutas[2] = 35\n",
        "print('Novo item no index 2: ', frutas[2])\n",
        "\n",
        "# removendo o item\n",
        "frutas.pop(2)\n",
        "print('Lista sem o item \"35\": ', frutas)\n",
        "\n",
        "# limpando a lista\n",
        "frutas.clear()\n",
        "print('Lista vazia: ', frutas)"
      ],
      "execution_count": null,
      "outputs": []
    },
    {
      "cell_type": "code",
      "metadata": {
        "id": "Pdih1MnOU5Ch",
        "colab_type": "code",
        "colab": {
          "base_uri": "https://localhost:8080/",
          "height": 35
        },
        "outputId": "bfad825f-b9cb-4162-eb42-bd1a090a6db1"
      },
      "source": [
        "lista_frutas.pop()"
      ],
      "execution_count": 74,
      "outputs": [
        {
          "output_type": "execute_result",
          "data": {
            "application/vnd.google.colaboratory.intrinsic+json": {
              "type": "string"
            },
            "text/plain": [
              "'pera'"
            ]
          },
          "metadata": {
            "tags": []
          },
          "execution_count": 74
        }
      ]
    },
    {
      "cell_type": "code",
      "metadata": {
        "id": "e1HoC1IoTkWJ",
        "colab_type": "code",
        "colab": {
          "base_uri": "https://localhost:8080/",
          "height": 34
        },
        "outputId": "5af733e0-726e-4084-ade6-4ae8f5699d37"
      },
      "source": [
        "print(lista_frutas)"
      ],
      "execution_count": 75,
      "outputs": [
        {
          "output_type": "stream",
          "text": [
            "[]\n"
          ],
          "name": "stdout"
        }
      ]
    },
    {
      "cell_type": "code",
      "metadata": {
        "id": "WivrbSwq7NjZ",
        "colab_type": "code",
        "colab": {}
      },
      "source": [
        ""
      ],
      "execution_count": 75,
      "outputs": []
    }
  ]
}